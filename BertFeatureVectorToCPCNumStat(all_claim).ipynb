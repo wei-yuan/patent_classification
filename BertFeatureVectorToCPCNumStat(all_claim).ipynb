{
  "cells": [
    {
      "cell_type": "markdown",
      "metadata": {
        "id": "view-in-github",
        "colab_type": "text"
      },
      "source": [
        "<a href=\"https://colab.research.google.com/github/wei-yuan/patent_classification/blob/master/BertFeatureVectorToCPCNumStat(all_claim).ipynb\" target=\"_parent\"><img src=\"https://colab.research.google.com/assets/colab-badge.svg\" alt=\"Open In Colab\"/></a>"
      ]
    },
    {
      "cell_type": "markdown",
      "source": [
        "# Project: From The First Claim of Patent to CPC Number Statistics"
      ],
      "metadata": {
        "id": "9bS2L5L1NEsD"
      }
    },
    {
      "cell_type": "markdown",
      "metadata": {
        "id": "pi2wglYRcwiA"
      },
      "source": [
        "## Environment Setup"
      ]
    },
    {
      "cell_type": "code",
      "execution_count": 40,
      "metadata": {
        "id": "NHcEzO5G4_jR"
      },
      "outputs": [],
      "source": [
        "# A dependency of the preprocessing for BERT inputs\n",
        "!pip install -q -U \"tensorflow-text==2.8.*\""
      ]
    },
    {
      "cell_type": "code",
      "execution_count": 41,
      "metadata": {
        "id": "0Z43CgQsZyVQ"
      },
      "outputs": [],
      "source": [
        "# You will use the AdamW optimizer from tensorflow/models.\n",
        "!pip install -q tf-models-official==2.7.0"
      ]
    },
    {
      "cell_type": "markdown",
      "metadata": {
        "id": "hk_3SfSE-7a-"
      },
      "source": [
        "## Import Library"
      ]
    },
    {
      "cell_type": "code",
      "execution_count": 42,
      "metadata": {
        "id": "vc4_C8QgcqPx"
      },
      "outputs": [],
      "source": [
        "import os\n",
        "import shutil\n",
        "\n",
        "import tensorflow as tf\n",
        "import tensorflow_hub as hub\n",
        "import tensorflow_text as text\n",
        "from official.nlp import optimization  # to create AdamW optimizer\n",
        "\n",
        "import matplotlib.pyplot as plt\n",
        "\n",
        "tf.get_logger().setLevel('ERROR')"
      ]
    },
    {
      "cell_type": "markdown",
      "metadata": {
        "id": "Qsy8AzM2_AH_"
      },
      "source": [
        "## Load Pre-Trained Model of BERT from The Following Website\n",
        "\n",
        "* BERT model selected           : https://tfhub.dev/tensorflow/small_bert/bert_en_uncased_L-4_H-512_A-8/1\n",
        "* Preprocess model auto-selected: https://tfhub.dev/tensorflow/bert_en_uncased_preprocess/3"
      ]
    },
    {
      "cell_type": "code",
      "execution_count": 43,
      "metadata": {
        "colab": {
          "base_uri": "https://localhost:8080/"
        },
        "id": "oBwEarBLijCg",
        "outputId": "03893b46-8176-4fe3-bed7-6b4eb87c75b7"
      },
      "outputs": [
        {
          "output_type": "stream",
          "name": "stdout",
          "text": [
            "BERT model selected           : https://tfhub.dev/tensorflow/small_bert/bert_en_uncased_L-4_H-512_A-8/1\n",
            "Preprocess model auto-selected: https://tfhub.dev/tensorflow/bert_en_uncased_preprocess/3\n"
          ]
        }
      ],
      "source": [
        "#@title Choose a BERT model to fine-tune\n",
        "\n",
        "bert_model_name = 'small_bert/bert_en_uncased_L-4_H-512_A-8'  #@param [\"bert_en_uncased_L-12_H-768_A-12\", \"bert_en_cased_L-12_H-768_A-12\", \"bert_multi_cased_L-12_H-768_A-12\", \"small_bert/bert_en_uncased_L-2_H-128_A-2\", \"small_bert/bert_en_uncased_L-2_H-256_A-4\", \"small_bert/bert_en_uncased_L-2_H-512_A-8\", \"small_bert/bert_en_uncased_L-2_H-768_A-12\", \"small_bert/bert_en_uncased_L-4_H-128_A-2\", \"small_bert/bert_en_uncased_L-4_H-256_A-4\", \"small_bert/bert_en_uncased_L-4_H-512_A-8\", \"small_bert/bert_en_uncased_L-4_H-768_A-12\", \"small_bert/bert_en_uncased_L-6_H-128_A-2\", \"small_bert/bert_en_uncased_L-6_H-256_A-4\", \"small_bert/bert_en_uncased_L-6_H-512_A-8\", \"small_bert/bert_en_uncased_L-6_H-768_A-12\", \"small_bert/bert_en_uncased_L-8_H-128_A-2\", \"small_bert/bert_en_uncased_L-8_H-256_A-4\", \"small_bert/bert_en_uncased_L-8_H-512_A-8\", \"small_bert/bert_en_uncased_L-8_H-768_A-12\", \"small_bert/bert_en_uncased_L-10_H-128_A-2\", \"small_bert/bert_en_uncased_L-10_H-256_A-4\", \"small_bert/bert_en_uncased_L-10_H-512_A-8\", \"small_bert/bert_en_uncased_L-10_H-768_A-12\", \"small_bert/bert_en_uncased_L-12_H-128_A-2\", \"small_bert/bert_en_uncased_L-12_H-256_A-4\", \"small_bert/bert_en_uncased_L-12_H-512_A-8\", \"small_bert/bert_en_uncased_L-12_H-768_A-12\", \"albert_en_base\", \"electra_small\", \"electra_base\", \"experts_pubmed\", \"experts_wiki_books\", \"talking-heads_base\"]\n",
        "\n",
        "map_name_to_handle = {\n",
        "    'bert_en_uncased_L-12_H-768_A-12':\n",
        "        'https://tfhub.dev/tensorflow/bert_en_uncased_L-12_H-768_A-12/3',\n",
        "    'bert_en_cased_L-12_H-768_A-12':\n",
        "        'https://tfhub.dev/tensorflow/bert_en_cased_L-12_H-768_A-12/3',\n",
        "    'bert_multi_cased_L-12_H-768_A-12':\n",
        "        'https://tfhub.dev/tensorflow/bert_multi_cased_L-12_H-768_A-12/3',\n",
        "    'small_bert/bert_en_uncased_L-2_H-128_A-2':\n",
        "        'https://tfhub.dev/tensorflow/small_bert/bert_en_uncased_L-2_H-128_A-2/1',\n",
        "    'small_bert/bert_en_uncased_L-2_H-256_A-4':\n",
        "        'https://tfhub.dev/tensorflow/small_bert/bert_en_uncased_L-2_H-256_A-4/1',\n",
        "    'small_bert/bert_en_uncased_L-2_H-512_A-8':\n",
        "        'https://tfhub.dev/tensorflow/small_bert/bert_en_uncased_L-2_H-512_A-8/1',\n",
        "    'small_bert/bert_en_uncased_L-2_H-768_A-12':\n",
        "        'https://tfhub.dev/tensorflow/small_bert/bert_en_uncased_L-2_H-768_A-12/1',\n",
        "    'small_bert/bert_en_uncased_L-4_H-128_A-2':\n",
        "        'https://tfhub.dev/tensorflow/small_bert/bert_en_uncased_L-4_H-128_A-2/1',\n",
        "    'small_bert/bert_en_uncased_L-4_H-256_A-4':\n",
        "        'https://tfhub.dev/tensorflow/small_bert/bert_en_uncased_L-4_H-256_A-4/1',\n",
        "    'small_bert/bert_en_uncased_L-4_H-512_A-8':\n",
        "        'https://tfhub.dev/tensorflow/small_bert/bert_en_uncased_L-4_H-512_A-8/1',\n",
        "    'small_bert/bert_en_uncased_L-4_H-768_A-12':\n",
        "        'https://tfhub.dev/tensorflow/small_bert/bert_en_uncased_L-4_H-768_A-12/1',\n",
        "    'small_bert/bert_en_uncased_L-6_H-128_A-2':\n",
        "        'https://tfhub.dev/tensorflow/small_bert/bert_en_uncased_L-6_H-128_A-2/1',\n",
        "    'small_bert/bert_en_uncased_L-6_H-256_A-4':\n",
        "        'https://tfhub.dev/tensorflow/small_bert/bert_en_uncased_L-6_H-256_A-4/1',\n",
        "    'small_bert/bert_en_uncased_L-6_H-512_A-8':\n",
        "        'https://tfhub.dev/tensorflow/small_bert/bert_en_uncased_L-6_H-512_A-8/1',\n",
        "    'small_bert/bert_en_uncased_L-6_H-768_A-12':\n",
        "        'https://tfhub.dev/tensorflow/small_bert/bert_en_uncased_L-6_H-768_A-12/1',\n",
        "    'small_bert/bert_en_uncased_L-8_H-128_A-2':\n",
        "        'https://tfhub.dev/tensorflow/small_bert/bert_en_uncased_L-8_H-128_A-2/1',\n",
        "    'small_bert/bert_en_uncased_L-8_H-256_A-4':\n",
        "        'https://tfhub.dev/tensorflow/small_bert/bert_en_uncased_L-8_H-256_A-4/1',\n",
        "    'small_bert/bert_en_uncased_L-8_H-512_A-8':\n",
        "        'https://tfhub.dev/tensorflow/small_bert/bert_en_uncased_L-8_H-512_A-8/1',\n",
        "    'small_bert/bert_en_uncased_L-8_H-768_A-12':\n",
        "        'https://tfhub.dev/tensorflow/small_bert/bert_en_uncased_L-8_H-768_A-12/1',\n",
        "    'small_bert/bert_en_uncased_L-10_H-128_A-2':\n",
        "        'https://tfhub.dev/tensorflow/small_bert/bert_en_uncased_L-10_H-128_A-2/1',\n",
        "    'small_bert/bert_en_uncased_L-10_H-256_A-4':\n",
        "        'https://tfhub.dev/tensorflow/small_bert/bert_en_uncased_L-10_H-256_A-4/1',\n",
        "    'small_bert/bert_en_uncased_L-10_H-512_A-8':\n",
        "        'https://tfhub.dev/tensorflow/small_bert/bert_en_uncased_L-10_H-512_A-8/1',\n",
        "    'small_bert/bert_en_uncased_L-10_H-768_A-12':\n",
        "        'https://tfhub.dev/tensorflow/small_bert/bert_en_uncased_L-10_H-768_A-12/1',\n",
        "    'small_bert/bert_en_uncased_L-12_H-128_A-2':\n",
        "        'https://tfhub.dev/tensorflow/small_bert/bert_en_uncased_L-12_H-128_A-2/1',\n",
        "    'small_bert/bert_en_uncased_L-12_H-256_A-4':\n",
        "        'https://tfhub.dev/tensorflow/small_bert/bert_en_uncased_L-12_H-256_A-4/1',\n",
        "    'small_bert/bert_en_uncased_L-12_H-512_A-8':\n",
        "        'https://tfhub.dev/tensorflow/small_bert/bert_en_uncased_L-12_H-512_A-8/1',\n",
        "    'small_bert/bert_en_uncased_L-12_H-768_A-12':\n",
        "        'https://tfhub.dev/tensorflow/small_bert/bert_en_uncased_L-12_H-768_A-12/1',\n",
        "    'albert_en_base':\n",
        "        'https://tfhub.dev/tensorflow/albert_en_base/2',\n",
        "    'electra_small':\n",
        "        'https://tfhub.dev/google/electra_small/2',\n",
        "    'electra_base':\n",
        "        'https://tfhub.dev/google/electra_base/2',\n",
        "    'experts_pubmed':\n",
        "        'https://tfhub.dev/google/experts/bert/pubmed/2',\n",
        "    'experts_wiki_books':\n",
        "        'https://tfhub.dev/google/experts/bert/wiki_books/2',\n",
        "    'talking-heads_base':\n",
        "        'https://tfhub.dev/tensorflow/talkheads_ggelu_bert_en_base/1',\n",
        "}\n",
        "\n",
        "map_model_to_preprocess = {\n",
        "    'bert_en_uncased_L-12_H-768_A-12':\n",
        "        'https://tfhub.dev/tensorflow/bert_en_uncased_preprocess/3',\n",
        "    'bert_en_cased_L-12_H-768_A-12':\n",
        "        'https://tfhub.dev/tensorflow/bert_en_cased_preprocess/3',\n",
        "    'small_bert/bert_en_uncased_L-2_H-128_A-2':\n",
        "        'https://tfhub.dev/tensorflow/bert_en_uncased_preprocess/3',\n",
        "    'small_bert/bert_en_uncased_L-2_H-256_A-4':\n",
        "        'https://tfhub.dev/tensorflow/bert_en_uncased_preprocess/3',\n",
        "    'small_bert/bert_en_uncased_L-2_H-512_A-8':\n",
        "        'https://tfhub.dev/tensorflow/bert_en_uncased_preprocess/3',\n",
        "    'small_bert/bert_en_uncased_L-2_H-768_A-12':\n",
        "        'https://tfhub.dev/tensorflow/bert_en_uncased_preprocess/3',\n",
        "    'small_bert/bert_en_uncased_L-4_H-128_A-2':\n",
        "        'https://tfhub.dev/tensorflow/bert_en_uncased_preprocess/3',\n",
        "    'small_bert/bert_en_uncased_L-4_H-256_A-4':\n",
        "        'https://tfhub.dev/tensorflow/bert_en_uncased_preprocess/3',\n",
        "    'small_bert/bert_en_uncased_L-4_H-512_A-8':\n",
        "        'https://tfhub.dev/tensorflow/bert_en_uncased_preprocess/3',\n",
        "    'small_bert/bert_en_uncased_L-4_H-768_A-12':\n",
        "        'https://tfhub.dev/tensorflow/bert_en_uncased_preprocess/3',\n",
        "    'small_bert/bert_en_uncased_L-6_H-128_A-2':\n",
        "        'https://tfhub.dev/tensorflow/bert_en_uncased_preprocess/3',\n",
        "    'small_bert/bert_en_uncased_L-6_H-256_A-4':\n",
        "        'https://tfhub.dev/tensorflow/bert_en_uncased_preprocess/3',\n",
        "    'small_bert/bert_en_uncased_L-6_H-512_A-8':\n",
        "        'https://tfhub.dev/tensorflow/bert_en_uncased_preprocess/3',\n",
        "    'small_bert/bert_en_uncased_L-6_H-768_A-12':\n",
        "        'https://tfhub.dev/tensorflow/bert_en_uncased_preprocess/3',\n",
        "    'small_bert/bert_en_uncased_L-8_H-128_A-2':\n",
        "        'https://tfhub.dev/tensorflow/bert_en_uncased_preprocess/3',\n",
        "    'small_bert/bert_en_uncased_L-8_H-256_A-4':\n",
        "        'https://tfhub.dev/tensorflow/bert_en_uncased_preprocess/3',\n",
        "    'small_bert/bert_en_uncased_L-8_H-512_A-8':\n",
        "        'https://tfhub.dev/tensorflow/bert_en_uncased_preprocess/3',\n",
        "    'small_bert/bert_en_uncased_L-8_H-768_A-12':\n",
        "        'https://tfhub.dev/tensorflow/bert_en_uncased_preprocess/3',\n",
        "    'small_bert/bert_en_uncased_L-10_H-128_A-2':\n",
        "        'https://tfhub.dev/tensorflow/bert_en_uncased_preprocess/3',\n",
        "    'small_bert/bert_en_uncased_L-10_H-256_A-4':\n",
        "        'https://tfhub.dev/tensorflow/bert_en_uncased_preprocess/3',\n",
        "    'small_bert/bert_en_uncased_L-10_H-512_A-8':\n",
        "        'https://tfhub.dev/tensorflow/bert_en_uncased_preprocess/3',\n",
        "    'small_bert/bert_en_uncased_L-10_H-768_A-12':\n",
        "        'https://tfhub.dev/tensorflow/bert_en_uncased_preprocess/3',\n",
        "    'small_bert/bert_en_uncased_L-12_H-128_A-2':\n",
        "        'https://tfhub.dev/tensorflow/bert_en_uncased_preprocess/3',\n",
        "    'small_bert/bert_en_uncased_L-12_H-256_A-4':\n",
        "        'https://tfhub.dev/tensorflow/bert_en_uncased_preprocess/3',\n",
        "    'small_bert/bert_en_uncased_L-12_H-512_A-8':\n",
        "        'https://tfhub.dev/tensorflow/bert_en_uncased_preprocess/3',\n",
        "    'small_bert/bert_en_uncased_L-12_H-768_A-12':\n",
        "        'https://tfhub.dev/tensorflow/bert_en_uncased_preprocess/3',\n",
        "    'bert_multi_cased_L-12_H-768_A-12':\n",
        "        'https://tfhub.dev/tensorflow/bert_multi_cased_preprocess/3',\n",
        "    'albert_en_base':\n",
        "        'https://tfhub.dev/tensorflow/albert_en_preprocess/3',\n",
        "    'electra_small':\n",
        "        'https://tfhub.dev/tensorflow/bert_en_uncased_preprocess/3',\n",
        "    'electra_base':\n",
        "        'https://tfhub.dev/tensorflow/bert_en_uncased_preprocess/3',\n",
        "    'experts_pubmed':\n",
        "        'https://tfhub.dev/tensorflow/bert_en_uncased_preprocess/3',\n",
        "    'experts_wiki_books':\n",
        "        'https://tfhub.dev/tensorflow/bert_en_uncased_preprocess/3',\n",
        "    'talking-heads_base':\n",
        "        'https://tfhub.dev/tensorflow/bert_en_uncased_preprocess/3',\n",
        "}\n",
        "\n",
        "tfhub_handle_encoder = map_name_to_handle[bert_model_name]\n",
        "tfhub_handle_preprocess = map_model_to_preprocess[bert_model_name]\n",
        "\n",
        "print(f'BERT model selected           : {tfhub_handle_encoder}')\n",
        "print(f'Preprocess model auto-selected: {tfhub_handle_preprocess}')"
      ]
    },
    {
      "cell_type": "markdown",
      "metadata": {
        "id": "VB1ZiePUgwQL"
      },
      "source": [
        "The preprocessing model"
      ]
    },
    {
      "cell_type": "code",
      "execution_count": 44,
      "metadata": {
        "id": "5KaRQHFf-_rw"
      },
      "outputs": [],
      "source": [
        "bert_preprocess_model = hub.KerasLayer(tfhub_handle_preprocess)"
      ]
    },
    {
      "cell_type": "markdown",
      "metadata": {
        "id": "f-uLwfL1_MI-"
      },
      "source": [
        "Load Test Text"
      ]
    },
    {
      "cell_type": "code",
      "execution_count": 45,
      "metadata": {
        "colab": {
          "base_uri": "https://localhost:8080/"
        },
        "id": "bXXbx6kC_Ohz",
        "outputId": "73971789-9588-4514-9f5f-9a577ea7de8e"
      },
      "outputs": [
        {
          "output_type": "stream",
          "name": "stdout",
          "text": [
            "a method for controlling an electronic apparatus, the method comprising: receiving image data, an artificial intelligence (ai) flag indicating whether ai downscaling is performed by an external server, and a filter index from the external server; decoding the image data; in response to the ai flag being a first value and the filter index being not null, upscaling the decoded image data using a first ai model corresponding to the filter index and providing the upscaled image data for output; in response to the ai flag being the first value and the filter index being null, upscaling the decoded image data using a default ai model and providing the upscaled image data for output; and in response to the ai flag being not the first value, providing the decoded image data for output without performing an upscaling process, wherein the image data is obtained by encoding downscaled image data acquired by inputting original image data corresponding to the image data into a second ai model for downscaling original image data, wherein a number of filters of the first ai model is smaller than a number of filters of the second ai model, and wherein the first ai model is a convolutional neural network (cnn).\n"
          ]
        }
      ],
      "source": [
        "claimString = ('A method for controlling an electronic apparatus, '\n",
        "            + 'the method comprising: receiving image data, '\n",
        "            + \"an artificial intelligence (AI) flag indicating whether AI downscaling is performed by an external server, \"\n",
        "            + \"and a filter index from the external server; decoding the image data; \"\n",
        "            + \"in response to the AI flag being a first value and the filter index being not null, \"\n",
        "            + \"upscaling the decoded image data using a first AI model corresponding to the filter index and providing the upscaled image data for output; \"\n",
        "            + \"in response to the AI flag being the first value and the filter index being null, \" \n",
        "            + \"upscaling the decoded image data using a default AI model and providing the upscaled image data for output; \" \n",
        "            + \"and in response to the AI flag being not the first value, providing the decoded image data for output without performing an upscaling process, \" \n",
        "            + \"wherein the image data is obtained by encoding downscaled image data acquired \" \n",
        "            + \"by inputting original image data corresponding to the image data into a second AI model for downscaling original image data, \" \n",
        "            + \"wherein a number of filters of the first AI model is smaller than a number of filters of the second AI model, \" \n",
        "            + \"and wherein the first AI model is a Convolutional Neural Network (CNN).\")\n",
        "\n",
        "claimString = claimString.lower()\n",
        "print(claimString)"
      ]
    },
    {
      "cell_type": "markdown",
      "source": [
        "Check The Output Of Test Text"
      ],
      "metadata": {
        "id": "hSjqFuX0NX7x"
      }
    },
    {
      "cell_type": "code",
      "execution_count": 46,
      "metadata": {
        "colab": {
          "base_uri": "https://localhost:8080/"
        },
        "id": "-E1kwT0hi5mM",
        "outputId": "5a11c349-d3e4-4183-ea54-5257139f871b"
      },
      "outputs": [
        {
          "output_type": "stream",
          "name": "stdout",
          "text": [
            "Keys       : ['input_word_ids', 'input_mask', 'input_type_ids']\n",
            "Shape      : (1, 128)\n",
            "Word Ids   : [  101  1037  4118  2005  9756  2019  4816 14709  1010  1996  4118  9605]\n",
            "Input Mask : [1 1 1 1 1 1 1 1 1 1 1 1]\n",
            "Type Ids   : [0 0 0 0 0 0 0 0 0 0 0 0]\n"
          ]
        }
      ],
      "source": [
        "text_test = [claimString]\n",
        "text_preprocessed = bert_preprocess_model(text_test)\n",
        "\n",
        "print(f'Keys       : {list(text_preprocessed.keys())}')\n",
        "print(f'Shape      : {text_preprocessed[\"input_word_ids\"].shape}')\n",
        "print(f'Word Ids   : {text_preprocessed[\"input_word_ids\"][0, :12]}')\n",
        "print(f'Input Mask : {text_preprocessed[\"input_mask\"][0, :12]}')\n",
        "print(f'Type Ids   : {text_preprocessed[\"input_type_ids\"][0, :12]}')"
      ]
    },
    {
      "cell_type": "markdown",
      "metadata": {
        "id": "SVCieTEj_Ozs"
      },
      "source": [
        "Generate Feature Vector from Test Text"
      ]
    },
    {
      "cell_type": "code",
      "execution_count": 47,
      "metadata": {
        "id": "4u2VKISA_PAR"
      },
      "outputs": [],
      "source": [
        "bert_model = hub.KerasLayer(tfhub_handle_encoder)"
      ]
    },
    {
      "cell_type": "code",
      "source": [
        "bert_results = bert_model(text_preprocessed)\n",
        "\n",
        "print(f'Loaded BERT: {tfhub_handle_encoder}')\n",
        "print(f'Pooled Outputs Shape:{bert_results[\"pooled_output\"].shape}')\n",
        "print(f'Pooled Outputs Values:{bert_results[\"pooled_output\"][0, :12]}')\n",
        "print(f'Sequence Outputs Shape:{bert_results[\"sequence_output\"].shape}')\n",
        "print(f'Sequence Outputs Values:{bert_results[\"sequence_output\"][0, :12]}')"
      ],
      "metadata": {
        "colab": {
          "base_uri": "https://localhost:8080/"
        },
        "id": "BKIyEtQsZyNI",
        "outputId": "00c4af93-265e-4638-f575-fc3fcc677b7a"
      },
      "execution_count": 48,
      "outputs": [
        {
          "output_type": "stream",
          "name": "stdout",
          "text": [
            "Loaded BERT: https://tfhub.dev/tensorflow/small_bert/bert_en_uncased_L-4_H-512_A-8/1\n",
            "Pooled Outputs Shape:(1, 512)\n",
            "Pooled Outputs Values:[ 0.9529026   0.4219553  -0.30200574  0.25369307  0.41103554  0.9101889\n",
            "  0.98970896 -0.42582595 -0.85301536 -0.6909152  -0.5641822  -0.60431534]\n",
            "Sequence Outputs Shape:(1, 128, 512)\n",
            "Sequence Outputs Values:[[-0.2696787   0.19009264 -0.5813089  ... -1.064227   -0.33731985\n",
            "   1.2052773 ]\n",
            " [-0.5617293   0.6367726  -0.71991426 ... -0.15618807 -0.8970587\n",
            "   0.68031204]\n",
            " [-0.6592194  -0.33713567 -0.17581698 ... -0.11071557  0.22451127\n",
            "   0.5562562 ]\n",
            " ...\n",
            " [-0.3303348   0.18929352 -1.1435108  ... -1.3680383   0.8534971\n",
            "  -0.40809566]\n",
            " [-0.8325043  -0.0549965   0.79068685 ... -0.22852856  0.5220612\n",
            "  -0.3183328 ]\n",
            " [-0.4617275   0.04604169 -1.0418926  ...  0.12435531  0.52764994\n",
            "   0.78420806]]\n"
          ]
        }
      ]
    },
    {
      "cell_type": "markdown",
      "source": [
        "Mount Drive"
      ],
      "metadata": {
        "id": "2aB06_C6bI59"
      }
    },
    {
      "cell_type": "code",
      "source": [
        "from google.colab import drive\n",
        "drive.mount('/content/gdrive')"
      ],
      "metadata": {
        "colab": {
          "base_uri": "https://localhost:8080/"
        },
        "id": "0V_07x2dbkHi",
        "outputId": "59504cc2-73a0-4bf0-a667-b40561bc0f9a"
      },
      "execution_count": 49,
      "outputs": [
        {
          "output_type": "stream",
          "name": "stdout",
          "text": [
            "Drive already mounted at /content/gdrive; to attempt to forcibly remount, call drive.mount(\"/content/gdrive\", force_remount=True).\n"
          ]
        }
      ]
    },
    {
      "cell_type": "markdown",
      "source": [
        "Read CSV"
      ],
      "metadata": {
        "id": "HaPlp3u-YmUr"
      }
    },
    {
      "cell_type": "code",
      "source": [
        "import pandas as pd\n",
        "pd.__version__"
      ],
      "metadata": {
        "colab": {
          "base_uri": "https://localhost:8080/",
          "height": 35
        },
        "id": "WR3qCxrzacOa",
        "outputId": "87be2cb5-b8bd-4972-9999-6c60cd627e4c"
      },
      "execution_count": 50,
      "outputs": [
        {
          "output_type": "execute_result",
          "data": {
            "text/plain": [
              "'1.3.5'"
            ],
            "application/vnd.google.colaboratory.intrinsic+json": {
              "type": "string"
            }
          },
          "metadata": {},
          "execution_count": 50
        }
      ]
    },
    {
      "cell_type": "code",
      "source": [
        "df = pd.read_csv('gdrive/My Drive/out_sourcing/patent_classification/processed_data/patent_info.csv')     \n",
        "df.head()"
      ],
      "metadata": {
        "colab": {
          "base_uri": "https://localhost:8080/",
          "height": 704
        },
        "id": "zdSCbDikYmq8",
        "outputId": "5491a788-9fbb-4f34-9a50-cd5dcc1f809b"
      },
      "execution_count": 51,
      "outputs": [
        {
          "output_type": "execute_result",
          "data": {
            "text/plain": [
              "                                         patent_name  \\\n",
              "0  Camera with reduced image noise resulting from...   \n",
              "1  Electronic device and method for providing dra...   \n",
              "2  Electronic device and method for controlling m...   \n",
              "3      Stylus pen, touch apparatus, and touch system   \n",
              "4        Electronic device including helical antenna   \n",
              "\n",
              "                                            abstract  \\\n",
              "0  An example method includes receiving, by a mob...   \n",
              "1  An electronic device according to various embo...   \n",
              "2  An electronic device according to various embo...   \n",
              "3  An exemplary embodiment of the present inventi...   \n",
              "4  According to various embodiments, an electroni...   \n",
              "\n",
              "                                              claim1  \\\n",
              "0   The invention claimed is:  1.  A method compr...   \n",
              "1   The invention claimed is:  1.  An electronic ...   \n",
              "2   The invention claimed is:  1.  An electronic ...   \n",
              "3   What is claimed is:  1.  A stylus pen compris...   \n",
              "4   What is claimed is:  1.  An electronic device...   \n",
              "\n",
              "                                          cpc number  \\\n",
              "0  H02J 50/10 (20160201); H04N 5/247 (20130101); ...   \n",
              "1  G09B 11/00 (20130101); G06F 3/04883 (20130101)...   \n",
              "2  G06F 3/04144 (20190501); G06F 3/04883 (2013010...   \n",
              "3  G06F 3/04166 (20190501); G06F 3/0445 (20190501...   \n",
              "4  H01Q 1/243 (20130101); H01Q 1/38 (20130101); H...   \n",
              "\n",
              "                                detailed_description patent number  \\\n",
              "0   BACKGROUND  Some computing devices include a ...    11,329,507   \n",
              "1   CROSS-REFERENCE TO RELATED APPLICATIONS  This...    11,328,469   \n",
              "2   CROSS-REFERENCE TO RELATED APPLICATION(S)  Th...    11,327,595   \n",
              "3   CROSS-REFERENCE TO RELATED APPLICATION  This ...    11,327,582   \n",
              "4   CROSS-REFERENCE TO RELATED APPLICATION  This ...    11,322,848   \n",
              "\n",
              "   claim1_feature_vector  cluster  \n",
              "0                    NaN      NaN  \n",
              "1                    NaN      NaN  \n",
              "2                    NaN      NaN  \n",
              "3                    NaN      NaN  \n",
              "4                    NaN      NaN  "
            ],
            "text/html": [
              "\n",
              "  <div id=\"df-bc9ed3df-e72f-4285-93e1-7c7944d2f7f8\">\n",
              "    <div class=\"colab-df-container\">\n",
              "      <div>\n",
              "<style scoped>\n",
              "    .dataframe tbody tr th:only-of-type {\n",
              "        vertical-align: middle;\n",
              "    }\n",
              "\n",
              "    .dataframe tbody tr th {\n",
              "        vertical-align: top;\n",
              "    }\n",
              "\n",
              "    .dataframe thead th {\n",
              "        text-align: right;\n",
              "    }\n",
              "</style>\n",
              "<table border=\"1\" class=\"dataframe\">\n",
              "  <thead>\n",
              "    <tr style=\"text-align: right;\">\n",
              "      <th></th>\n",
              "      <th>patent_name</th>\n",
              "      <th>abstract</th>\n",
              "      <th>claim1</th>\n",
              "      <th>cpc number</th>\n",
              "      <th>detailed_description</th>\n",
              "      <th>patent number</th>\n",
              "      <th>claim1_feature_vector</th>\n",
              "      <th>cluster</th>\n",
              "    </tr>\n",
              "  </thead>\n",
              "  <tbody>\n",
              "    <tr>\n",
              "      <th>0</th>\n",
              "      <td>Camera with reduced image noise resulting from...</td>\n",
              "      <td>An example method includes receiving, by a mob...</td>\n",
              "      <td>The invention claimed is:  1.  A method compr...</td>\n",
              "      <td>H02J 50/10 (20160201); H04N 5/247 (20130101); ...</td>\n",
              "      <td>BACKGROUND  Some computing devices include a ...</td>\n",
              "      <td>11,329,507</td>\n",
              "      <td>NaN</td>\n",
              "      <td>NaN</td>\n",
              "    </tr>\n",
              "    <tr>\n",
              "      <th>1</th>\n",
              "      <td>Electronic device and method for providing dra...</td>\n",
              "      <td>An electronic device according to various embo...</td>\n",
              "      <td>The invention claimed is:  1.  An electronic ...</td>\n",
              "      <td>G09B 11/00 (20130101); G06F 3/04883 (20130101)...</td>\n",
              "      <td>CROSS-REFERENCE TO RELATED APPLICATIONS  This...</td>\n",
              "      <td>11,328,469</td>\n",
              "      <td>NaN</td>\n",
              "      <td>NaN</td>\n",
              "    </tr>\n",
              "    <tr>\n",
              "      <th>2</th>\n",
              "      <td>Electronic device and method for controlling m...</td>\n",
              "      <td>An electronic device according to various embo...</td>\n",
              "      <td>The invention claimed is:  1.  An electronic ...</td>\n",
              "      <td>G06F 3/04144 (20190501); G06F 3/04883 (2013010...</td>\n",
              "      <td>CROSS-REFERENCE TO RELATED APPLICATION(S)  Th...</td>\n",
              "      <td>11,327,595</td>\n",
              "      <td>NaN</td>\n",
              "      <td>NaN</td>\n",
              "    </tr>\n",
              "    <tr>\n",
              "      <th>3</th>\n",
              "      <td>Stylus pen, touch apparatus, and touch system</td>\n",
              "      <td>An exemplary embodiment of the present inventi...</td>\n",
              "      <td>What is claimed is:  1.  A stylus pen compris...</td>\n",
              "      <td>G06F 3/04166 (20190501); G06F 3/0445 (20190501...</td>\n",
              "      <td>CROSS-REFERENCE TO RELATED APPLICATION  This ...</td>\n",
              "      <td>11,327,582</td>\n",
              "      <td>NaN</td>\n",
              "      <td>NaN</td>\n",
              "    </tr>\n",
              "    <tr>\n",
              "      <th>4</th>\n",
              "      <td>Electronic device including helical antenna</td>\n",
              "      <td>According to various embodiments, an electroni...</td>\n",
              "      <td>What is claimed is:  1.  An electronic device...</td>\n",
              "      <td>H01Q 1/243 (20130101); H01Q 1/38 (20130101); H...</td>\n",
              "      <td>CROSS-REFERENCE TO RELATED APPLICATION  This ...</td>\n",
              "      <td>11,322,848</td>\n",
              "      <td>NaN</td>\n",
              "      <td>NaN</td>\n",
              "    </tr>\n",
              "  </tbody>\n",
              "</table>\n",
              "</div>\n",
              "      <button class=\"colab-df-convert\" onclick=\"convertToInteractive('df-bc9ed3df-e72f-4285-93e1-7c7944d2f7f8')\"\n",
              "              title=\"Convert this dataframe to an interactive table.\"\n",
              "              style=\"display:none;\">\n",
              "        \n",
              "  <svg xmlns=\"http://www.w3.org/2000/svg\" height=\"24px\"viewBox=\"0 0 24 24\"\n",
              "       width=\"24px\">\n",
              "    <path d=\"M0 0h24v24H0V0z\" fill=\"none\"/>\n",
              "    <path d=\"M18.56 5.44l.94 2.06.94-2.06 2.06-.94-2.06-.94-.94-2.06-.94 2.06-2.06.94zm-11 1L8.5 8.5l.94-2.06 2.06-.94-2.06-.94L8.5 2.5l-.94 2.06-2.06.94zm10 10l.94 2.06.94-2.06 2.06-.94-2.06-.94-.94-2.06-.94 2.06-2.06.94z\"/><path d=\"M17.41 7.96l-1.37-1.37c-.4-.4-.92-.59-1.43-.59-.52 0-1.04.2-1.43.59L10.3 9.45l-7.72 7.72c-.78.78-.78 2.05 0 2.83L4 21.41c.39.39.9.59 1.41.59.51 0 1.02-.2 1.41-.59l7.78-7.78 2.81-2.81c.8-.78.8-2.07 0-2.86zM5.41 20L4 18.59l7.72-7.72 1.47 1.35L5.41 20z\"/>\n",
              "  </svg>\n",
              "      </button>\n",
              "      \n",
              "  <style>\n",
              "    .colab-df-container {\n",
              "      display:flex;\n",
              "      flex-wrap:wrap;\n",
              "      gap: 12px;\n",
              "    }\n",
              "\n",
              "    .colab-df-convert {\n",
              "      background-color: #E8F0FE;\n",
              "      border: none;\n",
              "      border-radius: 50%;\n",
              "      cursor: pointer;\n",
              "      display: none;\n",
              "      fill: #1967D2;\n",
              "      height: 32px;\n",
              "      padding: 0 0 0 0;\n",
              "      width: 32px;\n",
              "    }\n",
              "\n",
              "    .colab-df-convert:hover {\n",
              "      background-color: #E2EBFA;\n",
              "      box-shadow: 0px 1px 2px rgba(60, 64, 67, 0.3), 0px 1px 3px 1px rgba(60, 64, 67, 0.15);\n",
              "      fill: #174EA6;\n",
              "    }\n",
              "\n",
              "    [theme=dark] .colab-df-convert {\n",
              "      background-color: #3B4455;\n",
              "      fill: #D2E3FC;\n",
              "    }\n",
              "\n",
              "    [theme=dark] .colab-df-convert:hover {\n",
              "      background-color: #434B5C;\n",
              "      box-shadow: 0px 1px 3px 1px rgba(0, 0, 0, 0.15);\n",
              "      filter: drop-shadow(0px 1px 2px rgba(0, 0, 0, 0.3));\n",
              "      fill: #FFFFFF;\n",
              "    }\n",
              "  </style>\n",
              "\n",
              "      <script>\n",
              "        const buttonEl =\n",
              "          document.querySelector('#df-bc9ed3df-e72f-4285-93e1-7c7944d2f7f8 button.colab-df-convert');\n",
              "        buttonEl.style.display =\n",
              "          google.colab.kernel.accessAllowed ? 'block' : 'none';\n",
              "\n",
              "        async function convertToInteractive(key) {\n",
              "          const element = document.querySelector('#df-bc9ed3df-e72f-4285-93e1-7c7944d2f7f8');\n",
              "          const dataTable =\n",
              "            await google.colab.kernel.invokeFunction('convertToInteractive',\n",
              "                                                     [key], {});\n",
              "          if (!dataTable) return;\n",
              "\n",
              "          const docLinkHtml = 'Like what you see? Visit the ' +\n",
              "            '<a target=\"_blank\" href=https://colab.research.google.com/notebooks/data_table.ipynb>data table notebook</a>'\n",
              "            + ' to learn more about interactive tables.';\n",
              "          element.innerHTML = '';\n",
              "          dataTable['output_type'] = 'display_data';\n",
              "          await google.colab.output.renderOutput(dataTable, element);\n",
              "          const docLink = document.createElement('div');\n",
              "          docLink.innerHTML = docLinkHtml;\n",
              "          element.appendChild(docLink);\n",
              "        }\n",
              "      </script>\n",
              "    </div>\n",
              "  </div>\n",
              "  "
            ]
          },
          "metadata": {},
          "execution_count": 51
        }
      ]
    },
    {
      "cell_type": "code",
      "source": [
        "df.columns = df.columns.str.replace('claim1', 'all_claim')\n",
        "df.columns = df.columns.str.replace('claim1_feature_vector', 'all_claim_feature_vector')"
      ],
      "metadata": {
        "id": "qkHHOvsPOTLn"
      },
      "execution_count": 52,
      "outputs": []
    },
    {
      "cell_type": "code",
      "source": [
        "df.head()"
      ],
      "metadata": {
        "colab": {
          "base_uri": "https://localhost:8080/",
          "height": 687
        },
        "id": "UIiS1MSnPrpN",
        "outputId": "0f3e10ae-628b-44b7-ffe5-72b6d085877c"
      },
      "execution_count": 53,
      "outputs": [
        {
          "output_type": "execute_result",
          "data": {
            "text/plain": [
              "                                         patent_name  \\\n",
              "0  Camera with reduced image noise resulting from...   \n",
              "1  Electronic device and method for providing dra...   \n",
              "2  Electronic device and method for controlling m...   \n",
              "3      Stylus pen, touch apparatus, and touch system   \n",
              "4        Electronic device including helical antenna   \n",
              "\n",
              "                                            abstract  \\\n",
              "0  An example method includes receiving, by a mob...   \n",
              "1  An electronic device according to various embo...   \n",
              "2  An electronic device according to various embo...   \n",
              "3  An exemplary embodiment of the present inventi...   \n",
              "4  According to various embodiments, an electroni...   \n",
              "\n",
              "                                           all_claim  \\\n",
              "0   The invention claimed is:  1.  A method compr...   \n",
              "1   The invention claimed is:  1.  An electronic ...   \n",
              "2   The invention claimed is:  1.  An electronic ...   \n",
              "3   What is claimed is:  1.  A stylus pen compris...   \n",
              "4   What is claimed is:  1.  An electronic device...   \n",
              "\n",
              "                                          cpc number  \\\n",
              "0  H02J 50/10 (20160201); H04N 5/247 (20130101); ...   \n",
              "1  G09B 11/00 (20130101); G06F 3/04883 (20130101)...   \n",
              "2  G06F 3/04144 (20190501); G06F 3/04883 (2013010...   \n",
              "3  G06F 3/04166 (20190501); G06F 3/0445 (20190501...   \n",
              "4  H01Q 1/243 (20130101); H01Q 1/38 (20130101); H...   \n",
              "\n",
              "                                detailed_description patent number  \\\n",
              "0   BACKGROUND  Some computing devices include a ...    11,329,507   \n",
              "1   CROSS-REFERENCE TO RELATED APPLICATIONS  This...    11,328,469   \n",
              "2   CROSS-REFERENCE TO RELATED APPLICATION(S)  Th...    11,327,595   \n",
              "3   CROSS-REFERENCE TO RELATED APPLICATION  This ...    11,327,582   \n",
              "4   CROSS-REFERENCE TO RELATED APPLICATION  This ...    11,322,848   \n",
              "\n",
              "   all_claim_feature_vector  cluster  \n",
              "0                       NaN      NaN  \n",
              "1                       NaN      NaN  \n",
              "2                       NaN      NaN  \n",
              "3                       NaN      NaN  \n",
              "4                       NaN      NaN  "
            ],
            "text/html": [
              "\n",
              "  <div id=\"df-dfc730aa-abb1-415e-b28f-6aaa1891adc0\">\n",
              "    <div class=\"colab-df-container\">\n",
              "      <div>\n",
              "<style scoped>\n",
              "    .dataframe tbody tr th:only-of-type {\n",
              "        vertical-align: middle;\n",
              "    }\n",
              "\n",
              "    .dataframe tbody tr th {\n",
              "        vertical-align: top;\n",
              "    }\n",
              "\n",
              "    .dataframe thead th {\n",
              "        text-align: right;\n",
              "    }\n",
              "</style>\n",
              "<table border=\"1\" class=\"dataframe\">\n",
              "  <thead>\n",
              "    <tr style=\"text-align: right;\">\n",
              "      <th></th>\n",
              "      <th>patent_name</th>\n",
              "      <th>abstract</th>\n",
              "      <th>all_claim</th>\n",
              "      <th>cpc number</th>\n",
              "      <th>detailed_description</th>\n",
              "      <th>patent number</th>\n",
              "      <th>all_claim_feature_vector</th>\n",
              "      <th>cluster</th>\n",
              "    </tr>\n",
              "  </thead>\n",
              "  <tbody>\n",
              "    <tr>\n",
              "      <th>0</th>\n",
              "      <td>Camera with reduced image noise resulting from...</td>\n",
              "      <td>An example method includes receiving, by a mob...</td>\n",
              "      <td>The invention claimed is:  1.  A method compr...</td>\n",
              "      <td>H02J 50/10 (20160201); H04N 5/247 (20130101); ...</td>\n",
              "      <td>BACKGROUND  Some computing devices include a ...</td>\n",
              "      <td>11,329,507</td>\n",
              "      <td>NaN</td>\n",
              "      <td>NaN</td>\n",
              "    </tr>\n",
              "    <tr>\n",
              "      <th>1</th>\n",
              "      <td>Electronic device and method for providing dra...</td>\n",
              "      <td>An electronic device according to various embo...</td>\n",
              "      <td>The invention claimed is:  1.  An electronic ...</td>\n",
              "      <td>G09B 11/00 (20130101); G06F 3/04883 (20130101)...</td>\n",
              "      <td>CROSS-REFERENCE TO RELATED APPLICATIONS  This...</td>\n",
              "      <td>11,328,469</td>\n",
              "      <td>NaN</td>\n",
              "      <td>NaN</td>\n",
              "    </tr>\n",
              "    <tr>\n",
              "      <th>2</th>\n",
              "      <td>Electronic device and method for controlling m...</td>\n",
              "      <td>An electronic device according to various embo...</td>\n",
              "      <td>The invention claimed is:  1.  An electronic ...</td>\n",
              "      <td>G06F 3/04144 (20190501); G06F 3/04883 (2013010...</td>\n",
              "      <td>CROSS-REFERENCE TO RELATED APPLICATION(S)  Th...</td>\n",
              "      <td>11,327,595</td>\n",
              "      <td>NaN</td>\n",
              "      <td>NaN</td>\n",
              "    </tr>\n",
              "    <tr>\n",
              "      <th>3</th>\n",
              "      <td>Stylus pen, touch apparatus, and touch system</td>\n",
              "      <td>An exemplary embodiment of the present inventi...</td>\n",
              "      <td>What is claimed is:  1.  A stylus pen compris...</td>\n",
              "      <td>G06F 3/04166 (20190501); G06F 3/0445 (20190501...</td>\n",
              "      <td>CROSS-REFERENCE TO RELATED APPLICATION  This ...</td>\n",
              "      <td>11,327,582</td>\n",
              "      <td>NaN</td>\n",
              "      <td>NaN</td>\n",
              "    </tr>\n",
              "    <tr>\n",
              "      <th>4</th>\n",
              "      <td>Electronic device including helical antenna</td>\n",
              "      <td>According to various embodiments, an electroni...</td>\n",
              "      <td>What is claimed is:  1.  An electronic device...</td>\n",
              "      <td>H01Q 1/243 (20130101); H01Q 1/38 (20130101); H...</td>\n",
              "      <td>CROSS-REFERENCE TO RELATED APPLICATION  This ...</td>\n",
              "      <td>11,322,848</td>\n",
              "      <td>NaN</td>\n",
              "      <td>NaN</td>\n",
              "    </tr>\n",
              "  </tbody>\n",
              "</table>\n",
              "</div>\n",
              "      <button class=\"colab-df-convert\" onclick=\"convertToInteractive('df-dfc730aa-abb1-415e-b28f-6aaa1891adc0')\"\n",
              "              title=\"Convert this dataframe to an interactive table.\"\n",
              "              style=\"display:none;\">\n",
              "        \n",
              "  <svg xmlns=\"http://www.w3.org/2000/svg\" height=\"24px\"viewBox=\"0 0 24 24\"\n",
              "       width=\"24px\">\n",
              "    <path d=\"M0 0h24v24H0V0z\" fill=\"none\"/>\n",
              "    <path d=\"M18.56 5.44l.94 2.06.94-2.06 2.06-.94-2.06-.94-.94-2.06-.94 2.06-2.06.94zm-11 1L8.5 8.5l.94-2.06 2.06-.94-2.06-.94L8.5 2.5l-.94 2.06-2.06.94zm10 10l.94 2.06.94-2.06 2.06-.94-2.06-.94-.94-2.06-.94 2.06-2.06.94z\"/><path d=\"M17.41 7.96l-1.37-1.37c-.4-.4-.92-.59-1.43-.59-.52 0-1.04.2-1.43.59L10.3 9.45l-7.72 7.72c-.78.78-.78 2.05 0 2.83L4 21.41c.39.39.9.59 1.41.59.51 0 1.02-.2 1.41-.59l7.78-7.78 2.81-2.81c.8-.78.8-2.07 0-2.86zM5.41 20L4 18.59l7.72-7.72 1.47 1.35L5.41 20z\"/>\n",
              "  </svg>\n",
              "      </button>\n",
              "      \n",
              "  <style>\n",
              "    .colab-df-container {\n",
              "      display:flex;\n",
              "      flex-wrap:wrap;\n",
              "      gap: 12px;\n",
              "    }\n",
              "\n",
              "    .colab-df-convert {\n",
              "      background-color: #E8F0FE;\n",
              "      border: none;\n",
              "      border-radius: 50%;\n",
              "      cursor: pointer;\n",
              "      display: none;\n",
              "      fill: #1967D2;\n",
              "      height: 32px;\n",
              "      padding: 0 0 0 0;\n",
              "      width: 32px;\n",
              "    }\n",
              "\n",
              "    .colab-df-convert:hover {\n",
              "      background-color: #E2EBFA;\n",
              "      box-shadow: 0px 1px 2px rgba(60, 64, 67, 0.3), 0px 1px 3px 1px rgba(60, 64, 67, 0.15);\n",
              "      fill: #174EA6;\n",
              "    }\n",
              "\n",
              "    [theme=dark] .colab-df-convert {\n",
              "      background-color: #3B4455;\n",
              "      fill: #D2E3FC;\n",
              "    }\n",
              "\n",
              "    [theme=dark] .colab-df-convert:hover {\n",
              "      background-color: #434B5C;\n",
              "      box-shadow: 0px 1px 3px 1px rgba(0, 0, 0, 0.15);\n",
              "      filter: drop-shadow(0px 1px 2px rgba(0, 0, 0, 0.3));\n",
              "      fill: #FFFFFF;\n",
              "    }\n",
              "  </style>\n",
              "\n",
              "      <script>\n",
              "        const buttonEl =\n",
              "          document.querySelector('#df-dfc730aa-abb1-415e-b28f-6aaa1891adc0 button.colab-df-convert');\n",
              "        buttonEl.style.display =\n",
              "          google.colab.kernel.accessAllowed ? 'block' : 'none';\n",
              "\n",
              "        async function convertToInteractive(key) {\n",
              "          const element = document.querySelector('#df-dfc730aa-abb1-415e-b28f-6aaa1891adc0');\n",
              "          const dataTable =\n",
              "            await google.colab.kernel.invokeFunction('convertToInteractive',\n",
              "                                                     [key], {});\n",
              "          if (!dataTable) return;\n",
              "\n",
              "          const docLinkHtml = 'Like what you see? Visit the ' +\n",
              "            '<a target=\"_blank\" href=https://colab.research.google.com/notebooks/data_table.ipynb>data table notebook</a>'\n",
              "            + ' to learn more about interactive tables.';\n",
              "          element.innerHTML = '';\n",
              "          dataTable['output_type'] = 'display_data';\n",
              "          await google.colab.output.renderOutput(dataTable, element);\n",
              "          const docLink = document.createElement('div');\n",
              "          docLink.innerHTML = docLinkHtml;\n",
              "          element.appendChild(docLink);\n",
              "        }\n",
              "      </script>\n",
              "    </div>\n",
              "  </div>\n",
              "  "
            ]
          },
          "metadata": {},
          "execution_count": 53
        }
      ]
    },
    {
      "cell_type": "markdown",
      "source": [
        "# Generate Feature Vector to column all_claim_feature_vector"
      ],
      "metadata": {
        "id": "W39QUQRLyNsi"
      }
    },
    {
      "cell_type": "code",
      "source": [
        "target_data_column = 'all_claim'  # <--- specify the column data you want\n",
        "target_series = df[target_data_column] \n",
        "target_feature_vector_list = list()\n",
        "\n",
        "for index, value in target_series.items():\n",
        "    text_test = [value]\n",
        "    text_preprocessed = bert_preprocess_model(text_test)\n",
        "    bert_results = bert_model(text_preprocessed)\n",
        "    target_feature_vector_list.append(bert_results[\"pooled_output\"].numpy()[0])  # get only 1d vector "
      ],
      "metadata": {
        "id": "TFUB0Fdsk5zd"
      },
      "execution_count": 54,
      "outputs": []
    },
    {
      "cell_type": "code",
      "source": [
        "print(f\"the number of data in claim1 feature list: {len(target_feature_vector_list)}\")\n",
        "length = 5\n",
        "for index, vector in enumerate(target_feature_vector_list, start = 1):\n",
        "    print(f\"the vector size: {vector.shape}\")\n",
        "    print(f\"the #{index} claim1 feature vector in only {length} digits: {vector[:length]}\")\n",
        "    break"
      ],
      "metadata": {
        "colab": {
          "base_uri": "https://localhost:8080/"
        },
        "id": "PoPOVojCoMbO",
        "outputId": "f83d3094-9378-46ac-c4a6-1d7ef1fd0cf9"
      },
      "execution_count": 55,
      "outputs": [
        {
          "output_type": "stream",
          "name": "stdout",
          "text": [
            "the number of data in claim1 feature list: 1850\n",
            "the vector size: (512,)\n",
            "the #1 claim1 feature vector in only 5 digits: [ 0.96963334  0.8729017  -0.08993012  0.13026702  0.42781547]\n"
          ]
        }
      ]
    },
    {
      "cell_type": "markdown",
      "source": [
        "# K-Means Clustering"
      ],
      "metadata": {
        "id": "WK01VuoCzDwG"
      }
    },
    {
      "cell_type": "code",
      "source": [
        "%matplotlib inline\n",
        "import matplotlib.pyplot as plt\n",
        "import seaborn as sns; sns.set()  # for plot styling\n",
        "import numpy as np"
      ],
      "metadata": {
        "id": "HbfUgzEJzHar"
      },
      "execution_count": 56,
      "outputs": []
    },
    {
      "cell_type": "code",
      "source": [
        "from sklearn.cluster import KMeans\n",
        "\n",
        "number_of_cluster = 96  # <--- input the number of clusters here\n",
        "kmeans = KMeans(n_clusters = number_of_cluster)\n",
        "kmeans.fit(target_feature_vector_list)\n",
        "y_kmeans = kmeans.predict(target_feature_vector_list)"
      ],
      "metadata": {
        "id": "k77vq1cQzXFB"
      },
      "execution_count": 57,
      "outputs": []
    },
    {
      "cell_type": "code",
      "source": [
        "print(f\"The class number after K-Means: {y_kmeans}\")"
      ],
      "metadata": {
        "colab": {
          "base_uri": "https://localhost:8080/"
        },
        "id": "ACu3-rIMzDKw",
        "outputId": "4d03fa24-7370-4425-8103-fa9ba73db781"
      },
      "execution_count": 58,
      "outputs": [
        {
          "output_type": "stream",
          "name": "stdout",
          "text": [
            "The class number after K-Means: [47 43 32 ... 75 62 53]\n"
          ]
        }
      ]
    },
    {
      "cell_type": "markdown",
      "source": [
        "# Dimensional Reduction For High Dimension Vector\n",
        "The working flow: vector -> PCA -> tSNE"
      ],
      "metadata": {
        "id": "St2Zg10h-Mfd"
      }
    },
    {
      "cell_type": "code",
      "source": [
        "!pip install scprep phate umap-learn"
      ],
      "metadata": {
        "colab": {
          "base_uri": "https://localhost:8080/"
        },
        "id": "uGTrOAeSAouT",
        "outputId": "06ea451d-8aa2-489e-f823-b66a3eba3ebb"
      },
      "execution_count": 59,
      "outputs": [
        {
          "output_type": "stream",
          "name": "stdout",
          "text": [
            "Requirement already satisfied: scprep in /usr/local/lib/python3.7/dist-packages (1.2.0)\n",
            "Requirement already satisfied: phate in /usr/local/lib/python3.7/dist-packages (1.0.7)\n",
            "Requirement already satisfied: umap-learn in /usr/local/lib/python3.7/dist-packages (0.5.3)\n",
            "Requirement already satisfied: scikit-learn>=0.19.1 in /usr/local/lib/python3.7/dist-packages (from scprep) (1.0.2)\n",
            "Requirement already satisfied: packaging in /usr/local/lib/python3.7/dist-packages (from scprep) (21.3)\n",
            "Requirement already satisfied: numpy>=1.12.0 in /usr/local/lib/python3.7/dist-packages (from scprep) (1.21.6)\n",
            "Requirement already satisfied: decorator>=4.3.0 in /usr/local/lib/python3.7/dist-packages (from scprep) (4.4.2)\n",
            "Requirement already satisfied: scipy>=0.18.1 in /usr/local/lib/python3.7/dist-packages (from scprep) (1.4.1)\n",
            "Requirement already satisfied: pandas<1.4,>=0.25 in /usr/local/lib/python3.7/dist-packages (from scprep) (1.3.5)\n",
            "Requirement already satisfied: python-dateutil>=2.7.3 in /usr/local/lib/python3.7/dist-packages (from pandas<1.4,>=0.25->scprep) (2.8.2)\n",
            "Requirement already satisfied: pytz>=2017.3 in /usr/local/lib/python3.7/dist-packages (from pandas<1.4,>=0.25->scprep) (2022.1)\n",
            "Requirement already satisfied: six>=1.5 in /usr/local/lib/python3.7/dist-packages (from python-dateutil>=2.7.3->pandas<1.4,>=0.25->scprep) (1.15.0)\n",
            "Requirement already satisfied: joblib>=0.11 in /usr/local/lib/python3.7/dist-packages (from scikit-learn>=0.19.1->scprep) (1.1.0)\n",
            "Requirement already satisfied: threadpoolctl>=2.0.0 in /usr/local/lib/python3.7/dist-packages (from scikit-learn>=0.19.1->scprep) (3.1.0)\n",
            "Requirement already satisfied: matplotlib>=3.0 in /usr/local/lib/python3.7/dist-packages (from phate) (3.2.2)\n",
            "Requirement already satisfied: tasklogger>=1.0 in /usr/local/lib/python3.7/dist-packages (from phate) (1.1.2)\n",
            "Requirement already satisfied: graphtools>=1.3.1 in /usr/local/lib/python3.7/dist-packages (from phate) (1.5.2)\n",
            "Requirement already satisfied: Deprecated in /usr/local/lib/python3.7/dist-packages (from phate) (1.2.13)\n",
            "Requirement already satisfied: s-gd2>=1.5 in /usr/local/lib/python3.7/dist-packages (from phate) (1.8)\n",
            "Requirement already satisfied: future in /usr/local/lib/python3.7/dist-packages (from phate) (0.16.0)\n",
            "Requirement already satisfied: pygsp>=0.5.1 in /usr/local/lib/python3.7/dist-packages (from graphtools>=1.3.1->phate) (0.5.1)\n",
            "Requirement already satisfied: pyparsing!=2.0.4,!=2.1.2,!=2.1.6,>=2.0.1 in /usr/local/lib/python3.7/dist-packages (from matplotlib>=3.0->phate) (3.0.9)\n",
            "Requirement already satisfied: kiwisolver>=1.0.1 in /usr/local/lib/python3.7/dist-packages (from matplotlib>=3.0->phate) (1.4.2)\n",
            "Requirement already satisfied: cycler>=0.10 in /usr/local/lib/python3.7/dist-packages (from matplotlib>=3.0->phate) (0.11.0)\n",
            "Requirement already satisfied: typing-extensions in /usr/local/lib/python3.7/dist-packages (from kiwisolver>=1.0.1->matplotlib>=3.0->phate) (4.2.0)\n",
            "Requirement already satisfied: tqdm in /usr/local/lib/python3.7/dist-packages (from umap-learn) (4.64.0)\n",
            "Requirement already satisfied: pynndescent>=0.5 in /usr/local/lib/python3.7/dist-packages (from umap-learn) (0.5.7)\n",
            "Requirement already satisfied: numba>=0.49 in /usr/local/lib/python3.7/dist-packages (from umap-learn) (0.51.2)\n",
            "Requirement already satisfied: llvmlite<0.35,>=0.34.0.dev0 in /usr/local/lib/python3.7/dist-packages (from numba>=0.49->umap-learn) (0.34.0)\n",
            "Requirement already satisfied: setuptools in /usr/local/lib/python3.7/dist-packages (from numba>=0.49->umap-learn) (57.4.0)\n",
            "Requirement already satisfied: wrapt<2,>=1.10 in /usr/local/lib/python3.7/dist-packages (from Deprecated->phate) (1.14.1)\n"
          ]
        }
      ]
    },
    {
      "cell_type": "code",
      "source": [
        "import scprep"
      ],
      "metadata": {
        "id": "RGTAUXBXA7DV"
      },
      "execution_count": 60,
      "outputs": []
    },
    {
      "cell_type": "code",
      "source": [
        "# Speed it up by running PCA to 50 dimensions.\n",
        "data = np.array(target_feature_vector_list)\n",
        "print(f\"The data shape: {data.shape}\")\n",
        "\n",
        "# n_components must be between 0 and min(n_samples, n_features)=5\n",
        "n_samples, n_features = data.shape[0], data.shape[1]\n",
        "data_pca = scprep.reduce.pca(data, n_components=min(n_samples, n_features), method='dense')"
      ],
      "metadata": {
        "colab": {
          "base_uri": "https://localhost:8080/"
        },
        "id": "7oBEXf9g-Lte",
        "outputId": "2933b5c5-0418-465a-80db-5781bf10de25"
      },
      "execution_count": 61,
      "outputs": [
        {
          "output_type": "stream",
          "name": "stdout",
          "text": [
            "The data shape: (1850, 512)\n"
          ]
        }
      ]
    },
    {
      "cell_type": "markdown",
      "source": [
        "Speed up t-SNE a little further by subsampling"
      ],
      "metadata": {
        "id": "ge4qq4xkFS8a"
      }
    },
    {
      "cell_type": "code",
      "source": [
        "import sklearn.manifold\n",
        "tsne_op = sklearn.manifold.TSNE(n_components=2, perplexity=30)\n",
        "data_tsne = tsne_op.fit_transform(data)"
      ],
      "metadata": {
        "colab": {
          "base_uri": "https://localhost:8080/"
        },
        "id": "1xCBWMtPFf7O",
        "outputId": "a50d0a6e-2413-4015-e2b1-25fb599be3f1"
      },
      "execution_count": 62,
      "outputs": [
        {
          "output_type": "stream",
          "name": "stderr",
          "text": [
            "/usr/local/lib/python3.7/dist-packages/sklearn/manifold/_t_sne.py:783: FutureWarning: The default initialization in TSNE will change from 'random' to 'pca' in 1.2.\n",
            "  FutureWarning,\n",
            "/usr/local/lib/python3.7/dist-packages/sklearn/manifold/_t_sne.py:793: FutureWarning: The default learning rate in TSNE will change from 200.0 to 'auto' in 1.2.\n",
            "  FutureWarning,\n"
          ]
        }
      ]
    },
    {
      "cell_type": "code",
      "source": [
        "scprep.plot.scatter2d(data_tsne, c=y_kmeans,\n",
        "                      figsize=(16,8), legend_anchor=(1,1),\n",
        "                      ticks=False, label_prefix='t-SNE', \n",
        "                      title=\"K-Means by t-SNE\")"
      ],
      "metadata": {
        "colab": {
          "base_uri": "https://localhost:8080/",
          "height": 443
        },
        "id": "aVv_E-ptF2Nz",
        "outputId": "0ddb1d56-17ea-4a08-9034-754fb16bf81c"
      },
      "execution_count": 63,
      "outputs": [
        {
          "output_type": "execute_result",
          "data": {
            "text/plain": [
              "<matplotlib.axes._subplots.AxesSubplot at 0x7f20fc3e3b10>"
            ]
          },
          "metadata": {},
          "execution_count": 63
        },
        {
          "output_type": "display_data",
          "data": {
            "text/plain": [
              "<Figure size 1152x576 with 2 Axes>"
            ],
            "image/png": "[encoded data removed]"
          },
          "metadata": {}
        }
      ]
    },
    {
      "cell_type": "markdown",
      "source": [
        "Update New Series Data To Dataframe"
      ],
      "metadata": {
        "id": "ZDcemxzU3B1J"
      }
    },
    {
      "cell_type": "code",
      "source": [
        "c_series = pd.Series(target_feature_vector_list)\n",
        "print(f\"{target_data_column} feature vector: {c_series}\")"
      ],
      "metadata": {
        "colab": {
          "base_uri": "https://localhost:8080/"
        },
        "id": "IG4f5Q3wn-HX",
        "outputId": "1836a230-e8e0-48c9-cc97-a0bcf5a5e26b"
      },
      "execution_count": 64,
      "outputs": [
        {
          "output_type": "stream",
          "name": "stdout",
          "text": [
            "all_claim feature vector: 0       [0.96963334, 0.8729017, -0.089930125, 0.130267...\n",
            "1       [0.87070775, 0.6662648, -0.38230363, 0.3340200...\n",
            "2       [0.9307276, 0.66446394, -0.08659898, 0.4133927...\n",
            "3       [0.988569, 0.6360157, -0.10902565, 0.14666596,...\n",
            "4       [0.9868581, 0.2007698, 0.12633964, 0.12246168,...\n",
            "                              ...                        \n",
            "1845    [0.88019884, 0.6162862, 0.02789707, 0.33525077...\n",
            "1846    [0.99603766, 0.25535944, 0.086982146, 0.164781...\n",
            "1847    [0.99297595, 0.13013735, 0.08688046, 0.1373849...\n",
            "1848    [0.96981204, 0.8777525, -0.11455806, 0.2051285...\n",
            "1849    [0.98353374, 0.9279252, 0.106441796, -0.031929...\n",
            "Length: 1850, dtype: object\n"
          ]
        }
      ]
    },
    {
      "cell_type": "code",
      "source": [
        "# update claim 1 feature vector\n",
        "df[\"all_claim_feature_vector\"] = c_series"
      ],
      "metadata": {
        "id": "1pvU-w2QtXBz"
      },
      "execution_count": 65,
      "outputs": []
    },
    {
      "cell_type": "code",
      "source": [
        "print(df[\"all_claim_feature_vector\"])"
      ],
      "metadata": {
        "colab": {
          "base_uri": "https://localhost:8080/"
        },
        "id": "6Ojpggp_wF-D",
        "outputId": "1c164a4d-0787-4197-a0a7-4c3dc52dda36"
      },
      "execution_count": 66,
      "outputs": [
        {
          "output_type": "stream",
          "name": "stdout",
          "text": [
            "0       [0.96963334, 0.8729017, -0.089930125, 0.130267...\n",
            "1       [0.87070775, 0.6662648, -0.38230363, 0.3340200...\n",
            "2       [0.9307276, 0.66446394, -0.08659898, 0.4133927...\n",
            "3       [0.988569, 0.6360157, -0.10902565, 0.14666596,...\n",
            "4       [0.9868581, 0.2007698, 0.12633964, 0.12246168,...\n",
            "                              ...                        \n",
            "1845    [0.88019884, 0.6162862, 0.02789707, 0.33525077...\n",
            "1846    [0.99603766, 0.25535944, 0.086982146, 0.164781...\n",
            "1847    [0.99297595, 0.13013735, 0.08688046, 0.1373849...\n",
            "1848    [0.96981204, 0.8777525, -0.11455806, 0.2051285...\n",
            "1849    [0.98353374, 0.9279252, 0.106441796, -0.031929...\n",
            "Name: all_claim_feature_vector, Length: 1850, dtype: object\n"
          ]
        }
      ]
    },
    {
      "cell_type": "code",
      "source": [
        "# update cluster number\n",
        "df[\"cluster\"] = y_kmeans"
      ],
      "metadata": {
        "id": "K5ucDjnKpJZI"
      },
      "execution_count": 67,
      "outputs": []
    },
    {
      "cell_type": "code",
      "source": [
        "df.head(10)"
      ],
      "metadata": {
        "colab": {
          "base_uri": "https://localhost:8080/",
          "height": 1000
        },
        "id": "6e6hVQU7v6aP",
        "outputId": "28c96632-559d-425e-e835-6a10a18909df"
      },
      "execution_count": 68,
      "outputs": [
        {
          "output_type": "execute_result",
          "data": {
            "text/plain": [
              "                                         patent_name  \\\n",
              "0  Camera with reduced image noise resulting from...   \n",
              "1  Electronic device and method for providing dra...   \n",
              "2  Electronic device and method for controlling m...   \n",
              "3      Stylus pen, touch apparatus, and touch system   \n",
              "4        Electronic device including helical antenna   \n",
              "5  Display device, user terminal device, method f...   \n",
              "6             Sensing device with fingerprint sensor   \n",
              "7         Electronic device including antenna module   \n",
              "8  Operating method of electronic device for func...   \n",
              "9  Display device and method of driving the same ...   \n",
              "\n",
              "                                            abstract  \\\n",
              "0  An example method includes receiving, by a mob...   \n",
              "1  An electronic device according to various embo...   \n",
              "2  An electronic device according to various embo...   \n",
              "3  An exemplary embodiment of the present inventi...   \n",
              "4  According to various embodiments, an electroni...   \n",
              "5  The present disclosure relates to a display de...   \n",
              "6  A sensing device with a fingerprint sensor is ...   \n",
              "7  An electronic device includes: a housing inclu...   \n",
              "8  An operating method of an electronic device fo...   \n",
              "9  A display device including a display panel hav...   \n",
              "\n",
              "                                           all_claim  \\\n",
              "0   The invention claimed is:  1.  A method compr...   \n",
              "1   The invention claimed is:  1.  An electronic ...   \n",
              "2   The invention claimed is:  1.  An electronic ...   \n",
              "3   What is claimed is:  1.  A stylus pen compris...   \n",
              "4   What is claimed is:  1.  An electronic device...   \n",
              "5   What is claimed is:  1.  A display device com...   \n",
              "6   What is claimed is:  1.  A sensing device com...   \n",
              "7   What is claimed is:  1.  An electronic device...   \n",
              "8   What is claimed is:  1.  An electronic device...   \n",
              "9   What is claimed is:  1.  A display device, co...   \n",
              "\n",
              "                                          cpc number  \\\n",
              "0  H02J 50/10 (20160201); H04N 5/247 (20130101); ...   \n",
              "1  G09B 11/00 (20130101); G06F 3/04883 (20130101)...   \n",
              "2  G06F 3/04144 (20190501); G06F 3/04883 (2013010...   \n",
              "3  G06F 3/04166 (20190501); G06F 3/0445 (20190501...   \n",
              "4  H01Q 1/243 (20130101); H01Q 1/38 (20130101); H...   \n",
              "5  G11B 27/34 (20130101); G06F 3/1423 (20130101);...   \n",
              "6  H03K 17/962 (20130101); H03H 17/0671 (20130101...   \n",
              "7  H01Q 1/38 (20130101); H01Q 1/02 (20130101); H0...   \n",
              "8  G06F 21/32 (20130101); G06F 3/04883 (20130101)...   \n",
              "9  G06F 3/0412 (20130101); G09G 3/20 (20130101); ...   \n",
              "\n",
              "                                detailed_description patent number  \\\n",
              "0   BACKGROUND  Some computing devices include a ...    11,329,507   \n",
              "1   CROSS-REFERENCE TO RELATED APPLICATIONS  This...    11,328,469   \n",
              "2   CROSS-REFERENCE TO RELATED APPLICATION(S)  Th...    11,327,595   \n",
              "3   CROSS-REFERENCE TO RELATED APPLICATION  This ...    11,327,582   \n",
              "4   CROSS-REFERENCE TO RELATED APPLICATION  This ...    11,322,848   \n",
              "5   CROSS-REFERENCE TO RELATED APPLICATION(S)  Th...    11,321,040   \n",
              "6   CROSS-REFERENCE TO RELATED APPLICATIONS  This...    11,320,941   \n",
              "7   CROSS-REFERENCE TO RELATED APPLICATION  This ...    11,316,284   \n",
              "8   CROSS-REFERENCE TO RELATED APPLICATIONS  This...    11,314,898   \n",
              "9   BACKGROUND Field  Exemplary embodiments of th...    11,314,368   \n",
              "\n",
              "                            all_claim_feature_vector  cluster  \n",
              "0  [0.96963334, 0.8729017, -0.089930125, 0.130267...       47  \n",
              "1  [0.87070775, 0.6662648, -0.38230363, 0.3340200...       43  \n",
              "2  [0.9307276, 0.66446394, -0.08659898, 0.4133927...       32  \n",
              "3  [0.988569, 0.6360157, -0.10902565, 0.14666596,...       82  \n",
              "4  [0.9868581, 0.2007698, 0.12633964, 0.12246168,...       58  \n",
              "5  [0.8752702, 0.9517045, -0.14265776, 0.14807566...       83  \n",
              "6  [0.99223393, 0.36188507, -0.27200875, 0.131118...       79  \n",
              "7  [0.96181107, 0.3028212, 0.068707004, 0.0478640...        7  \n",
              "8  [0.9796735, 0.6957105, -0.049644943, 0.3113515...       58  \n",
              "9  [0.9650661, -0.6038191, 0.082706146, 0.3539252...       92  "
            ],
            "text/html": [
              "\n",
              "  <div id=\"df-221bb07c-d613-4a1f-a3f9-81135d313199\">\n",
              "    <div class=\"colab-df-container\">\n",
              "      <div>\n",
              "<style scoped>\n",
              "    .dataframe tbody tr th:only-of-type {\n",
              "        vertical-align: middle;\n",
              "    }\n",
              "\n",
              "    .dataframe tbody tr th {\n",
              "        vertical-align: top;\n",
              "    }\n",
              "\n",
              "    .dataframe thead th {\n",
              "        text-align: right;\n",
              "    }\n",
              "</style>\n",
              "<table border=\"1\" class=\"dataframe\">\n",
              "  <thead>\n",
              "    <tr style=\"text-align: right;\">\n",
              "      <th></th>\n",
              "      <th>patent_name</th>\n",
              "      <th>abstract</th>\n",
              "      <th>all_claim</th>\n",
              "      <th>cpc number</th>\n",
              "      <th>detailed_description</th>\n",
              "      <th>patent number</th>\n",
              "      <th>all_claim_feature_vector</th>\n",
              "      <th>cluster</th>\n",
              "    </tr>\n",
              "  </thead>\n",
              "  <tbody>\n",
              "    <tr>\n",
              "      <th>0</th>\n",
              "      <td>Camera with reduced image noise resulting from...</td>\n",
              "      <td>An example method includes receiving, by a mob...</td>\n",
              "      <td>The invention claimed is:  1.  A method compr...</td>\n",
              "      <td>H02J 50/10 (20160201); H04N 5/247 (20130101); ...</td>\n",
              "      <td>BACKGROUND  Some computing devices include a ...</td>\n",
              "      <td>11,329,507</td>\n",
              "      <td>[0.96963334, 0.8729017, -0.089930125, 0.130267...</td>\n",
              "      <td>47</td>\n",
              "    </tr>\n",
              "    <tr>\n",
              "      <th>1</th>\n",
              "      <td>Electronic device and method for providing dra...</td>\n",
              "      <td>An electronic device according to various embo...</td>\n",
              "      <td>The invention claimed is:  1.  An electronic ...</td>\n",
              "      <td>G09B 11/00 (20130101); G06F 3/04883 (20130101)...</td>\n",
              "      <td>CROSS-REFERENCE TO RELATED APPLICATIONS  This...</td>\n",
              "      <td>11,328,469</td>\n",
              "      <td>[0.87070775, 0.6662648, -0.38230363, 0.3340200...</td>\n",
              "      <td>43</td>\n",
              "    </tr>\n",
              "    <tr>\n",
              "      <th>2</th>\n",
              "      <td>Electronic device and method for controlling m...</td>\n",
              "      <td>An electronic device according to various embo...</td>\n",
              "      <td>The invention claimed is:  1.  An electronic ...</td>\n",
              "      <td>G06F 3/04144 (20190501); G06F 3/04883 (2013010...</td>\n",
              "      <td>CROSS-REFERENCE TO RELATED APPLICATION(S)  Th...</td>\n",
              "      <td>11,327,595</td>\n",
              "      <td>[0.9307276, 0.66446394, -0.08659898, 0.4133927...</td>\n",
              "      <td>32</td>\n",
              "    </tr>\n",
              "    <tr>\n",
              "      <th>3</th>\n",
              "      <td>Stylus pen, touch apparatus, and touch system</td>\n",
              "      <td>An exemplary embodiment of the present inventi...</td>\n",
              "      <td>What is claimed is:  1.  A stylus pen compris...</td>\n",
              "      <td>G06F 3/04166 (20190501); G06F 3/0445 (20190501...</td>\n",
              "      <td>CROSS-REFERENCE TO RELATED APPLICATION  This ...</td>\n",
              "      <td>11,327,582</td>\n",
              "      <td>[0.988569, 0.6360157, -0.10902565, 0.14666596,...</td>\n",
              "      <td>82</td>\n",
              "    </tr>\n",
              "    <tr>\n",
              "      <th>4</th>\n",
              "      <td>Electronic device including helical antenna</td>\n",
              "      <td>According to various embodiments, an electroni...</td>\n",
              "      <td>What is claimed is:  1.  An electronic device...</td>\n",
              "      <td>H01Q 1/243 (20130101); H01Q 1/38 (20130101); H...</td>\n",
              "      <td>CROSS-REFERENCE TO RELATED APPLICATION  This ...</td>\n",
              "      <td>11,322,848</td>\n",
              "      <td>[0.9868581, 0.2007698, 0.12633964, 0.12246168,...</td>\n",
              "      <td>58</td>\n",
              "    </tr>\n",
              "    <tr>\n",
              "      <th>5</th>\n",
              "      <td>Display device, user terminal device, method f...</td>\n",
              "      <td>The present disclosure relates to a display de...</td>\n",
              "      <td>What is claimed is:  1.  A display device com...</td>\n",
              "      <td>G11B 27/34 (20130101); G06F 3/1423 (20130101);...</td>\n",
              "      <td>CROSS-REFERENCE TO RELATED APPLICATION(S)  Th...</td>\n",
              "      <td>11,321,040</td>\n",
              "      <td>[0.8752702, 0.9517045, -0.14265776, 0.14807566...</td>\n",
              "      <td>83</td>\n",
              "    </tr>\n",
              "    <tr>\n",
              "      <th>6</th>\n",
              "      <td>Sensing device with fingerprint sensor</td>\n",
              "      <td>A sensing device with a fingerprint sensor is ...</td>\n",
              "      <td>What is claimed is:  1.  A sensing device com...</td>\n",
              "      <td>H03K 17/962 (20130101); H03H 17/0671 (20130101...</td>\n",
              "      <td>CROSS-REFERENCE TO RELATED APPLICATIONS  This...</td>\n",
              "      <td>11,320,941</td>\n",
              "      <td>[0.99223393, 0.36188507, -0.27200875, 0.131118...</td>\n",
              "      <td>79</td>\n",
              "    </tr>\n",
              "    <tr>\n",
              "      <th>7</th>\n",
              "      <td>Electronic device including antenna module</td>\n",
              "      <td>An electronic device includes: a housing inclu...</td>\n",
              "      <td>What is claimed is:  1.  An electronic device...</td>\n",
              "      <td>H01Q 1/38 (20130101); H01Q 1/02 (20130101); H0...</td>\n",
              "      <td>CROSS-REFERENCE TO RELATED APPLICATION  This ...</td>\n",
              "      <td>11,316,284</td>\n",
              "      <td>[0.96181107, 0.3028212, 0.068707004, 0.0478640...</td>\n",
              "      <td>7</td>\n",
              "    </tr>\n",
              "    <tr>\n",
              "      <th>8</th>\n",
              "      <td>Operating method of electronic device for func...</td>\n",
              "      <td>An operating method of an electronic device fo...</td>\n",
              "      <td>What is claimed is:  1.  An electronic device...</td>\n",
              "      <td>G06F 21/32 (20130101); G06F 3/04883 (20130101)...</td>\n",
              "      <td>CROSS-REFERENCE TO RELATED APPLICATIONS  This...</td>\n",
              "      <td>11,314,898</td>\n",
              "      <td>[0.9796735, 0.6957105, -0.049644943, 0.3113515...</td>\n",
              "      <td>58</td>\n",
              "    </tr>\n",
              "    <tr>\n",
              "      <th>9</th>\n",
              "      <td>Display device and method of driving the same ...</td>\n",
              "      <td>A display device including a display panel hav...</td>\n",
              "      <td>What is claimed is:  1.  A display device, co...</td>\n",
              "      <td>G06F 3/0412 (20130101); G09G 3/20 (20130101); ...</td>\n",
              "      <td>BACKGROUND Field  Exemplary embodiments of th...</td>\n",
              "      <td>11,314,368</td>\n",
              "      <td>[0.9650661, -0.6038191, 0.082706146, 0.3539252...</td>\n",
              "      <td>92</td>\n",
              "    </tr>\n",
              "  </tbody>\n",
              "</table>\n",
              "</div>\n",
              "      <button class=\"colab-df-convert\" onclick=\"convertToInteractive('df-221bb07c-d613-4a1f-a3f9-81135d313199')\"\n",
              "              title=\"Convert this dataframe to an interactive table.\"\n",
              "              style=\"display:none;\">\n",
              "        \n",
              "  <svg xmlns=\"http://www.w3.org/2000/svg\" height=\"24px\"viewBox=\"0 0 24 24\"\n",
              "       width=\"24px\">\n",
              "    <path d=\"M0 0h24v24H0V0z\" fill=\"none\"/>\n",
              "    <path d=\"M18.56 5.44l.94 2.06.94-2.06 2.06-.94-2.06-.94-.94-2.06-.94 2.06-2.06.94zm-11 1L8.5 8.5l.94-2.06 2.06-.94-2.06-.94L8.5 2.5l-.94 2.06-2.06.94zm10 10l.94 2.06.94-2.06 2.06-.94-2.06-.94-.94-2.06-.94 2.06-2.06.94z\"/><path d=\"M17.41 7.96l-1.37-1.37c-.4-.4-.92-.59-1.43-.59-.52 0-1.04.2-1.43.59L10.3 9.45l-7.72 7.72c-.78.78-.78 2.05 0 2.83L4 21.41c.39.39.9.59 1.41.59.51 0 1.02-.2 1.41-.59l7.78-7.78 2.81-2.81c.8-.78.8-2.07 0-2.86zM5.41 20L4 18.59l7.72-7.72 1.47 1.35L5.41 20z\"/>\n",
              "  </svg>\n",
              "      </button>\n",
              "      \n",
              "  <style>\n",
              "    .colab-df-container {\n",
              "      display:flex;\n",
              "      flex-wrap:wrap;\n",
              "      gap: 12px;\n",
              "    }\n",
              "\n",
              "    .colab-df-convert {\n",
              "      background-color: #E8F0FE;\n",
              "      border: none;\n",
              "      border-radius: 50%;\n",
              "      cursor: pointer;\n",
              "      display: none;\n",
              "      fill: #1967D2;\n",
              "      height: 32px;\n",
              "      padding: 0 0 0 0;\n",
              "      width: 32px;\n",
              "    }\n",
              "\n",
              "    .colab-df-convert:hover {\n",
              "      background-color: #E2EBFA;\n",
              "      box-shadow: 0px 1px 2px rgba(60, 64, 67, 0.3), 0px 1px 3px 1px rgba(60, 64, 67, 0.15);\n",
              "      fill: #174EA6;\n",
              "    }\n",
              "\n",
              "    [theme=dark] .colab-df-convert {\n",
              "      background-color: #3B4455;\n",
              "      fill: #D2E3FC;\n",
              "    }\n",
              "\n",
              "    [theme=dark] .colab-df-convert:hover {\n",
              "      background-color: #434B5C;\n",
              "      box-shadow: 0px 1px 3px 1px rgba(0, 0, 0, 0.15);\n",
              "      filter: drop-shadow(0px 1px 2px rgba(0, 0, 0, 0.3));\n",
              "      fill: #FFFFFF;\n",
              "    }\n",
              "  </style>\n",
              "\n",
              "      <script>\n",
              "        const buttonEl =\n",
              "          document.querySelector('#df-221bb07c-d613-4a1f-a3f9-81135d313199 button.colab-df-convert');\n",
              "        buttonEl.style.display =\n",
              "          google.colab.kernel.accessAllowed ? 'block' : 'none';\n",
              "\n",
              "        async function convertToInteractive(key) {\n",
              "          const element = document.querySelector('#df-221bb07c-d613-4a1f-a3f9-81135d313199');\n",
              "          const dataTable =\n",
              "            await google.colab.kernel.invokeFunction('convertToInteractive',\n",
              "                                                     [key], {});\n",
              "          if (!dataTable) return;\n",
              "\n",
              "          const docLinkHtml = 'Like what you see? Visit the ' +\n",
              "            '<a target=\"_blank\" href=https://colab.research.google.com/notebooks/data_table.ipynb>data table notebook</a>'\n",
              "            + ' to learn more about interactive tables.';\n",
              "          element.innerHTML = '';\n",
              "          dataTable['output_type'] = 'display_data';\n",
              "          await google.colab.output.renderOutput(dataTable, element);\n",
              "          const docLink = document.createElement('div');\n",
              "          docLink.innerHTML = docLinkHtml;\n",
              "          element.appendChild(docLink);\n",
              "        }\n",
              "      </script>\n",
              "    </div>\n",
              "  </div>\n",
              "  "
            ]
          },
          "metadata": {},
          "execution_count": 68
        }
      ]
    },
    {
      "cell_type": "code",
      "source": [
        "df.to_csv(f'patent_info_{target_data_column}_all.csv', index=False)"
      ],
      "metadata": {
        "id": "efqN7bdzdEhl"
      },
      "execution_count": 69,
      "outputs": []
    },
    {
      "cell_type": "markdown",
      "source": [
        "## Label Classification By Cluster Number"
      ],
      "metadata": {
        "id": "UMemg-J8mzwz"
      }
    },
    {
      "cell_type": "markdown",
      "source": [
        "Pick cluster 0 as our observation target"
      ],
      "metadata": {
        "id": "N8CAAEDjrLdV"
      }
    },
    {
      "cell_type": "code",
      "source": [
        "# select cluster number\n",
        "cluster_unique = df[\"cluster\"].unique().tolist()\n",
        "cluster_unique.sort()  # sort in the acsending way\n",
        "print(f\"cluster number: {cluster_unique}\")\n",
        "\n",
        "for cluster_num in cluster_unique:\n",
        "    print(f\"cluster number: {cluster_num}\")\n",
        "    single_cluster = df[df[\"cluster\"] == cluster_num]\n",
        "    break"
      ],
      "metadata": {
        "colab": {
          "base_uri": "https://localhost:8080/"
        },
        "id": "KY6oy3FJrSvL",
        "outputId": "838130cc-01f5-4f6d-93e3-d92e6f3bb8e9"
      },
      "execution_count": 70,
      "outputs": [
        {
          "output_type": "stream",
          "name": "stdout",
          "text": [
            "cluster number: [0, 1, 2, 3, 4, 5, 6, 7, 8, 9, 10, 11, 12, 13, 14, 15, 16, 17, 18, 19, 20, 21, 22, 23, 24, 25, 26, 27, 28, 29, 30, 31, 32, 33, 34, 35, 36, 37, 38, 39, 40, 41, 42, 43, 44, 45, 46, 47, 48, 49, 50, 51, 52, 53, 54, 55, 56, 57, 58, 59, 60, 61, 62, 63, 64, 65, 66, 67, 68, 69, 70, 71, 72, 73, 74, 75, 76, 77, 78, 79, 80, 81, 82, 83, 84, 85, 86, 87, 88, 89, 90, 91, 92, 93, 94, 95]\n",
            "cluster number: 0\n"
          ]
        }
      ]
    },
    {
      "cell_type": "code",
      "source": [
        "# check the result of cluster 0\n",
        "single_cluster.head()"
      ],
      "metadata": {
        "colab": {
          "base_uri": "https://localhost:8080/",
          "height": 721
        },
        "id": "uQK83hw5PZwc",
        "outputId": "13740d5a-018b-4f3e-a4e9-d8d3a9336377"
      },
      "execution_count": 71,
      "outputs": [
        {
          "output_type": "execute_result",
          "data": {
            "text/plain": [
              "                                           patent_name  \\\n",
              "89   Electrical module, display panel, display devi...   \n",
              "207  Transmission medium comprising a non-circular ...   \n",
              "421  Transmission medium and method of communicatio...   \n",
              "468  Dielectric transmission medium comprising a pl...   \n",
              "514  Transmission medium having a conductive materi...   \n",
              "\n",
              "                                              abstract  \\\n",
              "89   A novel electrical module that is highly conve...   \n",
              "207  Aspects of the subject disclosure may include,...   \n",
              "421  Aspects of the subject disclosure may include,...   \n",
              "468  Aspects of the subject disclosure may include,...   \n",
              "514  Aspects of the subject disclosure may include,...   \n",
              "\n",
              "                                             all_claim  \\\n",
              "89    The invention claimed is:  1.  An electrical ...   \n",
              "207   What is claimed is:  1.  A transmission mediu...   \n",
              "421   What is claimed is:  1.  A cable, comprising:...   \n",
              "468   What is claimed is:  1.  A transmission mediu...   \n",
              "514   What is claimed is:  1.  A system, comprising...   \n",
              "\n",
              "                                            cpc number  \\\n",
              "89   G06F 1/189 (20130101); G06F 1/1652 (20130101);...   \n",
              "207  H01P 1/04 (20130101); H01P 3/16 (20130101); H0...   \n",
              "421  H04B 3/52 (20130101); H01P 3/12 (20130101); H0...   \n",
              "468  H04B 3/54 (20130101); H01P 3/06 (20130101); H0...   \n",
              "514        H01B 3/441 (20130101); H04B 3/52 (20130101)   \n",
              "\n",
              "                                  detailed_description patent number  \\\n",
              "89     This application is a 371 of international a...    11,209,877   \n",
              "207   FIELD OF THE DISCLOSURE  The subject disclosu...    11,031,668   \n",
              "421   FIELD OF THE DISCLOSURE  The subject disclosu...    10,784,554   \n",
              "468   FIELD OF THE DISCLOSURE  The subject disclosu...    10,727,559   \n",
              "514   FIELD OF THE DISCLOSURE  The subject disclosu...    10,679,767   \n",
              "\n",
              "                              all_claim_feature_vector  cluster  \n",
              "89   [0.97837204, 0.31117803, 0.05455843, 0.2107199...        0  \n",
              "207  [0.9944973, 0.30149034, -0.19615595, 0.1500299...        0  \n",
              "421  [0.9828729, -0.2781475, -0.08904934, 0.2927068...        0  \n",
              "468  [0.997544, -0.040580027, 0.10527787, 0.1664908...        0  \n",
              "514  [0.97702485, 0.10861944, -0.20559193, 0.077739...        0  "
            ],
            "text/html": [
              "\n",
              "  <div id=\"df-43fc18ef-662c-4c98-bb7a-796048a359ce\">\n",
              "    <div class=\"colab-df-container\">\n",
              "      <div>\n",
              "<style scoped>\n",
              "    .dataframe tbody tr th:only-of-type {\n",
              "        vertical-align: middle;\n",
              "    }\n",
              "\n",
              "    .dataframe tbody tr th {\n",
              "        vertical-align: top;\n",
              "    }\n",
              "\n",
              "    .dataframe thead th {\n",
              "        text-align: right;\n",
              "    }\n",
              "</style>\n",
              "<table border=\"1\" class=\"dataframe\">\n",
              "  <thead>\n",
              "    <tr style=\"text-align: right;\">\n",
              "      <th></th>\n",
              "      <th>patent_name</th>\n",
              "      <th>abstract</th>\n",
              "      <th>all_claim</th>\n",
              "      <th>cpc number</th>\n",
              "      <th>detailed_description</th>\n",
              "      <th>patent number</th>\n",
              "      <th>all_claim_feature_vector</th>\n",
              "      <th>cluster</th>\n",
              "    </tr>\n",
              "  </thead>\n",
              "  <tbody>\n",
              "    <tr>\n",
              "      <th>89</th>\n",
              "      <td>Electrical module, display panel, display devi...</td>\n",
              "      <td>A novel electrical module that is highly conve...</td>\n",
              "      <td>The invention claimed is:  1.  An electrical ...</td>\n",
              "      <td>G06F 1/189 (20130101); G06F 1/1652 (20130101);...</td>\n",
              "      <td>This application is a 371 of international a...</td>\n",
              "      <td>11,209,877</td>\n",
              "      <td>[0.97837204, 0.31117803, 0.05455843, 0.2107199...</td>\n",
              "      <td>0</td>\n",
              "    </tr>\n",
              "    <tr>\n",
              "      <th>207</th>\n",
              "      <td>Transmission medium comprising a non-circular ...</td>\n",
              "      <td>Aspects of the subject disclosure may include,...</td>\n",
              "      <td>What is claimed is:  1.  A transmission mediu...</td>\n",
              "      <td>H01P 1/04 (20130101); H01P 3/16 (20130101); H0...</td>\n",
              "      <td>FIELD OF THE DISCLOSURE  The subject disclosu...</td>\n",
              "      <td>11,031,668</td>\n",
              "      <td>[0.9944973, 0.30149034, -0.19615595, 0.1500299...</td>\n",
              "      <td>0</td>\n",
              "    </tr>\n",
              "    <tr>\n",
              "      <th>421</th>\n",
              "      <td>Transmission medium and method of communicatio...</td>\n",
              "      <td>Aspects of the subject disclosure may include,...</td>\n",
              "      <td>What is claimed is:  1.  A cable, comprising:...</td>\n",
              "      <td>H04B 3/52 (20130101); H01P 3/12 (20130101); H0...</td>\n",
              "      <td>FIELD OF THE DISCLOSURE  The subject disclosu...</td>\n",
              "      <td>10,784,554</td>\n",
              "      <td>[0.9828729, -0.2781475, -0.08904934, 0.2927068...</td>\n",
              "      <td>0</td>\n",
              "    </tr>\n",
              "    <tr>\n",
              "      <th>468</th>\n",
              "      <td>Dielectric transmission medium comprising a pl...</td>\n",
              "      <td>Aspects of the subject disclosure may include,...</td>\n",
              "      <td>What is claimed is:  1.  A transmission mediu...</td>\n",
              "      <td>H04B 3/54 (20130101); H01P 3/06 (20130101); H0...</td>\n",
              "      <td>FIELD OF THE DISCLOSURE  The subject disclosu...</td>\n",
              "      <td>10,727,559</td>\n",
              "      <td>[0.997544, -0.040580027, 0.10527787, 0.1664908...</td>\n",
              "      <td>0</td>\n",
              "    </tr>\n",
              "    <tr>\n",
              "      <th>514</th>\n",
              "      <td>Transmission medium having a conductive materi...</td>\n",
              "      <td>Aspects of the subject disclosure may include,...</td>\n",
              "      <td>What is claimed is:  1.  A system, comprising...</td>\n",
              "      <td>H01B 3/441 (20130101); H04B 3/52 (20130101)</td>\n",
              "      <td>FIELD OF THE DISCLOSURE  The subject disclosu...</td>\n",
              "      <td>10,679,767</td>\n",
              "      <td>[0.97702485, 0.10861944, -0.20559193, 0.077739...</td>\n",
              "      <td>0</td>\n",
              "    </tr>\n",
              "  </tbody>\n",
              "</table>\n",
              "</div>\n",
              "      <button class=\"colab-df-convert\" onclick=\"convertToInteractive('df-43fc18ef-662c-4c98-bb7a-796048a359ce')\"\n",
              "              title=\"Convert this dataframe to an interactive table.\"\n",
              "              style=\"display:none;\">\n",
              "        \n",
              "  <svg xmlns=\"http://www.w3.org/2000/svg\" height=\"24px\"viewBox=\"0 0 24 24\"\n",
              "       width=\"24px\">\n",
              "    <path d=\"M0 0h24v24H0V0z\" fill=\"none\"/>\n",
              "    <path d=\"M18.56 5.44l.94 2.06.94-2.06 2.06-.94-2.06-.94-.94-2.06-.94 2.06-2.06.94zm-11 1L8.5 8.5l.94-2.06 2.06-.94-2.06-.94L8.5 2.5l-.94 2.06-2.06.94zm10 10l.94 2.06.94-2.06 2.06-.94-2.06-.94-.94-2.06-.94 2.06-2.06.94z\"/><path d=\"M17.41 7.96l-1.37-1.37c-.4-.4-.92-.59-1.43-.59-.52 0-1.04.2-1.43.59L10.3 9.45l-7.72 7.72c-.78.78-.78 2.05 0 2.83L4 21.41c.39.39.9.59 1.41.59.51 0 1.02-.2 1.41-.59l7.78-7.78 2.81-2.81c.8-.78.8-2.07 0-2.86zM5.41 20L4 18.59l7.72-7.72 1.47 1.35L5.41 20z\"/>\n",
              "  </svg>\n",
              "      </button>\n",
              "      \n",
              "  <style>\n",
              "    .colab-df-container {\n",
              "      display:flex;\n",
              "      flex-wrap:wrap;\n",
              "      gap: 12px;\n",
              "    }\n",
              "\n",
              "    .colab-df-convert {\n",
              "      background-color: #E8F0FE;\n",
              "      border: none;\n",
              "      border-radius: 50%;\n",
              "      cursor: pointer;\n",
              "      display: none;\n",
              "      fill: #1967D2;\n",
              "      height: 32px;\n",
              "      padding: 0 0 0 0;\n",
              "      width: 32px;\n",
              "    }\n",
              "\n",
              "    .colab-df-convert:hover {\n",
              "      background-color: #E2EBFA;\n",
              "      box-shadow: 0px 1px 2px rgba(60, 64, 67, 0.3), 0px 1px 3px 1px rgba(60, 64, 67, 0.15);\n",
              "      fill: #174EA6;\n",
              "    }\n",
              "\n",
              "    [theme=dark] .colab-df-convert {\n",
              "      background-color: #3B4455;\n",
              "      fill: #D2E3FC;\n",
              "    }\n",
              "\n",
              "    [theme=dark] .colab-df-convert:hover {\n",
              "      background-color: #434B5C;\n",
              "      box-shadow: 0px 1px 3px 1px rgba(0, 0, 0, 0.15);\n",
              "      filter: drop-shadow(0px 1px 2px rgba(0, 0, 0, 0.3));\n",
              "      fill: #FFFFFF;\n",
              "    }\n",
              "  </style>\n",
              "\n",
              "      <script>\n",
              "        const buttonEl =\n",
              "          document.querySelector('#df-43fc18ef-662c-4c98-bb7a-796048a359ce button.colab-df-convert');\n",
              "        buttonEl.style.display =\n",
              "          google.colab.kernel.accessAllowed ? 'block' : 'none';\n",
              "\n",
              "        async function convertToInteractive(key) {\n",
              "          const element = document.querySelector('#df-43fc18ef-662c-4c98-bb7a-796048a359ce');\n",
              "          const dataTable =\n",
              "            await google.colab.kernel.invokeFunction('convertToInteractive',\n",
              "                                                     [key], {});\n",
              "          if (!dataTable) return;\n",
              "\n",
              "          const docLinkHtml = 'Like what you see? Visit the ' +\n",
              "            '<a target=\"_blank\" href=https://colab.research.google.com/notebooks/data_table.ipynb>data table notebook</a>'\n",
              "            + ' to learn more about interactive tables.';\n",
              "          element.innerHTML = '';\n",
              "          dataTable['output_type'] = 'display_data';\n",
              "          await google.colab.output.renderOutput(dataTable, element);\n",
              "          const docLink = document.createElement('div');\n",
              "          docLink.innerHTML = docLinkHtml;\n",
              "          element.appendChild(docLink);\n",
              "        }\n",
              "      </script>\n",
              "    </div>\n",
              "  </div>\n",
              "  "
            ]
          },
          "metadata": {},
          "execution_count": 71
        }
      ]
    },
    {
      "cell_type": "markdown",
      "source": [
        "CPC Number Category\n",
        "* Section: F\n",
        "* Class: F02\n",
        "* Sub-class: F02D\n",
        "* Group: F02D 41\n",
        "* Sub-Group: F02D 41/02"
      ],
      "metadata": {
        "id": "_u9ZZwkS2l1x"
      }
    },
    {
      "cell_type": "code",
      "source": [
        "# read each row data in cpc number\n",
        "cpc_number_list = single_cluster[\"cpc number\"].tolist()\n",
        "print(f\"Number of element in cpc_number_list: {len(cpc_number_list)}\")\n",
        "print(f\"The content of cpc_number_list: {cpc_number_list}\")"
      ],
      "metadata": {
        "colab": {
          "base_uri": "https://localhost:8080/"
        },
        "id": "hTuxmlv2slCh",
        "outputId": "57c4a0f9-4973-4bd7-965b-ca864884b437"
      },
      "execution_count": 72,
      "outputs": [
        {
          "output_type": "stream",
          "name": "stdout",
          "text": [
            "Number of element in cpc_number_list: 21\n",
            "The content of cpc_number_list: ['G06F 1/189 (20130101); G06F 1/1652 (20130101); G06F 3/013 (20130101); G09F 9/30 (20130101); H01L 29/786 (20130101); G09F 9/00 (20130101); G06F 1/1643 (20130101); G06F 1/163 (20130101); G06F 1/1616 (20130101); G06F 1/1626 (20130101); G06F 1/1637 (20130101); G06F 3/0416 (20130101); G09G 2300/0842 (20130101); G06F 2203/04102 (20130101); G09G 3/3275 (20130101); G09G 3/3233 (20130101); G09G 2320/0666 (20130101); G06F 2203/04103 (20130101); G09G 2320/0247 (20130101); G09G 2360/144 (20130101); G09G 2330/021 (20130101); H01L 27/3276 (20130101); G09G 2310/0221 (20130101); G09G 2340/0435 (20130101)', 'H01P 1/04 (20130101); H01P 3/16 (20130101); H01P 1/042 (20130101); H01P 5/087 (20130101); H01P 3/12 (20130101)', 'H04B 3/52 (20130101); H01P 3/12 (20130101); H01P 3/10 (20130101); H01P 3/122 (20130101); H01P 3/06 (20130101); H04B 3/00 (20130101); H01B 11/06 (20130101); H01P 11/002 (20130101); H01B 11/1808 (20130101); H01B 11/1834 (20130101); H04B 3/54 (20130101)', 'H04B 3/54 (20130101); H01P 3/06 (20130101); H01P 3/122 (20130101); H01P 11/006 (20130101); H01Q 1/50 (20130101); H01P 3/16 (20130101); H04B 3/52 (20130101); H01P 1/042 (20130101); H01P 1/064 (20130101); H01P 1/02 (20130101)', 'H01B 3/441 (20130101); H04B 3/52 (20130101)', 'H04B 5/00 (20130101); H01B 3/307 (20130101); H01P 3/06 (20130101); H04B 3/52 (20130101); H01B 3/441 (20130101)', 'H04B 3/32 (20130101); H04B 3/54 (20130101); H01P 3/06 (20130101); H04B 2203/5487 (20130101); H01P 3/16 (20130101); H04B 2203/5425 (20130101); H04B 3/56 (20130101)', 'G06F 3/0362 (20130101); G06F 3/04845 (20130101); G06F 3/0446 (20190501); G06F 3/03545 (20130101); G06F 3/0441 (20190501); G06F 3/0442 (20190501); G06F 3/0482 (20130101); G06F 3/04883 (20130101); G06F 3/0445 (20190501); G06F 3/04847 (20130101)', 'H01Q 19/08 (20130101); H01P 3/16 (20130101); H01P 3/10 (20130101); H01Q 3/08 (20130101); H01Q 21/08 (20130101); H01P 5/08 (20130101); H01Q 13/24 (20130101); H04B 3/56 (20130101); H01Q 21/205 (20130101); H01P 5/02 (20130101); H01Q 13/02 (20130101); H04B 3/58 (20130101); H01Q 21/064 (20130101); H01Q 1/12 (20130101); H04B 2203/5425 (20130101); H04B 2203/5483 (20130101); H04B 2203/5441 (20130101); H04B 2203/5491 (20130101); H04B 3/48 (20130101); H04B 3/32 (20130101); H04B 3/36 (20130101); H04B 2203/5479 (20130101)', 'H01P 1/04 (20130101); H01P 1/042 (20130101); H01P 3/12 (20130101); H01P 5/087 (20130101); H01P 3/16 (20130101)', 'H04B 3/32 (20130101); H04B 3/52 (20130101); H04B 3/54 (20130101); H01P 3/16 (20130101); H01P 3/10 (20130101); H04B 3/56 (20130101); H04B 2203/5487 (20130101)', 'H01P 3/165 (20130101); H01P 3/06 (20130101); H04B 3/32 (20130101); H04B 3/54 (20130101); H04B 3/56 (20130101); H04B 2203/5425 (20130101); H01P 3/16 (20130101); H04B 2203/5487 (20130101)', 'H01P 3/06 (20130101); H04B 3/54 (20130101); H04B 3/32 (20130101); H04B 2203/5425 (20130101); H04B 2203/5487 (20130101); H04B 3/56 (20130101); H01P 3/16 (20130101)', 'H01Q 1/50 (20130101); H01P 3/122 (20130101); H01P 11/006 (20130101); H04B 3/54 (20130101); H01P 3/06 (20130101); H01P 3/16 (20130101); H04B 3/52 (20130101); H01P 1/042 (20130101); H01P 1/02 (20130101); H01P 1/064 (20130101)', 'H04B 3/54 (20130101); H04B 3/52 (20130101); H04B 3/56 (20130101)', 'H04B 3/52 (20130101); H01P 3/122 (20130101); H01B 11/06 (20130101); H01B 11/1808 (20130101); H01P 11/002 (20130101); H01P 3/06 (20130101); H01P 3/10 (20130101); H01P 3/12 (20130101); H04B 3/00 (20130101); H01B 11/1834 (20130101); H04B 3/54 (20130101)', 'H04B 3/54 (20130101); H04B 3/32 (20130101); H01P 3/06 (20130101); H04B 3/56 (20130101); H04B 2203/5487 (20130101); H01P 3/16 (20130101); H04B 2203/5425 (20130101)', 'H01P 3/16 (20130101); H01P 5/087 (20130101); H01P 1/04 (20130101); H01P 1/042 (20130101); H01P 3/12 (20130101)', 'H04B 3/54 (20130101); H04B 3/32 (20130101); H01P 3/10 (20130101); H01P 3/16 (20130101); H04B 3/52 (20130101); H04B 2203/5487 (20130101); H04B 3/56 (20130101)', 'G06F 3/0445 (20190501); G01R 27/2605 (20130101); G06F 3/0446 (20190501); G01L 1/146 (20130101); G06F 2203/04103 (20130101); G06F 2203/04111 (20130101); G06F 2203/04102 (20130101); G06F 2203/04106 (20130101); G06F 2203/04105 (20130101); G06F 2203/04112 (20130101)', 'G06F 3/0446 (20190501); G01L 1/146 (20130101); G06F 3/0445 (20190501); G01R 27/2605 (20130101); G06F 2203/04106 (20130101); G06F 2203/04102 (20130101); G06F 2203/04105 (20130101); G06F 2203/04112 (20130101); G06F 2203/04111 (20130101); G06F 2203/04103 (20130101)']\n"
          ]
        }
      ]
    },
    {
      "cell_type": "code",
      "source": [
        "def cpc_num_stat(mode: str, cpc_number_list: list, simple_cpc_number_dict: dict):    \n",
        "    for row in cpc_number_list:\n",
        "        # split by semi-colon\n",
        "        row_split_by_semi =  row.split(';')\n",
        "        for row in row_split_by_semi:        \n",
        "            cpc_num_set = set()      \n",
        "            # split by space\n",
        "            row_split = row.split(' ')        \n",
        "            row_split_filtered_empty_string = [x for x in row_split if x]\n",
        "            # to sub-class level\n",
        "            sub_class = row_split_filtered_empty_string[0]      \n",
        "            # # to sub-group level\n",
        "            sub_group = ' '.join(row_split_filtered_empty_string[:2])  # stop until the date information\n",
        "\n",
        "            if MODE == 'SUB-CLASS':\n",
        "                data = sub_class\n",
        "            elif MODE == 'SUB-GROUP':\n",
        "                data = sub_group\n",
        "\n",
        "            # add to simple_cpc_number_dict          \n",
        "            if sub_class not in simple_cpc_number_dict:\n",
        "                simple_cpc_number_dict[data] = 1\n",
        "            else:\n",
        "                simple_cpc_number_dict[data] += 1\n",
        "    return simple_cpc_number_dict"
      ],
      "metadata": {
        "id": "QmYpOZdV7J5H"
      },
      "execution_count": 73,
      "outputs": []
    },
    {
      "cell_type": "code",
      "source": [
        "# switch mode here\n",
        "MODE = 'SUB-CLASS'\n",
        "stat_dictionary = dict()\n",
        "result = cpc_num_stat(MODE, cpc_number_list, stat_dictionary)"
      ],
      "metadata": {
        "id": "3zBogov9CetY"
      },
      "execution_count": 74,
      "outputs": []
    },
    {
      "cell_type": "markdown",
      "source": [
        "Observe cluster Statistics in SUB-CLASS level"
      ],
      "metadata": {
        "id": "J1QctzZqCxwU"
      }
    },
    {
      "cell_type": "code",
      "source": [
        "print(result)"
      ],
      "metadata": {
        "colab": {
          "base_uri": "https://localhost:8080/"
        },
        "id": "QfbyjE0f669f",
        "outputId": "a3d32bfa-359c-4fc7-9acb-ecfbee18a7be"
      },
      "execution_count": 75,
      "outputs": [
        {
          "output_type": "stream",
          "name": "stdout",
          "text": [
            "{'G06F': 37, 'G09F': 2, 'H01L': 2, 'G09G': 9, 'H01P': 57, 'H04B': 56, 'H01B': 9, 'H01Q': 10, 'G01R': 2, 'G01L': 2}\n"
          ]
        }
      ]
    },
    {
      "cell_type": "markdown",
      "source": [
        "Observe in finer grained SUB-GROUP level"
      ],
      "metadata": {
        "id": "1r2f2_LKC-_Z"
      }
    },
    {
      "cell_type": "code",
      "source": [
        "# switch mode here\n",
        "MODE = 'SUB-GROUP'\n",
        "stat_dictionary = dict()\n",
        "result = cpc_num_stat(MODE, cpc_number_list, stat_dictionary)"
      ],
      "metadata": {
        "id": "Lkkksm-oDNKL"
      },
      "execution_count": 76,
      "outputs": []
    },
    {
      "cell_type": "code",
      "source": [
        "print(result)"
      ],
      "metadata": {
        "colab": {
          "base_uri": "https://localhost:8080/"
        },
        "id": "rbo1VAZoDNVK",
        "outputId": "dd7f36fd-3590-430c-a6b9-7b2ca546df25"
      },
      "execution_count": 77,
      "outputs": [
        {
          "output_type": "stream",
          "name": "stdout",
          "text": [
            "{'G06F 1/189': 1, 'G06F 1/1652': 1, 'G06F 3/013': 1, 'G09F 9/30': 1, 'H01L 29/786': 1, 'G09F 9/00': 1, 'G06F 1/1643': 1, 'G06F 1/163': 1, 'G06F 1/1616': 1, 'G06F 1/1626': 1, 'G06F 1/1637': 1, 'G06F 3/0416': 1, 'G09G 2300/0842': 1, 'G06F 2203/04102': 1, 'G09G 3/3275': 1, 'G09G 3/3233': 1, 'G09G 2320/0666': 1, 'G06F 2203/04103': 1, 'G09G 2320/0247': 1, 'G09G 2360/144': 1, 'G09G 2330/021': 1, 'H01L 27/3276': 1, 'G09G 2310/0221': 1, 'G09G 2340/0435': 1, 'H01P 1/04': 1, 'H01P 3/16': 1, 'H01P 1/042': 1, 'H01P 5/087': 1, 'H01P 3/12': 1, 'H04B 3/52': 1, 'H01P 3/10': 1, 'H01P 3/122': 1, 'H01P 3/06': 1, 'H04B 3/00': 1, 'H01B 11/06': 1, 'H01P 11/002': 1, 'H01B 11/1808': 1, 'H01B 11/1834': 1, 'H04B 3/54': 1, 'H01P 11/006': 1, 'H01Q 1/50': 1, 'H01P 1/064': 1, 'H01P 1/02': 1, 'H01B 3/441': 1, 'H04B 5/00': 1, 'H01B 3/307': 1, 'H04B 3/32': 1, 'H04B 2203/5487': 1, 'H04B 2203/5425': 1, 'H04B 3/56': 1, 'G06F 3/0362': 1, 'G06F 3/04845': 1, 'G06F 3/0446': 1, 'G06F 3/03545': 1, 'G06F 3/0441': 1, 'G06F 3/0442': 1, 'G06F 3/0482': 1, 'G06F 3/04883': 1, 'G06F 3/0445': 1, 'G06F 3/04847': 1, 'H01Q 19/08': 1, 'H01Q 3/08': 1, 'H01Q 21/08': 1, 'H01P 5/08': 1, 'H01Q 13/24': 1, 'H01Q 21/205': 1, 'H01P 5/02': 1, 'H01Q 13/02': 1, 'H04B 3/58': 1, 'H01Q 21/064': 1, 'H01Q 1/12': 1, 'H04B 2203/5483': 1, 'H04B 2203/5441': 1, 'H04B 2203/5491': 1, 'H04B 3/48': 1, 'H04B 3/36': 1, 'H04B 2203/5479': 1, 'H01P 3/165': 1, 'G01R 27/2605': 1, 'G01L 1/146': 1, 'G06F 2203/04111': 1, 'G06F 2203/04106': 1, 'G06F 2203/04105': 1, 'G06F 2203/04112': 1}\n"
          ]
        }
      ]
    },
    {
      "cell_type": "markdown",
      "source": [
        "# iterate all class"
      ],
      "metadata": {
        "id": "98VY2U4MIo92"
      }
    },
    {
      "cell_type": "code",
      "source": [
        "# iterate each cluster number\n",
        "for cluster_num in cluster_unique:\n",
        "    print(f\"cluster number: {cluster_num}\")\n",
        "    single_cluster = df[df[\"cluster\"] == cluster_num]\n",
        "    cpc_number_list = single_cluster[\"cpc number\"].tolist()\n",
        "    # switch mode here\n",
        "    MODE = 'SUB-CLASS'\n",
        "    stat_dictionary = dict()\n",
        "    result = cpc_num_stat(MODE, cpc_number_list, stat_dictionary) \n",
        "    print(f\"CPC number stats in sub-class level: {result}\")\n",
        "    \n",
        "    result = None\n",
        "    # switch mode here\n",
        "    MODE = 'SUB-GROUP'\n",
        "    stat_dictionary = dict()\n",
        "    result = cpc_num_stat(MODE, cpc_number_list, stat_dictionary)    \n",
        "    print(f\"CPC number stats in sub-group level: {result}\\n\")        "
      ],
      "metadata": {
        "colab": {
          "base_uri": "https://localhost:8080/"
        },
        "id": "C9HGl0CgIoap",
        "outputId": "87919414-67cd-4f12-fbed-499ff5825e39"
      },
      "execution_count": 78,
      "outputs": [
        {
          "output_type": "stream",
          "name": "stdout",
          "text": [
            "cluster number: 0\n",
            "CPC number stats in sub-class level: {'G06F': 37, 'G09F': 2, 'H01L': 2, 'G09G': 9, 'H01P': 57, 'H04B': 56, 'H01B': 9, 'H01Q': 10, 'G01R': 2, 'G01L': 2}\n",
            "CPC number stats in sub-group level: {'G06F 1/189': 1, 'G06F 1/1652': 1, 'G06F 3/013': 1, 'G09F 9/30': 1, 'H01L 29/786': 1, 'G09F 9/00': 1, 'G06F 1/1643': 1, 'G06F 1/163': 1, 'G06F 1/1616': 1, 'G06F 1/1626': 1, 'G06F 1/1637': 1, 'G06F 3/0416': 1, 'G09G 2300/0842': 1, 'G06F 2203/04102': 1, 'G09G 3/3275': 1, 'G09G 3/3233': 1, 'G09G 2320/0666': 1, 'G06F 2203/04103': 1, 'G09G 2320/0247': 1, 'G09G 2360/144': 1, 'G09G 2330/021': 1, 'H01L 27/3276': 1, 'G09G 2310/0221': 1, 'G09G 2340/0435': 1, 'H01P 1/04': 1, 'H01P 3/16': 1, 'H01P 1/042': 1, 'H01P 5/087': 1, 'H01P 3/12': 1, 'H04B 3/52': 1, 'H01P 3/10': 1, 'H01P 3/122': 1, 'H01P 3/06': 1, 'H04B 3/00': 1, 'H01B 11/06': 1, 'H01P 11/002': 1, 'H01B 11/1808': 1, 'H01B 11/1834': 1, 'H04B 3/54': 1, 'H01P 11/006': 1, 'H01Q 1/50': 1, 'H01P 1/064': 1, 'H01P 1/02': 1, 'H01B 3/441': 1, 'H04B 5/00': 1, 'H01B 3/307': 1, 'H04B 3/32': 1, 'H04B 2203/5487': 1, 'H04B 2203/5425': 1, 'H04B 3/56': 1, 'G06F 3/0362': 1, 'G06F 3/04845': 1, 'G06F 3/0446': 1, 'G06F 3/03545': 1, 'G06F 3/0441': 1, 'G06F 3/0442': 1, 'G06F 3/0482': 1, 'G06F 3/04883': 1, 'G06F 3/0445': 1, 'G06F 3/04847': 1, 'H01Q 19/08': 1, 'H01Q 3/08': 1, 'H01Q 21/08': 1, 'H01P 5/08': 1, 'H01Q 13/24': 1, 'H01Q 21/205': 1, 'H01P 5/02': 1, 'H01Q 13/02': 1, 'H04B 3/58': 1, 'H01Q 21/064': 1, 'H01Q 1/12': 1, 'H04B 2203/5483': 1, 'H04B 2203/5441': 1, 'H04B 2203/5491': 1, 'H04B 3/48': 1, 'H04B 3/36': 1, 'H04B 2203/5479': 1, 'H01P 3/165': 1, 'G01R 27/2605': 1, 'G01L 1/146': 1, 'G06F 2203/04111': 1, 'G06F 2203/04106': 1, 'G06F 2203/04105': 1, 'G06F 2203/04112': 1}\n",
            "\n",
            "cluster number: 1\n",
            "CPC number stats in sub-class level: {'H04B': 36, 'H02P': 2, 'H04W': 24, 'H04L': 24, 'H01P': 6, 'H01Q': 2}\n",
            "CPC number stats in sub-group level: {'H04B 3/52': 1, 'H02P 29/40': 1, 'H04W 92/20': 1, 'H04W 56/001': 1, 'H04W 48/16': 1, 'H04W 24/02': 1, 'H04W 84/045': 1, 'H04W 88/08': 1, 'H04W 84/047': 1, 'H04L 12/2867': 1, 'H04B 1/38': 1, 'H04L 12/2878': 1, 'H04L 12/2898': 1, 'H04B 3/58': 1, 'H04B 3/544': 1, 'H04B 3/56': 1, 'H01P 3/16': 1, 'H04W 56/0025': 1, 'H01P 5/04': 1, 'H01Q 1/46': 1, 'H04L 12/6418': 1, 'H04B 1/40': 1, 'H04B 7/15507': 1, 'H04L 5/14': 1, 'H04B 7/15528': 1, 'H04L 5/0048': 1, 'H04L 5/0053': 1, 'H04B 7/022': 1, 'H04B 7/04': 1, 'H04B 3/54': 1, 'H04L 67/01': 1, 'H01P 3/10': 1, 'H04W 88/10': 1}\n",
            "\n",
            "cluster number: 2\n",
            "CPC number stats in sub-class level: {'G06F': 96, 'H05K': 6, 'H04M': 12, 'H01H': 69, 'F16M': 3, 'E05F': 3, 'G05B': 3, 'E05D': 3, 'E05Y': 3, 'Y10T': 9, 'Y02D': 3}\n",
            "CPC number stats in sub-group level: {'G06F 3/038': 1, 'G06F 3/041': 1, 'G06F 3/03545': 1, 'G06F 3/016': 1, 'G06F 3/0346': 1, 'G06F 3/0383': 1, 'H05K 5/0234': 1, 'H04M 1/0216': 1, 'H01H 13/703': 1, 'F16M 11/38': 1, 'H01H 13/785': 1, 'E05F 5/08': 1, 'H01H 13/14': 1, 'G06F 1/1637': 1, 'G06F 1/1669': 1, 'G06F 3/01': 1, 'H01H 13/82': 1, 'H01H 13/78': 1, 'H01H 13/702': 1, 'G06F 3/002': 1, 'H01H 13/704': 1, 'H05K 5/0226': 1, 'H04M 1/0254': 1, 'G06F 1/166': 1, 'G06F 1/1656': 1, 'G06F 1/1684': 1, 'G06F 3/023': 1, 'H01H 13/79': 1, 'G06F 3/0416': 1, 'G06F 1/1662': 1, 'H01H 11/00': 1, 'G06F 3/0219': 1, 'G06F 3/0233': 1, 'H01H 13/807': 1, 'H04M 1/72409': 1, 'G06F 1/1683': 1, 'G06F 3/0414': 1, 'G06F 1/1616': 1, 'G06F 1/1686': 1, 'G06F 3/0488': 1, 'G06F 3/04886': 1, 'G06F 11/3089': 1, 'G05B 11/01': 1, 'G06F 3/02': 1, 'G06F 9/541': 1, 'G06F 13/102': 1, 'G06F 1/1654': 1, 'G06F 3/0202': 1, 'E05D 11/1064': 1, 'G06F 1/1681': 1, 'G06F 1/1618': 1, 'G06F 3/0487': 1, 'E05Y 2201/46': 1, 'H01H 2203/058': 1, 'H01H 2213/016': 1, 'H01H 2217/01': 1, 'Y10T 16/551': 1, 'Y02D 10/00': 1, 'H04M 1/0245': 1, 'H01H 2205/006': 1, 'H01H 2217/006': 1, 'H01H 9/26': 1, 'H01H 2211/006': 1, 'H01H 2201/036': 1, 'H01H 2211/004': 1, 'Y10T 16/5401': 1, 'H01H 2227/032': 1, 'H01H 2217/004': 1, 'H01H 2203/02': 1, 'Y10T 29/49826': 1, 'H01H 2203/036': 1, 'G06F 3/0442': 1, 'G06F 3/0441': 1, 'G06F 3/0446': 1, 'G06F 3/046': 1}\n",
            "\n",
            "cluster number: 3\n",
            "CPC number stats in sub-class level: {'G06F': 84, 'H04N': 31, 'H04M': 10, 'G06T': 23, 'H04W': 20, 'G07C': 3, 'G08G': 1, 'H02M': 4, 'H02J': 6, 'Y02B': 1, 'H04L': 12, 'G06V': 12, 'A61B': 14, 'G16H': 8, 'G08B': 1, 'A61N': 9, 'Y02D': 5, 'G16Z': 2, 'Y02A': 1, 'G09G': 4, 'H04B': 3, 'A63F': 2, 'G03G': 5}\n",
            "CPC number stats in sub-group level: {'G06F 1/1641': 1, 'H04N 5/23216': 1, 'G06F 1/1647': 1, 'H04N 5/23245': 1, 'H04N 5/23293': 1, 'H04N 5/23219': 1, 'G06F 1/1652': 1, 'G06F 1/1637': 1, 'H04M 2250/16': 1, 'H04M 2250/12': 1, 'G06T 5/001': 1, 'G06F 30/27': 1, 'G06T 3/4069': 1, 'G06T 5/50': 1, 'G06T 3/4053': 1, 'H04M 1/72454': 1, 'H04W 4/80': 1, 'G07C 9/29': 1, 'H04W 4/021': 1, 'H04M 1/67': 1, 'H04M 1/72463': 1, 'H04W 48/16': 1, 'H04M 1/6075': 1, 'H04W 4/06': 1, 'G08G 1/017': 1, 'H04W 48/04': 1, 'H04W 4/40': 1, 'H04W 4/90': 1, 'G07C 2009/00793': 1, 'H04W 88/02': 1, 'G07C 9/00674': 1, 'H04W 4/02': 1, 'H04M 2250/02': 1, 'H04M 1/72412': 1, 'G06F 3/03545': 1, 'G06F 3/0383': 1, 'H04N 5/23296': 1, 'G06F 3/0488': 1, 'G06F 3/04845': 1, 'H04N 5/232933': 1, 'G06F 2203/0384': 1, 'G06F 2203/04807': 1, 'G06F 2203/04806': 1, 'G06F 3/046': 1, 'H02M 7/53875': 1, 'H02J 50/12': 1, 'H02M 7/5387': 1, 'H02J 50/80': 1, 'H02J 7/025': 1, 'H02M 7/53878': 1, 'H02J 50/10': 1, 'H02J 50/70': 1, 'H02J 7/342': 1, 'H02M 7/4815': 1, 'Y02B 70/10': 1, 'H04N 7/147': 1, 'H04N 5/2628': 1, 'G06F 3/017': 1, 'G06F 3/04817': 1, 'H04L 67/1021': 1, 'H04W 4/029': 1, 'H04W 4/70': 1, 'G06F 15/16': 1, 'G06F 9/5077': 1, 'H04L 67/12': 1, 'H04W 88/16': 1, 'G06F 9/5044': 1, 'G06F 9/5088': 1, 'H04L 67/10': 1, 'H04L 65/40': 1, 'G06F 9/4856': 1, 'G06F 9/45558': 1, 'G06F 2009/4557': 1, 'G06F 2009/45562': 1, 'H04N 19/80': 1, 'H04N 19/86': 1, 'H04N 19/176': 1, 'H04N 19/115': 1, 'H04N 19/172': 1, 'H04N 19/117': 1, 'H04N 19/134': 1, 'H04N 19/154': 1, 'G06T 5/00': 1, 'G06V 40/169': 1, 'G06T 3/40': 1, 'G06T 5/009': 1, 'G06T 2207/30201': 1, 'G06T 7/174': 1, 'G06T 2207/20081': 1, 'A61B 5/02433': 1, 'G06T 7/0012': 1, 'G06F 21/32': 1, 'A61B 5/0077': 1, 'G06V 40/45': 1, 'A61B 5/024': 1, 'A61B 2576/00': 1, 'G16H 30/40': 1, 'A61B 8/08': 1, 'G06F 16/258': 1, 'G16H 30/00': 1, 'G06F 16/50': 1, 'G16H 50/20': 1, 'G06T 2210/41': 1, 'H04W 60/005': 1, 'H04L 67/562': 1, 'G06F 3/016': 1, 'H04W 68/005': 1, 'G06F 3/04883': 1, 'H04L 67/04': 1, 'G06F 3/0304': 1, 'H04W 4/023': 1, 'G08B 6/00': 1, 'H04M 19/047': 1, 'G06F 3/01': 1, 'G06F 21/6227': 1, 'G06F 3/067': 1, 'G06F 3/0623': 1, 'G06F 21/6209': 1, 'G06F 21/6218': 1, 'G06F 3/064': 1, 'G06F 3/0482': 1, 'G06F 3/0483': 1, 'G06F 3/04842': 1, 'G06T 7/13': 1, 'G06T 7/73': 1, 'G06V 10/273': 1, 'G06V 40/161': 1, 'G06F 3/0481': 1, 'G06F 2203/04803': 1, 'H04N 1/40062': 1, 'H04N 1/17': 1, 'H04N 1/121': 1, 'H04N 1/2032': 1, 'H04N 1/4095': 1, 'A61N 1/37264': 1, 'A61N 1/37247': 1, 'A61N 1/3787': 1, 'H04W 52/0264': 1, 'H04L 43/16': 1, 'H04L 43/0817': 1, 'Y02D 30/70': 1, 'A61B 5/4809': 1, 'A61B 5/6898': 1, 'A61B 5/743': 1, 'A61B 5/14551': 1, 'G06F 3/015': 1, 'G16Z 99/00': 1, 'G06T 13/80': 1, 'A61B 5/1118': 1, 'G16H 20/10': 1, 'G06F 16/242': 1, 'G16H 20/13': 1, 'A61B 5/441': 1, 'G06V 20/693': 1, 'G16H 30/20': 1, 'Y02A 90/10': 1, 'A61B 5/443': 1, 'A61B 5/445': 1, 'G06V 20/00': 1, 'G06V 10/17': 1, 'G06V 10/235': 1, 'G06F 21/44': 1, 'H04L 63/123': 1, 'G06F 12/1408': 1, 'G06F 2212/1052': 1, 'H04L 63/0428': 1, 'G06F 3/1446': 1, 'G09G 5/393': 1, 'G06F 3/1438': 1, 'G09G 5/395': 1, 'G09G 2340/0407': 1, 'G06F 1/163': 1, 'G06F 3/0484': 1, 'G06F 3/044': 1, 'G06F 2203/04101': 1, 'G06T 3/60': 1, 'G06F 2203/04104': 1, 'G06F 2203/04808': 1, 'G06F 3/04186': 1, 'G06F 3/0445': 1, 'G06F 3/0446': 1, 'G06F 3/0416': 1, 'G06F 3/0447': 1, 'G06F 2203/04105': 1, 'G06F 2203/04106': 1, 'G06V 30/414': 1, 'G09G 5/373': 1, 'G06V 10/24': 1, 'G06T 7/12': 1, 'G06V 10/44': 1, 'G06V 10/247': 1, 'G06F 3/042': 1, 'A61N 1/0551': 1, 'A61N 1/37211': 1, 'A61N 1/36185': 1, 'A61N 1/36142': 1, 'H04N 5/2352': 1, 'H04N 5/243': 1, 'H04N 5/3532': 1, 'H04B 10/1143': 1, 'H04B 10/116': 1, 'H04B 10/541': 1, 'H04N 5/2351': 1, 'H04N 5/23206': 1, 'H04N 5/2353': 1, 'G06F 1/3203': 1, 'G06F 1/329': 1, 'A63F 2300/6081': 1, 'Y02D 50/20': 1, 'Y02D 10/24': 1, 'Y02D 10/00': 1, 'A63F 2300/636': 1, 'Y02D 30/50': 1, 'G03G 15/5016': 1, 'G03G 15/502': 1, 'G03G 15/5087': 1, 'G03G 2215/00109': 1, 'H04N 1/3875': 1, 'G06F 15/0225': 1, 'G03G 15/01': 1}\n",
            "\n",
            "cluster number: 4\n",
            "CPC number stats in sub-class level: {'G06F': 46, 'H04L': 5, 'H04W': 1, 'H01P': 23, 'H03J': 5, 'H02J': 2, 'G06K': 5, 'H03H': 1, 'G02B': 6, 'H04B': 7, 'H01H': 8, 'H04M': 3, 'H01Q': 3, 'H04R': 1, 'G09G': 14, 'A61N': 5, 'G16Z': 1, 'G16H': 1}\n",
            "CPC number stats in sub-group level: {'G06F 3/0383': 1, 'G06F 3/0412': 1, 'G06F 3/0445': 1, 'G06F 3/04162': 1, 'G06F 2203/0382': 1, 'H04L 12/2809': 1, 'H04L 12/2803': 1, 'G06F 3/0482': 1, 'G06F 1/1694': 1, 'G06F 3/0488': 1, 'G06F 3/0346': 1, 'G06F 3/04883': 1, 'G06F 3/0485': 1, 'G06F 3/0481': 1, 'H04L 12/2816': 1, 'H04L 12/12': 1, 'H04W 88/02': 1, 'G06F 3/0483': 1, 'H04L 12/2814': 1, 'G06F 3/04847': 1, 'G06F 3/04817': 1, 'G06F 2200/1614': 1, 'G06F 2200/1637': 1, 'H01P 3/12': 1, 'H01P 3/10': 1, 'H01P 5/087': 1, 'H01P 5/12': 1, 'H01P 5/00': 1, 'H03J 7/04': 1, 'H02J 50/20': 1, 'G06K 7/10198': 1, 'H03J 5/24': 1, 'G06K 7/10297': 1, 'H02J 50/12': 1, 'G06K 7/10148': 1, 'H03H 19/004': 1, 'H03J 5/246': 1, 'G06K 7/10336': 1, 'H03J 2200/29': 1, 'G06K 19/0726': 1, 'H03J 2200/35': 1, 'G02B 6/02': 1, 'H01P 3/16': 1, 'H01P 3/122': 1, 'G02B 6/4401': 1, 'G02B 6/3829': 1, 'H01P 1/16': 1, 'H04B 3/52': 1, 'G06F 3/04842': 1, 'G06F 3/04886': 1, 'H01H 50/002': 1, 'H01H 47/223': 1, 'H01H 50/546': 1, 'H01H 9/563': 1, 'G06F 1/1652': 1, 'G06F 1/1681': 1, 'H04M 1/0216': 1, 'G06F 1/1616': 1, 'H04M 1/0268': 1, 'G06F 1/1626': 1, 'H04M 1/022': 1, 'H01Q 13/24': 1, 'H04B 5/0018': 1, 'H01Q 19/062': 1, 'H01Q 19/09': 1, 'H04R 2420/07': 1, 'H04B 3/54': 1, 'H04B 3/00': 1, 'H04B 2203/5441': 1, 'G06F 3/046': 1, 'G06F 3/0416': 1, 'G06F 3/04182': 1, 'G06F 3/04166': 1, 'G06F 3/0446': 1, 'G06F 3/0442': 1, 'G09G 3/36': 1, 'G06F 3/03545': 1, 'G06F 2203/04106': 1, 'G06F 2203/04101': 1, 'A61N 1/37211': 1, 'A61N 1/37247': 1, 'G16Z 99/00': 1, 'A61N 1/0551': 1, 'A61N 1/36185': 1, 'A61N 1/3605': 1, 'G16H 40/63': 1, 'G09G 3/3648': 1, 'G09G 3/3275': 1, 'G09G 3/3266': 1, 'G09G 2300/0861': 1, 'G09G 2330/021': 1, 'G09G 2300/0426': 1, 'G09G 2310/04': 1, 'G09G 2300/0828': 1, 'G09G 2320/103': 1, 'G09G 2300/0809': 1, 'G09G 2300/0857': 1, 'G09G 2320/0242': 1, 'G09G 2330/022': 1, 'G06F 3/0418': 1, 'G06F 3/038': 1, 'G06F 2203/0384': 1}\n",
            "\n",
            "cluster number: 5\n",
            "CPC number stats in sub-class level: {'G06F': 56, 'G06Q': 15, 'H04M': 67, 'G06T': 1, 'G09G': 14, 'H04L': 33, 'H04W': 22, 'A61B': 24, 'G06V': 4, 'B60Q': 1, 'G08B': 3, 'H04B': 1, 'G10L': 1, 'H04N': 13}\n",
            "CPC number stats in sub-group level: {'G06F 3/04842': 1, 'G06F 16/24573': 1, 'G06F 3/0482': 1, 'G06F 16/9577': 1, 'G06F 16/9535': 1, 'G06F 16/24578': 1, 'G06Q 30/0205': 1, 'G06Q 30/08': 1, 'G06F 16/435': 1, 'G06F 16/24575': 1, 'G06F 16/2358': 1, 'G06F 16/9537': 1, 'H04M 1/724': 1, 'G06F 3/0488': 1, 'G06F 3/0481': 1, 'G06F 2203/04101': 1, 'G06F 2203/04804': 1, 'G06F 1/1626': 1, 'G06F 1/1698': 1, 'H04M 1/72412': 1, 'G06F 3/147': 1, 'G06F 1/1601': 1, 'G06T 3/60': 1, 'G06F 3/1454': 1, 'G09G 2340/0492': 1, 'H04M 2250/04': 1, 'G06F 2200/1614': 1, 'G06F 3/0202': 1, 'G06F 3/0383': 1, 'G06F 3/03545': 1, 'G06F 3/038': 1, 'H04M 1/0254': 1, 'G06F 2203/0384': 1, 'H04M 19/04': 1, 'H04L 51/02': 1, 'H04L 51/046': 1, 'H04L 51/216': 1, 'H04L 51/234': 1, 'H04M 3/42093': 1, 'H04M 3/42382': 1, 'H04L 51/00': 1, 'H04M 3/436': 1, 'H04M 3/42374': 1, 'H04W 4/12': 1, 'H04M 2250/60': 1, 'H04M 1/663': 1, 'H04M 2203/651': 1, 'H04M 2207/18': 1, 'H04M 1/72436': 1, 'H04W 4/023': 1, 'H04W 4/60': 1, 'H04M 3/42': 1, 'H04L 51/222': 1, 'H04W 4/14': 1, 'H04L 51/18': 1, 'H04L 51/06': 1, 'H04W 88/02': 1, 'A61B 5/4261': 1, 'A61B 10/007': 1, 'A61B 5/0205': 1, 'A61B 5/443': 1, 'A61B 5/0024': 1, 'A61B 5/4035': 1, 'A61B 5/7278': 1, 'A61B 5/4266': 1, 'A61B 5/0002': 1, 'A61B 5/4277': 1, 'A61B 10/0064': 1, 'A61B 5/02055': 1, 'A61B 10/0051': 1, 'A61B 5/14532': 1, 'A61B 2010/0067': 1, 'A61B 5/01': 1, 'A61B 5/02416': 1, 'A61B 5/082': 1, 'A61B 3/101': 1, 'A61B 5/0533': 1, 'A61B 3/112': 1, 'A61B 5/02007': 1, 'A61B 5/112': 1, 'A61B 5/024': 1, 'G06Q 20/10': 1, 'G06Q 20/3278': 1, 'G06Q 20/382': 1, 'H04L 2209/38': 1, 'G06Q 2220/00': 1, 'G06V 30/1456': 1, 'G06V 10/235': 1, 'G06V 30/387': 1, 'G06F 40/284': 1, 'G06F 16/248': 1, 'G06V 30/10': 1, 'H04W 4/48': 1, 'H04L 67/12': 1, 'H04M 1/72463': 1, 'H04W 4/029': 1, 'H04L 67/125': 1, 'H04W 4/46': 1, 'H04W 4/16': 1, 'H04W 4/027': 1, 'H04M 1/72454': 1, 'B60Q 9/00': 1, 'H04M 2250/12': 1, 'G08B 5/22': 1, 'G08B 7/06': 1, 'G09G 3/20': 1, 'G08B 21/18': 1, 'G06F 1/163': 1, 'G09G 3/00': 1, 'G09G 3/035': 1, 'G06F 3/04886': 1, 'H04B 2001/3861': 1, 'G09G 2340/145': 1, 'H04M 2250/22': 1, 'H04M 1/72484': 1, 'G09G 2354/00': 1, 'H04L 51/224': 1, 'H04M 1/72427': 1, 'H04M 1/7243': 1, 'G09G 2380/00': 1, 'G06F 21/6272': 1, 'H04L 67/1095': 1, 'H04L 63/102': 1, 'H04L 67/1097': 1, 'H04L 67/306': 1, 'G06F 21/6218': 1, 'G06F 21/6236': 1, 'G06F 16/10': 1, 'G06F 17/30067': 1, 'G06F 2221/2141': 1, 'H04W 36/0016': 1, 'G10L 19/008': 1, 'H04L 41/22': 1, 'H04M 1/2757': 1, 'H04M 1/6075': 1, 'H04N 1/00344': 1, 'H04N 1/00206': 1, 'H04N 1/32534': 1, 'H04N 1/0022': 1, 'H04L 61/106': 1, 'H04L 67/10': 1, 'H04N 1/00244': 1, 'H04N 1/32117': 1, 'H04N 1/32': 1, 'H04N 2201/3208': 1, 'H04N 2201/3209': 1, 'H04N 2201/0093': 1, 'H04N 2201/0039': 1, 'H04N 2201/3205': 1, 'H04N 2201/0094': 1, 'G06Q 30/0282': 1, 'H04M 1/72433': 1, 'G06Q 30/02': 1, 'G06Q 10/00': 1, 'G09G 3/344': 1, 'G06F 3/14': 1, 'G06F 3/046': 1, 'G06F 21/31': 1, 'G09G 2310/0245': 1, 'G09G 2380/14': 1, 'G09G 2300/0426': 1, 'G09G 2300/08': 1, 'G06F 21/36': 1, 'G06F 3/0412': 1, 'G06Q 30/0639': 1, 'G06Q 40/04': 1, 'G06Q 30/06': 1}\n",
            "\n",
            "cluster number: 6\n",
            "CPC number stats in sub-class level: {'H01Q': 18, 'H01P': 10, 'H04B': 27, 'F24F': 4, 'G05B': 2, 'G05D': 1, 'H01F': 8, 'H02J': 2, 'H04W': 1, 'G01R': 1, 'H04M': 6, 'G09G': 9, 'G06F': 4, 'G06Q': 1}\n",
            "CPC number stats in sub-group level: {'H01Q 1/50': 1, 'H01Q 13/06': 1, 'H01Q 25/04': 1, 'H01P 1/10': 1, 'H01Q 13/08': 1, 'H01Q 15/14': 1, 'H01Q 13/26': 1, 'H04B 3/52': 1, 'H01P 5/026': 1, 'F24F 11/62': 1, 'F24F 11/46': 1, 'F24F 11/523': 1, 'F24F 11/65': 1, 'G05B 13/041': 1, 'G05D 23/1904': 1, 'G05B 2219/2642': 1, 'H04B 3/56': 1, 'H04B 3/50': 1, 'H01F 38/14': 1, 'H01P 3/10': 1, 'H04B 3/36': 1, 'H02J 50/10': 1, 'H04B 3/46': 1, 'H01F 27/28': 1, 'H01P 3/16': 1, 'H01F 27/24': 1, 'H04B 2203/5479': 1, 'H04B 2203/5408': 1, 'H04B 2203/5445': 1, 'H04B 2203/5483': 1, 'H04B 2203/5441': 1, 'H04W 24/06': 1, 'H04B 17/23': 1, 'H04B 17/318': 1, 'H04B 17/0085': 1, 'H04B 17/103': 1, 'G01R 29/10': 1, 'H04M 1/0264': 1, 'H04M 1/72448': 1, 'H04M 1/56': 1, 'H04M 1/57': 1, 'H04M 2250/20': 1, 'H04M 1/233': 1, 'G09G 3/344': 1, 'G09G 2310/0267': 1, 'G09G 3/2074': 1, 'G09G 2300/0809': 1, 'G09G 2300/08': 1, 'G09G 2300/0857': 1, 'G09G 2310/0275': 1, 'G09G 2330/021': 1, 'G09G 2310/027': 1, 'H01F 7/0273': 1, 'H01F 13/006': 1, 'G06F 3/033': 1, 'G06Q 10/10': 1, 'G06F 3/0483': 1, 'G06F 3/04817': 1, 'G06F 40/169': 1}\n",
            "\n",
            "cluster number: 7\n",
            "CPC number stats in sub-class level: {'H01Q': 40, 'H05K': 25, 'H04N': 12, 'G06F': 78, 'H04M': 25, 'H01F': 4, 'H04R': 12, 'H04W': 3, 'G10K': 1, 'H01L': 7, 'H01R': 4, 'H02J': 6, 'H04B': 12, 'H02K': 3, 'G02B': 2, 'G01B': 1, 'G09G': 1, 'Y02E': 1, 'G06V': 2, 'G06Q': 1, 'G06K': 1}\n",
            "CPC number stats in sub-group level: {'H01Q 1/38': 1, 'H01Q 1/02': 1, 'H01Q 21/065': 1, 'H01Q 1/2283': 1, 'H01Q 21/28': 1, 'H01Q 1/526': 1, 'H01Q 21/062': 1, 'H01Q 1/243': 1, 'H05K 1/189': 1, 'H04N 5/2257': 1, 'G06F 1/1686': 1, 'H05K 1/028': 1, 'G06F 1/1626': 1, 'H04N 5/2252': 1, 'H04N 5/2258': 1, 'H05K 2201/10356': 1, 'H05K 2201/10151': 1, 'H05K 2201/10121': 1, 'H05K 2201/10189': 1, 'G06F 1/1624': 1, 'G06F 1/1656': 1, 'G06F 1/1652': 1, 'G06F 1/1681': 1, 'G06F 1/1641': 1, 'G06F 1/169': 1, 'G06F 1/1643': 1, 'G06F 3/03545': 1, 'G06F 1/1616': 1, 'G06F 1/1677': 1, 'H04M 1/0264': 1, 'H04M 1/0237': 1, 'H04M 1/0268': 1, 'G06F 1/1618': 1, 'H05K 5/0217': 1, 'H01F 7/0252': 1, 'H04M 1/0216': 1, 'H01F 7/02': 1, 'H01F 27/366': 1, 'H05K 5/0226': 1, 'H05K 9/0007': 1, 'H05K 5/0017': 1, 'H04M 1/0283': 1, 'H01Q 1/521': 1, 'H01Q 7/00': 1, 'H01Q 13/103': 1, 'H01Q 5/364': 1, 'H01Q 1/48': 1, 'H01Q 13/10': 1, 'H01Q 5/385': 1, 'H01Q 9/0421': 1, 'H04M 1/026': 1, 'H04R 1/2803': 1, 'H04M 1/035': 1, 'H04R 1/2842': 1, 'H04M 2250/12': 1, 'H04R 2201/028': 1, 'H04R 2499/11': 1, 'H04R 1/345': 1, 'H04W 4/40': 1, 'G06F 2200/1632': 1, 'H04M 1/72412': 1, 'H04W 4/021': 1, 'G06F 3/044': 1, 'H04M 1/725': 1, 'H04W 4/80': 1, 'H04M 1/0202': 1, 'G06F 2203/04102': 1, 'G06F 3/0412': 1, 'G06F 2203/04103': 1, 'G06F 2203/04105': 1, 'G06F 3/16': 1, 'H04M 1/0266': 1, 'G10K 9/122': 1, 'G06F 1/1637': 1, 'G06F 1/1688': 1, 'G06F 1/1605': 1, 'H01L 27/3225': 1, 'H04R 2440/05': 1, 'H04R 17/00': 1, 'H04R 7/04': 1, 'H01R 13/2435': 1, 'H01R 12/73': 1, 'H05K 1/182': 1, 'H01R 12/718': 1, 'H01Q 5/307': 1, 'H01R 2201/16': 1, 'H05K 2201/10295': 1, 'H01Q 21/30': 1, 'H05K 2201/10265': 1, 'H05K 2201/10037': 1, 'H02J 50/70': 1, 'H02J 50/10': 1, 'H02J 50/80': 1, 'H01Q 7/005': 1, 'H02J 50/40': 1, 'H04B 5/0056': 1, 'H04B 5/0075': 1, 'H02K 41/0356': 1, 'G02B 7/08': 1, 'H04N 5/2254': 1, 'H04N 5/23287': 1, 'G02B 27/646': 1, 'H02K 16/00': 1, 'G01B 7/003': 1, 'H02K 41/00': 1, 'H02J 50/12': 1, 'H02J 50/005': 1, 'H04B 5/0081': 1, 'H04B 5/0031': 1, 'H04B 5/0037': 1, 'H01L 27/323': 1, 'G06F 3/041': 1, 'H04M 1/0235': 1, 'H01L 27/3244': 1, 'G06F 1/1601': 1, 'H01L 51/0097': 1, 'H01L 51/524': 1, 'G06F 3/0488': 1, 'H01L 27/3234': 1, 'H04M 1/0245': 1, 'G06F 1/163': 1, 'H01L 2251/5338': 1, 'G09G 2354/00': 1, 'Y02E 10/549': 1, 'G06V 40/1306': 1, 'G06F 3/046': 1, 'G06F 3/04146': 1, 'G06F 3/045': 1, 'G06F 3/04164': 1, 'G06F 2203/04107': 1, 'G06V 40/12': 1, 'G06Q 20/3278': 1, 'H01Q 7/06': 1, 'H04B 5/02': 1, 'H04B 5/0087': 1, 'H01F 2038/143': 1, 'G06F 3/0485': 1, 'G06F 3/04883': 1, 'G06F 3/0447': 1, 'G06F 2203/04806': 1, 'G06F 3/0445': 1, 'G06F 3/0414': 1, 'G06F 3/0443': 1, 'G06K 19/07779': 1, 'G06F 1/1635': 1, 'H01Q 1/2266': 1, 'G06F 3/039': 1, 'H04M 1/15': 1, 'H04M 1/04': 1, 'H04B 1/3888': 1, 'H01Q 9/42': 1, 'H01Q 5/35': 1, 'H01Q 13/106': 1, 'H04B 5/0025': 1, 'H04M 2250/04': 1, 'H04B 1/3827': 1, 'G06F 1/1658': 1, 'G06F 1/1698': 1, 'H05K 5/069': 1, 'H04M 1/18': 1, 'H04R 1/2853': 1, 'H04R 1/02': 1, 'H05K 5/02': 1, 'H04N 5/64': 1, 'G06F 1/162': 1, 'G06F 1/1683': 1, 'H01Q 1/2258': 1, 'H01Q 1/125': 1, 'H01Q 1/084': 1, 'G06F 1/1622': 1, 'G06F 1/203': 1, 'H05K 7/20172': 1, 'H05K 1/0272': 1}\n",
            "\n",
            "cluster number: 8\n",
            "CPC number stats in sub-class level: {'A61B': 31, 'A61N': 2, 'H04W': 32, 'Y02D': 1, 'G06F': 195, 'H04B': 5, 'A63B': 4, 'H04L': 6, 'G09G': 5, 'H03F': 4, 'H04M': 5, 'H04R': 14, 'G10L': 3, 'G16H': 2, 'G06T': 1, 'B06B': 2, 'G11B': 4, 'G06V': 6, 'G08C': 3, 'G06Q': 9}\n",
            "CPC number stats in sub-group level: {'A61B 5/055': 1, 'A61N 5/1039': 1, 'A61N 2005/1074': 1, 'H04W 48/14': 1, 'H04W 52/02': 1, 'H04W 4/80': 1, 'H04W 8/005': 1, 'H04W 52/0206': 1, 'H04W 48/20': 1, 'H04W 88/06': 1, 'H04W 52/0229': 1, 'H04W 48/16': 1, 'H04W 84/12': 1, 'Y02D 30/70': 1, 'G06F 3/0416': 1, 'G06F 3/0442': 1, 'G06F 3/041': 1, 'G06F 3/044': 1, 'G06F 3/03545': 1, 'G06F 3/03': 1, 'G06F 3/0446': 1, 'G06F 3/0383': 1, 'G06F 2203/0384': 1, 'H04B 5/00': 1, 'A61B 5/1118': 1, 'A61B 5/01': 1, 'A61B 5/1116': 1, 'A61B 5/681': 1, 'A61B 5/1122': 1, 'A61B 5/024': 1, 'A61B 5/1124': 1, 'A61B 5/1123': 1, 'A63B 24/0006': 1, 'A61B 5/486': 1, 'A63B 24/0062': 1, 'A63B 2220/836': 1, 'A61B 2503/10': 1, 'A61B 5/02055': 1, 'A61B 5/053': 1, 'A61B 5/744': 1, 'A61B 2505/09': 1, 'A63B 2024/0071': 1, 'A61B 5/002': 1, 'A61B 2562/0219': 1, 'A61B 5/7435': 1, 'G06F 3/04817': 1, 'G06F 3/04883': 1, 'H04L 67/34': 1, 'G06F 16/168': 1, 'G06F 3/0484': 1, 'G06F 3/0482': 1, 'G06F 3/04886': 1, 'G06F 16/00': 1, 'G06F 1/3218': 1, 'G06F 3/0412': 1, 'G06F 3/00': 1, 'G06F 3/048': 1, 'G06F 3/0488': 1, 'G06F 3/01': 1, 'G09G 2330/021': 1, 'G06F 3/038': 1, 'G06F 3/0354': 1, 'G06F 3/04847': 1, 'G06F 3/0213': 1, 'G06F 3/1423': 1, 'G06F 3/0202': 1, 'G06F 3/0219': 1, 'G06F 3/02': 1, 'G09G 5/08': 1, 'G06F 3/017': 1, 'G06F 3/03547': 1, 'G09G 2354/00': 1, 'H03F 3/187': 1, 'H04M 1/6058': 1, 'H04R 1/10': 1, 'G10L 21/0232': 1, 'H04R 3/00': 1, 'H03F 3/45475': 1, 'H04M 9/08': 1, 'H04R 1/1016': 1, 'G10L 25/84': 1, 'H03F 3/20': 1, 'H04M 1/6008': 1, 'H04R 2410/03': 1, 'G10L 21/0208': 1, 'H03F 2200/03': 1, 'G06F 1/1643': 1, 'G06F 2203/0339': 1, 'H04W 12/06': 1, 'H04M 1/667': 1, 'H04W 8/183': 1, 'H04M 1/725': 1, 'H04W 12/48': 1, 'H04W 12/40': 1, 'H04W 88/02': 1, 'G06F 3/0418': 1, 'G06F 3/0441': 1, 'G06F 3/046': 1, 'G06F 3/04162': 1, 'G06F 3/04166': 1, 'G06F 2203/04104': 1, 'G06F 2203/04105': 1, 'G06F 2203/04108': 1, 'G06F 2203/04106': 1, 'G06F 3/0445': 1, 'G06F 40/171': 1, 'H04W 8/26': 1, 'H04W 76/10': 1, 'H04W 72/1215': 1, 'H04W 72/0453': 1, 'H04W 88/04': 1, 'G06F 1/163': 1, 'G06F 21/34': 1, 'H04W 4/00': 1, 'G06F 21/32': 1, 'G06F 1/1632': 1, 'G16H 10/00': 1, 'G16H 20/30': 1, 'A61B 5/0022': 1, 'G06F 1/1652': 1, 'A61B 5/021': 1, 'H04W 12/33': 1, 'H04L 63/0861': 1, 'A61B 5/318': 1, 'A61B 5/02416': 1, 'G06F 2221/2153': 1, 'H04B 7/0413': 1, 'H04B 7/0691': 1, 'H04B 7/0689': 1, 'H04B 7/0874': 1, 'G06T 3/20': 1, 'G06F 9/5088': 1, 'G06F 9/5077': 1, 'H04L 67/12': 1, 'G06F 9/45558': 1, 'G06F 9/5044': 1, 'G06F 9/4856': 1, 'H04W 4/029': 1, 'H04W 4/70': 1, 'H04W 88/16': 1, 'H04L 65/40': 1, 'H04L 67/10': 1, 'H04L 67/1021': 1, 'G06F 15/16': 1, 'G06F 2009/4557': 1, 'G06F 2009/45562': 1, 'B06B 1/0611': 1, 'H04R 17/00': 1, 'B06B 1/0603': 1, 'H04R 3/04': 1, 'H04R 2420/03': 1, 'H04R 2420/01': 1, 'H04R 2499/15': 1, 'H04R 2420/05': 1, 'H04R 2499/11': 1, 'H04R 3/12': 1, 'G06F 3/016': 1, 'G11B 3/46': 1, 'G11B 3/38': 1, 'G11B 9/00': 1, 'H04R 1/30': 1, 'G11B 3/006': 1, 'H04R 19/06': 1, 'A61B 5/0042': 1, 'A61B 5/02028': 1, 'A61B 5/14546': 1, 'A61B 5/6814': 1, 'A61B 5/0059': 1, 'A61B 2562/0233': 1, 'A61B 2562/046': 1, 'G06V 10/12': 1, 'G08C 21/00': 1, 'G06F 3/0321': 1, 'G06Q 20/10': 1, 'G06Q 40/00': 1, 'G06Q 20/102': 1, 'G06V 30/1423': 1, 'G06F 3/03542': 1, 'G06F 3/0386': 1}\n",
            "\n",
            "cluster number: 9\n",
            "CPC number stats in sub-class level: {'A61N': 13, 'A61B': 6, 'G16H': 1, 'G06T': 9, 'G09G': 5, 'H02J': 6, 'H01R': 1, 'G06F': 19, 'H01P': 10, 'H01Q': 3, 'H04B': 4, 'Y04S': 2, 'Y02B': 1, 'G10H': 5, 'H04N': 12, 'H04M': 8, 'B41J': 1, 'G01C': 1}\n",
            "CPC number stats in sub-group level: {'A61N 1/0551': 1, 'A61N 1/36125': 1, 'A61N 1/36135': 1, 'A61N 1/36175': 1, 'A61N 1/37247': 1, 'A61N 1/36185': 1, 'A61B 6/481': 1, 'A61B 6/5211': 1, 'G16H 50/20': 1, 'G06T 7/33': 1, 'A61B 6/487': 1, 'G06T 7/0016': 1, 'A61B 6/504': 1, 'G06T 7/97': 1, 'A61B 6/4441': 1, 'G06T 2207/10016': 1, 'G06T 7/0012': 1, 'A61B 6/545': 1, 'G06T 2207/10116': 1, 'G06T 2207/20081': 1, 'G06T 2207/20084': 1, 'G06T 2207/30101': 1, 'G09G 3/2081': 1, 'G09G 5/10': 1, 'G09G 2320/064': 1, 'G09G 2320/0633': 1, 'G09G 2320/0613': 1, 'H02J 50/10': 1, 'H01R 31/065': 1, 'G06F 9/4413': 1, 'H02J 7/025': 1, 'G06F 1/266': 1, 'G06F 3/03545': 1, 'G06F 1/1656': 1, 'H02J 7/0042': 1, 'G06F 13/102': 1, 'G06F 1/3287': 1, 'G06F 2200/1632': 1, 'A61N 1/36178': 1, 'A61N 1/36071': 1, 'A61N 1/36164': 1, 'A61N 1/36139': 1, 'A61N 1/36132': 1, 'H01P 3/16': 1, 'H01P 5/087': 1, 'H01Q 13/20': 1, 'H01P 5/08': 1, 'H04B 3/52': 1, 'H01P 3/122': 1, 'H01P 3/10': 1, 'H01P 3/12': 1, 'H01P 5/02': 1, 'H01P 1/16': 1, 'H01Q 13/08': 1, 'H01Q 13/26': 1, 'H04B 3/56': 1, 'G06F 3/016': 1, 'H02J 13/00007': 1, 'H04B 3/54': 1, 'H01P 1/30': 1, 'H02J 13/00017': 1, 'Y04S 40/124': 1, 'Y02B 90/20': 1, 'H02J 13/00': 1, 'Y04S 40/121': 1, 'G10H 1/42': 1, 'G10H 7/02': 1, 'G10H 2250/641': 1, 'G10H 2220/126': 1, 'G10H 2220/096': 1, 'H04N 1/32778': 1, 'H04M 3/42': 1, 'B41J 3/445': 1, 'H04N 1/00204': 1, 'H04M 1/27475': 1, 'H04M 1/2755': 1, 'H04N 1/00244': 1, 'H04N 1/00326': 1, 'H04N 1/00968': 1, 'H04M 1/72412': 1, 'H04N 1/00392': 1, 'H04N 1/32122': 1, 'H04M 1/72409': 1, 'G06F 3/0321': 1, 'H04M 1/72445': 1, 'H04N 2201/0082': 1, 'H04N 1/00307': 1, 'H04N 2201/3269': 1, 'H04N 1/32133': 1, 'H04N 2201/3247': 1, 'H04M 7/0015': 1, 'H04M 2250/12': 1, 'G01C 21/3664': 1, 'G06F 3/04883': 1, 'G06F 3/0481': 1, 'G06F 2203/04806': 1, 'G06F 1/1616': 1, 'G06F 1/169': 1, 'G06F 3/038': 1, 'G06F 3/04817': 1, 'G06F 3/0483': 1}\n",
            "\n",
            "cluster number: 10\n",
            "CPC number stats in sub-class level: {'G06F': 144, 'G06V': 14, 'G06K': 2, 'H03K': 7, 'G09G': 18, 'F24F': 3, 'H05B': 1, 'G02B': 1, 'Y02B': 1, 'Y02D': 1, 'G06Q': 10, 'H04M': 13, 'A47G': 7, 'G09F': 1, 'G16H': 1, 'A61B': 10, 'H04N': 3, 'H04B': 3, 'G06T': 1, 'A61N': 3, 'G04G': 3, 'G01C': 5, 'G07C': 4, 'G08C': 5, 'B60R': 1, 'B60K': 8, 'B62D': 1, 'A63F': 18}\n",
            "CPC number stats in sub-group level: {'G06F 1/1643': 1, 'G06F 3/04162': 1, 'G06F 1/1607': 1, 'G06F 3/0488': 1, 'G06F 1/1626': 1, 'G06F 3/0487': 1, 'G06F 3/03545': 1, 'G06F 3/0481': 1, 'G06F 3/04845': 1, 'G06F 3/0485': 1, 'G06F 3/0482': 1, 'G06F 3/0484': 1, 'G06F 2203/0384': 1, 'G06F 2203/04807': 1, 'G06F 2203/04101': 1, 'G06F 2203/04804': 1, 'G06F 2200/1632': 1, 'G06V 40/67': 1, 'G06K 9/00': 1, 'G06F 3/04182': 1, 'G06F 1/16': 1, 'H03K 17/96': 1, 'G06F 3/0416': 1, 'G06F 3/046': 1, 'G06F 3/0202': 1, 'G06V 40/13': 1, 'G06F 21/32': 1, 'G06F 2203/04114': 1, 'G06F 2203/04107': 1, 'G09G 3/035': 1, 'G06F 3/04847': 1, 'G09G 5/373': 1, 'G06F 1/1652': 1, 'G06F 2203/04102': 1, 'G09G 2340/04': 1, 'G09G 2340/0407': 1, 'G09G 2320/08': 1, 'G09G 2380/02': 1, 'G09G 2340/0442': 1, 'G09G 2340/0464': 1, 'G09G 5/38': 1, 'G09G 3/20': 1, 'F24F 11/64': 1, 'G09G 5/10': 1, 'F24F 11/56': 1, 'F24F 11/523': 1, 'G09G 5/02': 1, 'H05B 47/11': 1, 'G09G 3/002': 1, 'G02B 6/0001': 1, 'G09G 2300/04': 1, 'G09G 2320/0666': 1, 'G09G 2360/144': 1, 'Y02B 20/40': 1, 'G06F 1/266': 1, 'G06F 1/1656': 1, 'G06F 3/0383': 1, 'G06F 1/3215': 1, 'G06F 1/1698': 1, 'G06F 1/3265': 1, 'G06F 21/35': 1, 'G06F 21/629': 1, 'G06F 3/039': 1, 'Y02D 10/00': 1, 'G06Q 20/405': 1, 'G06Q 20/32': 1, 'G06F 3/04883': 1, 'G06F 3/04842': 1, 'G06Q 20/40145': 1, 'G06Q 20/326': 1, 'G06V 40/28': 1, 'G06Q 20/352': 1, 'G06F 3/016': 1, 'G06V 40/12': 1, 'H04M 2250/22': 1, 'H04M 2250/02': 1, 'H04M 2250/04': 1, 'G06F 3/0418': 1, 'G06F 3/041': 1, 'H03K 2217/96038': 1, 'G06V 40/1318': 1, 'G06V 40/1306': 1, 'G06V 40/1365': 1, 'G06F 3/0421': 1, 'G06F 2203/04105': 1, 'G09G 3/3225': 1, 'G06F 3/04886': 1, 'G06F 3/04817': 1, 'G06F 3/0486': 1, 'G06F 3/04855': 1, 'G06F 3/167': 1, 'G06F 2203/0381': 1, 'A47G 19/2272': 1, 'G09F 23/08': 1, 'A47G 19/2227': 1, 'A47G 2200/143': 1, 'A47G 2200/166': 1, 'A47G 2019/2244': 1, 'A47G 2019/2238': 1, 'A47G 2019/225': 1, 'G16H 40/67': 1, 'A61B 5/6898': 1, 'A61B 5/4869': 1, 'A61B 5/0022': 1, 'A61B 5/0537': 1, 'A61B 5/4872': 1, 'A61B 5/024': 1, 'G06F 1/163': 1, 'A61B 5/14532': 1, 'A61B 5/01': 1, 'A61B 5/055': 1, 'A61B 5/4875': 1, 'G06V 20/62': 1, 'G06K 9/325': 1, 'H04N 5/23229': 1, 'G06Q 30/0635': 1, 'H04N 5/23293': 1, 'H04N 5/23203': 1, 'H04B 5/0062': 1, 'G06Q 20/3278': 1, 'G06V 10/10': 1, 'G06Q 20/3223': 1, 'G06Q 20/12': 1, 'G06Q 20/208': 1, 'G06T 19/006': 1, 'H04M 1/724': 1, 'G06F 1/1624': 1, 'G06F 1/1692': 1, 'H04M 1/0235': 1, 'G06F 2203/04803': 1, 'H04M 2250/16': 1, 'A61N 1/37247': 1, 'A61N 1/36071': 1, 'A61N 1/0551': 1, 'G06F 1/1613': 1, 'G06F 2203/04808': 1, 'G06F 3/033': 1, 'G06F 3/038': 1, 'G04G 21/06': 1, 'G01C 21/36': 1, 'G01C 21/3661': 1, 'G01C 21/3632': 1, 'G04G 21/02': 1, 'G01C 21/26': 1, 'H04B 2001/3861': 1, 'G01C 21/3667': 1, 'H04B 2001/3866': 1, 'G06F 3/0346': 1, 'G06F 3/017': 1, 'G06F 21/34': 1, 'G06F 21/36': 1, 'G06F 3/0442': 1, 'G06F 3/0441': 1, 'G06F 21/6209': 1, 'G06F 1/1684': 1, 'G06F 1/1647': 1, 'H04M 1/72409': 1, 'G06F 1/1628': 1, 'G06F 3/03': 1, 'G06F 2200/1634': 1, 'G06F 1/3262': 1, 'H04M 1/185': 1, 'G06F 3/00': 1, 'H04M 1/72412': 1, 'G04G 21/00': 1, 'H03K 17/941': 1, 'H03K 2217/94104': 1, 'H03K 2217/94111': 1, 'H03K 2217/94116': 1, 'H04M 2250/12': 1, 'G06F 1/1616': 1, 'G07C 9/00658': 1, 'G08C 17/02': 1, 'G07C 9/00563': 1, 'G07C 2209/64': 1, 'G08C 2201/20': 1, 'G08C 2201/91': 1, 'G08C 2201/93': 1, 'G07C 2009/00968': 1, 'G08C 2201/32': 1, 'G06V 20/59': 1, 'B60R 25/007': 1, 'B60K 37/06': 1, 'B60K 35/00': 1, 'B62D 1/04': 1, 'B60K 2370/1438': 1, 'B60K 2370/11': 1, 'B60K 2370/146': 1, 'B60K 2370/152': 1, 'G06F 2203/04806': 1, 'B60K 2370/736': 1, 'B60K 2370/782': 1, 'G06F 2203/0382': 1, 'A63F 13/2145': 1, 'A63F 13/28': 1, 'A63F 13/285': 1, 'A63F 13/00': 1, 'A63F 2300/1037': 1, 'A63F 2300/638': 1, 'A63F 2300/8029': 1, 'A63F 2300/1075': 1, 'A63F 2300/301': 1, 'G06F 3/044': 1, 'G06F 2203/04106': 1, 'G06F 3/047': 1, 'G06F 1/32': 1, 'G06F 1/1632': 1}\n",
            "\n",
            "cluster number: 11\n",
            "CPC number stats in sub-class level: {'H02J': 6, 'H02M': 3, 'G06F': 62, 'G06V': 2, 'A61B': 6, 'H04B': 12, 'H01Q': 9, 'H01P': 4, 'H04J': 1, 'H04W': 2, 'G09G': 8, 'G02F': 3, 'B06B': 1, 'A63F': 1, 'G09B': 1}\n",
            "CPC number stats in sub-group level: {'H02J 7/0029': 1, 'H02M 3/158': 1, 'H02J 7/007182': 1, 'H02J 7/00045': 1, 'H02J 7/00308': 1, 'G06F 1/266': 1, 'G06F 21/81': 1, 'H02M 3/1582': 1, 'H02M 1/0009': 1, 'H02J 7/00711': 1, 'H02J 2207/40': 1, 'G06F 3/0416': 1, 'G06F 3/04166': 1, 'G06F 3/167': 1, 'G06V 40/1306': 1, 'A61B 5/6898': 1, 'A61B 5/743': 1, 'G06F 3/0488': 1, 'A61B 5/14551': 1, 'A61B 5/684': 1, 'G06V 40/1347': 1, 'A61B 5/7246': 1, 'A61B 5/7221': 1, 'G06F 3/044': 1, 'H04B 3/56': 1, 'H01Q 1/525': 1, 'H01Q 1/46': 1, 'H01P 3/16': 1, 'H01P 5/087': 1, 'H04B 3/46': 1, 'H01Q 13/02': 1, 'H04B 1/7174': 1, 'H01Q 23/00': 1, 'H04B 3/52': 1, 'H04B 1/719': 1, 'H04B 1/7163': 1, 'H01Q 21/20': 1, 'H04J 3/10': 1, 'H04B 3/32': 1, 'H04W 16/26': 1, 'H04B 2203/5479': 1, 'H04B 2203/5487': 1, 'H01P 3/10': 1, 'H01Q 1/1207': 1, 'H04B 2203/5491': 1, 'H04W 88/08': 1, 'H04B 2203/5441': 1, 'H01P 5/08': 1, 'G06F 3/04164': 1, 'G06F 3/0441': 1, 'G06F 3/038': 1, 'G06F 3/03545': 1, 'G06F 3/0447': 1, 'G06F 3/0442': 1, 'G06F 3/0446': 1, 'G06F 2203/04105': 1, 'G06F 2203/04104': 1, 'G06F 2203/04106': 1, 'H01Q 21/0006': 1, 'H01Q 13/0275': 1, 'H01Q 13/0258': 1, 'G06F 3/0445': 1, 'G06F 3/0412': 1, 'G06F 3/046': 1, 'G06F 3/147': 1, 'G09G 3/36': 1, 'G09G 3/3648': 1, 'G09G 2310/08': 1, 'G02F 1/13338': 1, 'G02F 1/133553': 1, 'G02F 1/133345': 1, 'G06F 1/3262': 1, 'G09G 3/3611': 1, 'G09G 3/20': 1, 'G09G 2310/027': 1, 'G09G 2310/0289': 1, 'G06F 2203/04103': 1, 'G09G 2310/0291': 1, 'G06F 3/04162': 1, 'G06F 3/0383': 1, 'G06F 2203/04112': 1, 'G06F 3/045': 1, 'B06B 1/0629': 1, 'G06F 3/041': 1, 'G06F 3/016': 1, 'G06F 2203/04808': 1, 'A63F 2300/1037': 1, 'G09B 21/004': 1}\n",
            "\n",
            "cluster number: 12\n",
            "CPC number stats in sub-class level: {'G16H': 4, 'G06F': 90, 'H04B': 2, 'H04N': 29, 'G06T': 15, 'A61B': 7, 'H01F': 10, 'H01R': 8, 'Y10T': 5, 'H04W': 45, 'H04M': 47, 'G07C': 15, 'G08G': 5, 'G09G': 4, 'Y02D': 2, 'G06Q': 5, 'H04L': 4, 'F16M': 1, 'E05D': 1, 'H05K': 2, 'G05B': 1, 'H01H': 23, 'E05F': 1, 'E05Y': 1, 'H01Q': 2, 'B41J': 2, 'Y10S': 1, 'G06K': 80}\n",
            "CPC number stats in sub-group level: {'G16H 40/63': 1, 'G16H 30/20': 1, 'G06F 3/04847': 1, 'G16H 50/70': 1, 'G06F 3/0488': 1, 'G06F 3/0482': 1, 'H04B 10/516': 1, 'H04N 5/2353': 1, 'H04B 10/116': 1, 'G06T 11/60': 1, 'A61B 5/08': 1, 'G06T 17/20': 1, 'A61B 6/5223': 1, 'G06T 7/0012': 1, 'A61B 6/50': 1, 'A61B 34/10': 1, 'G06T 11/001': 1, 'G06T 7/11': 1, 'G06T 7/187': 1, 'A61B 6/5217': 1, 'G16H 50/30': 1, 'A61B 6/032': 1, 'G06T 2207/10088': 1, 'G06T 2207/30061': 1, 'G06T 2207/10081': 1, 'A61B 2034/105': 1, 'G06T 2207/10132': 1, 'G06T 2207/20081': 1, 'G06T 2207/10116': 1, 'G06T 2207/20072': 1, 'G06T 2207/20084': 1, 'G06T 2207/20044': 1, 'H01F 27/04': 1, 'H01R 13/719': 1, 'H01F 27/06': 1, 'H01F 27/306': 1, 'H01F 27/292': 1, 'H01F 27/2828': 1, 'H01F 41/10': 1, 'H01R 13/00': 1, 'H01R 43/01': 1, 'H01F 27/2823': 1, 'H01R 2107/00': 1, 'H01R 43/0221': 1, 'H01R 4/027': 1, 'Y10T 29/49194': 1, 'H01F 2017/0093': 1, 'H01F 2027/065': 1, 'H01R 24/64': 1, 'H01F 17/062': 1, 'H01R 4/023': 1, 'H04W 4/021': 1, 'H04W 4/06': 1, 'H04W 48/04': 1, 'H04M 1/72463': 1, 'H04M 1/72454': 1, 'H04M 1/67': 1, 'H04M 1/6075': 1, 'H04W 48/16': 1, 'G07C 9/29': 1, 'H04W 4/80': 1, 'G08G 1/017': 1, 'G07C 9/00674': 1, 'H04W 4/02': 1, 'H04M 1/72412': 1, 'H04W 4/40': 1, 'G07C 2009/00793': 1, 'H04W 88/02': 1, 'H04W 4/90': 1, 'H04M 2250/02': 1, 'G06F 3/0446': 1, 'G06F 3/0412': 1, 'G09G 3/20': 1, 'G06F 1/3228': 1, 'G06F 3/0443': 1, 'G06F 1/3262': 1, 'G06F 3/0416': 1, 'G06F 3/0418': 1, 'G06F 3/045': 1, 'G06F 3/03547': 1, 'G06F 3/0445': 1, 'G06F 1/263': 1, 'G06F 2203/04101': 1, 'G09G 2300/0426': 1, 'G09G 2330/021': 1, 'G09G 2300/023': 1, 'G06F 1/3287': 1, 'G06F 2203/04108': 1, 'Y02D 10/00': 1, 'G06Q 50/01': 1, 'H04L 51/046': 1, 'G06F 3/04842': 1, 'G06F 3/04886': 1, 'G06F 3/04883': 1, 'H04L 51/10': 1, 'G06Q 10/10': 1, 'G06F 21/31': 1, 'G06F 3/0481': 1, 'G06F 2221/2149': 1, 'F16M 11/38': 1, 'H04M 1/0254': 1, 'G06F 9/541': 1, 'G06F 3/0202': 1, 'G06F 1/1681': 1, 'G06F 1/1669': 1, 'G06F 1/1637': 1, 'G06F 1/1654': 1, 'E05D 11/1064': 1, 'G06F 3/0233': 1, 'H05K 5/0226': 1, 'G06F 1/1662': 1, 'H04M 1/72409': 1, 'G05B 11/01': 1, 'H01H 13/702': 1, 'G06F 1/1656': 1, 'G06F 1/1616': 1, 'G06F 3/01': 1, 'G06F 3/0487': 1, 'H01H 13/704': 1, 'H01H 13/785': 1, 'G06F 1/1686': 1, 'G06F 1/1684': 1, 'H01H 13/79': 1, 'E05F 5/08': 1, 'H05K 5/0234': 1, 'G06F 3/0219': 1, 'G06F 1/1683': 1, 'G06F 11/3089': 1, 'H01H 13/703': 1, 'G06F 13/102': 1, 'H01H 11/00': 1, 'G06F 3/002': 1, 'H04M 1/0216': 1, 'H01H 13/78': 1, 'G06F 1/1618': 1, 'H01H 13/82': 1, 'G06F 3/02': 1, 'G06F 3/023': 1, 'G06F 1/166': 1, 'H01H 13/807': 1, 'G06F 3/0414': 1, 'H01H 13/14': 1, 'H01H 2213/016': 1, 'H01H 2203/02': 1, 'H01H 2203/036': 1, 'E05Y 2201/46': 1, 'H01H 2217/01': 1, 'H01H 9/26': 1, 'Y10T 16/551': 1, 'H01H 2211/004': 1, 'H04M 1/0245': 1, 'Y10T 29/49826': 1, 'H01H 2217/006': 1, 'Y10T 16/5401': 1, 'H01H 2211/006': 1, 'H01H 2227/032': 1, 'H01H 2205/006': 1, 'H01H 2203/058': 1, 'H01H 2201/036': 1, 'H01H 2217/004': 1, 'H01Q 1/243': 1, 'G06F 3/044': 1, 'H01Q 7/00': 1, 'G06F 1/1626': 1, 'H04M 2250/12': 1, 'H04M 2250/04': 1, 'H04M 1/0202': 1, 'B41J 3/445': 1, 'H04N 1/00968': 1, 'H04N 1/32122': 1, 'H04N 21/41407': 1, 'H04N 21/422': 1, 'H04M 1/2755': 1, 'H04N 5/76': 1, 'H04N 19/60': 1, 'H04N 1/00244': 1, 'H04N 7/163': 1, 'H04M 1/27475': 1, 'H04N 5/445': 1, 'H04N 19/61': 1, 'G06F 3/0321': 1, 'H04N 21/4223': 1, 'G06Q 40/00': 1, 'H04N 1/00204': 1, 'H04N 1/00392': 1, 'H04M 3/42': 1, 'H04N 1/32778': 1, 'G06F 1/1688': 1, 'H04M 1/72445': 1, 'G06F 3/03545': 1, 'G06Q 20/401': 1, 'G06Q 40/08': 1, 'H04N 21/42203': 1, 'H04N 1/00326': 1, 'H04N 1/00307': 1, 'H04N 5/765': 1, 'Y10T 428/187': 1, 'H04N 1/32133': 1, 'H04N 2201/0082': 1, 'H04N 2201/3269': 1, 'Y10S 707/99931': 1, 'G06F 3/16': 1, 'H04N 2201/3226': 1, 'G06F 2200/1614': 1, 'H04N 5/907': 1, 'H04M 7/0015': 1, 'H04N 5/783': 1, 'H04N 21/478': 1, 'H04N 2201/3274': 1, 'G06F 2203/0384': 1, 'H04M 1/72442': 1, 'H04N 2201/3247': 1, 'H04N 2201/3264': 1, 'G06F 2200/1637': 1, 'G06F 16/9554': 1, 'G06F 16/434': 1, 'G06K 7/10881': 1, 'G06F 1/1632': 1, 'G06K 1/121': 1, 'G06F 1/1696': 1, 'H04L 61/30': 1, 'G06F 16/955': 1, 'G06K 7/10772': 1, 'H04L 61/00': 1, 'G06K 17/0022': 1, 'G06F 1/1639': 1, 'G06F 1/181': 1, 'G06F 16/4393': 1, 'B41J 2002/453': 1, 'G06K 7/10574': 1, 'G06K 7/10673': 1, 'G06K 7/12': 1, 'G06F 3/04812': 1, 'G06K 7/109': 1, 'G06K 7/10633': 1, 'G06K 7/10851': 1, 'G06K 7/1098': 1, 'G06K 7/10564': 1, 'G06K 7/10891': 1, 'G06K 7/10643': 1, 'G06K 7/10811': 1, 'G06K 7/10584': 1, 'G06K 7/10653': 1, 'G06K 7/10871': 1, 'G06K 7/10693': 1, 'G06K 2207/1011': 1, 'G06K 2207/1016': 1, 'G06K 2207/1018': 1, 'G06K 2007/10534': 1, 'G06F 3/04817': 1, 'G06F 3/0483': 1, 'G06F 40/169': 1, 'G06F 3/033': 1, 'G06F 3/04845': 1}\n",
            "\n",
            "cluster number: 13\n",
            "CPC number stats in sub-class level: {'H04B': 138, 'H01P': 28, 'B64C': 15, 'H02J': 66, 'H04L': 53, 'B60L': 2, 'G05B': 7, 'Y02E': 27, 'Y04S': 18, 'Y02T': 8, 'H03H': 1, 'H04W': 27, 'G05D': 5, 'B64D': 2, 'H01Q': 30, 'H04J': 6, 'G02B': 24, 'G08B': 5, 'H04N': 2, 'G06V': 2, 'G06T': 2, 'G01S': 5, 'G06F': 4, 'G01R': 6, 'G08C': 1, 'H04Q': 3, 'G05F': 1, 'Y02B': 1}\n",
            "CPC number stats in sub-group level: {'H04B 1/10': 1, 'H01P 3/10': 1, 'H01P 3/16': 1, 'H04B 3/542': 1, 'H04B 3/46': 1, 'H04B 3/50': 1, 'H04B 3/58': 1, 'H04B 3/52': 1, 'H04B 3/21': 1, 'B64C 39/024': 1, 'H04B 3/36': 1, 'B64C 2201/125': 1, 'B64C 2201/145': 1, 'H04B 2203/5445': 1, 'H04B 2203/5479': 1, 'H04B 2203/5441': 1, 'H04B 2203/5425': 1, 'H02J 7/025': 1, 'H02J 50/40': 1, 'H02J 50/402': 1, 'H04B 5/0087': 1, 'H02J 50/80': 1, 'H02J 50/10': 1, 'H02J 7/007': 1, 'H04B 5/0037': 1, 'H04B 3/54': 1, 'H02J 13/00026': 1, 'H02J 13/00017': 1, 'H02J 13/0075': 1, 'H04L 12/4625': 1, 'B60L 53/34': 1, 'H02J 13/00028': 1, 'G05B 19/042': 1, 'H02J 13/00007': 1, 'H02J 13/00024': 1, 'H02J 13/00022': 1, 'H02J 13/00': 1, 'H02J 13/0086': 1, 'H02J 3/38': 1, 'Y02E 60/7838': 1, 'Y04S 10/126': 1, 'H04L 2012/2843': 1, 'Y04S 40/121': 1, 'H02J 7/0027': 1, 'G05B 15/02': 1, 'Y02E 10/76': 1, 'H02J 3/46': 1, 'Y02E 60/7853': 1, 'H02J 3/381': 1, 'Y02T 10/7072': 1, 'Y02E 60/00': 1, 'H02J 7/35': 1, 'H02J 2300/24': 1, 'Y04S 40/126': 1, 'Y02T 90/16': 1, 'Y02E 10/56': 1, 'H02J 3/383': 1, 'H02J 3/472': 1, 'H02J 2300/28': 1, 'Y02T 10/70': 1, 'Y02E 60/7815': 1, 'G05B 2219/2642': 1, 'H02J 3/386': 1, 'Y04S 40/124': 1, 'Y02T 90/12': 1, 'H02J 7/0013': 1, 'H04B 1/0475': 1, 'H04B 3/28': 1, 'H04L 5/14': 1, 'H04B 10/90': 1, 'H04B 10/61': 1, 'H04B 3/04': 1, 'H04B 3/548': 1, 'H03H 7/0115': 1, 'H04B 2203/5416': 1, 'H04B 3/06': 1, 'H04W 4/44': 1, 'G05D 1/0094': 1, 'H04B 5/0075': 1, 'G05D 1/0038': 1, 'B64C 2201/12': 1, 'B64C 2201/128': 1, 'B64D 47/08': 1, 'H04W 16/28': 1, 'H01Q 1/246': 1, 'H04W 16/20': 1, 'H04B 7/0469': 1, 'H01Q 19/18': 1, 'H04J 14/0227': 1, 'G02B 6/28': 1, 'G02B 6/30': 1, 'H04J 14/02': 1, 'H04B 3/56': 1, 'H04B 10/807': 1, 'G02B 6/02': 1, 'H04B 10/25': 1, 'G02B 6/4246': 1, 'G02B 6/4201': 1, 'G02B 2006/12147': 1, 'G02B 6/12007': 1, 'G02B 2006/12164': 1, 'H04L 12/4633': 1, 'H04L 12/2825': 1, 'H04L 12/1895': 1, 'H04L 67/55': 1, 'H04L 12/413': 1, 'H01P 5/08': 1, 'H01P 3/127': 1, 'H01P 3/06': 1, 'G08B 13/1963': 1, 'G08B 13/19656': 1, 'H04N 5/2256': 1, 'H04N 7/10': 1, 'G06V 40/161': 1, 'G06V 20/52': 1, 'G08B 25/06': 1, 'G08B 13/19613': 1, 'G06T 7/20': 1, 'G06T 2207/30232': 1, 'G08B 13/19608': 1, 'H04W 72/0453': 1, 'H04W 88/08': 1, 'H04W 88/085': 1, 'H04L 9/006': 1, 'H04L 63/0428': 1, 'H04L 12/40045': 1, 'H04L 12/2869': 1, 'H04L 12/2801': 1, 'H04L 12/10': 1, 'H04B 3/544': 1, 'G01S 19/33': 1, 'G01S 19/42': 1, 'G01S 19/10': 1, 'G01S 19/115': 1, 'G01S 19/13': 1, 'B64C 2201/141': 1, 'H04L 27/14': 1, 'H04L 27/16': 1, 'H04L 2027/0065': 1, 'G06F 8/65': 1, 'G01R 31/44': 1, 'H04B 7/155': 1, 'G01R 31/00': 1, 'H04W 48/18': 1, 'H04L 67/561': 1, 'H04W 4/021': 1, 'H01Q 9/0485': 1, 'H01Q 13/103': 1, 'H01Q 19/08': 1, 'H01Q 3/30': 1, 'H01Q 19/108': 1, 'H01Q 1/46': 1, 'H01Q 1/2291': 1, 'H01Q 13/24': 1, 'H04B 7/0691': 1, 'H01Q 1/38': 1, 'H01Q 21/205': 1, 'H01Q 21/00': 1, 'H04B 7/0495': 1, 'H04B 7/0617': 1, 'H01Q 3/26': 1, 'H01Q 3/242': 1, 'H04B 17/101': 1, 'H04L 25/0278': 1, 'H01Q 13/28': 1, 'H04B 2203/5495': 1, 'H01P 5/00': 1, 'H01P 1/00': 1, 'H04W 72/0446': 1, 'H01P 3/00': 1, 'H04L 43/16': 1, 'H04L 45/24': 1, 'H04L 43/0876': 1, 'H04L 63/18': 1, 'H01P 3/12': 1, 'H04B 3/02': 1, 'H02J 13/0082': 1, 'G08C 23/06': 1, 'H04B 17/345': 1, 'H04B 3/546': 1, 'H04Q 9/00': 1, 'H04Q 2209/60': 1, 'H04B 2203/5458': 1, 'H01P 5/087': 1, 'H01P 5/103': 1, 'H04Q 2209/30': 1, 'H04L 45/74': 1, 'H04L 45/126': 1, 'H04B 2203/5433': 1, 'H04B 2203/5408': 1, 'H02J 13/0079': 1, 'G05F 1/66': 1, 'H02J 13/00034': 1, 'G06F 16/211': 1, 'Y02B 90/20': 1, 'Y04S 20/00': 1, 'H04L 63/0846': 1, 'H04L 63/0869': 1, 'H04L 63/08': 1, 'H04W 12/069': 1, 'H04B 5/0031': 1, 'H04B 15/00': 1}\n",
            "\n",
            "cluster number: 14\n",
            "CPC number stats in sub-class level: {'G06T': 11, 'A61B': 61, 'G01R': 4, 'G16H': 1, 'G06F': 8, 'G09G': 5, 'G02B': 1, 'H01L': 28, 'G10L': 4, 'H04N': 2, 'A61N': 9, 'H04J': 3, 'H04B': 2, 'H04L': 2}\n",
            "CPC number stats in sub-group level: {'G06T 7/0016': 1, 'G06T 7/136': 1, 'G06T 2207/20224': 1, 'G06T 2207/30004': 1, 'A61B 5/0033': 1, 'G06T 2207/30061': 1, 'G06T 2200/04': 1, 'G06T 2207/20084': 1, 'G06T 2207/10081': 1, 'G06T 2207/20081': 1, 'G06T 2207/20021': 1, 'G06T 2207/20076': 1, 'A61B 5/055': 1, 'A61B 5/0042': 1, 'G01R 33/4806': 1, 'G01R 33/283': 1, 'A61B 5/4064': 1, 'A61B 5/16': 1, 'A61B 2576/026': 1, 'G16H 40/63': 1, 'G06F 3/042': 1, 'G09G 3/348': 1, 'G06F 3/02': 1, 'G06F 3/0416': 1, 'G06F 3/0412': 1, 'G02B 26/005': 1, 'G06F 3/04883': 1, 'G09G 3/344': 1, 'G09G 2310/06': 1, 'G06F 3/0445': 1, 'G09G 2380/14': 1, 'G06F 3/046': 1, 'G09G 2310/04': 1, 'H01L 29/78696': 1, 'H01L 23/291': 1, 'H01L 29/4908': 1, 'H01L 21/383': 1, 'H01L 29/7782': 1, 'H01L 21/02274': 1, 'H01L 29/7869': 1, 'H01L 23/3171': 1, 'H01L 29/7781': 1, 'H01L 29/7786': 1, 'H01L 27/1225': 1, 'H01L 29/408': 1, 'H01L 29/24': 1, 'H01L 29/66969': 1, 'H01L 21/0217': 1, 'G10L 25/00': 1, 'H04N 21/434': 1, 'G10L 25/93': 1, 'G06F 16/00': 1, 'G10L 25/57': 1, 'G10L 17/02': 1, 'H04N 21/4394': 1, 'H01L 21/02653': 1, 'H01L 27/1248': 1, 'H01L 21/02603': 1, 'H01L 29/78648': 1, 'H01L 21/0256': 1, 'H01L 21/02557': 1, 'H01L 21/02554': 1, 'H01L 21/0254': 1, 'H01L 21/0262': 1, 'A61B 8/4245': 1, 'A61B 8/4494': 1, 'A61N 7/00': 1, 'A61B 8/4254': 1, 'A61B 8/4477': 1, 'A61N 7/02': 1, 'A61B 8/56': 1, 'A61B 8/4488': 1, 'A61B 8/4263': 1, 'A61B 8/483': 1, 'A61B 8/5207': 1, 'A61B 5/015': 1, 'A61B 8/4209': 1, 'A61B 8/08': 1, 'A61B 8/4483': 1, 'A61B 8/13': 1, 'A61B 2017/320069': 1, 'A61N 2007/0078': 1, 'H04J 13/00': 1, 'A61B 8/565': 1, 'A61B 2562/164': 1, 'A61B 2090/378': 1, 'H04B 10/116': 1, 'H04B 10/541': 1, 'H04L 12/2803': 1, 'H04L 2012/2841': 1, 'G01R 33/56366': 1}\n",
            "\n",
            "cluster number: 15\n",
            "CPC number stats in sub-class level: {'G06N': 4, 'G06T': 7, 'H04N': 68, 'H04B': 51, 'G06F': 12, 'H04L': 20, 'G06Q': 10, 'H04W': 13, 'Y02D': 2, 'G06V': 2}\n",
            "CPC number stats in sub-group level: {'G06N 3/084': 1, 'G06N 3/0445': 1, 'G06T 7/0012': 1, 'G06N 3/0454': 1, 'G06N 3/04': 1, 'G06T 7/174': 1, 'G06T 7/11': 1, 'G06T 2207/30048': 1, 'G06T 2207/30101': 1, 'G06T 2207/20084': 1, 'G06T 2207/10072': 1, 'H04N 5/2353': 1, 'H04B 10/516': 1, 'H04B 10/116': 1, 'G06F 3/04883': 1, 'H04L 51/10': 1, 'G06Q 10/10': 1, 'G06F 3/04842': 1, 'G06F 3/0482': 1, 'G06F 21/31': 1, 'H04L 51/046': 1, 'G06F 3/04886': 1, 'G06Q 50/01': 1, 'G06F 3/0481': 1, 'G06F 2221/2149': 1, 'H04N 5/2352': 1, 'G06Q 30/0246': 1, 'H04N 5/3532': 1, 'H04N 5/243': 1, 'H04L 67/146': 1, 'H04N 5/23293': 1, 'H04B 10/1143': 1, 'G06Q 30/0267': 1, 'H04N 5/232411': 1, 'H04N 5/3535': 1, 'H04N 5/2356': 1, 'H04W 4/80': 1, 'H04B 10/541': 1, 'H04N 5/232933': 1, 'H04N 5/23206': 1, 'H04N 5/2351': 1, 'H04W 4/50': 1, 'H04L 12/2803': 1, 'H04L 12/2807': 1, 'H04N 5/23222': 1, 'H04W 4/20': 1, 'H04L 2012/2841': 1, 'G06F 1/3215': 1, 'G06F 1/3246': 1, 'G06F 1/3231': 1, 'G06F 3/0425': 1, 'Y02D 10/00': 1, 'Y02D 30/50': 1, 'G06V 30/1423': 1, 'G06V 30/228': 1}\n",
            "\n",
            "cluster number: 16\n",
            "CPC number stats in sub-class level: {'H04B': 29, 'H04N': 10, 'H04W': 10, 'H04L': 17, 'E05F': 2, 'H04M': 1}\n",
            "CPC number stats in sub-group level: {'H04B 10/116': 1, 'H04N 5/2353': 1, 'H04B 10/516': 1, 'H04W 4/50': 1, 'H04B 10/11': 1, 'H04B 10/1143': 1, 'H04L 12/282': 1, 'H04W 4/20': 1, 'H04L 2012/2841': 1, 'H04L 12/2803': 1, 'H04B 10/541': 1, 'E05F 15/43': 1, 'H04B 10/1149': 1, 'E05F 2015/435': 1, 'H04M 1/72412': 1, 'H04N 5/23222': 1, 'H04L 12/2807': 1, 'H04N 5/23206': 1, 'H04N 5/3532': 1}\n",
            "\n",
            "cluster number: 17\n",
            "CPC number stats in sub-class level: {'H01L': 22, 'G09G': 13, 'G06F': 41, 'H02J': 6, 'Y10T': 1, 'G09F': 1, 'H01P': 5, 'H04B': 10, 'H01Q': 7, 'H04R': 9, 'H04M': 1, 'G02F': 17, 'A61B': 18, 'A61N': 3, 'H04J': 1}\n",
            "CPC number stats in sub-group level: {'H01L 27/0251': 1, 'G09G 3/3233': 1, 'H01L 27/3258': 1, 'G06F 3/0412': 1, 'H01L 27/1225': 1, 'H01L 27/3276': 1, 'H01L 27/3248': 1, 'H01L 27/3262': 1, 'H01L 27/1255': 1, 'H01L 27/3265': 1, 'H01L 51/56': 1, 'H01L 27/3218': 1, 'G09G 3/2007': 1, 'H01L 29/66969': 1, 'H01L 2227/323': 1, 'H01L 29/7869': 1, 'G06F 2203/04101': 1, 'H01L 27/124': 1, 'H01L 29/78606': 1, 'G09G 2330/06': 1, 'H01L 27/1262': 1, 'G09G 2354/00': 1, 'G06F 2203/04103': 1, 'G09G 2310/027': 1, 'G09G 2330/04': 1, 'H02J 7/0045': 1, 'G06F 3/038': 1, 'G06F 3/041': 1, 'G06F 1/266': 1, 'G06F 3/03545': 1, 'G06F 2200/1632': 1, 'G06F 3/046': 1, 'Y10T 29/49124': 1, 'G06F 1/1681': 1, 'G06F 1/1626': 1, 'G06F 1/1624': 1, 'G09F 9/301': 1, 'G06F 1/1656': 1, 'G06F 1/1641': 1, 'G06F 1/1652': 1, 'G06F 1/1643': 1, 'H01P 3/06': 1, 'H04B 3/32': 1, 'H01P 3/165': 1, 'H04B 3/54': 1, 'H01P 3/16': 1, 'H04B 3/56': 1, 'H04B 2203/5425': 1, 'H04B 2203/5487': 1, 'H01Q 3/08': 1, 'H01Q 13/02': 1, 'H01Q 13/24': 1, 'H01Q 19/062': 1, 'H04R 2420/07': 1, 'H01P 1/16': 1, 'H04B 3/00': 1, 'H04B 3/52': 1, 'H04R 3/00': 1, 'H04M 1/03': 1, 'G06F 1/1605': 1, 'H04R 9/045': 1, 'H04R 9/025': 1, 'G06F 1/1637': 1, 'H04R 9/06': 1, 'H04R 7/045': 1, 'G06F 1/1688': 1, 'H04R 1/025': 1, 'H04R 2499/11': 1, 'H04R 2499/15': 1, 'G06F 3/016': 1, 'G06F 3/0346': 1, 'G06F 3/0383': 1, 'G06F 3/04883': 1, 'G09G 3/20': 1, 'G06F 3/01': 1, 'G02F 1/133553': 1, 'G09G 2360/144': 1, 'G09G 2300/0439': 1, 'G09G 2300/0426': 1, 'G02F 2201/44': 1, 'G02F 1/1337': 1, 'G02F 1/133345': 1, 'G09G 3/36': 1, 'G02F 1/133621': 1, 'G02F 1/1343': 1, 'G02F 1/1334': 1, 'G02F 1/1368': 1, 'G02F 1/133555': 1, 'G09G 3/3648': 1, 'G02F 1/134345': 1, 'H01L 27/3267': 1, 'H01L 27/3232': 1, 'G02F 1/133342': 1, 'G02F 1/13685': 1, 'H01L 27/323': 1, 'G02F 1/13338': 1, 'H01L 27/3225': 1, 'G02F 1/133565': 1, 'G06F 1/1616': 1, 'H02J 50/80': 1, 'H02J 50/70': 1, 'H04B 5/0037': 1, 'H01Q 1/243': 1, 'H01Q 1/22': 1, 'H02J 50/10': 1, 'H02J 7/0042': 1, 'H02J 50/12': 1, 'H01Q 7/06': 1, 'H04B 5/0081': 1, 'H04B 5/0031': 1, 'G06F 3/04166': 1, 'G06F 3/0446': 1, 'G06F 2203/04106': 1, 'G06F 2203/04112': 1, 'G06F 3/04164': 1, 'A61B 8/4477': 1, 'A61B 8/4209': 1, 'A61B 8/08': 1, 'A61N 7/00': 1, 'A61N 7/02': 1, 'A61B 8/483': 1, 'A61B 8/13': 1, 'A61B 8/4263': 1, 'A61B 8/4254': 1, 'A61B 8/4483': 1, 'A61B 8/5207': 1, 'A61B 8/4245': 1, 'A61B 8/4494': 1, 'A61B 8/56': 1, 'A61B 8/4488': 1, 'A61B 5/015': 1, 'A61B 8/565': 1, 'A61B 2017/320069': 1, 'H04J 13/00': 1, 'A61B 2090/378': 1, 'A61N 2007/0078': 1, 'A61B 2562/164': 1}\n",
            "\n",
            "cluster number: 18\n",
            "CPC number stats in sub-class level: {'G06F': 53, 'G10L': 5, 'E05F': 6, 'H04B': 16, 'H04M': 6, 'Y02D': 1, 'H04W': 2, 'H04N': 1, 'H04L': 2}\n",
            "CPC number stats in sub-group level: {'G06F 3/04886': 1, 'G06F 1/1694': 1, 'G06F 3/04883': 1, 'G06F 3/017': 1, 'G06F 1/1652': 1, 'G06F 3/0446': 1, 'G06F 3/0416': 1, 'G06F 1/1641': 1, 'G06F 1/1626': 1, 'G06F 3/04842': 1, 'G06F 2203/04102': 1, 'G06F 2203/04108': 1, 'G10L 15/19': 1, 'G10L 15/063': 1, 'G10L 15/34': 1, 'G10L 2015/0635': 1, 'G10L 2015/228': 1, 'G06F 3/0482': 1, 'G06F 3/0488': 1, 'G06F 3/0486': 1, 'E05F 15/43': 1, 'H04B 10/116': 1, 'H04B 10/1149': 1, 'H04B 10/11': 1, 'H04B 10/541': 1, 'E05F 2015/435': 1, 'H04M 1/72412': 1, 'H04B 1/3888': 1, 'G06F 1/1632': 1, 'G06F 1/1692': 1, 'G06F 1/1677': 1, 'H04M 1/7246': 1, 'H04M 2250/22': 1, 'G06F 2203/04803': 1, 'G06F 2200/1633': 1, 'H04M 1/0245': 1, 'G06F 2200/1634': 1, 'G06F 3/038': 1, 'G06F 3/03545': 1, 'G06F 1/3262': 1, 'G06F 1/3287': 1, 'G06F 2200/1632': 1, 'G06F 2203/04106': 1, 'G06F 2203/04807': 1, 'Y02D 30/50': 1, 'G06F 3/0442': 1, 'G06F 3/0383': 1, 'G06F 3/041': 1, 'G06F 2203/04101': 1, 'G06F 2203/04105': 1, 'G06F 3/046': 1, 'H04B 10/1143': 1, 'H04W 4/50': 1, 'H04N 5/2353': 1, 'H04W 4/20': 1, 'H04L 2012/2841': 1, 'H04L 12/282': 1}\n",
            "\n",
            "cluster number: 19\n",
            "CPC number stats in sub-class level: {'H04L': 43, 'H04B': 51, 'H01Q': 1, 'H04W': 61, 'Y02E': 2, 'Y04S': 1, 'H04Q': 1, 'H01P': 2, 'H04J': 4, 'A61N': 9}\n",
            "CPC number stats in sub-group level: {'H04L 5/0048': 1, 'H04B 3/54': 1, 'H01Q 1/46': 1, 'H04B 7/022': 1, 'H04B 3/52': 1, 'H04W 72/0453': 1, 'Y02E 60/00': 1, 'Y04S 40/121': 1, 'H04Q 9/00': 1, 'Y02E 60/7815': 1, 'H01P 5/16': 1, 'H04B 3/46': 1, 'H01P 1/36': 1, 'H04B 3/36': 1, 'H04B 3/06': 1, 'H04L 5/0041': 1, 'H04W 28/04': 1, 'H04W 36/32': 1, 'H04W 72/048': 1, 'H04W 72/082': 1, 'H04W 36/04': 1, 'H04W 84/047': 1, 'H04L 45/74': 1, 'H04B 7/04': 1, 'H04B 10/25752': 1, 'H04B 10/2575': 1, 'H04L 5/0023': 1, 'H04L 27/2647': 1, 'H04B 7/00': 1, 'H04L 27/2657': 1, 'H04W 92/10': 1, 'H04W 76/10': 1, 'H04B 7/2606': 1, 'H04B 7/15': 1, 'H04B 7/15592': 1, 'H04B 7/14': 1, 'H04B 7/01': 1, 'H04B 7/024': 1, 'H04L 7/0008': 1, 'H04J 3/0638': 1, 'H04W 72/0413': 1, 'H04W 72/042': 1, 'H04J 11/00': 1, 'H04L 69/22': 1, 'H04W 16/32': 1, 'H04L 5/0091': 1, 'H04L 5/005': 1, 'H04W 88/08': 1, 'H04L 5/003': 1, 'H04B 1/04': 1, 'H04B 2001/0491': 1, 'H04W 84/042': 1, 'A61N 1/36175': 1, 'A61N 1/36185': 1, 'A61N 1/36171': 1, 'A61N 1/37247': 1, 'A61N 1/36132': 1, 'A61N 1/0551': 1, 'A61N 1/36164': 1, 'A61N 1/36062': 1, 'A61N 1/36071': 1, 'H04L 9/0841': 1, 'H04L 2209/80': 1}\n",
            "\n",
            "cluster number: 20\n",
            "CPC number stats in sub-class level: {'H02J': 9, 'H04W': 2, 'H04L': 4, 'H04B': 2, 'H04N': 8, 'G01C': 3, 'G01S': 2, 'A61B': 11, 'G06F': 56, 'G06K': 1, 'G06V': 4, 'G16H': 1, 'B60L': 23, 'G05D': 1, 'B60M': 1, 'G08G': 1, 'Y04S': 2, 'Y02T': 7, 'Y02E': 1, 'A61N': 6, 'H04R': 7, 'H04M': 9, 'G06T': 5, 'Y02D': 1, 'E21B': 3, 'A47J': 3, 'H05B': 1}\n",
            "CPC number stats in sub-group level: {'H02J 50/80': 1, 'H02J 7/0047': 1, 'H02J 50/10': 1, 'H04W 72/082': 1, 'H02J 7/02': 1, 'H02J 7/00032': 1, 'H02J 50/12': 1, 'H02J 7/00036': 1, 'H02J 7/00714': 1, 'H02J 7/007188': 1, 'H04L 41/12': 1, 'H04B 3/54': 1, 'H04L 43/16': 1, 'H04N 7/183': 1, 'H04L 43/08': 1, 'H04L 43/50': 1, 'H04B 10/1129': 1, 'G01C 15/00': 1, 'G01S 5/0257': 1, 'G01S 19/42': 1, 'A61B 5/375': 1, 'G06F 3/013': 1, 'G06F 3/015': 1, 'G06K 9/00496': 1, 'G06F 3/04886': 1, 'A61B 5/0002': 1, 'A61B 5/16': 1, 'G06V 40/18': 1, 'A61B 5/291': 1, 'A61B 5/6803': 1, 'G16H 40/63': 1, 'A61B 5/742': 1, 'A61B 5/7475': 1, 'A61B 5/6898': 1, 'A61B 5/374': 1, 'A61B 3/00': 1, 'G06F 2203/04806': 1, 'A61B 3/113': 1, 'B60L 5/38': 1, 'B60L 53/52': 1, 'B60L 53/63': 1, 'G05D 1/00': 1, 'B60L 55/00': 1, 'G01C 21/00': 1, 'G01C 21/34': 1, 'B60L 5/005': 1, 'B60L 58/12': 1, 'B60M 3/04': 1, 'B60L 50/53': 1, 'B60L 53/12': 1, 'B60L 53/51': 1, 'B60L 53/65': 1, 'G08G 1/0968': 1, 'Y04S 30/14': 1, 'B60L 53/665': 1, 'Y02T 10/70': 1, 'B60L 2240/667': 1, 'B60L 2250/16': 1, 'Y04S 10/126': 1, 'B60L 2240/622': 1, 'B60L 2240/72': 1, 'Y02E 60/00': 1, 'Y02T 90/14': 1, 'B60L 2240/80': 1, 'B60L 2240/62': 1, 'B60L 2240/66': 1, 'Y02T 10/7072': 1, 'Y02T 90/167': 1, 'Y02T 10/72': 1, 'B60L 2240/68': 1, 'B60L 2240/665': 1, 'Y02T 90/16': 1, 'B60L 2240/642': 1, 'B60L 2260/52': 1, 'Y02T 90/12': 1, 'B60L 53/305': 1, 'G06F 1/163': 1, 'G06F 3/016': 1, 'G06F 3/017': 1, 'A61N 1/36125': 1, 'A61N 1/36135': 1, 'A61N 1/37247': 1, 'A61N 1/36175': 1, 'A61N 1/36185': 1, 'A61N 1/0551': 1, 'G06F 3/0482': 1, 'G06F 3/0485': 1, 'G06F 3/04883': 1, 'G06F 3/0488': 1, 'G06F 3/1454': 1, 'G06F 3/0346': 1, 'G06F 3/048': 1, 'G06F 3/01': 1, 'G06F 21/6209': 1, 'G06F 3/0442': 1, 'G06F 3/038': 1, 'G06F 3/03545': 1, 'G06F 3/0383': 1, 'G06F 21/32': 1, 'G06F 21/629': 1, 'G06F 3/0441': 1, 'G06F 21/34': 1, 'G06F 21/36': 1, 'G06F 3/04842': 1, 'G06V 10/235': 1, 'G06V 20/00': 1, 'G06F 3/04845': 1, 'G06V 10/17': 1, 'H04N 5/23216': 1, 'H04N 5/247': 1, 'H04N 5/2628': 1, 'H04N 5/23219': 1, 'H04N 5/2621': 1, 'H04N 5/272': 1, 'H04N 5/232933': 1, 'G06F 3/04817': 1, 'G06F 1/16': 1, 'G06F 3/046': 1, 'G06F 3/0418': 1, 'G06F 3/044': 1, 'G06F 2203/04106': 1, 'H04R 25/552': 1, 'H04R 25/558': 1, 'H04R 25/30': 1, 'H04R 25/554': 1, 'H04R 2225/55': 1, 'H04R 2225/41': 1, 'H04R 25/556': 1, 'G06F 3/0386': 1, 'H04M 2250/22': 1, 'G06F 2203/04108': 1, 'H04M 1/72412': 1, 'G06T 13/60': 1, 'G06T 11/001': 1, 'G06T 13/80': 1, 'G06T 11/40': 1, 'G06T 2210/24': 1, 'H04W 8/22': 1, 'H04M 1/72463': 1, 'H04M 1/72454': 1, 'H04M 1/026': 1, 'H04M 2250/12': 1, 'H04M 2250/04': 1, 'Y02D 30/70': 1, 'E21B 17/00': 1, 'E21B 43/10': 1, 'E21B 41/00': 1, 'A47J 37/06': 1, 'A47J 36/32': 1, 'H05B 1/0263': 1, 'A47J 37/1266': 1}\n",
            "\n",
            "cluster number: 21\n",
            "CPC number stats in sub-class level: {'A61N': 3, 'G01R': 12, 'A61B': 2, 'G08G': 5, 'H04W': 13, 'H01P': 59, 'H01Q': 72, 'H04B': 103, 'H01R': 2, 'H04R': 1, 'H04Q': 4, 'G01S': 4, 'G01W': 4, 'H02J': 10, 'Y02E': 9, 'Y04S': 6, 'H04L': 3}\n",
            "CPC number stats in sub-group level: {'A61N 5/1067': 1, 'A61N 5/1049': 1, 'G01R 33/34007': 1, 'G01R 33/36': 1, 'G01R 33/4808': 1, 'G01R 33/3415': 1, 'A61B 5/055': 1, 'A61B 5/0035': 1, 'A61N 2005/1055': 1, 'G01R 33/4812': 1, 'G08G 1/143': 1, 'G08G 1/017': 1, 'G08G 1/144': 1, 'G08G 1/0116': 1, 'H04W 4/02': 1, 'G08G 1/0104': 1, 'H04W 4/38': 1, 'H01P 5/107': 1, 'H04W 4/44': 1, 'H01Q 1/38': 1, 'H01Q 21/065': 1, 'H01Q 1/246': 1, 'H04B 3/00': 1, 'H01Q 21/29': 1, 'H01P 3/16': 1, 'H04W 72/085': 1, 'H04W 72/0473': 1, 'H04W 72/082': 1, 'H04B 3/52': 1, 'H04B 3/54': 1, 'H01Q 13/02': 1, 'H04B 1/04': 1, 'H01Q 21/00': 1, 'H04B 3/50': 1, 'H04B 2203/5483': 1, 'H04B 2203/5466': 1, 'H01P 5/08': 1, 'H01P 3/10': 1, 'H01Q 13/106': 1, 'H01Q 15/14': 1, 'H01Q 1/36': 1, 'H04B 1/00': 1, 'H04W 16/28': 1, 'H01Q 1/528': 1, 'H01Q 3/00': 1, 'H01P 5/087': 1, 'H01Q 9/30': 1, 'H01Q 13/203': 1, 'H01Q 13/0208': 1, 'H04B 3/542': 1, 'H01P 3/127': 1, 'H01P 5/1022': 1, 'H04B 2203/5441': 1, 'H04B 2203/5416': 1, 'H04B 2203/5479': 1, 'H01P 5/022': 1, 'H01Q 1/422': 1, 'H04B 7/066': 1, 'H04B 7/15507': 1, 'H01Q 5/22': 1, 'H04B 1/0064': 1, 'H04B 7/0617': 1, 'H01Q 3/2605': 1, 'H04B 3/56': 1, 'H04W 88/10': 1, 'H04B 2203/5437': 1, 'H01Q 5/10': 1, 'H04W 72/0453': 1, 'H04B 3/58': 1, 'H01Q 1/243': 1, 'H01Q 3/36': 1, 'H01Q 21/22': 1, 'H04B 2203/5495': 1, 'H01Q 13/06': 1, 'H01Q 1/50': 1, 'H01Q 19/08': 1, 'H04B 5/0018': 1, 'H01Q 21/205': 1, 'H01P 1/16': 1, 'H01R 3/00': 1, 'H01Q 3/08': 1, 'H04B 1/02': 1, 'H01Q 21/067': 1, 'H01Q 3/30': 1, 'H01Q 1/2291': 1, 'H01P 1/2138': 1, 'H01P 5/188': 1, 'H01Q 21/061': 1, 'H01Q 13/24': 1, 'H01P 5/18': 1, 'H04W 88/085': 1, 'H01Q 19/28': 1, 'H01Q 19/22': 1, 'H01P 3/12': 1, 'H04B 10/25752': 1, 'G01R 1/24': 1, 'H01P 1/225': 1, 'H01P 1/182': 1, 'H04B 3/28': 1, 'H01Q 15/242': 1, 'H01Q 1/24': 1, 'H01Q 19/062': 1, 'H04B 1/16': 1, 'H04R 3/00': 1, 'H04B 1/0475': 1, 'H01Q 1/46': 1, 'H04B 3/36': 1, 'H04W 16/26': 1, 'H04Q 9/00': 1, 'H04Q 9/02': 1, 'G01S 13/88': 1, 'G01W 1/14': 1, 'G01S 13/04': 1, 'H04B 17/318': 1, 'G01W 1/10': 1, 'H04B 1/1027': 1, 'H02J 13/00017': 1, 'H01P 1/207': 1, 'H01P 7/06': 1, 'Y02E 60/00': 1, 'H02J 13/00': 1, 'Y04S 40/121': 1, 'Y04S 40/124': 1, 'H01P 5/103': 1, 'G01R 31/00': 1, 'G01R 29/0878': 1, 'Y02E 60/7838': 1, 'Y02E 60/7815': 1, 'H04B 17/101': 1, 'H01Q 13/28': 1, 'H04L 25/0278': 1, 'H01P 1/00': 1, 'H01P 5/00': 1, 'H01P 3/06': 1, 'H04B 5/0075': 1, 'H04L 25/0292': 1, 'H02J 13/00009': 1, 'H02J 50/05': 1, 'H02J 50/001': 1, 'G01R 31/44': 1, 'H02J 50/10': 1, 'H04B 5/0012': 1, 'H04L 25/028': 1}\n",
            "\n",
            "cluster number: 22\n",
            "CPC number stats in sub-class level: {'G06F': 72, 'H04B': 13, 'H01Q': 21, 'G01S': 2, 'H04W': 7, 'H01P': 14, 'G06Q': 5, 'H04L': 3, 'G08B': 1, 'G11B': 4, 'H04R': 12, 'H04M': 4, 'G06V': 3, 'H02J': 2, 'A61N': 6, 'A63F': 10, 'B60K': 8, 'G06T': 3, 'A61B': 2, 'H04N': 38, 'G06N': 1, 'G08C': 5, 'B41J': 5, 'G01C': 2, 'B42C': 1, 'G09B': 3, 'G01D': 1, 'G06K': 1}\n",
            "CPC number stats in sub-group level: {'G06F 3/0446': 1, 'G06F 3/046': 1, 'H04B 5/0056': 1, 'H04B 5/0081': 1, 'H01Q 1/36': 1, 'G06F 3/0412': 1, 'G06F 3/04166': 1, 'G06F 3/04164': 1, 'G06F 2203/04106': 1, 'G06F 3/044': 1, 'H01Q 13/0266': 1, 'H01Q 13/24': 1, 'H01Q 13/02': 1, 'H01Q 3/38': 1, 'G01S 3/00': 1, 'H01Q 1/46': 1, 'H01Q 13/025': 1, 'H01Q 21/20': 1, 'H01Q 21/0068': 1, 'H01Q 1/1257': 1, 'H01Q 1/246': 1, 'H01Q 21/00': 1, 'H01Q 3/24': 1, 'H01Q 21/064': 1, 'H01Q 5/47': 1, 'H01Q 21/06': 1, 'H04B 3/52': 1, 'H01Q 17/00': 1, 'H04W 52/52': 1, 'H01P 5/107': 1, 'H01P 3/16': 1, 'H04W 16/26': 1, 'H01Q 19/06': 1, 'H01P 5/18': 1, 'H01P 3/12': 1, 'H01P 1/22': 1, 'H01P 5/08': 1, 'H01P 5/188': 1, 'G06Q 20/382': 1, 'G06Q 20/3278': 1, 'G06Q 20/10': 1, 'G06Q 2220/00': 1, 'H04L 2209/38': 1, 'H04B 3/56': 1, 'H04L 12/6418': 1, 'H04W 56/0025': 1, 'H04B 3/58': 1, 'H01P 5/04': 1, 'H04B 3/544': 1, 'H04W 92/20': 1, 'H04W 88/08': 1, 'G08B 6/00': 1, 'G06F 3/0425': 1, 'G06F 3/011': 1, 'G06F 3/0338': 1, 'G06F 3/016': 1, 'G06F 3/014': 1, 'G11B 3/38': 1, 'G11B 3/006': 1, 'H04R 1/30': 1, 'G11B 3/46': 1, 'G11B 9/00': 1, 'H04R 19/06': 1, 'H04R 17/005': 1, 'H04R 7/18': 1, 'H04R 15/00': 1, 'H04M 1/035': 1, 'H04R 7/04': 1, 'H04R 2499/11': 1, 'H04R 2460/13': 1, 'H04R 17/00': 1, 'G06F 3/02': 1, 'G06F 3/04842': 1, 'G06F 3/04845': 1, 'G06F 3/0488': 1, 'G06V 40/12': 1, 'G06F 3/04817': 1, 'G06F 3/04883': 1, 'G06F 3/0346': 1, 'G06F 3/0416': 1, 'G06F 3/04847': 1, 'G06F 3/04186': 1, 'G06F 3/16': 1, 'G06F 3/0482': 1, 'G06F 2203/0338': 1, 'H02J 50/10': 1, 'H04B 3/54': 1, 'H04B 3/36': 1, 'H04B 7/022': 1, 'H04B 5/0031': 1, 'H02J 5/005': 1, 'A61N 1/36135': 1, 'A61N 1/0551': 1, 'A61N 1/37247': 1, 'A61N 1/36125': 1, 'A61N 1/36175': 1, 'A61N 1/36185': 1, 'G06F 3/041': 1, 'A63F 13/235': 1, 'G06F 3/03544': 1, 'G06F 1/169': 1, 'G06F 3/03545': 1, 'B60K 37/06': 1, 'G06F 3/038': 1, 'G06F 3/03543': 1, 'A63F 13/21': 1, 'B60K 2370/143': 1, 'B60K 2370/145': 1, 'B60K 2370/126': 1, 'G06T 7/0012': 1, 'A61B 5/1075': 1, 'A61B 5/055': 1, 'G06T 2207/10092': 1, 'G06T 2207/30016': 1, 'H04N 21/4532': 1, 'H04N 21/4147': 1, 'G06F 3/017': 1, 'H04N 21/42204': 1, 'H04N 21/4516': 1, 'G06N 5/02': 1, 'G08C 17/00': 1, 'G08C 17/02': 1, 'H04N 5/91': 1, 'G06F 3/0481': 1, 'G06V 20/635': 1, 'H04N 21/4882': 1, 'G08C 19/00': 1, 'H04N 21/4333': 1, 'H04L 65/403': 1, 'H04N 21/482': 1, 'G06F 3/048': 1, 'H04N 21/42222': 1, 'G06F 3/0383': 1, 'H04N 21/4508': 1, 'H04N 21/632': 1, 'H04N 21/654': 1, 'H04N 21/4436': 1, 'H04N 21/63': 1, 'H04N 21/43615': 1, 'G06F 3/0485': 1, 'H04N 21/437': 1, 'G06Q 30/0201': 1, 'G06F 3/0414': 1, 'H04N 5/44504': 1, 'H04N 21/4432': 1, 'H04N 21/4312': 1, 'G06F 3/0484': 1, 'G01S 5/20': 1, 'H04N 21/4755': 1, 'G06F 2203/04804': 1, 'G08C 2201/40': 1, 'H04N 21/8133': 1, 'G08C 2201/32': 1, 'H04R 25/554': 1, 'H04R 2225/49': 1, 'H04R 2225/67': 1, 'H04B 1/3888': 1, 'H04M 19/04': 1, 'H04M 19/047': 1, 'H04M 1/72409': 1, 'B41J 2/17503': 1, 'A63F 13/12': 1, 'B41J 2/17513': 1, 'G01C 21/3623': 1, 'G06V 30/1423': 1, 'G01C 21/362': 1, 'B42C 9/0081': 1, 'G09B 29/106': 1, 'A63F 9/183': 1, 'H04N 1/32122': 1, 'H04N 1/00358': 1, 'G09B 29/007': 1, 'H04N 1/00204': 1, 'B41J 2/2114': 1, 'H04N 1/00376': 1, 'H04N 1/32128': 1, 'H04N 1/32771': 1, 'H04N 1/00567': 1, 'B41J 2/17553': 1, 'H04N 1/32133': 1, 'B41J 13/106': 1, 'H04N 1/32101': 1, 'G09B 5/02': 1, 'H04N 1/32778': 1, 'H04N 2201/3271': 1, 'H04N 2201/327': 1, 'A63F 2009/241': 1, 'H04N 2201/3205': 1, 'H04N 2201/3226': 1, 'A63F 2003/0439': 1, 'A63F 2009/186': 1, 'H04N 2201/3207': 1, 'H04N 2201/3278': 1, 'H04N 2201/3242': 1, 'A63F 2300/532': 1, 'G01D 5/2066': 1, 'G06F 3/03546': 1, 'G06F 3/0362': 1, 'G06K 7/10891': 1, 'G06F 3/04886': 1, 'G06F 3/033': 1}\n",
            "\n",
            "cluster number: 23\n",
            "CPC number stats in sub-class level: {'H04W': 2, 'H01Q': 6, 'H01P': 10, 'H04B': 76, 'H01B': 1, 'H05K': 4}\n",
            "CPC number stats in sub-group level: {'H04W 52/42': 1, 'H01Q 21/22': 1, 'H01P 5/188': 1, 'H01Q 13/24': 1, 'H04B 3/52': 1, 'H01P 5/08': 1, 'H04W 52/247': 1, 'H04B 17/309': 1, 'H04B 7/0413': 1, 'H04B 17/24': 1, 'H01Q 21/067': 1, 'H04B 3/58': 1, 'H04B 3/542': 1, 'H04B 2203/5445': 1, 'H04B 2203/5479': 1, 'H01P 5/085': 1, 'H01B 11/1895': 1, 'H01P 3/16': 1, 'H01P 3/10': 1, 'H01P 5/18': 1, 'H01P 1/182': 1, 'H01P 5/087': 1, 'H04B 3/06': 1, 'H04B 3/546': 1, 'H04B 3/54': 1, 'H01Q 9/285': 1, 'H04B 3/56': 1, 'H01Q 21/068': 1, 'H01Q 13/203': 1, 'H04B 7/15': 1, 'H04B 3/36': 1, 'H04B 1/40': 1, 'H04B 1/005': 1, 'H04B 2203/5491': 1, 'H05K 999/99': 1, 'H04B 7/14': 1, 'H04B 1/0057': 1, 'H04B 7/155': 1, 'H04B 1/0475': 1}\n",
            "\n",
            "cluster number: 24\n",
            "CPC number stats in sub-class level: {'G06Q': 101, 'G06F': 33, 'G06T': 7, 'G06N': 1, 'G06V': 3, 'H04N': 7}\n",
            "CPC number stats in sub-group level: {'G06Q 30/0643': 1, 'G06Q 30/0621': 1, 'G06Q 30/08': 1, 'G06Q 30/00': 1, 'G06Q 30/06': 1, 'G06Q 30/0601': 1, 'G06Q 30/0241': 1, 'G06Q 30/0267': 1, 'G06F 3/167': 1, 'G06Q 30/0627': 1, 'G06Q 30/0603': 1, 'G06T 19/006': 1, 'G06Q 30/0631': 1, 'G06Q 30/0633': 1, 'G06N 20/00': 1, 'G06V 40/172': 1, 'G06Q 30/0278': 1, 'G06Q 10/087': 1, 'G06V 20/20': 1, 'G06Q 30/0611': 1, 'G06Q 30/02': 1, 'G06T 2215/16': 1, 'G06V 2201/09': 1, 'G06F 3/0412': 1, 'G06F 3/03543': 1, 'G06Q 20/14': 1, 'G06F 3/03545': 1, 'G06Q 20/40145': 1, 'G06Q 20/20': 1, 'G06Q 40/08': 1, 'G06Q 20/206': 1, 'G06Q 50/18': 1, 'G06F 1/1637': 1, 'G06Q 20/10': 1, 'G06T 7/20': 1, 'G06Q 40/025': 1, 'H04N 5/23216': 1, 'H04N 5/272': 1, 'H04N 5/23219': 1, 'H04N 5/247': 1, 'H04N 5/2628': 1, 'H04N 5/232933': 1, 'H04N 5/2621': 1, 'G06F 3/04817': 1, 'G06F 3/0488': 1, 'G06Q 10/00': 1, 'G06Q 30/0609': 1, 'G06Q 10/10': 1, 'G06Q 20/3825': 1, 'G06Q 40/12': 1}\n",
            "\n",
            "cluster number: 25\n",
            "CPC number stats in sub-class level: {'A61B': 18, 'G16H': 2, 'G16Z': 1, 'G06F': 70, 'H04W': 10, 'G10L': 18, 'G06Q': 1, 'H01P': 6, 'H04B': 10, 'H04L': 5, 'G09G': 13, 'H03G': 2, 'H04Q': 2, 'G06V': 14, 'A63F': 1, 'G06T': 3, 'H04N': 18, 'G11B': 1, 'G06K': 1}\n",
            "CPC number stats in sub-group level: {'A61B 5/11': 1, 'G16H 80/00': 1, 'A61B 5/7282': 1, 'A61B 5/749': 1, 'A61B 5/681': 1, 'A61B 5/7435': 1, 'A61B 5/6833': 1, 'A61B 5/14514': 1, 'A61B 5/4809': 1, 'A61B 5/14517': 1, 'A61B 5/7275': 1, 'A61B 5/7465': 1, 'A61B 5/14546': 1, 'A61B 5/02055': 1, 'G16H 50/30': 1, 'G16Z 99/00': 1, 'A61B 5/02438': 1, 'A61B 5/14532': 1, 'A61B 2503/10': 1, 'A61B 2562/0223': 1, 'A61B 2562/0219': 1, 'G06F 3/04847': 1, 'G06F 3/013': 1, 'G06F 3/017': 1, 'G06F 3/014': 1, 'G06F 3/016': 1, 'G06F 3/03545': 1, 'G06F 3/04883': 1, 'G06F 3/14': 1, 'H04W 4/80': 1, 'H04W 48/18': 1, 'G06F 3/04842': 1, 'H04W 84/12': 1, 'G10L 15/14': 1, 'G10L 15/02': 1, 'G10L 15/30': 1, 'G10L 15/063': 1, 'G10L 15/187': 1, 'G10L 15/197': 1, 'G10L 2015/025': 1, 'G10L 2015/0635': 1, 'G10L 2015/0633': 1, 'G06F 16/338': 1, 'G06F 3/0481': 1, 'G06F 3/011': 1, 'G06Q 10/10': 1, 'G06F 9/453': 1, 'H01P 5/026': 1, 'H01P 1/16': 1, 'H04B 3/54': 1, 'H01P 3/06': 1, 'H01P 3/165': 1, 'H01P 1/10': 1, 'H04W 12/06': 1, 'H01P 3/16': 1, 'H04L 63/083': 1, 'G06F 3/0488': 1, 'G06F 21/50': 1, 'G09G 5/37': 1, 'G09G 3/20': 1, 'G09G 5/30': 1, 'G09G 2320/066': 1, 'G09G 2358/00': 1, 'G06F 2221/032': 1, 'G09G 2320/0686': 1, 'G06F 2221/2105': 1, 'G06F 3/165': 1, 'H03G 3/02': 1, 'H03G 3/3005': 1, 'H04W 24/04': 1, 'H04Q 3/0091': 1, 'H04W 24/08': 1, 'H04Q 3/0087': 1, 'G06F 3/04162': 1, 'G06F 3/0418': 1, 'G06F 2203/04108': 1, 'G06F 3/0383': 1, 'G06F 3/0416': 1, 'G06F 3/046': 1, 'G06F 3/0442': 1, 'G06F 2203/04106': 1, 'G06V 10/235': 1, 'G06F 3/04817': 1, 'G06V 10/768': 1, 'A63F 13/00': 1, 'G06F 3/04845': 1, 'G06F 1/1626': 1, 'G06F 2203/04806': 1, 'G06F 2203/013': 1, 'G06F 2203/014': 1, 'G06V 30/274': 1, 'G06T 11/00': 1, 'G06T 11/60': 1, 'G06T 3/40': 1, 'G06V 40/10': 1, 'G06V 40/16': 1, 'G06V 40/161': 1, 'H04N 5/23219': 1, 'H04N 5/23218': 1, 'H04N 5/232122': 1, 'G11B 27/031': 1, 'G06K 9/00536': 1, 'G06V 30/1423': 1, 'G06V 10/25': 1, 'G06V 30/347': 1, 'G06V 10/469': 1, 'G06V 10/44': 1, 'G06F 12/1408': 1, 'G06F 21/44': 1, 'H04L 63/123': 1, 'G06F 2212/1052': 1, 'H04L 63/0428': 1, 'G09G 3/3406': 1, 'G06F 3/04186': 1, 'G09G 5/10': 1, 'G09G 5/003': 1, 'G06F 1/1684': 1, 'G09G 2354/00': 1, 'G09G 2360/144': 1, 'G06F 3/03547': 1, 'G09G 2320/0626': 1, 'G09G 2320/0653': 1, 'G06F 3/0446': 1, 'G06F 3/044': 1, 'G06F 3/04166': 1, 'H04B 10/116': 1, 'H04B 10/1143': 1, 'H04N 5/2353': 1, 'H04W 4/50': 1, 'H04B 10/11': 1, 'H04W 4/20': 1, 'H04L 12/282': 1, 'H04L 2012/2841': 1, 'H04N 5/3532': 1, 'H04N 5/232933': 1, 'H04N 5/243': 1, 'H04N 5/2351': 1, 'H04N 5/23206': 1, 'H04N 5/2352': 1, 'H04B 10/541': 1, 'G06V 10/12': 1, 'G06V 30/228': 1, 'G06F 3/038': 1, 'G06F 2203/0382': 1, 'G06F 3/0386': 1, 'G06F 3/04812': 1}\n",
            "\n",
            "cluster number: 26\n",
            "CPC number stats in sub-class level: {'H04B': 18, 'H01P': 17, 'H01B': 3, 'H01Q': 19, 'H04W': 3, 'A61B': 18, 'A61N': 3, 'H04J': 1}\n",
            "CPC number stats in sub-group level: {'H04B 3/00': 1, 'H01P 3/122': 1, 'H04B 3/52': 1, 'H01P 3/06': 1, 'H01B 11/06': 1, 'H01B 11/1834': 1, 'H01P 3/12': 1, 'H01P 11/002': 1, 'H01B 11/1808': 1, 'H01P 3/10': 1, 'H04B 3/54': 1, 'H04B 3/36': 1, 'H01Q 1/46': 1, 'H04B 3/56': 1, 'H04W 16/26': 1, 'H01Q 13/28': 1, 'H01Q 13/24': 1, 'H01Q 3/00': 1, 'H04B 3/28': 1, 'H01P 5/087': 1, 'H01Q 1/528': 1, 'H01Q 13/0208': 1, 'H01Q 21/205': 1, 'H01Q 21/064': 1, 'H01Q 1/50': 1, 'H01P 5/107': 1, 'H01Q 17/00': 1, 'H04W 52/52': 1, 'H01P 3/16': 1, 'H01Q 19/06': 1, 'H01P 11/006': 1, 'H01P 1/042': 1, 'H01P 1/02': 1, 'H01P 1/064': 1, 'H04B 3/32': 1, 'H04B 2203/5425': 1, 'H04B 2203/5487': 1, 'A61B 8/4263': 1, 'A61B 8/5207': 1, 'A61B 8/4488': 1, 'A61B 8/08': 1, 'A61B 8/56': 1, 'A61N 7/02': 1, 'A61B 8/4483': 1, 'A61B 8/13': 1, 'A61B 8/4494': 1, 'A61B 8/4209': 1, 'A61B 8/483': 1, 'A61B 5/015': 1, 'A61B 8/4245': 1, 'A61B 8/4254': 1, 'A61N 7/00': 1, 'A61B 8/4477': 1, 'A61N 2007/0078': 1, 'A61B 2090/378': 1, 'A61B 2562/164': 1, 'H04J 13/00': 1, 'A61B 8/565': 1, 'A61B 2017/320069': 1}\n",
            "\n",
            "cluster number: 27\n",
            "CPC number stats in sub-class level: {'G06F': 53, 'H04M': 4, 'H04W': 1, 'B41J': 1, 'B43K': 3, 'E05D': 8, 'E05Y': 4, 'Y10T': 3}\n",
            "CPC number stats in sub-group level: {'G06F 3/0383': 1, 'G06F 3/04162': 1, 'G06F 3/03545': 1, 'G06F 3/046': 1, 'H04M 1/724': 1, 'H04M 1/026': 1, 'G06F 2203/04106': 1, 'H04M 1/72412': 1, 'H04M 2250/12': 1, 'G06F 2203/0384': 1, 'G06F 2203/04108': 1, 'H04W 4/80': 1, 'B41J 3/36': 1, 'B43K 8/22': 1, 'B43K 8/003': 1, 'B43K 8/006': 1, 'G06F 3/0445': 1, 'G06F 3/0446': 1, 'G06F 3/041': 1, 'G06F 3/0441': 1, 'G06F 3/016': 1, 'G06F 3/0488': 1, 'G06F 3/04812': 1, 'G06F 3/0481': 1, 'G06F 3/0483': 1, 'G06F 3/04817': 1, 'G06F 3/033': 1, 'G06F 40/169': 1, 'G06F 1/1618': 1, 'G06F 1/162': 1, 'G06F 1/1677': 1, 'G06F 1/1679': 1, 'G06F 1/1681': 1, 'E05D 11/087': 1, 'E05D 15/582': 1, 'E05Y 2900/606': 1, 'G06F 2200/1614': 1, 'G06F 1/1683': 1, 'Y10T 16/522': 1, 'G06F 1/1616': 1, 'G06F 1/1656': 1, 'G06F 1/1669': 1, 'Y10T 292/0969': 1, 'Y10T 292/1003': 1}\n",
            "\n",
            "cluster number: 28\n",
            "CPC number stats in sub-class level: {'G06F': 34, 'H04M': 1, 'H03K': 1, 'G02F': 1, 'G06K': 17, 'G05B': 1, 'G06T': 1}\n",
            "CPC number stats in sub-group level: {'G06F 3/04142': 1, 'G06F 1/1643': 1, 'G06F 1/1626': 1, 'G06F 1/169': 1, 'G06F 1/1658': 1, 'G06F 3/016': 1, 'H04M 2250/22': 1, 'G06F 3/0416': 1, 'G06F 3/045': 1, 'G06F 3/0436': 1, 'G06F 3/0433': 1, 'G06F 3/03545': 1, 'G06F 3/0317': 1, 'G06F 3/0386': 1, 'G06F 3/04847': 1, 'G06F 3/03542': 1, 'G06F 3/0321': 1, 'H03K 2217/94063': 1, 'G06F 3/046': 1, 'G02F 1/1334': 1, 'G06F 3/033': 1, 'G06F 3/04886': 1, 'G06F 3/0483': 1, 'G06F 40/169': 1, 'G06F 3/04817': 1, 'G06K 7/1098': 1, 'G06K 7/10653': 1, 'G06K 7/10891': 1, 'G06K 7/10693': 1, 'G06K 7/10851': 1, 'G06K 7/10643': 1, 'G06K 7/10673': 1, 'G06K 7/109': 1, 'G06K 7/10633': 1, 'G06K 7/10584': 1, 'G06K 7/10881': 1, 'G06K 7/10564': 1, 'G06K 7/10871': 1, 'G06K 7/10811': 1, 'G06K 2207/1018': 1, 'G06K 2207/1016': 1, 'G06K 2207/1011': 1, 'G06F 3/043': 1, 'G05B 19/4205': 1, 'G06T 9/20': 1}\n",
            "\n",
            "cluster number: 29\n",
            "CPC number stats in sub-class level: {'H04L': 25, 'H04B': 86, 'H04W': 8, 'H01P': 28, 'H02J': 11, 'H01Q': 17, 'Y02E': 7, 'Y04S': 6, 'H01B': 3, 'H04J': 1}\n",
            "CPC number stats in sub-group level: {'H04L 12/6418': 1, 'H04B 15/00': 1, 'H04L 25/0264': 1, 'H04B 3/542': 1, 'H04B 7/0413': 1, 'H04B 1/38': 1, 'H04B 5/0018': 1, 'H04B 2203/5441': 1, 'H04B 2203/5483': 1, 'H04L 25/08': 1, 'H04L 25/03891': 1, 'H04W 72/0406': 1, 'H04B 3/54': 1, 'H04B 3/03': 1, 'H01P 3/10': 1, 'H04L 12/2878': 1, 'H04B 3/02': 1, 'H01P 3/16': 1, 'H02J 13/00009': 1, 'H04B 3/56': 1, 'H02J 13/00017': 1, 'H01P 5/087': 1, 'H01Q 13/02': 1, 'Y02E 60/7815': 1, 'Y02E 60/00': 1, 'Y04S 40/124': 1, 'Y02E 60/7838': 1, 'H01Q 3/26': 1, 'Y04S 40/121': 1, 'H02J 13/00': 1, 'H04B 3/52': 1, 'H04W 16/18': 1, 'H04L 25/03006': 1, 'H04W 16/26': 1, 'H04B 15/02': 1, 'H01P 3/06': 1, 'H01P 3/12': 1, 'H01P 11/003': 1, 'H01B 11/1808': 1, 'H01B 11/1834': 1, 'H01P 3/122': 1, 'H04B 3/00': 1, 'H01B 11/06': 1, 'H01P 11/002': 1, 'H04B 3/50': 1, 'H04B 2203/5466': 1, 'H01Q 13/0241': 1, 'H01P 5/103': 1, 'H01Q 21/064': 1, 'H01P 5/024': 1, 'H01Q 21/205': 1, 'H04B 7/15542': 1, 'H04L 5/0048': 1, 'H04B 7/155': 1, 'H04L 5/0023': 1, 'H04B 7/2612': 1, 'H04W 72/042': 1, 'H04L 5/0003': 1, 'H04W 88/085': 1, 'H01Q 21/0037': 1, 'H01Q 13/28': 1, 'H01Q 21/00': 1, 'H04B 1/40': 1, 'H04B 10/2581': 1, 'H01Q 1/46': 1, 'H04J 14/04': 1, 'H04B 10/40': 1}\n",
            "\n",
            "cluster number: 30\n",
            "CPC number stats in sub-class level: {'F24F': 41, 'G05D': 4, 'H04W': 12, 'G05B': 4, 'H04M': 3, 'H02J': 4, 'G06F': 73, 'F25B': 12, 'Y02B': 5, 'G06Q': 2, 'H04L': 16, 'G09G': 7, 'G04R': 1, 'G04G': 4, 'G06T': 1, 'G06V': 2, 'H04N': 22, 'G16H': 2, 'G06K': 1, 'H04H': 3, 'G08B': 1, 'A61N': 5, 'A61B': 9, 'G09B': 2, 'H04B': 2}\n",
            "CPC number stats in sub-group level: {'F24F 11/65': 1, 'G05D 23/1905': 1, 'H04W 76/10': 1, 'F24F 11/30': 1, 'G05B 15/02': 1, 'F24F 11/64': 1, 'F24F 11/52': 1, 'F24F 11/58': 1, 'G05B 2219/2614': 1, 'F24F 2110/10': 1, 'F24F 2130/10': 1, 'F24F 2110/12': 1, 'H04M 11/007': 1, 'H02J 50/60': 1, 'H02J 50/10': 1, 'H02J 7/007': 1, 'H02J 50/80': 1, 'G06F 3/0412': 1, 'G06F 3/0488': 1, 'G06F 3/04847': 1, 'G06F 3/04883': 1, 'G06F 3/04146': 1, 'G06F 2203/04105': 1, 'F24F 11/56': 1, 'F24F 11/0008': 1, 'F24F 11/49': 1, 'F25B 30/00': 1, 'F24F 11/63': 1, 'Y02B 30/70': 1, 'F25B 2600/0253': 1, 'F25B 2313/0312': 1, 'F25B 13/00': 1, 'F25B 2700/1931': 1, 'F25B 2700/2104': 1, 'F25B 2313/0294': 1, 'F24F 2110/50': 1, 'F25B 2700/2106': 1, 'F24F 2110/20': 1, 'F25B 2313/0314': 1, 'F25B 2313/0315': 1, 'F25B 2700/1933': 1, 'F25B 2313/0293': 1, 'F24F 2110/52': 1, 'F24F 2110/66': 1, 'F24F 2110/70': 1, 'G06F 3/04162': 1, 'G06F 3/0484': 1, 'G06F 3/03545': 1, 'G06F 3/038': 1, 'G06F 3/0487': 1, 'G06F 2203/0384': 1, 'G06F 3/0481': 1, 'G06Q 30/02': 1, 'G06F 40/30': 1, 'G06F 40/137': 1, 'H04L 51/02': 1, 'G06F 40/295': 1, 'G06F 40/56': 1, 'G06Q 30/0282': 1, 'G06F 3/0482': 1, 'H04W 4/12': 1, 'G06F 40/211': 1, 'G09G 5/006': 1, 'G04R 40/06': 1, 'G04G 3/04': 1, 'G09G 5/003': 1, 'G09G 3/2096': 1, 'G04G 7/026': 1, 'G09G 5/12': 1, 'G04G 7/00': 1, 'G09G 2310/08': 1, 'G09G 2360/12': 1, 'G09G 2340/0435': 1, 'G05D 23/1904': 1, 'G05D 23/1917': 1, 'G05D 23/1906': 1, 'F24F 11/88': 1, 'F24F 11/38': 1, 'F24F 2140/20': 1, 'F24F 2140/12': 1, 'G06F 3/0447': 1, 'G06F 3/04842': 1, 'G06F 3/0445': 1, 'G06F 3/04886': 1, 'G06F 3/044': 1, 'G06F 3/0414': 1, 'G06F 3/0418': 1, 'G06F 3/0416': 1, 'G04G 21/08': 1, 'F24F 11/523': 1, 'F24F 11/0001': 1, 'F24F 2110/72': 1, 'G06F 16/275': 1, 'G06F 8/65': 1, 'G06F 3/04817': 1, 'G06F 3/016': 1, 'G06F 3/017': 1, 'G06T 7/0012': 1, 'G06V 40/167': 1, 'H04N 5/23222': 1, 'G16H 50/20': 1, 'G16H 50/30': 1, 'H04N 5/232935': 1, 'H04N 7/141': 1, 'G06V 40/166': 1, 'H04N 5/2628': 1, 'H04N 5/232945': 1, 'H04N 7/18': 1, 'G06K 9/6215': 1, 'H04N 5/23218': 1, 'H04N 5/232941': 1, 'H04N 5/23216': 1, 'H04N 5/23229': 1, 'H04H 20/18': 1, 'H04W 48/14': 1, 'H04L 67/55': 1, 'H04N 21/8173': 1, 'H04N 21/472': 1, 'H04H 60/82': 1, 'H04N 21/4622': 1, 'H04N 21/43615': 1, 'H04N 21/8545': 1, 'H04N 21/41265': 1, 'H04N 21/64322': 1, 'H04N 21/482': 1, 'H04H 60/80': 1, 'H04N 21/4758': 1, 'H04W 8/005': 1, 'H04N 21/4122': 1, 'H04N 21/4433': 1, 'H04M 19/047': 1, 'H04L 67/10': 1, 'H04W 4/023': 1, 'G08B 6/00': 1, 'G06F 3/0304': 1, 'H04M 1/72412': 1, 'H04W 60/005': 1, 'H04L 67/562': 1, 'H04L 67/12': 1, 'H04L 67/04': 1, 'H04W 68/005': 1, 'G06F 3/01': 1, 'G06F 1/163': 1, 'G06F 2203/04101': 1, 'H04W 12/04': 1, 'H04W 4/02': 1, 'G06F 21/10': 1, 'H04L 9/085': 1, 'H04L 9/0894': 1, 'G06F 21/6218': 1, 'H04W 12/64': 1, 'H04L 2209/80': 1, 'G06F 2221/2111': 1, 'H04L 2209/60': 1, 'G06F 15/0225': 1, 'G06F 3/046': 1, 'G06F 3/04166': 1, 'G06F 2203/04106': 1, 'A61N 1/37247': 1, 'A61N 1/37264': 1, 'A61N 1/36185': 1, 'A61N 1/3605': 1, 'A61N 1/36071': 1, 'H04L 12/2812': 1, 'H04L 65/1093': 1, 'H04W 4/80': 1, 'H04L 12/281': 1, 'H04N 5/04': 1, 'H04L 65/80': 1, 'H04L 65/612': 1, 'H04L 2012/2849': 1, 'A61B 34/71': 1, 'A61B 34/30': 1, 'A61B 34/74': 1, 'A61B 2017/00477': 1, 'A61B 2034/742': 1, 'A61B 2034/301': 1, 'A61B 2090/372': 1, 'A61B 34/25': 1, 'F24F 3/044': 1, 'F24F 11/77': 1, 'Y02B 30/90': 1, 'F24F 2110/00': 1, 'Y02B 30/00': 1, 'F24F 2120/10': 1, 'G09B 5/08': 1, 'A61B 5/486': 1, 'G09B 9/052': 1, 'G06F 1/1626': 1, 'G06F 1/1698': 1, 'H04B 7/15507': 1, 'H04B 15/00': 1, 'G06F 1/1643': 1}\n",
            "\n",
            "cluster number: 31\n",
            "CPC number stats in sub-class level: {'G01S': 16, 'G06F': 140, 'F42B': 3, 'G07C': 1, 'H04W': 13, 'B60R': 2, 'H04M': 23, 'G08B': 7, 'G08G': 1, 'H04B': 15, 'H03K': 6, 'H01Q': 2, 'Y02D': 4, 'G01R': 5, 'G09G': 22, 'G02F': 8, 'G06V': 31, 'F24F': 13, 'Y02B': 1, 'G05B': 4, 'H04L': 2, 'F21V': 1, 'G05D': 1, 'F21Y': 1, 'G01P': 1, 'H02J': 9, 'G01D': 1, 'G08C': 7, 'H05B': 1, 'G06K': 2, 'B60W': 12, 'B60K': 1, 'A61B': 17, 'H04N': 68, 'E05F': 1, 'H01H': 23, 'H05K': 2, 'E05D': 1, 'F16M': 1, 'Y10T': 4, 'E05Y': 1, 'A63B': 2, 'H04R': 3, 'B41J': 36, 'B65H': 6, 'B42C': 9, 'G06Q': 15, 'C09D': 1, 'B43K': 11, 'G07D': 2, 'B42P': 1, 'Y10S': 1}\n",
            "CPC number stats in sub-group level: {'G01S 7/021': 1, 'G06F 17/00': 1, 'G01S 5/0027': 1, 'F42B 12/365': 1, 'G01S 5/0018': 1, 'G01S 5/02': 1, 'G07C 9/29': 1, 'H04W 4/023': 1, 'B60R 25/24': 1, 'B60R 2325/205': 1, 'H04M 1/72454': 1, 'G01S 19/03': 1, 'G01S 19/14': 1, 'H04M 1/72457': 1, 'G01S 19/16': 1, 'G08B 21/02': 1, 'G08B 21/0269': 1, 'G08G 1/16': 1, 'H04M 2250/10': 1, 'H04M 1/00': 1, 'G01S 19/17': 1, 'G06F 1/163': 1, 'H04B 1/3838': 1, 'H04B 5/0031': 1, 'H03K 17/962': 1, 'H04W 4/80': 1, 'G06F 1/1698': 1, 'G06F 1/1684': 1, 'H04W 12/068': 1, 'H01Q 1/243': 1, 'H04W 52/0254': 1, 'G06F 1/1626': 1, 'H04B 1/0458': 1, 'H04B 5/0056': 1, 'H04B 1/385': 1, 'H03K 2217/960775': 1, 'Y02D 30/70': 1, 'H04B 1/006': 1, 'G01R 1/025': 1, 'H03K 2217/94089': 1, 'G06F 3/03547': 1, 'G09G 3/32': 1, 'G09G 3/2092': 1, 'G09G 3/3648': 1, 'G09G 3/3233': 1, 'G06F 1/1643': 1, 'G09G 3/3406': 1, 'G09G 2354/00': 1, 'G09G 2320/0686': 1, 'G06F 2203/04101': 1, 'G09G 2320/0626': 1, 'G09G 2300/046': 1, 'G02F 1/133602': 1, 'G02F 1/133553': 1, 'G06V 40/1318': 1, 'G06F 3/04182': 1, 'G06F 21/32': 1, 'H04M 1/0266': 1, 'G02F 1/13338': 1, 'G06F 3/0412': 1, 'G02F 1/1333': 1, 'G06F 3/0421': 1, 'G06V 40/1306': 1, 'G02F 1/133514': 1, 'G06V 10/17': 1, 'H04M 1/72463': 1, 'G02F 1/13356': 1, 'G02F 1/133562': 1, 'H04M 2250/12': 1, 'G02F 1/133331': 1, 'H04M 1/026': 1, 'F24F 11/56': 1, 'F24F 11/46': 1, 'F24F 2110/76': 1, 'F24F 2110/65': 1, 'Y02B 30/70': 1, 'F24F 2110/66': 1, 'G05B 19/042': 1, 'G05B 19/048': 1, 'F24F 2120/00': 1, 'G05B 15/02': 1, 'F24F 2110/70': 1, 'F24F 2120/12': 1, 'F24F 11/88': 1, 'G08B 21/10': 1, 'H04L 12/2803': 1, 'G08B 19/00': 1, 'F21V 33/0092': 1, 'F24F 11/63': 1, 'G08B 7/066': 1, 'G05D 23/1917': 1, 'G08B 25/10': 1, 'F24F 11/52': 1, 'F21Y 2115/10': 1, 'F24F 11/30': 1, 'G01P 21/00': 1, 'G06F 2203/04108': 1, 'G06F 3/041661': 1, 'G06F 3/03545': 1, 'G06F 3/046': 1, 'H02J 50/10': 1, 'H02J 50/90': 1, 'H02J 50/00': 1, 'H02J 7/00045': 1, 'H04B 5/0037': 1, 'G01D 5/20': 1, 'H02J 5/005': 1, 'H04M 1/72415': 1, 'G06F 1/26': 1, 'G08C 17/02': 1, 'H04W 4/21': 1, 'H04L 67/125': 1, 'H02J 50/80': 1, 'H04W 4/026': 1, 'H04M 1/72409': 1, 'H04W 4/50': 1, 'H05B 47/19': 1, 'G06K 7/10297': 1, 'H02J 50/12': 1, 'H02J 7/0048': 1, 'G08C 2201/10': 1, 'G08C 2201/32': 1, 'G08C 2201/93': 1, 'B60W 40/08': 1, 'B60K 28/066': 1, 'B60W 50/16': 1, 'A61B 5/163': 1, 'G08B 21/06': 1, 'B60W 50/14': 1, 'A61B 5/746': 1, 'H04N 5/23229': 1, 'A61B 5/18': 1, 'A61B 5/0533': 1, 'B60W 2540/22': 1, 'A61B 5/389': 1, 'A61B 5/0261': 1, 'B60W 2420/42': 1, 'B60W 2540/221': 1, 'B60W 2050/0075': 1, 'A61B 5/318': 1, 'A61B 5/6803': 1, 'B60W 2050/143': 1, 'A61B 5/398': 1, 'B60W 2040/0827': 1, 'B60W 2556/10': 1, 'B60W 2540/043': 1, 'B60W 2050/146': 1, 'A61B 5/681': 1, 'G01R 33/543': 1, 'A61B 5/7221': 1, 'A61B 5/7207': 1, 'A61B 5/11': 1, 'A61B 5/055': 1, 'A61B 5/721': 1, 'G01R 33/56509': 1, 'A61B 5/743': 1, 'A61B 5/1128': 1, 'G01R 33/546': 1, 'G06F 3/038': 1, 'G06F 3/0442': 1, 'G06F 3/04166': 1, 'G06F 3/0441': 1, 'G06F 3/04164': 1, 'G06F 3/0447': 1, 'G06F 3/0446': 1, 'G06F 2203/04106': 1, 'G06F 2203/04104': 1, 'G06F 2203/04105': 1, 'H04B 5/02': 1, 'H04B 5/0043': 1, 'H04M 2250/04': 1, 'H04M 1/605': 1, 'G06F 3/0416': 1, 'G06F 3/0445': 1, 'G06F 3/04186': 1, 'G06F 1/1654': 1, 'G06F 3/0414': 1, 'G06F 1/1637': 1, 'E05F 5/08': 1, 'H01H 13/79': 1, 'G06F 3/0219': 1, 'G06F 1/1662': 1, 'H01H 11/00': 1, 'G06F 1/1683': 1, 'H01H 13/703': 1, 'G06F 3/04886': 1, 'G06F 3/002': 1, 'H01H 13/702': 1, 'H04M 1/0254': 1, 'G06F 3/01': 1, 'G06F 3/02': 1, 'G06F 9/541': 1, 'H01H 13/704': 1, 'G06F 13/102': 1, 'G06F 1/1681': 1, 'H05K 5/0234': 1, 'G06F 3/023': 1, 'H01H 13/807': 1, 'G06F 1/1669': 1, 'G06F 3/0233': 1, 'G06F 11/3089': 1, 'G05B 11/01': 1, 'H04M 1/0216': 1, 'E05D 11/1064': 1, 'G06F 3/0202': 1, 'G06F 1/1616': 1, 'G06F 1/1686': 1, 'H01H 13/82': 1, 'G06F 1/166': 1, 'H01H 13/785': 1, 'G06F 1/1618': 1, 'H05K 5/0226': 1, 'G06F 3/0487': 1, 'G06F 1/1656': 1, 'G06F 3/0488': 1, 'H01H 13/78': 1, 'H01H 13/14': 1, 'F16M 11/38': 1, 'H01H 9/26': 1, 'H01H 2205/006': 1, 'H01H 2227/032': 1, 'Y02D 10/00': 1, 'H01H 2217/006': 1, 'H01H 2201/036': 1, 'Y10T 16/5401': 1, 'H01H 2203/036': 1, 'H01H 2217/01': 1, 'H01H 2211/004': 1, 'Y10T 29/49826': 1, 'H01H 2217/004': 1, 'H04M 1/0245': 1, 'E05Y 2201/46': 1, 'H01H 2203/02': 1, 'H01H 2213/016': 1, 'H01H 2203/058': 1, 'H01H 2211/006': 1, 'Y10T 16/551': 1, 'G06F 3/0433': 1, 'G06F 3/043': 1, 'G06F 3/041': 1, 'G06F 1/1692': 1, 'G06F 3/0227': 1, 'G06F 3/044': 1, 'G09G 5/006': 1, 'G06F 3/016': 1, 'G06F 1/1613': 1, 'A63B 2022/0092': 1, 'G06F 2203/04103': 1, 'G09G 3/3453': 1, 'G06F 3/04184': 1, 'G06F 3/0444': 1, 'G09G 2300/08': 1, 'H04R 25/554': 1, 'H04R 2225/49': 1, 'H04R 2225/67': 1, 'B41J 2/17553': 1, 'B65H 37/04': 1, 'G06V 30/1423': 1, 'B42C 9/0081': 1, 'G06V 30/1444': 1, 'H04N 1/00358': 1, 'G06F 3/0321': 1, 'B41J 2/17546': 1, 'B41J 13/106': 1, 'G06V 30/142': 1, 'B41J 2/17563': 1, 'B42C 19/02': 1, 'H04N 1/00244': 1, 'H04N 1/00376': 1, 'B41J 2/2114': 1, 'H04N 1/32128': 1, 'H04N 1/32122': 1, 'B41J 2/17503': 1, 'B41J 2/17513': 1, 'B41J 2/17556': 1, 'H04N 1/00204': 1, 'B41J 13/103': 1, 'H04N 1/00567': 1, 'G06V 30/1448': 1, 'H04N 1/00326': 1, 'B41J 2/17523': 1, 'G06V 10/22': 1, 'H04N 1/00968': 1, 'H04N 1/32771': 1, 'B41J 2/1752': 1, 'H04N 1/32101': 1, 'B42C 9/0006': 1, 'B65H 29/34': 1, 'G06V 10/225': 1, 'H04N 1/32778': 1, 'G06V 10/19': 1, 'H04N 2201/327': 1, 'H04N 2201/0082': 1, 'G06V 30/10': 1, 'H04N 1/00127': 1, 'H04N 2201/3269': 1, 'H04N 2201/3243': 1, 'G06V 30/1426': 1, 'G06F 3/04883': 1, 'G06V 10/12': 1, 'G06Q 40/00': 1, 'G06Q 20/10': 1, 'G08C 21/00': 1, 'G06Q 20/102': 1, 'G06F 3/03542': 1, 'G06F 3/0386': 1, 'G06K 17/00': 1, 'G06F 16/4393': 1, 'C09D 11/50': 1, 'G06F 3/1265': 1, 'G06F 16/955': 1, 'B41J 29/13': 1, 'B43K 29/10': 1, 'G06F 3/1285': 1, 'G06Q 20/3821': 1, 'B43K 29/08': 1, 'G06Q 30/02': 1, 'B41J 3/60': 1, 'G06Q 20/3829': 1, 'H04N 1/32133': 1, 'B43K 23/008': 1, 'H04N 1/32776': 1, 'G06F 3/1204': 1, 'G07D 7/128': 1, 'B43K 24/06': 1, 'H04N 1/00355': 1, 'H04N 1/107': 1, 'B41J 2/17526': 1, 'B43K 7/02': 1, 'H04N 1/00278': 1, 'B43K 29/00': 1, 'B43K 29/004': 1, 'G06Q 30/0241': 1, 'B43K 29/093': 1, 'G06F 16/93': 1, 'B41J 29/02': 1, 'B43K 25/02': 1, 'B43K 7/005': 1, 'H04W 88/04': 1, 'G06Q 20/401': 1, 'G07D 7/005': 1, 'G06Q 30/0207': 1, 'B43K 29/003': 1, 'G06F 40/174': 1, 'Y10T 156/1798': 1, 'H04N 2201/3247': 1, 'G06F 2203/0337': 1, 'H04N 2201/3266': 1, 'B42P 2261/04': 1, 'H04N 2201/3249': 1, 'H04N 2201/3226': 1, 'H04N 2201/001': 1, 'H04N 2201/3278': 1, 'H04N 2201/3267': 1, 'H04N 1/00206': 1, 'Y10S 707/99942': 1, 'H04N 2201/0055': 1, 'H04N 2201/3205': 1, 'H04N 2201/3264': 1, 'H04W 4/18': 1}\n",
            "\n",
            "cluster number: 32\n",
            "CPC number stats in sub-class level: {'G06F': 186, 'H04M': 4, 'H05K': 2, 'G02B': 4, 'F21V': 2, 'G09G': 9, 'G02F': 8, 'H01Q': 7, 'H01B': 1, 'H01L': 5, 'G06K': 5, 'H04B': 2, 'G06Q': 9, 'H04W': 2, 'H04N': 4, 'G01S': 1, 'G01R': 1, 'G06V': 2, 'G08C': 1, 'G01L': 2, 'G01D': 3}\n",
            "CPC number stats in sub-group level: {'G06F 3/04144': 1, 'G06F 3/04883': 1, 'G06F 3/0482': 1, 'G06F 3/0488': 1, 'G06F 3/0412': 1, 'G06F 3/0487': 1, 'G06F 3/04146': 1, 'G06F 3/04842': 1, 'G06F 2203/04103': 1, 'G06F 2203/04105': 1, 'H04M 1/0264': 1, 'H05K 5/0017': 1, 'G02B 5/08': 1, 'F21V 7/00': 1, 'G06F 1/16': 1, 'G06F 1/1684': 1, 'F21V 14/003': 1, 'H05K 5/0217': 1, 'G02B 17/08': 1, 'G06F 1/1626': 1, 'G06F 1/1686': 1, 'H04M 1/026': 1, 'G09G 3/3688': 1, 'G02F 1/13452': 1, 'G09G 3/20': 1, 'G09G 3/3614': 1, 'G09G 3/3677': 1, 'G02F 1/1368': 1, 'G02F 1/13306': 1, 'G02F 1/136286': 1, 'G09G 2310/0202': 1, 'G02B 6/0046': 1, 'G09G 2320/0247': 1, 'G09G 2330/021': 1, 'G02F 2202/103': 1, 'G09G 2310/0213': 1, 'G02B 6/0083': 1, 'G02F 1/133615': 1, 'G02F 1/1362': 1, 'G09G 2310/0224': 1, 'G02F 1/13338': 1, 'H04M 1/0216': 1, 'H01Q 13/10': 1, 'H01Q 5/342': 1, 'H01Q 1/42': 1, 'H01Q 1/243': 1, 'H01Q 5/335': 1, 'H01Q 5/385': 1, 'H04M 1/0268': 1, 'G06F 3/044': 1, 'G06F 3/0447': 1, 'G06F 3/041': 1, 'G06F 3/0445': 1, 'H01B 5/14': 1, 'G06F 3/0414': 1, 'G06F 3/04166': 1, 'H01L 27/323': 1, 'G06K 9/00': 1, 'H01L 27/3234': 1, 'G06F 3/0416': 1, 'H04B 1/3888': 1, 'G06F 3/0443': 1, 'H04B 1/3827': 1, 'H01L 27/3244': 1, 'H01L 27/3211': 1, 'H01L 27/3276': 1, 'G06F 3/0446': 1, 'G06Q 20/40': 1, 'G06Q 20/32': 1, 'H04W 4/80': 1, 'G06F 3/04142': 1, 'H04N 21/2387': 1, 'G06F 21/32': 1, 'G06Q 20/40145': 1, 'G06F 3/0483': 1, 'G06Q 20/3267': 1, 'H04W 4/00': 1, 'H04N 21/4396': 1, 'H04N 21/42224': 1, 'H04N 21/47217': 1, 'G06F 2203/04106': 1, 'G06F 3/03545': 1, 'G06F 3/0383': 1, 'G06K 7/089': 1, 'H01Q 1/2266': 1, 'G06K 7/10': 1, 'G06Q 30/0267': 1, 'G01S 19/13': 1, 'G06K 19/077': 1, 'G06F 1/1698': 1, 'G06K 7/082': 1, 'G06Q 30/0269': 1, 'G06F 3/04162': 1, 'G06F 3/0442': 1, 'G06F 3/0441': 1, 'G06F 3/046': 1, 'G06F 3/0418': 1, 'G06F 2203/04104': 1, 'G06F 2203/04108': 1, 'G01R 33/1269': 1, 'G06F 3/033': 1, 'G06F 3/0321': 1, 'G06Q 20/10': 1, 'G06V 10/12': 1, 'G08C 21/00': 1, 'G06Q 20/102': 1, 'G06V 30/1423': 1, 'G06Q 40/00': 1, 'G01L 1/146': 1, 'G01D 5/34746': 1, 'G01L 1/144': 1, 'G01D 5/3473': 1, 'G01D 2205/90': 1}\n",
            "\n",
            "cluster number: 33\n",
            "CPC number stats in sub-class level: {'H04W': 5, 'H04B': 15, 'H01Q': 12, 'H04L': 1, 'H01P': 6, 'G06F': 4}\n",
            "CPC number stats in sub-group level: {'H04W 16/26': 1, 'H04B 3/58': 1, 'H01Q 13/20': 1, 'H04B 3/52': 1, 'H04B 3/56': 1, 'H04W 16/32': 1, 'H04B 2203/5441': 1, 'H04B 2203/5425': 1, 'H01Q 13/02': 1, 'H04B 2203/5479': 1, 'H04W 88/08': 1, 'H04B 2203/5483': 1, 'H04B 2203/5495': 1, 'H04B 2203/5445': 1, 'H04L 25/0272': 1, 'H01P 5/188': 1, 'H01P 1/22': 1, 'H04B 3/54': 1, 'H04B 3/50': 1, 'H01P 1/16': 1, 'H01P 3/127': 1, 'H04W 16/28': 1, 'H01Q 19/08': 1, 'H01Q 13/24': 1, 'H04B 7/0617': 1, 'H01P 5/08': 1, 'H04W 84/042': 1, 'H01Q 3/26': 1, 'H01Q 1/1242': 1, 'H01Q 1/1228': 1, 'H01Q 5/22': 1, 'H01Q 9/0485': 1, 'H01Q 21/28': 1, 'H01Q 1/246': 1, 'H01Q 5/10': 1, 'G06F 3/0418': 1, 'G06F 3/0448': 1, 'G06F 3/0446': 1, 'G06F 2203/04111': 1}\n",
            "\n",
            "cluster number: 34\n",
            "CPC number stats in sub-class level: {'H01R': 12, 'G06F': 90, 'F24F': 10, 'G01K': 2, 'Y02B': 1, 'B43K': 14, 'Y10T': 1, 'H02J': 6, 'H01F': 5, 'F16M': 4, 'F16F': 1, 'H01Q': 13, 'H01P': 1, 'H04R': 16, 'B60R': 2, 'H04B': 2, 'H04M': 4, 'B60N': 2, 'H04W': 2, 'E05D': 2, 'E05Y': 1, 'G02B': 1, 'B24B': 1, 'A61B': 3, 'E04B': 3, 'A47B': 1, 'G01L': 1}\n",
            "CPC number stats in sub-group level: {'H01R 13/447': 1, 'H01R 13/6272': 1, 'H01R 13/72': 1, 'H01R 24/64': 1, 'H01R 13/639': 1, 'H01R 13/6456': 1, 'H01R 2201/16': 1, 'H01R 2201/04': 1, 'H01R 27/02': 1, 'H01R 13/64': 1, 'H01R 31/06': 1, 'H01R 2201/06': 1, 'G06F 3/03545': 1, 'F24F 11/523': 1, 'F24F 11/89': 1, 'G01K 1/08': 1, 'F24F 11/50': 1, 'F24F 11/88': 1, 'F24F 13/20': 1, 'F24F 2013/207': 1, 'G01K 2201/00': 1, 'F24F 2110/20': 1, 'F24F 2110/10': 1, 'Y02B 30/70': 1, 'F24F 2110/70': 1, 'F24F 2120/10': 1, 'G06F 3/039': 1, 'B43K 25/00': 1, 'B43K 23/002': 1, 'B43K 23/04': 1, 'B43K 23/001': 1, 'Y10T 24/45099': 1, 'G06F 1/1643': 1, 'G06F 3/046': 1, 'G06F 3/0442': 1, 'G06F 3/0446': 1, 'G06F 1/266': 1, 'H02J 7/0044': 1, 'G06F 1/1637': 1, 'G06F 1/1669': 1, 'H01F 27/36': 1, 'G06F 1/1626': 1, 'G06F 1/1656': 1, 'H01F 27/363': 1, 'G06F 1/1698': 1, 'H02J 50/90': 1, 'H01F 7/0252': 1, 'H01F 38/14': 1, 'H02J 50/70': 1, 'G06F 1/1632': 1, 'G06F 3/0383': 1, 'G06F 1/1635': 1, 'G06F 1/166': 1, 'H01F 7/0247': 1, 'G06F 1/1683': 1, 'H02J 50/10': 1, 'G06F 3/038': 1, 'G06F 2200/1632': 1, 'F16M 11/2057': 1, 'F16F 3/12': 1, 'G06F 3/04162': 1, 'G06F 3/04186': 1, 'G06F 3/0441': 1, 'H01Q 1/12': 1, 'H01Q 3/10': 1, 'H01P 3/16': 1, 'H01Q 1/1207': 1, 'H01Q 1/103': 1, 'H01Q 1/1228': 1, 'H01Q 1/088': 1, 'B43K 27/006': 1, 'B43K 27/08': 1, 'B43K 5/02': 1, 'B43K 27/00': 1, 'H04R 1/1041': 1, 'B60R 1/062': 1, 'H04R 1/1091': 1, 'H04R 1/105': 1, 'H04B 17/318': 1, 'H04M 1/72457': 1, 'H04R 1/1033': 1, 'B60N 2/0244': 1, 'H04R 3/00': 1, 'G06F 3/165': 1, 'H04W 4/80': 1, 'H04M 1/72412': 1, 'H04R 1/1016': 1, 'H04R 5/033': 1, 'H04R 2420/07': 1, 'G06F 3/041': 1, 'G06F 2203/04108': 1, 'G06F 2203/04105': 1, 'G06F 2203/04101': 1, 'G06F 1/1616': 1, 'F16M 11/10': 1, 'E05D 11/1007': 1, 'G06F 1/1679': 1, 'E05Y 2900/606': 1, 'E05D 11/10': 1, 'F16M 2200/024': 1, 'F16M 2200/022': 1, 'H01Q 5/10': 1, 'H01Q 5/22': 1, 'H01Q 1/246': 1, 'H01Q 21/28': 1, 'H01Q 9/0485': 1, 'H01Q 1/1242': 1, 'G06F 3/0393': 1, 'G06F 1/1607': 1, 'G06F 1/163': 1, 'G06F 3/0338': 1, 'G02B 27/0176': 1, 'H02J 7/342': 1, 'G06F 3/0485': 1, 'G06F 1/1681': 1, 'G06F 1/1684': 1, 'G06F 1/1618': 1, 'G06F 1/16': 1, 'G06F 1/1654': 1, 'B43K 29/004': 1, 'B43K 29/00': 1, 'B43K 7/00': 1, 'B43K 29/08': 1, 'G06F 3/04883': 1, 'B43K 29/18': 1, 'B24B 13/0055': 1, 'A61B 5/363': 1, 'A61B 5/25': 1, 'A61B 5/364': 1, 'E04B 2/7453': 1, 'A47B 2200/0073': 1, 'E04B 2002/7468': 1, 'E04B 2002/7483': 1, 'G01L 1/20': 1, 'G06F 3/03543': 1}\n",
            "\n",
            "cluster number: 35\n",
            "CPC number stats in sub-class level: {'H04W': 23, 'G06F': 24, 'B62M': 5, 'B62K': 3, 'F16H': 1, 'H01P': 35, 'H04B': 103, 'H01Q': 12, 'H02G': 1, 'H04M': 5, 'H04L': 18, 'H05K': 6, 'G02B': 1, 'H04R': 3, 'H03G': 1}\n",
            "CPC number stats in sub-group level: {'H04W 76/11': 1, 'H04W 16/26': 1, 'H04W 76/16': 1, 'H04W 68/005': 1, 'H04W 88/04': 1, 'H04W 4/80': 1, 'H04W 88/06': 1, 'H04W 76/27': 1, 'H04W 12/06': 1, 'G06F 3/0383': 1, 'G06F 3/03545': 1, 'G06F 3/0446': 1, 'G06F 3/0442': 1, 'G06F 3/0441': 1, 'G06F 3/038': 1, 'G06F 3/046': 1, 'G06F 3/0482': 1, 'G06F 3/04162': 1, 'G06F 3/14': 1, 'G06F 2203/04807': 1, 'G06F 2200/1632': 1, 'G06F 2203/0384': 1, 'G06F 1/1626': 1, 'B62M 9/132': 1, 'B62M 25/04': 1, 'B62M 25/08': 1, 'B62K 23/02': 1, 'B62M 9/123': 1, 'F16H 61/0204': 1, 'B62M 9/122': 1, 'B62K 23/06': 1, 'B62K 21/125': 1, 'H01P 5/087': 1, 'H01P 3/10': 1, 'H01P 5/08': 1, 'H04B 3/56': 1, 'H04B 3/52': 1, 'H01P 3/12': 1, 'H01P 3/165': 1, 'H01P 5/188': 1, 'H01P 3/122': 1, 'H04B 3/54': 1, 'H01P 3/127': 1, 'H01P 3/16': 1, 'H04B 3/06': 1, 'H04B 3/36': 1, 'H01Q 13/02': 1, 'H01Q 21/20': 1, 'H01Q 25/00': 1, 'H01Q 21/28': 1, 'H01P 1/16': 1, 'H01Q 1/46': 1, 'H02G 7/05': 1, 'H04M 3/007': 1, 'H04B 7/15507': 1, 'H04B 3/58': 1, 'H04B 7/04': 1, 'H04L 5/14': 1, 'H04L 67/01': 1, 'H01Q 13/085': 1, 'H01Q 21/24': 1, 'H01Q 13/18': 1, 'H01Q 13/106': 1, 'H01Q 1/44': 1, 'H05K 999/99': 1, 'H04B 1/0057': 1, 'H04W 88/08': 1, 'H04B 3/38': 1, 'H04W 84/12': 1, 'H04B 7/155': 1, 'H04L 5/0023': 1, 'H04L 5/1461': 1, 'H04L 5/1438': 1, 'H04L 5/0048': 1, 'H01P 1/02': 1, 'H04B 3/544': 1, 'H01P 1/264': 1, 'H04B 3/46': 1, 'H04B 2203/5479': 1, 'H01P 5/183': 1, 'H04B 2203/5483': 1, 'H04B 2203/5441': 1, 'H01P 5/16': 1, 'H01P 5/12': 1, 'H01Q 15/244': 1, 'H01P 5/107': 1, 'H04B 3/00': 1, 'H01P 5/181': 1, 'G02B 6/28': 1, 'H01P 1/068': 1, 'H01P 5/1022': 1, 'H04B 1/40': 1, 'H04B 3/32': 1, 'H04B 1/0475': 1, 'H04W 24/02': 1, 'H04M 1/035': 1, 'H04M 11/062': 1, 'H04R 3/04': 1, 'H04M 1/03': 1, 'H04M 19/04': 1, 'H03G 5/165': 1, 'H04R 1/02': 1, 'H04R 2499/11': 1, 'G06F 3/04883': 1, 'G06F 1/1618': 1, 'G06F 1/1647': 1, 'G06F 3/0304': 1, 'G06F 1/1616': 1, 'G06F 3/0488': 1, 'G06F 3/017': 1, 'G06F 3/016': 1}\n",
            "\n",
            "cluster number: 36\n",
            "CPC number stats in sub-class level: {'H01Q': 17, 'H05K': 18, 'G03B': 15, 'G06F': 21, 'G06V': 2, 'H01L': 1, 'H02J': 16, 'H01F': 21, 'H04B': 7, 'H04N': 7, 'H02H': 1, 'G02B': 9, 'H04R': 10, 'H04J': 1, 'H04W': 1, 'H01R': 8, 'Y10T': 1, 'F16M': 3, 'G02F': 1, 'G09G': 9}\n",
            "CPC number stats in sub-group level: {'H01Q 21/00': 1, 'H01Q 21/08': 1, 'H01Q 1/38': 1, 'H05K 1/0298': 1, 'H05K 7/20336': 1, 'H01Q 1/02': 1, 'H01Q 1/2283': 1, 'H01Q 1/243': 1, 'H05K 1/0206': 1, 'H05K 2201/10098': 1, 'G03B 9/06': 1, 'G03B 30/00': 1, 'G03B 2205/0069': 1, 'G06F 1/16': 1, 'G06V 40/13': 1, 'G06F 3/04166': 1, 'G06V 40/1318': 1, 'G06F 3/03545': 1, 'G06F 3/046': 1, 'G06F 3/0412': 1, 'G06F 3/0446': 1, 'G06F 2203/04106': 1, 'H01L 27/3234': 1, 'H02J 50/12': 1, 'H01F 38/14': 1, 'H02J 50/40': 1, 'H02J 50/10': 1, 'H01F 27/36': 1, 'H02J 50/70': 1, 'H01F 27/2823': 1, 'H01F 27/363': 1, 'H01F 17/0013': 1, 'H02J 5/005': 1, 'H02J 7/025': 1, 'H01F 27/402': 1, 'H02J 50/005': 1, 'H04B 5/0037': 1, 'H02J 7/0042': 1, 'H04N 5/247': 1, 'H04N 5/2258': 1, 'H04N 5/2253': 1, 'H04N 5/2257': 1, 'H02H 9/02': 1, 'H04N 5/2254': 1, 'G03B 3/10': 1, 'H04N 5/2252': 1, 'G02B 7/09': 1, 'G03B 2205/00': 1, 'G02B 27/646': 1, 'G02B 7/021': 1, 'H04N 5/23248': 1, 'G03B 13/36': 1, 'G03B 2205/0007': 1, 'G02B 7/08': 1, 'G03B 5/00': 1, 'H05K 1/111': 1, 'H05K 1/181': 1, 'G03B 17/02': 1, 'H05K 2201/10151': 1, 'H05K 2201/0314': 1, 'G03B 2217/002': 1, 'H05K 2201/10121': 1, 'H01Q 1/24': 1, 'H01Q 7/00': 1, 'H02J 50/90': 1, 'H04R 1/028': 1, 'H04R 7/04': 1, 'H04R 7/18': 1, 'H04R 9/025': 1, 'H04R 9/06': 1, 'H04R 7/16': 1, 'H04R 2499/11': 1, 'H04R 2307/207': 1, 'H04R 2400/11': 1, 'H04R 2499/15': 1, 'H01F 27/02': 1, 'H01F 5/02': 1, 'H04B 5/0081': 1, 'H01F 27/2885': 1, 'H01F 2005/027': 1, 'H04B 10/90': 1, 'H04J 14/007': 1, 'G02B 6/29332': 1, 'H04B 10/40': 1, 'H04B 10/60': 1, 'H04B 10/50': 1, 'H05K 7/2039': 1, 'H01Q 21/065': 1, 'H05K 1/028': 1, 'H05K 7/20472': 1, 'G06F 1/20': 1, 'H05K 9/0026': 1, 'G06F 1/1626': 1, 'H01Q 1/422': 1, 'H02J 50/20': 1, 'H05K 1/0243': 1, 'H01Q 1/2291': 1, 'G06F 1/1698': 1, 'H05K 2201/10371': 1, 'H04W 88/02': 1, 'H05K 1/0209': 1, 'H01Q 9/0407': 1, 'H01R 43/01': 1, 'H01F 27/2828': 1, 'H01F 27/06': 1, 'H01R 13/00': 1, 'H01F 41/10': 1, 'H01F 27/292': 1, 'H01R 13/719': 1, 'H01F 27/04': 1, 'H01F 27/306': 1, 'H01R 2107/00': 1, 'Y10T 29/49194': 1, 'H01F 2027/065': 1, 'H01F 2017/0093': 1, 'H01R 4/023': 1, 'H01F 17/062': 1, 'H01R 43/0221': 1, 'H01R 24/64': 1, 'H01R 4/027': 1, 'G06F 3/0442': 1, 'G06F 1/166': 1, 'G06F 1/1681': 1, 'G06F 1/1632': 1, 'F16M 11/10': 1, 'F16M 2200/024': 1, 'F16M 2200/041': 1, 'G06F 3/0488': 1, 'G02F 1/13338': 1, 'G09G 3/344': 1, 'G09G 3/2074': 1, 'G09G 2300/08': 1, 'G09G 2300/0809': 1, 'G09G 2300/0857': 1, 'G09G 2310/0267': 1, 'G09G 2310/027': 1, 'G09G 2310/0275': 1, 'G09G 2330/021': 1}\n",
            "\n",
            "cluster number: 37\n",
            "CPC number stats in sub-class level: {'G06F': 60, 'H02J': 15, 'H04R': 21, 'G02B': 7, 'H04N': 4, 'G03B': 8, 'H04M': 12, 'H01F': 3, 'G06V': 3, 'H01Q': 8, 'H05K': 3, 'H04W': 1, 'H04B': 1, 'H03G': 1, 'B65B': 5, 'B43K': 10, 'H01G': 1, 'Y10T': 2}\n",
            "CPC number stats in sub-group level: {'G06F 3/046': 1, 'H02J 50/12': 1, 'H02J 50/90': 1, 'H02J 7/0048': 1, 'H02J 50/10': 1, 'G06F 3/0484': 1, 'G06F 3/03545': 1, 'H02J 7/007': 1, 'H02J 7/025': 1, 'H02J 7/0047': 1, 'G06F 3/038': 1, 'G06F 3/0383': 1, 'H02J 50/80': 1, 'H02J 7/0049': 1, 'H02J 7/00712': 1, 'G06F 3/04162': 1, 'G06F 2203/0384': 1, 'H04R 1/028': 1, 'H04R 1/021': 1, 'H04R 1/2811': 1, 'H04R 1/345': 1, 'H04R 2499/11': 1, 'H04R 2499/15': 1, 'G06F 3/0442': 1, 'G06F 3/0441': 1, 'G02B 13/001': 1, 'H04N 5/2254': 1, 'G02B 26/007': 1, 'G03B 9/04': 1, 'G02B 7/006': 1, 'G03B 2205/0069': 1, 'H04M 1/0266': 1, 'H04R 1/025': 1, 'H04M 1/035': 1, 'H04R 1/026': 1, 'H04M 1/0274': 1, 'H04R 1/2888': 1, 'H04R 1/06': 1, 'H04R 2400/11': 1, 'H04R 2201/029': 1, 'H04R 1/2842': 1, 'H04M 1/18': 1, 'H04R 1/406': 1, 'G06F 1/1656': 1, 'G06F 1/1684': 1, 'G06F 1/1698': 1, 'H04R 3/005': 1, 'G06F 1/3215': 1, 'G06F 1/1643': 1, 'H04R 1/04': 1, 'G06F 1/325': 1, 'G06F 3/165': 1, 'G06F 2200/1632': 1, 'G06F 1/1626': 1, 'H04R 2420/07': 1, 'H01F 17/045': 1, 'H01F 1/0315': 1, 'H01F 27/2823': 1, 'G06F 3/044': 1, 'G06V 40/1306': 1, 'H04M 1/026': 1, 'G06V 40/1329': 1, 'G06V 10/17': 1, 'H04M 2250/12': 1, 'H01Q 21/28': 1, 'H05K 1/0243': 1, 'H04W 4/80': 1, 'H01Q 1/241': 1, 'H01Q 1/243': 1, 'H05K 1/0277': 1, 'H01Q 7/08': 1, 'H01Q 7/00': 1, 'H04B 5/0081': 1, 'H05K 2201/10098': 1, 'G06F 3/033': 1, 'G06F 3/048': 1, 'G06F 2203/04105': 1, 'G06F 3/0346': 1, 'H04R 1/02': 1, 'H04M 1/03': 1, 'H04M 11/062': 1, 'H04M 19/04': 1, 'H03G 5/165': 1, 'H04R 3/04': 1, 'H04M 1/0264': 1, 'H04N 5/2253': 1, 'G03B 3/10': 1, 'G02B 5/208': 1, 'G03B 11/00': 1, 'H04N 5/2257': 1, 'G02B 15/142': 1, 'G02B 7/09': 1, 'H04N 5/2252': 1, 'G02B 7/08': 1, 'G03B 9/06': 1, 'G03B 5/00': 1, 'G03B 2205/0046': 1, 'B65B 43/42': 1, 'B65B 1/46': 1, 'B65B 1/28': 1, 'B65B 1/06': 1, 'B65B 5/103': 1, 'B43K 23/008': 1, 'G06F 1/1686': 1, 'H01Q 9/42': 1, 'G06F 1/1658': 1, 'G06F 1/1681': 1, 'G06F 1/1635': 1, 'G06F 1/162': 1, 'H01Q 1/2266': 1, 'H01G 5/16': 1, 'B43K 25/02': 1, 'Y10T 24/135': 1, 'Y10T 24/1353': 1, 'B43K 5/005': 1, 'B43K 24/08': 1, 'B43K 29/08': 1, 'B43K 29/18': 1}\n",
            "\n",
            "cluster number: 38\n",
            "CPC number stats in sub-class level: {'H04B': 123, 'H01P': 56, 'H01Q': 105, 'B29C': 10, 'B29L': 2, 'B29K': 2, 'H01R': 1, 'H02J': 5, 'H01F': 1, 'H04R': 7, 'H04W': 25, 'B64C': 2, 'H04L': 17, 'H04Q': 4, 'G01R': 2, 'G08C': 1}\n",
            "CPC number stats in sub-group level: {'H04B 3/52': 1, 'H01P 1/16': 1, 'H01Q 15/08': 1, 'H01Q 13/24': 1, 'H01Q 19/062': 1, 'H01Q 21/064': 1, 'H01Q 21/0068': 1, 'B29C 45/26': 1, 'H01Q 9/0485': 1, 'H01Q 19/08': 1, 'B29C 33/3835': 1, 'B29C 35/02': 1, 'B29C 45/0025': 1, 'B29C 45/0001': 1, 'B29L 2031/3456': 1, 'B29K 2995/0006': 1, 'H01Q 1/50': 1, 'H01P 3/16': 1, 'H01P 5/087': 1, 'H01Q 13/06': 1, 'H01Q 3/36': 1, 'H01P 5/08': 1, 'H01Q 3/08': 1, 'H01R 3/00': 1, 'H01Q 21/205': 1, 'H01Q 13/02': 1, 'H04B 5/0018': 1, 'H04B 3/54': 1, 'H04B 3/00': 1, 'H04B 3/56': 1, 'H01P 3/10': 1, 'H01P 5/026': 1, 'H01P 5/12': 1, 'H01P 3/12': 1, 'H01P 5/00': 1, 'H02J 7/025': 1, 'H02J 50/20': 1, 'H01F 38/14': 1, 'H02J 7/00045': 1, 'H04B 5/0037': 1, 'H02J 50/12': 1, 'H02J 50/23': 1, 'H01P 3/122': 1, 'H01P 1/22': 1, 'H04B 5/0031': 1, 'H01P 5/188': 1, 'H01P 3/127': 1, 'H04B 7/0617': 1, 'H01Q 1/46': 1, 'H01Q 15/244': 1, 'H01Q 19/09': 1, 'H04R 2420/07': 1, 'H04B 2203/5441': 1, 'H01P 5/181': 1, 'H01Q 1/1228': 1, 'H04B 3/58': 1, 'H04B 3/04': 1, 'H04B 2203/5445': 1, 'H01Q 3/26': 1, 'H04B 2203/5466': 1, 'H04B 2203/5425': 1, 'H01Q 21/067': 1, 'H04W 16/28': 1, 'H04W 16/22': 1, 'H04W 4/021': 1, 'H04W 16/24': 1, 'H04W 4/025': 1, 'H04B 7/0413': 1, 'H04B 7/0452': 1, 'H04B 7/145': 1, 'H04B 7/0417': 1, 'B64C 39/024': 1, 'H04W 16/18': 1, 'H04W 4/023': 1, 'H04W 16/32': 1, 'H04B 7/0608': 1, 'H04W 16/14': 1, 'H04L 41/22': 1, 'H04L 1/0025': 1, 'H01Q 21/0006': 1, 'H04B 1/38': 1, 'H01Q 3/24': 1, 'H01Q 1/422': 1, 'H04Q 2011/0039': 1, 'H01Q 1/12': 1, 'H01Q 3/10': 1, 'H04L 69/18': 1, 'H04B 3/36': 1, 'H04L 69/08': 1, 'H01Q 1/36': 1, 'H01Q 7/08': 1, 'H01Q 13/08': 1, 'H01Q 3/2658': 1, 'H01Q 21/29': 1, 'H04R 3/00': 1, 'H04B 1/0475': 1, 'H04W 24/02': 1, 'H04B 3/32': 1, 'H04B 1/40': 1, 'H04B 3/46': 1, 'H04L 41/0677': 1, 'H04W 24/04': 1, 'H04L 45/02': 1, 'H04L 45/28': 1, 'G01R 31/58': 1, 'H04L 41/0668': 1, 'G01R 31/08': 1, 'H04W 72/0446': 1, 'H04L 47/25': 1, 'H04W 24/06': 1, 'H04L 45/22': 1, 'H04B 2203/5458': 1, 'H04B 2203/5487': 1, 'H04B 10/40': 1, 'H04B 10/25752': 1, 'H04B 10/25753': 1, 'H04B 10/2581': 1, 'H01Q 1/246': 1, 'H04B 7/024': 1, 'H04B 10/0799': 1, 'H01Q 1/2291': 1, 'H01Q 1/40': 1, 'H04W 16/26': 1, 'H01Q 13/28': 1, 'H04W 88/085': 1, 'H04B 1/16': 1, 'H04B 1/04': 1, 'H01Q 1/24': 1, 'H04B 7/15557': 1, 'H01P 5/02': 1, 'H04B 3/546': 1, 'G08C 23/06': 1, 'H04B 17/345': 1, 'H04Q 9/00': 1, 'H01P 5/103': 1, 'H04B 2203/5495': 1, 'H04Q 2209/30': 1, 'H04Q 2209/60': 1}\n",
            "\n",
            "cluster number: 39\n",
            "CPC number stats in sub-class level: {'G06Q': 32, 'G06F': 32, 'G06V': 8, 'G06N': 2, 'G06T': 5, 'H04L': 40, 'H04W': 9, 'H04B': 7, 'A63F': 6, 'H02J': 3, 'Y04S': 2, 'Y02E': 3, 'H04N': 1, 'G01S': 2, 'G01C': 1, 'G09G': 1}\n",
            "CPC number stats in sub-group level: {'G06Q 30/0603': 1, 'G06Q 30/06': 1, 'G06F 3/167': 1, 'G06Q 30/00': 1, 'G06Q 30/0633': 1, 'G06Q 30/0601': 1, 'G06Q 30/02': 1, 'G06V 40/172': 1, 'G06Q 10/087': 1, 'G06V 20/20': 1, 'G06Q 30/0278': 1, 'G06Q 30/0631': 1, 'G06N 20/00': 1, 'G06Q 30/0643': 1, 'G06Q 30/0267': 1, 'G06Q 30/0611': 1, 'G06Q 30/0627': 1, 'G06Q 30/0241': 1, 'G06Q 30/08': 1, 'G06T 19/006': 1, 'G06Q 30/0621': 1, 'G06T 2215/16': 1, 'G06V 2201/09': 1, 'H04L 63/10': 1, 'H04L 63/104': 1, 'H04W 4/70': 1, 'H04L 63/20': 1, 'H04W 12/60': 1, 'H04W 12/10': 1, 'H04L 63/0227': 1, 'H04L 67/12': 1, 'H04B 3/52': 1, 'A63F 13/352': 1, 'A63F 13/825': 1, 'A63F 13/533': 1, 'A63F 13/537': 1, 'A63F 13/73': 1, 'A63F 2300/575': 1, 'H04L 41/145': 1, 'H04L 43/16': 1, 'H04L 41/20': 1, 'H04L 41/142': 1, 'H04L 67/1057': 1, 'H04L 41/30': 1, 'H04L 67/125': 1, 'H04L 43/06': 1, 'G06F 11/3409': 1, 'H04L 67/1044': 1, 'H04L 43/0876': 1, 'H04L 43/08': 1, 'H04W 40/24': 1, 'H04L 43/0811': 1, 'H04L 43/04': 1, 'H04L 9/0643': 1, 'H04L 43/062': 1, 'G06F 2201/86': 1, 'H04L 41/16': 1, 'H04L 63/08': 1, 'G06F 2201/81': 1, 'G06F 11/3006': 1, 'H04W 4/029': 1, 'H04W 72/048': 1, 'H04W 72/046': 1, 'H04W 72/1226': 1, 'G06F 3/04847': 1, 'G06F 16/27': 1, 'G06F 3/04845': 1, 'G06F 3/04842': 1, 'G06F 3/0412': 1, 'G06F 16/51': 1, 'H04L 67/565': 1, 'G06F 3/0488': 1, 'G06F 3/016': 1, 'H04L 67/04': 1, 'G06F 40/131': 1, 'G06V 30/40': 1, 'G06F 40/30': 1, 'G06F 40/171': 1, 'G06F 40/103': 1, 'G06V 30/43': 1, 'H02J 13/00017': 1, 'H02J 13/00007': 1, 'H04L 45/74': 1, 'H04B 3/54': 1, 'H04L 45/126': 1, 'Y04S 40/121': 1, 'H04B 2203/5433': 1, 'Y02E 60/00': 1, 'Y04S 40/124': 1, 'H02J 13/00': 1, 'Y02E 60/7838': 1, 'H04B 2203/5408': 1, 'Y02E 60/7815': 1, 'G06F 16/635': 1, 'G06F 3/04883': 1, 'G06F 3/0482': 1, 'G06F 16/68': 1, 'G06F 2203/04806': 1, 'H04L 43/50': 1, 'H04L 41/12': 1, 'H04N 7/183': 1, 'G01S 19/42': 1, 'G01S 5/0257': 1, 'G01C 15/00': 1, 'H04B 10/1129': 1, 'G06F 21/6218': 1, 'H04L 67/10': 1, 'H04L 65/403': 1, 'G06F 21/6254': 1, 'H04L 63/102': 1, 'H04L 51/046': 1, 'H04L 51/04': 1, 'H04L 51/52': 1, 'G06T 13/80': 1, 'G06F 2203/04805': 1, 'H04L 67/1095': 1, 'H04L 67/131': 1, 'G06F 9/546': 1, 'G09G 2352/00': 1, 'G06F 8/20': 1}\n",
            "\n",
            "cluster number: 40\n",
            "CPC number stats in sub-class level: {'G06F': 44, 'G06V': 1, 'G06K': 1, 'H04R': 8}\n",
            "CPC number stats in sub-group level: {'G06F 3/01': 1, 'G06F 3/017': 1, 'G06V 40/12': 1, 'G06K 9/00': 1, 'G06F 3/0416': 1, 'G06F 3/011': 1, 'G06F 3/04883': 1, 'G06F 21/32': 1, 'G06F 3/0346': 1, 'G06F 3/16': 1, 'H04R 3/04': 1, 'H04R 17/005': 1, 'H04R 7/045': 1, 'H04R 2400/03': 1, 'H04R 3/00': 1, 'H04R 2217/01': 1, 'H04R 17/00': 1, 'H04R 2499/11': 1, 'G06F 3/03545': 1, 'G06F 3/0412': 1, 'G06F 3/033': 1, 'G06F 3/046': 1}\n",
            "\n",
            "cluster number: 41\n",
            "CPC number stats in sub-class level: {'G06V': 13, 'H04M': 20, 'G06K': 4, 'G06N': 6, 'G06F': 67, 'H04N': 18, 'H04L': 22, 'G06Q': 2, 'G11B': 1, 'H03G': 5, 'H04R': 5, 'H04W': 3, 'H01Q': 1, 'H04B': 6}\n",
            "CPC number stats in sub-group level: {'G06V 40/165': 1, 'G06V 40/171': 1, 'H04M 1/72463': 1, 'G06K 9/6274': 1, 'G06N 3/08': 1, 'H04M 1/72439': 1, 'G06V 40/172': 1, 'G06K 9/6262': 1, 'G06N 3/0445': 1, 'G06V 40/178': 1, 'G06V 40/179': 1, 'G06F 16/287': 1, 'G06V 40/176': 1, 'G06F 3/04817': 1, 'G06F 3/0482': 1, 'H04M 2250/52': 1, 'H04M 2250/62': 1, 'G06V 40/174': 1, 'H04N 5/445': 1, 'H04N 21/44218': 1, 'H04N 21/4312': 1, 'H04N 7/141': 1, 'G06K 9/6215': 1, 'H04N 7/147': 1, 'G06F 9/451': 1, 'G06F 3/0488': 1, 'G06F 9/44578': 1, 'G06F 9/445': 1, 'G06F 9/4843': 1, 'G06F 15/7807': 1, 'G06N 3/063': 1, 'G06N 3/0454': 1, 'G06N 20/00': 1, 'G06F 9/30': 1, 'G06F 8/41': 1, 'H04L 65/403': 1, 'G06F 3/041': 1, 'G06F 3/0481': 1, 'H04N 7/152': 1, 'G06F 40/166': 1, 'G06Q 10/101': 1, 'G06F 3/04847': 1, 'G11B 27/02': 1, 'G06F 2203/04803': 1, 'G06F 3/04886': 1, 'G06F 3/04883': 1, 'G06F 3/017': 1, 'H04N 5/2628': 1, 'H04L 65/1096': 1, 'H04L 65/1059': 1, 'H04L 65/1069': 1, 'G06V 40/20': 1, 'G06F 1/1643': 1, 'H04L 65/1089': 1, 'G06F 2203/011': 1, 'H04N 5/232941': 1, 'H04N 21/42204': 1, 'H04N 21/42224': 1, 'G06F 3/038': 1, 'H04L 12/2821': 1, 'H04L 12/2816': 1, 'G06F 2203/0383': 1, 'H04L 67/025': 1, 'H04L 67/55': 1, 'H04L 67/306': 1, 'H04M 1/57': 1, 'H04L 67/10': 1, 'H04L 67/52': 1, 'H04L 67/02': 1, 'H04M 1/72403': 1, 'H04M 1/72484': 1, 'H04M 3/42042': 1, 'H04L 67/535': 1, 'H04M 2207/18': 1, 'G06F 3/165': 1, 'H03G 3/3005': 1, 'G06F 3/02': 1, 'H04R 27/00': 1, 'H03G 1/02': 1, 'H03G 3/04': 1, 'G06F 3/04842': 1, 'H04R 2430/01': 1, 'H04R 2420/01': 1, 'H04R 2227/003': 1, 'H04R 2227/005': 1, 'H04L 67/04': 1, 'G06F 16/27': 1, 'H04L 67/565': 1, 'G06F 3/04845': 1, 'G06F 3/0412': 1, 'G06F 16/51': 1, 'G06F 3/016': 1, 'G06F 3/0483': 1, 'G06F 3/0485': 1, 'H04W 72/0453': 1, 'H01Q 1/246': 1, 'H04B 7/2612': 1, 'H04L 5/0023': 1, 'H04L 5/0003': 1, 'H04B 7/155': 1, 'H04B 7/15542': 1, 'H04L 67/561': 1, 'G06Q 10/10': 1, 'G06F 40/169': 1, 'H03G 3/02': 1, 'H04M 1/72469': 1, 'H04M 2250/22': 1, 'H04M 1/72436': 1, 'H04B 3/54': 1, 'H04W 48/18': 1, 'H04W 4/021': 1, 'H04B 3/52': 1, 'H04B 2203/5445': 1, 'G06F 16/435': 1, 'G06F 16/48': 1, 'G06F 21/6263': 1, 'G06F 3/03545': 1, 'G06F 2203/04807': 1, 'G06F 3/046': 1, 'G06F 3/04162': 1, 'G06F 3/0383': 1, 'H04M 1/271': 1, 'H04M 3/42': 1, 'H04M 2250/12': 1, 'H04M 1/82': 1, 'H04M 2250/60': 1}\n",
            "\n",
            "cluster number: 42\n",
            "CPC number stats in sub-class level: {'H04B': 104, 'H01P': 59, 'H01Q': 57, 'H04L': 19, 'H04W': 24, 'Y02D': 3, 'B64C': 1, 'H04J': 3, 'H01C': 3, 'G01S': 1, 'G06K': 2}\n",
            "CPC number stats in sub-group level: {'H04B 3/56': 1, 'H01P 3/10': 1, 'H01P 3/16': 1, 'H04B 3/58': 1, 'H01Q 13/0233': 1, 'H04B 3/52': 1, 'H01Q 17/00': 1, 'H01Q 13/0241': 1, 'H04B 3/38': 1, 'H01P 5/02': 1, 'H01Q 1/246': 1, 'H01Q 13/24': 1, 'H01Q 13/02': 1, 'H01Q 13/203': 1, 'H04B 15/04': 1, 'H01Q 9/0485': 1, 'H01Q 13/06': 1, 'H04B 1/50': 1, 'H04B 3/46': 1, 'H01Q 1/46': 1, 'H01Q 21/24': 1, 'H04B 3/36': 1, 'H04L 27/0002': 1, 'H04W 40/22': 1, 'H04L 27/12': 1, 'H04L 41/0816': 1, 'H04B 10/40': 1, 'H04W 40/02': 1, 'H04W 88/08': 1, 'H04L 25/02': 1, 'Y02D 30/70': 1, 'H04W 72/04': 1, 'H04L 41/12': 1, 'H04W 16/14': 1, 'B64C 39/024': 1, 'H04B 7/0413': 1, 'H04W 4/025': 1, 'H04W 16/24': 1, 'H04W 16/28': 1, 'H04B 7/0608': 1, 'H04B 7/0452': 1, 'H04W 16/18': 1, 'H04W 16/22': 1, 'H04B 7/145': 1, 'H04W 16/32': 1, 'H04W 4/021': 1, 'H04W 4/023': 1, 'H04B 7/0417': 1, 'H04L 41/22': 1, 'H04B 3/544': 1, 'H04B 17/12': 1, 'H04B 17/30': 1, 'H04B 2203/5441': 1, 'H04B 2203/5483': 1, 'H04B 2203/5479': 1, 'H04B 10/25759': 1, 'H04B 10/90': 1, 'H01P 5/087': 1, 'H04B 3/48': 1, 'H01P 3/123': 1, 'H01P 5/18': 1, 'H01P 3/13': 1, 'H01P 5/182': 1, 'H04W 16/26': 1, 'H01Q 21/20': 1, 'H01Q 23/00': 1, 'H04B 1/719': 1, 'H04B 1/7174': 1, 'H04J 3/10': 1, 'H04B 1/7163': 1, 'H04B 3/32': 1, 'H01Q 1/1207': 1, 'H04B 2203/5487': 1, 'H01P 5/08': 1, 'H04B 2203/5491': 1, 'H01P 3/122': 1, 'H01Q 13/20': 1, 'H01C 3/12': 1, 'H01P 1/16': 1, 'H01Q 3/12': 1, 'H01Q 13/08': 1, 'H01P 3/00': 1, 'H01Q 1/50': 1, 'H01P 5/00': 1, 'H04B 3/54': 1, 'H04B 17/17': 1, 'H04B 3/542': 1, 'H04L 41/0668': 1, 'H04B 7/0617': 1, 'H01Q 21/06': 1, 'H01Q 21/00': 1, 'H04B 3/00': 1, 'H04L 12/6418': 1, 'H04L 45/24': 1, 'H01Q 1/2291': 1, 'H01Q 3/30': 1, 'H04B 1/71637': 1, 'H04B 1/7176': 1, 'H01P 5/181': 1, 'H01P 5/024': 1, 'H01P 5/19': 1, 'G01S 13/74': 1, 'G06K 7/10366': 1, 'H04B 5/0062': 1, 'G06K 2007/10504': 1}\n",
            "\n",
            "cluster number: 43\n",
            "CPC number stats in sub-class level: {'G09B': 2, 'G06F': 223, 'G06T': 13, 'H04N': 33, 'H04M': 14, 'F16M': 2, 'G09G': 35, 'Y02D': 4, 'H04W': 4, 'G06V': 12, 'G01C': 6, 'G11B': 3, 'H04L': 4, 'G01L': 1, 'G06Q': 1, 'G02F': 7, 'A61N': 3, 'B41J': 1}\n",
            "CPC number stats in sub-group level: {'G09B 11/00': 1, 'G06F 3/04883': 1, 'G06T 11/203': 1, 'H04N 21/472': 1, 'G06T 11/001': 1, 'G06T 13/00': 1, 'G06T 13/80': 1, 'G06F 3/0354': 1, 'G06F 3/04845': 1, 'G06T 11/60': 1, 'G06F 1/3231': 1, 'H04N 21/4223': 1, 'G06F 1/1698': 1, 'H04M 1/72412': 1, 'H04N 21/42202': 1, 'H04N 21/485': 1, 'F16M 11/18': 1, 'G06F 3/017': 1, 'H04M 1/72454': 1, 'G09G 3/20': 1, 'G06F 1/3265': 1, 'H04N 21/44227': 1, 'H04N 21/41265': 1, 'H04N 21/4524': 1, 'F16M 11/105': 1, 'G06T 3/60': 1, 'G06F 3/0346': 1, 'G06F 1/1601': 1, 'G06F 3/04847': 1, 'H04N 21/42222': 1, 'G06F 1/1626': 1, 'G06F 1/1607': 1, 'G09G 3/00': 1, 'G06F 1/1694': 1, 'G06F 2200/1612': 1, 'H04M 1/72415': 1, 'G09G 2354/00': 1, 'G06F 2200/1614': 1, 'G09G 2330/021': 1, 'G06F 3/0481': 1, 'G06F 3/0488': 1, 'G06F 3/04817': 1, 'H04M 2250/12': 1, 'H04M 2250/22': 1, 'G06F 2203/04804': 1, 'G06F 1/3215': 1, 'G09G 5/10': 1, 'G06F 3/147': 1, 'G06F 3/04897': 1, 'G09G 5/00': 1, 'G09G 2360/144': 1, 'G09G 2320/08': 1, 'G09G 2370/16': 1, 'G06F 2203/04803': 1, 'Y02D 10/00': 1, 'G09G 2320/0626': 1, 'G09G 2370/22': 1, 'G09G 2320/0606': 1, 'G06F 3/03545': 1, 'H04W 52/0254': 1, 'H04W 52/027': 1, 'Y02D 30/70': 1, 'G06V 10/993': 1, 'G06V 40/13': 1, 'G06V 40/1365': 1, 'G06F 3/167': 1, 'G06F 3/0486': 1, 'G06F 3/016': 1, 'G06F 2203/014': 1, 'G01C 21/3614': 1, 'G01C 21/3664': 1, 'G01C 21/3647': 1, 'G06F 3/0421': 1, 'G06F 3/0238': 1, 'G06F 2203/04807': 1, 'G06F 2203/04114': 1, 'G06F 2203/04108': 1, 'H04N 5/232': 1, 'H04N 5/23229': 1, 'G06F 3/0425': 1, 'G06V 40/28': 1, 'G06F 3/04166': 1, 'H04N 5/2621': 1, 'G06V 30/1423': 1, 'G06F 2203/04808': 1, 'H04M 1/7243': 1, 'G11B 27/031': 1, 'G11B 27/10': 1, 'G11B 27/34': 1, 'H04L 51/10': 1, 'G06T 2200/24': 1, 'H04M 1/72427': 1, 'G06F 21/32': 1, 'G06V 40/50': 1, 'G06F 21/45': 1, 'G06F 3/0482': 1, 'H04M 1/724': 1, 'G06F 2203/04101': 1, 'G06F 3/04842': 1, 'H04W 12/06': 1, 'G06F 3/041661': 1, 'H04W 12/08': 1, 'G06V 10/17': 1, 'G06V 40/1306': 1, 'H04L 63/0861': 1, 'G06F 2203/04112': 1, 'G06F 1/1641': 1, 'H04N 5/23219': 1, 'G06F 1/1637': 1, 'H04N 5/23293': 1, 'H04N 5/23216': 1, 'G06F 1/1647': 1, 'H04N 5/23245': 1, 'G06F 1/1652': 1, 'H04M 2250/16': 1, 'H04N 5/2351': 1, 'H04N 5/23212': 1, 'H04N 7/188': 1, 'H04N 5/3577': 1, 'H04N 5/144': 1, 'H04N 5/2258': 1, 'H04N 5/23203': 1, 'H04N 5/247': 1, 'G06F 9/451': 1, 'G06F 3/04886': 1, 'G06F 3/0485': 1, 'G06F 3/0416': 1, 'G06F 2203/04104': 1, 'G06F 2203/04105': 1, 'G06F 3/0383': 1, 'G06F 3/0442': 1, 'G06F 3/04855': 1, 'G06F 3/1423': 1, 'G06F 3/044': 1, 'G06F 2203/04106': 1, 'H04N 5/2257': 1, 'H04N 5/2256': 1, 'H04N 7/18': 1, 'H04N 5/23222': 1, 'H04N 5/2171': 1, 'H04N 5/33': 1, 'G06V 40/1318': 1, 'H04N 5/232933': 1, 'H04N 5/2354': 1, 'G01L 1/14': 1, 'G06F 3/0412': 1, 'G09G 2340/12': 1, 'H04M 1/27475': 1, 'G09G 2340/0407': 1, 'H04M 1/72469': 1, 'H04L 12/1813': 1, 'G06Q 10/10': 1, 'H04L 51/04': 1, 'G06F 21/84': 1, 'G02F 1/133504': 1, 'G06F 3/041': 1, 'G02F 1/13338': 1, 'G02F 1/137': 1, 'G02F 1/1334': 1, 'G02F 2203/03': 1, 'G06F 1/3228': 1, 'G06F 1/329': 1, 'G09G 3/035': 1, 'G09G 5/373': 1, 'G09G 2340/0442': 1, 'G09G 2380/02': 1, 'G09G 2340/04': 1, 'G06F 2203/04102': 1, 'G09G 2340/0464': 1, 'G09G 5/38': 1, 'G06F 3/038': 1, 'G06F 1/1643': 1, 'G06F 3/013': 1, 'G06F 3/03547': 1, 'G06F 3/03549': 1, 'G06F 3/037': 1, 'G06F 3/012': 1, 'G06F 3/0393': 1, 'G06F 1/1684': 1, 'G09B 21/00': 1, 'G06F 3/046': 1, 'G06F 40/174': 1, 'G06F 9/453': 1, 'G06F 3/0418': 1, 'G06F 3/0448': 1, 'G06F 3/0441': 1, 'G06F 3/0443': 1, 'G06F 3/04164': 1, 'G06F 3/0446': 1, 'A61N 1/37247': 1, 'A61N 1/0551': 1, 'A61N 1/36071': 1, 'G06F 1/1618': 1, 'G06F 3/04146': 1, 'G06F 3/047': 1, 'G02F 1/16755': 1, 'B41J 3/4076': 1, 'G02F 1/167': 1}\n",
            "\n",
            "cluster number: 44\n",
            "CPC number stats in sub-class level: {'H01Q': 17, 'H04B': 86, 'H04L': 19, 'H01P': 24, 'H04W': 13, 'Y02D': 2, 'Y04S': 13, 'H02J': 14, 'Y02E': 15, 'G01R': 3, 'H04Q': 1, 'A61N': 6}\n",
            "CPC number stats in sub-group level: {'H01Q 13/02': 1, 'H04B 7/0413': 1, 'H04B 3/52': 1, 'H04B 1/38': 1, 'H01Q 21/205': 1, 'H01Q 21/0006': 1, 'H04L 12/46': 1, 'H04B 3/36': 1, 'H01P 3/10': 1, 'H04B 3/56': 1, 'H01P 1/182': 1, 'H04B 3/58': 1, 'H04B 3/28': 1, 'H01Q 15/242': 1, 'H04B 2203/5441': 1, 'H04B 2203/5483': 1, 'H04L 27/0002': 1, 'H04W 40/22': 1, 'H04L 27/12': 1, 'H04L 41/0816': 1, 'H04W 40/02': 1, 'H04B 10/40': 1, 'H04L 25/02': 1, 'H04L 41/12': 1, 'H04W 72/04': 1, 'Y02D 30/70': 1, 'H04W 88/08': 1, 'H01P 5/103': 1, 'H04B 17/408': 1, 'H01Q 13/26': 1, 'H04B 2203/5458': 1, 'H04B 2203/5479': 1, 'H04B 2203/5445': 1, 'H04B 2203/5425': 1, 'H04B 3/54': 1, 'H04B 10/25752': 1, 'H04L 41/0677': 1, 'Y04S 40/164': 1, 'Y04S 40/00': 1, 'Y04S 40/166': 1, 'H01P 1/207': 1, 'H01P 5/08': 1, 'H01Q 9/0485': 1, 'H01Q 13/06': 1, 'H04W 4/021': 1, 'H04L 43/16': 1, 'H04L 67/561': 1, 'H04L 63/18': 1, 'H04L 45/24': 1, 'H01P 3/00': 1, 'H04L 43/0876': 1, 'H04W 72/0446': 1, 'H01Q 1/46': 1, 'H04W 16/26': 1, 'H01P 5/12': 1, 'H04B 10/29': 1, 'H02J 13/00007': 1, 'H04B 14/02': 1, 'H02J 13/00017': 1, 'H02J 13/00': 1, 'Y04S 40/124': 1, 'Y02E 60/7838': 1, 'Y02E 60/00': 1, 'Y02E 60/7815': 1, 'Y04S 40/121': 1, 'H04B 1/7176': 1, 'H04B 1/719': 1, 'H04B 1/7163': 1, 'H04B 1/71637': 1, 'H04B 3/542': 1, 'H04W 72/0453': 1, 'H01Q 13/22': 1, 'H04B 10/90': 1, 'H01P 5/00': 1, 'H01P 5/087': 1, 'H01P 3/16': 1, 'H01P 3/02': 1, 'H01P 3/06': 1, 'H01P 5/02': 1, 'G01R 31/085': 1, 'G01R 31/08': 1, 'H04B 2203/5466': 1, 'H04Q 9/00': 1, 'H01P 5/026': 1, 'H01P 5/028': 1, 'G01R 31/58': 1, 'H04L 12/2878': 1, 'H02J 13/00009': 1, 'H04B 3/03': 1, 'H04B 3/02': 1, 'H01Q 3/26': 1, 'A61N 1/37211': 1, 'A61N 1/37247': 1, 'A61N 1/37264': 1, 'A61N 1/36185': 1, 'A61N 1/36142': 1, 'A61N 1/0551': 1}\n",
            "\n",
            "cluster number: 45\n",
            "CPC number stats in sub-class level: {'H01Q': 127, 'H01P': 11, 'H05K': 6, 'H01F': 2, 'H04B': 45, 'H04R': 3, 'G06F': 14, 'G09G': 4, 'Y02D': 1, 'H04W': 5, 'H04J': 3, 'A61B': 36, 'A61N': 6}\n",
            "CPC number stats in sub-group level: {'H01Q 13/24': 1, 'H01P 3/16': 1, 'H01Q 9/0485': 1, 'H01Q 13/10': 1, 'H01Q 1/46': 1, 'H01Q 13/06': 1, 'H01Q 15/08': 1, 'H01Q 13/02': 1, 'H01Q 21/205': 1, 'H01Q 21/064': 1, 'H05K 1/115': 1, 'H05K 7/1427': 1, 'H01F 17/0013': 1, 'H01F 27/2804': 1, 'H05K 1/165': 1, 'H05K 1/0233': 1, 'H05K 1/0298': 1, 'H05K 1/0245': 1, 'H04B 3/56': 1, 'H01Q 25/007': 1, 'H01Q 19/08': 1, 'H01Q 15/24': 1, 'H01Q 3/245': 1, 'H04B 3/58': 1, 'H04B 2203/5479': 1, 'H04B 2203/5495': 1, 'H04B 2203/5425': 1, 'H04B 2203/5445': 1, 'H04B 2203/5441': 1, 'H01Q 1/2291': 1, 'H01Q 3/22': 1, 'H01Q 9/04': 1, 'H01Q 1/22': 1, 'H01Q 3/26': 1, 'H01Q 21/29': 1, 'H01Q 3/24': 1, 'H01Q 3/2658': 1, 'H04B 3/52': 1, 'H01P 1/16': 1, 'H04R 3/00': 1, 'H01P 3/10': 1, 'G06F 3/045': 1, 'G06F 3/03547': 1, 'G06F 3/0412': 1, 'G06F 3/0445': 1, 'G06F 1/263': 1, 'G06F 3/0443': 1, 'G06F 1/3262': 1, 'G09G 3/20': 1, 'G06F 1/3228': 1, 'G06F 3/0446': 1, 'G06F 3/0416': 1, 'G06F 3/0418': 1, 'G09G 2300/023': 1, 'G09G 2330/021': 1, 'G06F 2203/04101': 1, 'G09G 2300/0426': 1, 'Y02D 10/00': 1, 'G06F 1/3287': 1, 'G06F 2203/04108': 1, 'H01Q 1/1242': 1, 'H01Q 21/0087': 1, 'H01Q 1/1228': 1, 'H01Q 13/025': 1, 'H01Q 1/246': 1, 'H01Q 25/04': 1, 'H04W 16/32': 1, 'H04W 16/26': 1, 'H01Q 13/20': 1, 'H04B 2203/5483': 1, 'H04W 88/08': 1, 'H01Q 13/106': 1, 'H01Q 21/22': 1, 'H01Q 1/36': 1, 'H04B 3/54': 1, 'H04B 1/0475': 1, 'H04W 16/28': 1, 'H04B 7/0617': 1, 'H01P 5/08': 1, 'H04W 84/042': 1, 'H01Q 3/08': 1, 'H01Q 19/062': 1, 'H04B 3/00': 1, 'H04R 2420/07': 1, 'H04B 3/50': 1, 'H04B 2203/5466': 1, 'H04B 10/40': 1, 'H04B 1/40': 1, 'H04B 10/2581': 1, 'H04J 14/04': 1, 'A61B 8/4494': 1, 'A61B 8/483': 1, 'A61B 8/4483': 1, 'A61B 8/4245': 1, 'A61B 5/015': 1, 'A61B 8/5207': 1, 'A61N 7/02': 1, 'A61B 8/08': 1, 'A61N 7/00': 1, 'A61B 8/4488': 1, 'A61B 8/4477': 1, 'A61B 8/4209': 1, 'A61B 8/13': 1, 'A61B 8/4254': 1, 'A61B 8/4263': 1, 'A61B 8/56': 1, 'A61N 2007/0078': 1, 'A61B 2562/164': 1, 'A61B 8/565': 1, 'A61B 2017/320069': 1, 'A61B 2090/378': 1, 'H04J 13/00': 1}\n",
            "\n",
            "cluster number: 46\n",
            "CPC number stats in sub-class level: {'H01Q': 5, 'H04W': 17, 'H04L': 5, 'G06F': 19, 'G06Q': 2, 'B43K': 1, 'Y10T': 4, 'E05B': 1}\n",
            "CPC number stats in sub-group level: {'H01Q 3/40': 1, 'H01Q 3/26': 1, 'H01Q 1/246': 1, 'H04W 16/28': 1, 'H01Q 25/00': 1, 'H01Q 5/30': 1, 'H04W 88/085': 1, 'H04L 5/0048': 1, 'H04W 72/082': 1, 'H04W 36/32': 1, 'H04L 5/0041': 1, 'H04W 72/048': 1, 'H04W 72/0453': 1, 'H04W 28/04': 1, 'H04W 84/047': 1, 'H04W 36/04': 1, 'G06F 3/03545': 1, 'G06F 3/147': 1, 'G06F 3/038': 1, 'G06F 3/041': 1, 'G06F 3/04883': 1, 'G06F 2203/04101': 1, 'G06F 2203/0382': 1, 'G06F 3/0488': 1, 'G06F 3/0482': 1, 'G06Q 30/0282': 1, 'G06F 40/30': 1, 'G06F 40/56': 1, 'G06Q 30/02': 1, 'G06F 3/0481': 1, 'G06F 40/137': 1, 'G06F 40/295': 1, 'H04L 51/02': 1, 'H04W 4/12': 1, 'G06F 40/211': 1, 'G06F 3/0414': 1, 'G06F 3/0418': 1, 'B43K 25/02': 1, 'Y10T 24/135': 1, 'Y10T 24/1353': 1, 'E05B 19/205': 1, 'Y10T 70/7802': 1, 'Y10T 70/7797': 1, 'G06F 3/033': 1, 'G06F 3/04886': 1}\n",
            "\n",
            "cluster number: 47\n",
            "CPC number stats in sub-class level: {'H02J': 21, 'H04N': 3, 'H02M': 1, 'H01P': 24, 'H01Q': 39, 'H04B': 78, 'H04W': 27, 'H01F': 4, 'G02B': 3, 'H04Q': 4, 'H04L': 13, 'A61N': 5, 'Y02E': 13, 'Y04S': 9, 'G01R': 10, 'G08C': 1}\n",
            "CPC number stats in sub-group level: {'H02J 50/10': 1, 'H04N 5/247': 1, 'H04N 7/141': 1, 'H02M 1/44': 1, 'H02J 7/02': 1, 'H04N 5/2257': 1, 'H02J 7/00712': 1, 'H01P 1/10': 1, 'H01Q 13/26': 1, 'H01P 1/16': 1, 'H01Q 1/50': 1, 'H01Q 1/20': 1, 'H01Q 13/06': 1, 'H01Q 15/14': 1, 'H01Q 13/24': 1, 'H01P 5/026': 1, 'H01Q 21/20': 1, 'H04B 1/00': 1, 'H01Q 15/02': 1, 'H01Q 15/12': 1, 'H01Q 19/08': 1, 'H01Q 21/064': 1, 'H01Q 13/02': 1, 'H04W 8/22': 1, 'H04W 4/20': 1, 'H04W 4/80': 1, 'H04W 4/60': 1, 'H02J 50/70': 1, 'H02J 50/05': 1, 'H02J 50/12': 1, 'H01P 3/16': 1, 'H04B 3/56': 1, 'H01P 5/087': 1, 'H04B 3/52': 1, 'H04B 3/46': 1, 'H04B 2203/5441': 1, 'H01P 5/04': 1, 'H01F 27/28': 1, 'H01F 27/40': 1, 'H01F 38/14': 1, 'H01F 27/24': 1, 'H04B 5/0037': 1, 'H01P 3/10': 1, 'H04B 5/0075': 1, 'H04B 10/807': 1, 'G02B 6/4286': 1, 'G02B 2006/12111': 1, 'G02B 2006/12147': 1, 'H04W 24/04': 1, 'H04Q 3/0091': 1, 'H04W 24/08': 1, 'H04Q 3/0087': 1, 'H04L 41/06': 1, 'H04L 41/0654': 1, 'H04B 3/544': 1, 'H01Q 13/20': 1, 'H04B 2203/5458': 1, 'H01P 5/00': 1, 'H04B 2203/5483': 1, 'H04B 2203/5445': 1, 'H04W 84/12': 1, 'H04B 3/58': 1, 'H04B 3/32': 1, 'H04L 45/22': 1, 'H04B 2203/5495': 1, 'H04B 2203/5479': 1, 'H01P 3/02': 1, 'H04B 3/542': 1, 'H04W 12/06': 1, 'H04W 8/18': 1, 'H04L 63/0876': 1, 'H04B 3/36': 1, 'H01Q 9/0485': 1, 'H01Q 21/205': 1, 'H04B 17/3911': 1, 'H04B 3/54': 1, 'H01Q 3/08': 1, 'H01Q 3/26': 1, 'H01Q 21/067': 1, 'H04B 17/40': 1, 'H04B 7/15528': 1, 'H04B 7/15578': 1, 'H04B 17/382': 1, 'H04B 17/336': 1, 'H04W 36/14': 1, 'H04B 17/309': 1, 'H04B 17/318': 1, 'A61N 1/36182': 1, 'A61N 1/36071': 1, 'A61N 1/0551': 1, 'A61N 1/37247': 1, 'A61N 1/36185': 1, 'H04B 1/7176': 1, 'H04B 1/71637': 1, 'H04B 1/719': 1, 'H04B 1/7163': 1, 'H04L 12/2878': 1, 'H02J 13/00017': 1, 'H04B 3/03': 1, 'H04B 3/02': 1, 'H02J 13/00009': 1, 'Y02E 60/7815': 1, 'Y04S 40/124': 1, 'H02J 13/00': 1, 'Y02E 60/7838': 1, 'Y04S 40/121': 1, 'Y02E 60/00': 1, 'H04W 40/20': 1, 'H04W 28/0236': 1, 'H04W 28/0226': 1, 'H04L 45/24': 1, 'H04W 40/244': 1, 'H04W 40/16': 1, 'H04W 40/12': 1, 'H04W 88/16': 1, 'H02J 13/00007': 1, 'G01R 31/08': 1, 'G01R 31/58': 1, 'G01R 31/085': 1, 'H04W 72/0453': 1, 'H04L 1/0025': 1, 'H04B 2203/5425': 1, 'H04B 10/25': 1, 'H04B 10/112': 1, 'H04Q 11/0066': 1, 'H04L 12/1845': 1, 'G08C 23/04': 1, 'H04Q 2011/0047': 1, 'G01R 31/00': 1, 'H02J 13/00026': 1, 'H02J 13/00024': 1, 'H02J 13/0075': 1, 'G01R 31/44': 1, 'H02J 13/00022': 1, 'H04B 10/038': 1, 'H04L 1/0002': 1, 'Y04S 40/126': 1, 'H04B 2203/5491': 1, 'H01Q 1/46': 1, 'Y02E 60/7853': 1, 'H01Q 13/22': 1, 'H04B 10/90': 1, 'H04W 24/02': 1, 'H04B 3/06': 1, 'H04L 41/0816': 1, 'H04L 41/12': 1, 'H04L 67/10': 1, 'H01P 5/08': 1, 'H01P 1/207': 1}\n",
            "\n",
            "cluster number: 48\n",
            "CPC number stats in sub-class level: {'H04B': 43, 'H04L': 17, 'H02J': 14, 'Y02E': 21, 'Y04S': 14, 'H04Q': 4, 'H04W': 4}\n",
            "CPC number stats in sub-group level: {'H04B 5/0018': 1, 'H04L 27/0002': 1, 'H02J 13/00017': 1, 'H04B 5/0012': 1, 'H04L 12/2854': 1, 'H04B 3/56': 1, 'H04B 3/52': 1, 'H04L 12/2801': 1, 'H04B 5/005': 1, 'H04B 7/04': 1, 'H04B 3/54': 1, 'Y02E 60/7838': 1, 'Y02E 60/00': 1, 'Y02E 60/7815': 1, 'H02J 13/00007': 1, 'Y04S 40/124': 1, 'Y04S 40/121': 1, 'H04L 5/0048': 1, 'H04B 7/022': 1, 'H04B 7/024': 1, 'H04Q 11/0421': 1, 'H04W 72/0453': 1, 'H04W 88/085': 1, 'H04Q 2213/13098': 1}\n",
            "\n",
            "cluster number: 49\n",
            "CPC number stats in sub-class level: {'H01P': 67, 'H04B': 87, 'G01R': 3, 'H01Q': 27, 'H04W': 11, 'H04L': 2, 'H02J': 3, 'Y02B': 1, 'Y04S': 2}\n",
            "CPC number stats in sub-group level: {'H01P 1/00': 1, 'H01P 3/16': 1, 'H01P 5/08': 1, 'H01P 3/02': 1, 'H04B 3/542': 1, 'H04B 3/58': 1, 'H04B 3/46': 1, 'H04B 2203/5441': 1, 'H01P 1/222': 1, 'G01R 27/32': 1, 'H04B 3/56': 1, 'H04B 3/52': 1, 'H01P 3/10': 1, 'H04B 3/54': 1, 'H01P 3/127': 1, 'H04B 3/06': 1, 'H04B 15/00': 1, 'H01P 3/06': 1, 'H01P 1/16': 1, 'H01P 5/02': 1, 'H01P 5/087': 1, 'H01Q 13/20': 1, 'H01Q 13/08': 1, 'H01Q 13/26': 1, 'H01P 3/122': 1, 'H01P 3/12': 1, 'H04B 17/40': 1, 'H04B 7/15578': 1, 'H04B 17/318': 1, 'H04W 36/14': 1, 'H04B 17/309': 1, 'H04B 17/336': 1, 'H04B 17/382': 1, 'H04B 7/15528': 1, 'H04B 3/28': 1, 'H01Q 13/0208': 1, 'H01Q 1/125': 1, 'H01Q 21/06': 1, 'H01Q 19/08': 1, 'H01Q 13/24': 1, 'H01Q 1/50': 1, 'H01Q 21/205': 1, 'H01Q 1/12': 1, 'H01Q 13/025': 1, 'H01P 5/19': 1, 'H04W 84/045': 1, 'H04B 1/71637': 1, 'H04B 1/7176': 1, 'H04B 1/7163': 1, 'H01Q 13/02': 1, 'H04B 1/719': 1, 'H04B 2203/5479': 1, 'H01Q 3/30': 1, 'H01Q 1/2291': 1, 'H04B 7/0617': 1, 'H04B 3/36': 1, 'H04B 3/00': 1, 'H01Q 21/00': 1, 'H04L 12/6418': 1, 'H04L 45/24': 1, 'H01Q 13/22': 1, 'H04B 10/90': 1, 'H04W 72/0453': 1, 'H04W 4/023': 1, 'H04B 7/145': 1, 'H04B 17/27': 1, 'H04B 17/23': 1, 'H01P 1/30': 1, 'H02J 13/00017': 1, 'H02J 13/00007': 1, 'Y02B 90/20': 1, 'Y04S 40/124': 1, 'H02J 13/00': 1, 'Y04S 40/121': 1, 'H04B 3/50': 1, 'H04B 2203/5483': 1, 'H04B 2203/5466': 1}\n",
            "\n",
            "cluster number: 50\n",
            "CPC number stats in sub-class level: {'H01Q': 44, 'H04B': 15, 'H01P': 8, 'H04R': 5, 'H04Q': 1, 'G06F': 4}\n",
            "CPC number stats in sub-group level: {'H01Q 13/24': 1, 'H01Q 19/08': 1, 'H01Q 1/50': 1, 'H01Q 13/06': 1, 'H01Q 5/55': 1, 'H01Q 15/08': 1, 'H04B 1/00': 1, 'H01P 3/16': 1, 'H01Q 19/062': 1, 'H01Q 1/46': 1, 'H04B 3/52': 1, 'H04B 2203/5441': 1, 'H04B 3/54': 1, 'H01P 1/16': 1, 'H04R 2420/07': 1, 'H04B 3/00': 1, 'H04R 3/00': 1, 'H04B 1/04': 1, 'H01Q 1/24': 1, 'H01Q 13/02': 1, 'H04B 1/16': 1, 'H01Q 3/08': 1, 'H01Q 15/02': 1, 'H01Q 25/002': 1, 'H01Q 3/34': 1, 'H01Q 3/24': 1, 'H01Q 1/422': 1, 'H04Q 2011/0039': 1, 'H01Q 21/064': 1, 'H01Q 1/48': 1, 'H01Q 1/243': 1, 'G06F 3/03545': 1, 'G06F 3/046': 1, 'G06F 3/03544': 1}\n",
            "\n",
            "cluster number: 51\n",
            "CPC number stats in sub-class level: {'H04M': 7, 'G06F': 19, 'G06V': 1, 'H01P': 6, 'H02J': 4, 'H04B': 4, 'Y02E': 6, 'Y04S': 4, 'G01R': 4, 'H01Q': 2, 'A43B': 3, 'B01J': 1, 'G02B': 2, 'A43D': 2, 'G02F': 4, 'Y10S': 3, 'B82Y': 1, 'B41J': 16, 'H04N': 6}\n",
            "CPC number stats in sub-group level: {'H04M 1/0266': 1, 'G06F 1/1626': 1, 'H04M 1/026': 1, 'G06F 21/32': 1, 'G06F 1/1637': 1, 'G06F 3/0416': 1, 'G06V 40/1306': 1, 'G06F 3/0412': 1, 'G06F 1/203': 1, 'H04M 2250/12': 1, 'G06F 1/1601': 1, 'G06F 1/1698': 1, 'H01P 7/06': 1, 'H02J 13/00017': 1, 'H04B 3/56': 1, 'H04B 3/52': 1, 'H01P 1/207': 1, 'Y02E 60/00': 1, 'Y02E 60/7815': 1, 'Y04S 40/121': 1, 'G01R 31/00': 1, 'H02J 13/00': 1, 'H01Q 1/46': 1, 'G01R 29/0878': 1, 'H01P 5/103': 1, 'Y04S 40/124': 1, 'Y02E 60/7838': 1, 'A43B 1/0027': 1, 'A43B 1/0054': 1, 'A43B 3/0078': 1, 'B01J 13/0047': 1, 'G02B 1/005': 1, 'G02B 27/4244': 1, 'A43D 3/02': 1, 'A43D 8/16': 1, 'G02F 1/09': 1, 'G02F 1/0036': 1, 'Y10S 977/811': 1, 'B82Y 20/00': 1, 'Y10S 977/834': 1, 'Y10S 977/838': 1, 'G02F 2202/32': 1, 'G02F 2202/36': 1, 'B41J 3/445': 1, 'H04N 1/00307': 1, 'G06F 1/1696': 1, 'B41J 11/0095': 1, 'G06F 1/1632': 1, 'G06F 1/1662': 1, 'B41J 29/02': 1, 'G06F 1/1686': 1, 'B41J 13/00': 1, 'B41J 13/0027': 1, 'H04N 1/00326': 1, 'B41J 2/01': 1, 'B41J 11/46': 1, 'H04M 1/21': 1, 'B41J 3/36': 1, 'H04M 1/724': 1, 'H04N 2201/0082': 1, 'G06F 3/046': 1}\n",
            "\n",
            "cluster number: 52\n",
            "CPC number stats in sub-class level: {'H05B': 7, 'G08B': 4, 'G06F': 32, 'G06N': 5, 'G01F': 1, 'F01N': 7, 'F04D': 4, 'F01P': 4, 'Y02T': 1, 'Y02A': 1, 'H04R': 7, 'H04M': 3, 'A61N': 21, 'H04W': 2, 'A61B': 18, 'G16H': 2, 'G16Z': 1, 'B06B': 1, 'G09B': 1, 'A63F': 1, 'B65G': 1, 'Y02P': 4}\n",
            "CPC number stats in sub-group level: {'H05B 1/028': 1, 'H05B 45/20': 1, 'H05B 45/12': 1, 'H05B 45/22': 1, 'H05B 45/28': 1, 'H05B 47/11': 1, 'H05B 47/115': 1, 'G08B 6/00': 1, 'G06F 3/16': 1, 'G06F 3/14': 1, 'G06F 3/016': 1, 'G06F 3/165': 1, 'G06F 3/0346': 1, 'G06F 3/015': 1, 'G06F 3/03545': 1, 'G06F 3/04847': 1, 'G06F 3/017': 1, 'G06F 3/014': 1, 'G06N 20/00': 1, 'G06N 3/08': 1, 'G06N 20/10': 1, 'G06N 7/005': 1, 'G06N 5/003': 1, 'G01F 22/00': 1, 'F01N 3/2006': 1, 'F04D 13/06': 1, 'F04D 15/0088': 1, 'F01N 3/2066': 1, 'F01P 3/12': 1, 'F04D 15/0218': 1, 'Y02T 10/12': 1, 'Y02A 50/20': 1, 'F01N 2610/02': 1, 'F01P 2005/125': 1, 'F01N 2610/14': 1, 'F01N 2900/1602': 1, 'F01P 11/029': 1, 'F01N 2260/02': 1, 'F01N 2610/11': 1, 'F01P 2060/16': 1, 'F04D 1/00': 1, 'H04R 1/028': 1, 'H04R 7/26': 1, 'H04M 1/6016': 1, 'H04R 3/007': 1, 'H04M 2250/12': 1, 'H04R 2499/15': 1, 'H04R 2400/03': 1, 'H04R 2499/11': 1, 'H04M 1/03': 1, 'H04R 7/045': 1, 'A61N 1/37264': 1, 'A61N 1/37247': 1, 'A61N 1/37211': 1, 'G06F 3/0338': 1, 'G06F 3/0425': 1, 'G06F 3/011': 1, 'H04W 48/16': 1, 'H04W 48/20': 1, 'A61N 1/36139': 1, 'A61N 1/36185': 1, 'A61N 1/36132': 1, 'A61N 1/36164': 1, 'A61N 1/36178': 1, 'A61N 1/36071': 1, 'A61B 5/6833': 1, 'A61B 5/4809': 1, 'A61B 5/749': 1, 'A61B 5/02438': 1, 'G16H 80/00': 1, 'A61B 5/681': 1, 'A61B 5/14517': 1, 'A61B 5/11': 1, 'G16Z 99/00': 1, 'A61B 5/7435': 1, 'A61B 5/7465': 1, 'A61B 5/02055': 1, 'G16H 50/30': 1, 'A61B 5/14514': 1, 'A61B 5/14546': 1, 'A61B 5/7275': 1, 'A61B 5/14532': 1, 'A61B 5/7282': 1, 'A61B 2503/10': 1, 'A61B 2562/0223': 1, 'A61B 2562/0219': 1, 'A61N 1/36182': 1, 'A61N 1/0551': 1, 'G06F 1/163': 1, 'A61N 1/3787': 1, 'B06B 1/0629': 1, 'G06F 3/041': 1, 'G06F 3/0447': 1, 'G09B 21/004': 1, 'A63F 2300/1037': 1, 'G06F 2203/04808': 1, 'B65G 54/02': 1, 'Y02P 90/18': 1, 'Y02P 90/02': 1, 'Y02P 90/04': 1, 'Y02P 90/28': 1}\n",
            "\n",
            "cluster number: 53\n",
            "CPC number stats in sub-class level: {'H04B': 36, 'H01Q': 37, 'H01P': 3, 'H04W': 18, 'G06F': 40, 'H04L': 4, 'H04M': 2}\n",
            "CPC number stats in sub-group level: {'H04B 3/542': 1, 'H01Q 21/0056': 1, 'H01Q 17/00': 1, 'H01Q 13/0233': 1, 'H01Q 13/08': 1, 'H01P 1/225': 1, 'H04B 2203/5458': 1, 'H04W 16/28': 1, 'H01Q 13/24': 1, 'H01Q 3/40': 1, 'H01Q 19/08': 1, 'H01Q 1/246': 1, 'H01Q 5/30': 1, 'H04W 88/085': 1, 'G06F 3/03545': 1, 'G06F 3/0383': 1, 'G06F 3/041': 1, 'G06F 3/04166': 1, 'G06F 3/04883': 1, 'G06F 3/0416': 1, 'G06F 3/0442': 1, 'G06F 3/04162': 1, 'G06F 3/017': 1, 'G06F 3/0412': 1, 'G06F 2203/04114': 1, 'G06F 3/0443': 1, 'H04B 7/15507': 1, 'H04L 5/14': 1, 'H04B 7/155': 1, 'H01P 3/10': 1, 'H04B 3/54': 1, 'H04B 3/52': 1, 'H01Q 25/00': 1, 'H01Q 3/26': 1, 'H04B 1/3805': 1, 'H04B 1/40': 1, 'H04B 7/0408': 1, 'H04B 10/90': 1, 'H01Q 19/132': 1, 'H04B 1/1081': 1, 'H04B 10/114': 1, 'H04B 10/1123': 1, 'H04B 15/02': 1, 'H04B 1/0475': 1, 'H04B 2001/3811': 1, 'H04B 1/1027': 1, 'H04B 1/0466': 1, 'G06F 3/0418': 1, 'G06F 3/046': 1, 'G06F 2203/04101': 1, 'G06F 3/0446': 1, 'G06F 2203/04106': 1, 'G06F 2203/04104': 1, 'G06F 3/016': 1, 'G06F 2200/1632': 1, 'H04W 88/04': 1, 'H04W 76/10': 1, 'H04W 4/80': 1, 'H04W 84/18': 1, 'H04W 76/18': 1, 'H04B 7/15': 1, 'H04L 1/1829': 1, 'H04W 76/14': 1, 'G06F 3/04886': 1, 'H04L 12/10': 1, 'H04M 11/06': 1, 'H04M 19/08': 1}\n",
            "\n",
            "cluster number: 54\n",
            "CPC number stats in sub-class level: {'H01M': 6, 'H02J': 10, 'H04M': 5, 'Y02E': 1, 'G03B': 8, 'H04N': 14, 'G02B': 4, 'H01Q': 29, 'H04B': 46, 'H01P': 17, 'H03H': 4, 'H04W': 6, 'Y02D': 7, 'G06F': 4}\n",
            "CPC number stats in sub-group level: {'H01M 10/425': 1, 'H01M 50/10': 1, 'H02J 7/342': 1, 'H01M 50/20': 1, 'H02J 7/0027': 1, 'H04M 3/42204': 1, 'H04M 1/271': 1, 'H02J 7/0029': 1, 'H02J 50/40': 1, 'H02J 50/80': 1, 'H02J 7/027': 1, 'H02J 7/0013': 1, 'H04M 1/72409': 1, 'H02J 7/0044': 1, 'H02J 7/0047': 1, 'H01M 10/46': 1, 'H02J 7/00045': 1, 'H01M 2010/4278': 1, 'H04M 2250/74': 1, 'Y02E 60/10': 1, 'H04M 1/0262': 1, 'H01M 2220/30': 1, 'G03B 17/14': 1, 'H04N 5/22525': 1, 'H04N 5/23245': 1, 'H04N 5/23258': 1, 'H04N 5/23287': 1, 'H04N 5/2253': 1, 'H04N 5/2254': 1, 'G02B 27/646': 1, 'G03B 5/00': 1, 'H04N 5/23296': 1, 'G03B 17/56': 1, 'G02B 7/102': 1, 'G02B 7/02': 1, 'H04N 5/232': 1, 'H04N 5/2251': 1, 'G03B 2206/00': 1, 'G03B 2205/0038': 1, 'G03B 2217/005': 1, 'H01Q 21/205': 1, 'H04B 3/38': 1, 'H01Q 1/12': 1, 'H01Q 3/30': 1, 'H01Q 21/064': 1, 'H01Q 19/08': 1, 'H01Q 13/02': 1, 'H01Q 3/36': 1, 'H04B 3/546': 1, 'H04B 3/32': 1, 'H04B 3/56': 1, 'H04B 3/46': 1, 'H01P 3/16': 1, 'H04B 2203/5483': 1, 'H01P 3/10': 1, 'H04B 2203/5425': 1, 'H01P 3/12': 1, 'H03H 7/40': 1, 'H04W 16/18': 1, 'H01P 7/08': 1, 'H04B 3/04': 1, 'H04B 3/36': 1, 'H04B 3/52': 1, 'H04B 3/54': 1, 'H01P 5/04': 1, 'H01Q 1/1228': 1, 'H01Q 13/28': 1, 'H04B 1/04': 1, 'H01Q 21/00': 1, 'H01Q 21/06': 1, 'H01Q 13/24': 1, 'H01Q 1/2291': 1, 'H01Q 1/246': 1, 'H04B 5/0031': 1, 'H04B 1/0475': 1, 'H04W 52/00': 1, 'H04W 52/0296': 1, 'Y02D 30/70': 1, 'Y02D 70/122': 1, 'Y02D 70/166': 1, 'Y02D 70/144': 1, 'Y02D 70/146': 1, 'Y02D 70/142': 1, 'Y02D 70/1262': 1, 'G06F 3/017': 1, 'G06F 1/1698': 1, 'G06F 1/1643': 1, 'G06F 1/1626': 1, 'H04B 15/00': 1, 'H04B 7/15507': 1}\n",
            "\n",
            "cluster number: 55\n",
            "CPC number stats in sub-class level: {'H04B': 39, 'H01Q': 6, 'H01P': 6, 'H04W': 9, 'H04L': 13, 'G01R': 1, 'G05B': 1, 'H02J': 4, 'G05F': 1, 'G06F': 1, 'Y02B': 1, 'Y04S': 1, 'G06K': 2, 'G01S': 1, 'A61N': 22}\n",
            "CPC number stats in sub-group level: {'H04B 7/15': 1, 'H04B 7/04': 1, 'H04B 7/2606': 1, 'H04B 7/15592': 1, 'H04B 7/01': 1, 'H04B 7/022': 1, 'H04B 7/14': 1, 'H04B 7/024': 1, 'H04B 7/0602': 1, 'H01Q 21/20': 1, 'H01Q 13/24': 1, 'H01P 3/16': 1, 'H01Q 9/0485': 1, 'H04B 3/52': 1, 'H04B 1/04': 1, 'H04B 17/318': 1, 'H04B 17/17': 1, 'H04W 40/28': 1, 'H04W 28/04': 1, 'H04B 7/0689': 1, 'H04B 7/15528': 1, 'H04L 5/005': 1, 'H04B 1/38': 1, 'H04L 5/0048': 1, 'H04W 16/14': 1, 'H04B 7/0413': 1, 'H04L 5/1469': 1, 'H04L 5/1461': 1, 'H04L 5/0007': 1, 'H04B 17/103': 1, 'H04W 24/06': 1, 'H04B 17/0085': 1, 'H04B 17/23': 1, 'G01R 29/10': 1, 'H04L 43/50': 1, 'H04W 52/42': 1, 'H04W 52/245': 1, 'H04L 12/12': 1, 'H04L 69/40': 1, 'H04B 7/0831': 1, 'H04L 41/0668': 1, 'H04L 41/0816': 1, 'H04W 88/085': 1, 'H04L 43/08': 1, 'H04L 43/16': 1, 'H04L 41/0695': 1, 'H04B 17/102': 1, 'G05B 15/02': 1, 'H02J 13/00028': 1, 'H02J 13/0079': 1, 'G05F 1/66': 1, 'H02J 13/0086': 1, 'G06F 16/211': 1, 'H02J 13/00034': 1, 'Y02B 90/20': 1, 'Y04S 20/00': 1, 'G06K 7/10366': 1, 'G01S 13/74': 1, 'H04B 5/0062': 1, 'G06K 2007/10504': 1, 'H04B 3/06': 1, 'H01P 5/08': 1, 'H04B 3/54': 1, 'H04B 15/00': 1, 'H01P 3/10': 1, 'H01P 3/127': 1, 'H01P 3/06': 1, 'H04B 3/58': 1, 'A61N 1/36185': 1, 'A61N 1/36071': 1, 'A61N 1/37247': 1, 'A61N 1/37264': 1, 'A61N 1/3605': 1, 'A61N 1/0551': 1, 'A61N 1/36142': 1, 'A61N 1/37211': 1}\n",
            "\n",
            "cluster number: 56\n",
            "CPC number stats in sub-class level: {'G06F': 7, 'H04N': 7, 'A47K': 15, 'A45D': 8, 'H04R': 4, 'E03C': 4, 'G02F': 3, 'H02K': 4, 'F21V': 4, 'G02B': 3, 'E06B': 2, 'F25B': 4, 'B60H': 1, 'Y02A': 1, 'H04B': 2, 'H01Q': 2, 'H01P': 1, 'A47G': 2, 'G06V': 1}\n",
            "CPC number stats in sub-group level: {'G06F 3/03545': 1, 'G06F 3/045': 1, 'G06F 3/044': 1, 'H04N 7/183': 1, 'G06F 3/04883': 1, 'G06F 3/042': 1, 'A47K 3/36': 1, 'A47K 3/38': 1, 'A45D 42/24': 1, 'H04R 1/028': 1, 'E03C 1/0408': 1, 'A47K 3/281': 1, 'G02F 1/0121': 1, 'A45D 42/16': 1, 'H04N 5/2257': 1, 'H02K 7/00': 1, 'F21V 33/004': 1, 'G02B 5/08': 1, 'E06B 2009/2625': 1, 'F25B 17/08': 1, 'F25B 27/02': 1, 'B60H 1/32014': 1, 'F25B 17/083': 1, 'Y02A 30/274': 1, 'F25B 49/04': 1, 'H04B 3/52': 1, 'H01Q 1/528': 1, 'H04B 3/28': 1, 'H01P 5/087': 1, 'H01Q 13/0208': 1, 'H04N 5/2256': 1, 'H04N 5/23218': 1, 'H04N 5/23219': 1, 'E06B 9/262': 1, 'H02K 7/1823': 1, 'A47G 1/00': 1, 'G06F 3/041': 1, 'A47G 1/02': 1, 'G06V 30/32': 1, 'A47K 3/34': 1}\n",
            "\n",
            "cluster number: 57\n",
            "CPC number stats in sub-class level: {'G06F': 70, 'H04R': 33, 'G02F': 6, 'H04M': 5, 'G06V': 3, 'H05K': 17, 'H04B': 1, 'H01B': 1, 'B60K': 12, 'H02K': 3, 'F16H': 2, 'G09F': 2, 'B60R': 4, 'H02J': 4, 'G01L': 3, 'H01Q': 4, 'G06T': 1, 'H04N': 3, 'Y10S': 1, 'B43M': 1}\n",
            "CPC number stats in sub-group level: {'G06F 1/1643': 1, 'G06F 1/1626': 1, 'G06F 1/1688': 1, 'H04R 1/2803': 1, 'H04R 1/026': 1, 'G06F 1/1637': 1, 'H04R 9/06': 1, 'G06F 1/1684': 1, 'H04R 1/023': 1, 'H04R 1/2826': 1, 'G06F 3/016': 1, 'H04R 2440/05': 1, 'H04R 2499/11': 1, 'G02F 1/13338': 1, 'H04R 1/028': 1, 'H04R 7/04': 1, 'G02F 1/133345': 1, 'G02F 1/13439': 1, 'H04M 1/03': 1, 'G06F 1/1605': 1, 'G06F 1/1652': 1, 'H04M 1/0266': 1, 'H04R 2499/15': 1, 'H04R 17/005': 1, 'G06F 3/0488': 1, 'G06V 40/1318': 1, 'H05K 5/0017': 1, 'H04B 1/3888': 1, 'G06F 3/046': 1, 'H05K 1/189': 1, 'G06F 3/0354': 1, 'G06F 3/0412': 1, 'H01B 7/00': 1, 'G06F 3/04164': 1, 'H05K 2201/10151': 1, 'H05K 3/361': 1, 'H05K 1/147': 1, 'H05K 2201/10128': 1, 'H05K 2201/10189': 1, 'H05K 5/0217': 1, 'B60K 35/00': 1, 'B60K 2370/67': 1, 'B60K 2370/1533': 1, 'H02K 7/116': 1, 'B60K 37/06': 1, 'B60K 37/04': 1, 'H02K 11/215': 1, 'F16H 19/06': 1, 'G09F 21/049': 1, 'G09F 9/301': 1, 'H02K 7/06': 1, 'F16H 19/04': 1, 'B60R 11/0235': 1, 'G06F 3/041': 1, 'B60K 2370/152': 1, 'G06F 2203/04102': 1, 'B60K 2370/143': 1, 'B60K 2370/688': 1, 'B60R 2011/0005': 1, 'G06F 2203/04108': 1, 'B60R 2011/0084': 1, 'B60R 2011/0092': 1, 'B60K 2370/816': 1, 'H04R 7/16': 1, 'H04R 9/025': 1, 'H04R 1/025': 1, 'G06F 1/1658': 1, 'G06F 1/1656': 1, 'H04R 2400/11': 1, 'H04R 2209/022': 1, 'H04R 9/045': 1, 'H04R 7/045': 1, 'H02J 7/00': 1, 'G06F 3/03545': 1, 'G06F 3/0338': 1, 'G06F 3/02': 1, 'G06F 3/04162': 1, 'G06F 3/0383': 1, 'G01L 1/26': 1, 'G06F 3/044': 1, 'G06F 3/0418': 1, 'G01L 1/142': 1, 'G01L 1/144': 1, 'G06F 2203/04105': 1, 'G06F 3/04817': 1, 'G06F 2203/04103': 1, 'H04R 17/00': 1, 'G06V 40/1312': 1, 'H05K 1/028': 1, 'H05K 2201/051': 1, 'H02J 7/00032': 1, 'H02J 7/025': 1, 'H01Q 1/242': 1, 'H01Q 1/38': 1, 'H01Q 5/321': 1, 'H01Q 1/243': 1, 'H02J 50/10': 1, 'H04M 1/026': 1, 'H04M 1/0277': 1, 'G06F 3/1423': 1, 'G06T 3/40': 1, 'H04N 5/23238': 1, 'G06F 1/1632': 1, 'H04N 5/64': 1, 'G06F 3/0442': 1, 'G06F 2203/04101': 1, 'G06F 3/045': 1, 'G06F 1/162': 1, 'G06F 1/1677': 1, 'G06F 1/1679': 1, 'G06F 1/1683': 1, 'Y10S 248/917': 1, 'G02F 1/133615': 1, 'G02F 1/133553': 1, 'B43M 99/008': 1, 'G06F 2200/1632': 1}\n",
            "\n",
            "cluster number: 58\n",
            "CPC number stats in sub-class level: {'H01Q': 11, 'H04B': 12, 'G06F': 106, 'G07C': 3, 'G10L': 2, 'G06V': 11, 'H04L': 1, 'H04M': 25, 'G02B': 5, 'G03B': 6, 'H04N': 21, 'H04R': 13, 'G09G': 17, 'Y02D': 2, 'H02J': 20, 'H01F': 9, 'H04W': 5, 'H05K': 21, 'H01M': 4, 'G01R': 3, 'G01B': 1, 'Y02E': 1, 'B43K': 1, 'F16M': 2, 'E05Y': 1, 'H03K': 1, 'Y02P': 1, 'G06K': 6, 'G05F': 1, 'A61M': 1, 'G06Q': 1, 'B41J': 1, 'D05B': 1, 'A44C': 1, 'G04G': 3}\n",
            "CPC number stats in sub-group level: {'H01Q 1/243': 1, 'H01Q 1/38': 1, 'H04B 5/0081': 1, 'H01Q 11/08': 1, 'H01Q 1/2208': 1, 'G06F 21/32': 1, 'G06F 3/04883': 1, 'G07C 9/257': 1, 'G10L 15/22': 1, 'G06V 40/1365': 1, 'G06V 40/172': 1, 'G07C 9/27': 1, 'H04L 63/0861': 1, 'G06F 3/167': 1, 'H04M 1/67': 1, 'G06V 40/197': 1, 'G06F 21/629': 1, 'G07C 9/26': 1, 'G10L 2015/223': 1, 'H04M 2250/74': 1, 'G02B 7/021': 1, 'G03B 9/02': 1, 'G02B 7/102': 1, 'G02B 27/646': 1, 'H04N 5/2254': 1, 'G02B 7/08': 1, 'G02B 5/005': 1, 'H04N 5/2252': 1, 'G03B 3/10': 1, 'G03B 2205/0069': 1, 'G03B 30/00': 1, 'G03B 2205/0015': 1, 'G03B 5/00': 1, 'G06F 1/1628': 1, 'H04B 5/0031': 1, 'H04M 1/185': 1, 'G06F 1/1632': 1, 'H04B 1/3888': 1, 'H04B 5/0037': 1, 'H04M 1/22': 1, 'H04M 1/0254': 1, 'G06F 1/1626': 1, 'H04M 1/0214': 1, 'H04M 1/0245': 1, 'H04M 1/026': 1, 'H04M 1/0266': 1, 'H01Q 7/00': 1, 'H04M 2250/04': 1, 'H04M 1/72454': 1, 'H04M 1/72412': 1, 'H04B 5/0056': 1, 'H04N 5/23206': 1, 'H04N 5/22525': 1, 'H04N 5/23203': 1, 'H04N 5/23241': 1, 'H04N 7/185': 1, 'H04N 5/2257': 1, 'H04R 1/1091': 1, 'H04R 1/1016': 1, 'H04R 1/1041': 1, 'H04R 1/1025': 1, 'H04R 2225/31': 1, 'H04R 2420/07': 1, 'G06F 1/1681': 1, 'G06F 1/3265': 1, 'G06F 1/1652': 1, 'G06F 3/03545': 1, 'G06F 1/1677': 1, 'G06F 1/1616': 1, 'G09G 3/035': 1, 'G06F 3/04166': 1, 'G09G 3/3208': 1, 'G06F 1/203': 1, 'G06F 3/0412': 1, 'G06F 1/206': 1, 'G06F 2203/04105': 1, 'G09G 2320/041': 1, 'Y02D 10/00': 1, 'G09G 2380/02': 1, 'G06F 2200/201': 1, 'G06F 2203/04102': 1, 'H02J 50/12': 1, 'H02J 7/00034': 1, 'H01F 27/2804': 1, 'H02J 7/0044': 1, 'G06F 3/038': 1, 'H04W 4/80': 1, 'H01F 38/14': 1, 'H02J 50/005': 1, 'H01F 17/045': 1, 'H02J 50/10': 1, 'G06F 2200/1632': 1, 'G06F 2203/0384': 1, 'H01F 2038/143': 1, 'H04W 4/40': 1, 'G06F 2203/0383': 1, 'H02J 7/0047': 1, 'H04W 4/027': 1, 'H05K 1/0216': 1, 'H05K 9/0075': 1, 'H05K 9/002': 1, 'H05K 9/0022': 1, 'H05K 5/0247': 1, 'G06F 1/1641': 1, 'G06F 1/1624': 1, 'G06V 40/1318': 1, 'G06V 40/1312': 1, 'H02J 7/025': 1, 'G06F 3/0441': 1, 'H02J 7/0048': 1, 'H02J 7/027': 1, 'H02J 50/80': 1, 'H02J 7/0029': 1, 'H02J 50/90': 1, 'H02J 7/0049': 1, 'H02J 7/345': 1, 'H02J 2310/22': 1, 'H01M 10/48': 1, 'G01R 25/00': 1, 'H01M 10/425': 1, 'G01B 7/16': 1, 'H01M 2010/4278': 1, 'H01F 2027/406': 1, 'Y02E 60/10': 1, 'H01F 27/402': 1, 'H01M 2010/4271': 1, 'G06F 3/0383': 1, 'B43K 29/08': 1, 'G06V 10/12': 1, 'G06V 40/13': 1, 'G06F 3/0421': 1, 'G06V 40/1306': 1, 'G06F 3/016': 1, 'G06V 40/67': 1, 'G09G 3/3225': 1, 'G06F 1/166': 1, 'G06F 1/1679': 1, 'F16M 11/10': 1, 'F16M 13/005': 1, 'H04M 1/0216': 1, 'H04M 1/04': 1, 'E05Y 2900/606': 1, 'H01Q 1/44': 1, 'H01Q 13/10': 1, 'H01Q 1/245': 1, 'H01Q 21/28': 1, 'H05K 5/00': 1, 'H03K 17/96': 1, 'G06F 1/1647': 1, 'G06F 1/1637': 1, 'H04N 5/23293': 1, 'H04N 5/23216': 1, 'H04N 5/23245': 1, 'H04N 5/23219': 1, 'H04M 2250/16': 1, 'H04M 2250/12': 1, 'H04M 1/0274': 1, 'H05K 1/148': 1, 'G06F 1/1658': 1, 'H05K 1/14': 1, 'H05K 7/1427': 1, 'H04M 1/0277': 1, 'H05K 1/11': 1, 'H05K 2201/04': 1, 'H05K 1/147': 1, 'H05K 2201/10189': 1, 'H05K 3/4691': 1, 'H05K 1/181': 1, 'H05K 9/0024': 1, 'H04N 5/23267': 1, 'H04N 5/22521': 1, 'H05K 9/0049': 1, 'H04N 5/23287': 1, 'H05K 2201/10121': 1, 'H05K 1/189': 1, 'H04N 5/2253': 1, 'H05K 2201/10151': 1, 'Y02P 70/50': 1, 'G06F 3/0488': 1, 'G06F 3/0304': 1, 'G06F 3/041': 1, 'G06F 2203/04808': 1, 'G06F 3/04845': 1, 'G06F 2203/04104': 1, 'G06F 2203/04806': 1, 'G06F 3/04162': 1, 'H01F 7/0294': 1, 'G06F 3/046': 1, 'G06F 1/1656': 1, 'H01F 1/0302': 1, 'G01R 33/07': 1, 'G06F 1/169': 1, 'G01R 33/02': 1, 'G06F 1/1643': 1, 'G06F 1/1686': 1, 'G06F 1/3296': 1, 'G06K 7/0013': 1, 'G05F 3/02': 1, 'G06F 1/266': 1, 'G06F 1/1635': 1, 'G06K 7/0052': 1, 'H04B 1/3816': 1, 'G06F 1/3287': 1, 'H04W 52/028': 1, 'Y02D 30/70': 1, 'H04W 52/0261': 1, 'G06F 3/165': 1, 'H04R 1/1033': 1, 'H04R 1/1058': 1, 'H04R 5/0335': 1, 'G06F 3/162': 1, 'H04R 2201/107': 1, 'H04M 2250/22': 1, 'A61M 35/25': 1, 'G06F 16/2455': 1, 'G06F 2203/0334': 1, 'G06F 3/147': 1, 'G06Q 30/0267': 1, 'G09G 2370/12': 1, 'G09G 2320/0646': 1, 'G09G 2320/0233': 1, 'G09G 2380/06': 1, 'G09G 2320/0626': 1, 'G09G 2360/144': 1, 'G06F 3/1446': 1, 'G09G 2300/026': 1, 'G09G 2330/02': 1, 'G09G 2370/16': 1, 'H04B 10/2589': 1, 'H04M 1/06': 1, 'H04B 10/801': 1, 'G06F 3/0321': 1, 'B41J 3/4076': 1, 'D05B 19/12': 1, 'G06F 1/1698': 1, 'G06F 1/162': 1, 'G06F 1/1683': 1, 'G06F 1/263': 1, 'G06F 3/0601': 1, 'G06F 3/0673': 1, 'G06F 3/04812': 1, 'A44C 5/0015': 1, 'G04G 21/02': 1, 'G04G 21/00': 1, 'G04G 17/083': 1, 'G06F 1/163': 1, 'H04B 1/385': 1, 'H04B 2001/3855': 1, 'G06K 7/10653': 1, 'G06K 7/10891': 1, 'G06K 2007/10534': 1, 'G06K 2207/1016': 1}\n",
            "\n",
            "cluster number: 59\n",
            "CPC number stats in sub-class level: {'H02J': 9, 'H04M': 1, 'G06F': 38, 'B43K': 6, 'A61B': 5, 'A43B': 3, 'A61H': 9, 'H01H': 4, 'F16M': 3, 'H04N': 1, 'G02B': 6, 'H05K': 5, 'H01L': 5, 'Y10T': 1, 'G06K': 12}\n",
            "CPC number stats in sub-group level: {'H02J 50/005': 1, 'H04M 1/02': 1, 'H02J 50/80': 1, 'H02J 50/12': 1, 'H02J 7/0044': 1, 'H02J 50/50': 1, 'G06F 3/038': 1, 'G06F 3/0346': 1, 'G06F 3/0383': 1, 'G06F 3/03545': 1, 'G06F 3/016': 1, 'G06F 3/041': 1, 'B43K 29/02': 1, 'B43K 11/00': 1, 'B43K 7/12': 1, 'B43K 24/084': 1, 'B43K 24/08': 1, 'B43K 25/02': 1, 'A61B 5/4836': 1, 'A43B 7/146': 1, 'A61B 5/1077': 1, 'A61B 5/6812': 1, 'A61B 5/1112': 1, 'A43B 7/00': 1, 'A43B 3/34': 1, 'A61H 39/04': 1, 'A61B 5/6829': 1, 'A61H 2201/165': 1, 'A61H 2201/1261': 1, 'A61H 2230/855': 1, 'A61H 2201/5071': 1, 'A61H 2230/825': 1, 'A61H 2201/164': 1, 'A61H 2205/12': 1, 'A61H 2230/805': 1, 'G06F 3/0442': 1, 'G06F 2203/04101': 1, 'G06F 2203/04105': 1, 'H01H 9/563': 1, 'H01H 50/002': 1, 'H01H 47/223': 1, 'H01H 50/546': 1, 'H02J 7/0042': 1, 'F16M 13/00': 1, 'H02J 50/10': 1, 'F16M 11/041': 1, 'H02J 7/02': 1, 'F16M 2200/08': 1, 'G06F 3/046': 1, 'G06F 3/0418': 1, 'H04N 5/64': 1, 'G06F 1/1632': 1, 'G06F 1/1626': 1, 'G06F 1/3203': 1, 'G06F 1/3262': 1, 'G06F 3/03547': 1, 'G06F 2203/0339': 1, 'G02B 6/3807': 1, 'G02B 6/3849': 1, 'G02B 6/3893': 1, 'G02B 6/3898': 1, 'G02B 6/3825': 1, 'G02B 6/3829': 1, 'G06F 1/203': 1, 'H05K 7/20172': 1, 'H05K 1/0272': 1, 'H01L 23/427': 1, 'H01L 23/467': 1, 'H05K 7/20154': 1, 'H01L 2924/0002': 1, 'H01L 2924/00': 1, 'Y10T 29/4935': 1, 'G06F 2203/0331': 1, 'G06F 3/03543': 1, 'G06F 2203/0334': 1, 'G06K 7/10673': 1, 'G06K 7/1098': 1, 'G06K 7/10811': 1, 'G06K 7/10584': 1, 'G06K 7/10881': 1, 'G06K 7/10653': 1, 'G06K 7/10871': 1, 'G06K 7/10891': 1, 'G06K 7/109': 1, 'G06K 2207/1011': 1, 'G06K 2007/10534': 1, 'G06K 2207/1016': 1}\n",
            "\n",
            "cluster number: 60\n",
            "CPC number stats in sub-class level: {'H02J': 9, 'A45C': 7, 'H04B': 1, 'G06F': 43, 'A63F': 3, 'H04W': 1, 'A61B': 11, 'G06K': 1, 'G06V': 1, 'G16H': 1, 'G09G': 2, 'G02B': 11}\n",
            "CPC number stats in sub-group level: {'H02J 50/60': 1, 'H02J 50/12': 1, 'H02J 7/025': 1, 'H02J 50/80': 1, 'H02J 7/007': 1, 'H02J 7/00045': 1, 'A45C 11/00': 1, 'A45C 15/00': 1, 'A45C 13/02': 1, 'H02J 7/0042': 1, 'H02J 7/00': 1, 'A45C 2011/003': 1, 'A45C 2013/025': 1, 'H04B 5/0037': 1, 'A45C 2011/002': 1, 'A45C 2011/001': 1, 'G06F 1/1626': 1, 'G06F 3/04845': 1, 'G06F 3/04886': 1, 'G06F 3/04883': 1, 'G06F 1/1647': 1, 'G06F 3/0412': 1, 'G06F 3/0482': 1, 'G06F 2203/04803': 1, 'G06F 2203/04102': 1, 'G06F 3/046': 1, 'G06F 3/041': 1, 'G06F 3/04166': 1, 'G06F 2203/04108': 1, 'G06F 2203/04103': 1, 'A63F 3/00694': 1, 'H04W 4/80': 1, 'A63F 2009/2485': 1, 'A63F 2003/00668': 1, 'A61B 5/291': 1, 'G06F 3/013': 1, 'A61B 5/6898': 1, 'A61B 5/16': 1, 'G06K 9/00496': 1, 'A61B 5/6803': 1, 'G06F 3/015': 1, 'A61B 5/0002': 1, 'A61B 5/7475': 1, 'G06V 40/18': 1, 'A61B 5/375': 1, 'A61B 5/742': 1, 'G16H 40/63': 1, 'A61B 5/374': 1, 'A61B 3/113': 1, 'A61B 3/00': 1, 'G06F 2203/04806': 1, 'G06F 3/0354': 1, 'G06F 3/03545': 1, 'G06F 3/0416': 1, 'G06F 21/36': 1, 'G06F 3/0481': 1, 'G06F 3/0484': 1, 'G06F 2203/04101': 1, 'G06F 2200/1632': 1, 'G06F 2203/04106': 1, 'G06F 1/1643': 1, 'G06F 3/04182': 1, 'G06F 1/1652': 1, 'G06F 3/0488': 1, 'G09G 2340/045': 1, 'G09G 2380/02': 1, 'G06F 2203/04805': 1, 'G02B 6/3887': 1, 'G02B 6/389': 1, 'G02B 6/3888': 1, 'G02B 6/3807': 1, 'G02B 6/3849': 1, 'G02B 6/3898': 1, 'G02B 6/3831': 1, 'G02B 6/3897': 1, 'G02B 6/3821': 1, 'G02B 6/3825': 1, 'G02B 6/3871': 1, 'G06F 3/04812': 1}\n",
            "\n",
            "cluster number: 61\n",
            "CPC number stats in sub-class level: {'G06F': 7, 'G06T': 1, 'H01Q': 26, 'H04W': 6, 'H04B': 13, 'H01P': 3, 'G01R': 5, 'A61B': 18, 'A61N': 3, 'H04J': 1, 'G09B': 1}\n",
            "CPC number stats in sub-group level: {'G06F 3/04883': 1, 'G06T 11/00': 1, 'G06F 3/011': 1, 'G06F 3/017': 1, 'G06F 3/016': 1, 'G06F 3/03545': 1, 'H01Q 25/002': 1, 'H01Q 21/20': 1, 'H01Q 9/0485': 1, 'H04W 4/025': 1, 'H01Q 3/34': 1, 'H04W 4/029': 1, 'H04W 16/28': 1, 'H01Q 1/246': 1, 'H04B 7/0617': 1, 'H01Q 3/24': 1, 'H01Q 1/38': 1, 'H04B 5/0031': 1, 'H04B 7/0495': 1, 'H04B 7/0691': 1, 'H01Q 3/30': 1, 'H01Q 1/2291': 1, 'H01Q 13/24': 1, 'H01Q 21/00': 1, 'H01Q 21/205': 1, 'H01Q 3/26': 1, 'H01Q 3/242': 1, 'H01P 5/103': 1, 'H01Q 21/064': 1, 'H01P 3/10': 1, 'H01Q 13/0241': 1, 'H01P 5/024': 1, 'G01R 33/5608': 1, 'G01R 33/56325': 1, 'G01R 33/546': 1, 'G01R 33/4835': 1, 'G01R 33/563': 1, 'H04B 3/36': 1, 'H04B 10/40': 1, 'H04B 10/25759': 1, 'H01Q 13/26': 1, 'G06F 1/1698': 1, 'H04B 5/0037': 1, 'H04B 5/0081': 1, 'G06F 1/1643': 1, 'A61B 8/4209': 1, 'A61B 8/13': 1, 'A61B 8/08': 1, 'A61N 7/00': 1, 'A61B 8/4488': 1, 'A61B 8/5207': 1, 'A61B 8/56': 1, 'A61N 7/02': 1, 'A61B 8/4245': 1, 'A61B 5/015': 1, 'A61B 8/483': 1, 'A61B 8/4483': 1, 'A61B 8/4254': 1, 'A61B 8/4477': 1, 'A61B 8/4263': 1, 'A61B 8/4494': 1, 'A61B 8/565': 1, 'H04J 13/00': 1, 'A61B 2090/378': 1, 'A61B 2017/320069': 1, 'A61N 2007/0078': 1, 'A61B 2562/164': 1, 'G09B 15/023': 1}\n",
            "\n",
            "cluster number: 62\n",
            "CPC number stats in sub-class level: {'F24F': 5, 'G06F': 55, 'G05B': 2, 'H01L': 8, 'G09G': 26, 'G02F': 4, 'H04B': 3, 'H04W': 2, 'H04L': 2, 'B41J': 1, 'A45D': 2, 'G06V': 5, 'G09B': 2, 'Y02D': 4}\n",
            "CPC number stats in sub-group level: {'F24F 11/46': 1, 'G06F 30/20': 1, 'F24F 11/523': 1, 'F24F 11/64': 1, 'G05B 15/02': 1, 'F24F 11/67': 1, 'G06F 2119/06': 1, 'G05B 2219/2614': 1, 'F24F 2140/60': 1, 'H01L 21/02266': 1, 'G09G 3/3648': 1, 'G09G 3/3233': 1, 'H01L 21/02164': 1, 'G09G 3/3258': 1, 'G06F 3/0412': 1, 'G09G 3/3225': 1, 'G09G 3/2003': 1, 'H01L 27/3232': 1, 'G02F 1/133553': 1, 'G02F 1/136286': 1, 'G09G 3/2092': 1, 'G02F 1/1368': 1, 'G02F 1/13439': 1, 'G06F 3/0421': 1, 'G09G 2320/0673': 1, 'H01L 29/7869': 1, 'G06F 3/046': 1, 'G09G 2300/0452': 1, 'H01L 27/12': 1, 'G09G 2310/08': 1, 'G09G 2300/023': 1, 'H01L 29/78648': 1, 'H01L 29/78696': 1, 'G09G 2300/0426': 1, 'G09G 2300/046': 1, 'G09G 2330/021': 1, 'H01L 27/1225': 1, 'G06F 3/0446': 1, 'H04B 10/1123': 1, 'H04B 10/11': 1, 'H04B 10/40': 1, 'H04W 4/08': 1, 'H04L 12/282': 1, 'H04W 4/02': 1, 'H04L 2012/2841': 1, 'G06F 3/04166': 1, 'G06F 3/0441': 1, 'G06F 3/038': 1, 'G06F 3/0383': 1, 'G06F 3/04162': 1, 'G06F 3/041': 1, 'G06F 3/03545': 1, 'G06F 3/0443': 1, 'G06F 3/0442': 1, 'G06F 2203/04106': 1, 'G06F 2203/04104': 1, 'G06F 3/04883': 1, 'G06F 3/0488': 1, 'G06F 2203/04808': 1, 'B41J 3/407': 1, 'A45D 29/00': 1, 'A45D 2029/005': 1, 'G06V 30/333': 1, 'G06F 1/3203': 1, 'G06F 3/03547': 1, 'G06F 1/3262': 1, 'G06F 2203/0339': 1, 'G06F 3/0418': 1, 'G06V 30/1423': 1, 'G09B 11/00': 1, 'G09B 7/02': 1, 'G06F 1/1679': 1, 'G06F 1/162': 1, 'G06F 1/1632': 1, 'G06F 1/1677': 1, 'G06F 1/169': 1, 'G06F 1/1656': 1, 'G09G 3/3266': 1, 'G09G 3/3275': 1, 'G09G 2300/0828': 1, 'G09G 2320/103': 1, 'G09G 2310/04': 1, 'G09G 2320/0242': 1, 'G09G 2330/022': 1, 'G09G 2300/0809': 1, 'G09G 2300/0857': 1, 'G09G 2300/0861': 1, 'G06V 10/12': 1, 'G06V 30/142': 1, 'G06F 1/329': 1, 'G06F 1/324': 1, 'G06F 1/08': 1, 'G06F 1/32': 1, 'G06F 1/3296': 1, 'Y02D 10/24': 1, 'Y02D 10/00': 1, 'Y02D 10/172': 1, 'Y02D 10/126': 1, 'G06F 3/0482': 1, 'G06F 2203/04107': 1}\n",
            "\n",
            "cluster number: 63\n",
            "CPC number stats in sub-class level: {'H01L': 3, 'H05B': 3, 'G09F': 2, 'G09G': 7, 'Y02E': 1, 'A61N': 2, 'A61B': 15, 'H01Q': 51, 'H01P': 19, 'H04B': 11, 'H01B': 2, 'G03B': 3, 'H05K': 5, 'G01P': 2, 'H04N': 2, 'H02J': 3, 'H02K': 1, 'G02F': 4, 'A43B': 3, 'G02B': 2, 'B01J': 1, 'A43D': 2, 'Y10S': 3, 'B82Y': 1, 'B43K': 5, 'F16B': 1, 'A45D': 1}\n",
            "CPC number stats in sub-group level: {'H01L 51/0097': 1, 'H05B 33/04': 1, 'H01L 51/5253': 1, 'G09F 9/30': 1, 'G09G 5/006': 1, 'G09G 5/14': 1, 'H05B 33/02': 1, 'G09F 9/00': 1, 'G09G 3/2092': 1, 'H05B 33/14': 1, 'G09G 5/003': 1, 'H01L 27/3244': 1, 'Y02E 10/549': 1, 'G09G 2354/00': 1, 'G09G 2300/0426': 1, 'G09G 2380/02': 1, 'A61N 1/40': 1, 'A61B 18/1402': 1, 'A61B 34/37': 1, 'A61B 34/32': 1, 'A61N 1/0502': 1, 'A61B 2018/00452': 1, 'A61B 2090/062': 1, 'A61B 2018/1475': 1, 'A61B 18/1445': 1, 'A61B 2018/00178': 1, 'A61B 2017/00154': 1, 'A61B 2018/1432': 1, 'A61B 2018/00083': 1, 'A61B 2090/363': 1, 'A61B 2018/143': 1, 'A61B 2018/00196': 1, 'A61B 2018/1425': 1, 'H01Q 13/10': 1, 'H01Q 11/08': 1, 'H01Q 11/083': 1, 'H01Q 1/48': 1, 'H01P 3/10': 1, 'H04B 1/00': 1, 'H04B 3/58': 1, 'H04B 3/56': 1, 'H01P 1/207': 1, 'H01B 11/1895': 1, 'H01P 7/06': 1, 'H01P 5/02': 1, 'H01Q 1/42': 1, 'H01Q 1/36': 1, 'H01Q 1/422': 1, 'H01Q 13/06': 1, 'H01Q 13/24': 1, 'H01Q 19/08': 1, 'H01Q 1/02': 1, 'H01Q 1/50': 1, 'H01P 3/16': 1, 'H01Q 21/205': 1, 'H04B 3/52': 1, 'H01P 1/16': 1, 'H01Q 3/36': 1, 'H01Q 3/08': 1, 'H01Q 13/02': 1, 'H01P 5/08': 1, 'H01Q 15/16': 1, 'H01Q 3/247': 1, 'H01Q 3/18': 1, 'H01Q 9/0485': 1, 'H01Q 19/193': 1, 'H01Q 1/2291': 1, 'H01B 11/002': 1, 'G03B 5/04': 1, 'G03B 13/36': 1, 'H05K 1/0216': 1, 'G01P 13/00': 1, 'H05K 1/0228': 1, 'H04N 5/225': 1, 'G01P 15/0802': 1, 'H02J 7/0068': 1, 'H02J 7/025': 1, 'G03B 2205/0069': 1, 'H05K 2201/09672': 1, 'H04N 5/23287': 1, 'H02K 1/22': 1, 'H02J 50/10': 1, 'H05K 1/189': 1, 'H05K 2201/093': 1, 'H01Q 15/14': 1, 'H01Q 19/19': 1, 'H01P 5/19': 1, 'H01P 3/122': 1, 'H01P 5/024': 1, 'H01P 5/107': 1, 'H04B 3/36': 1, 'G02F 1/09': 1, 'A43B 1/0054': 1, 'A43B 1/0027': 1, 'G02B 27/4244': 1, 'B01J 13/0047': 1, 'A43D 3/02': 1, 'A43D 8/16': 1, 'A43B 3/0078': 1, 'G02F 1/0036': 1, 'G02B 1/005': 1, 'Y10S 977/834': 1, 'Y10S 977/838': 1, 'B82Y 20/00': 1, 'Y10S 977/811': 1, 'G02F 2202/36': 1, 'G02F 2202/32': 1, 'B43K 25/028': 1, 'B43K 24/163': 1, 'F16B 2/10': 1, 'B43K 27/08': 1, 'A45D 34/04': 1, 'B43K 25/02': 1, 'B43K 25/024': 1}\n",
            "\n",
            "cluster number: 64\n",
            "CPC number stats in sub-class level: {'G06F': 21, 'G02B': 1, 'B44F': 1, 'H04R': 52, 'B06B': 18, 'G09G': 3, 'G01R': 1, 'H02M': 5, 'H02J': 2, 'Y02B': 1, 'H05B': 1, 'H03K': 2, 'B41J': 3}\n",
            "CPC number stats in sub-group level: {'G06F 3/03545': 1, 'G06F 3/0383': 1, 'G02B 6/001': 1, 'B44F 11/02': 1, 'G06F 3/04883': 1, 'G06F 3/047': 1, 'G06F 3/044': 1, 'H04R 17/00': 1, 'B06B 1/0611': 1, 'H04R 3/04': 1, 'B06B 1/0603': 1, 'B06B 1/0253': 1, 'H04R 3/12': 1, 'H04R 2420/03': 1, 'H04R 2499/11': 1, 'H04R 2420/01': 1, 'H04R 2420/05': 1, 'H04R 2499/15': 1, 'H04R 7/045': 1, 'H04R 17/005': 1, 'H04R 2217/01': 1, 'H04R 2400/03': 1, 'H04R 3/00': 1, 'G06F 3/048': 1, 'G06F 3/038': 1, 'G09G 5/24': 1, 'G06F 3/041': 1, 'G09G 5/003': 1, 'G06F 3/0488': 1, 'G06F 3/0416': 1, 'G09G 2354/00': 1, 'G06F 2203/04108': 1, 'B06B 1/0607': 1, 'B06B 1/0207': 1, 'H04R 29/001': 1, 'B06B 1/10': 1, 'G01R 27/2605': 1, 'H02M 1/36': 1, 'H02J 50/10': 1, 'H02M 3/33507': 1, 'H02M 1/0006': 1, 'Y02B 70/10': 1, 'H05B 45/3725': 1, 'H02J 7/022': 1, 'H02M 7/05': 1, 'H02M 1/0032': 1, 'H03K 17/97': 1, 'G06F 3/046': 1, 'H03K 2217/96038': 1, 'B41J 3/445': 1, 'B41J 3/36': 1, 'B41J 2/16508': 1, 'G06F 1/3203': 1, 'G06F 1/3262': 1, 'G06F 3/0485': 1, 'G06F 3/03547': 1, 'G06F 2203/0339': 1}\n",
            "\n",
            "cluster number: 65\n",
            "CPC number stats in sub-class level: {'G06F': 57, 'H05K': 7, 'G02F': 6, 'H01Q': 10, 'H01P': 7, 'H02G': 1, 'H04B': 3, 'H04R': 5, 'H04M': 10, 'A24B': 3, 'A24F': 4, 'B43K': 2, 'A24D': 3, 'H01R': 4, 'H01L': 2, 'F25B': 4, 'B60H': 1, 'Y02A': 1, 'H01H': 23, 'E05D': 1, 'G05B': 2, 'F16M': 1, 'E05F': 1, 'Y02D': 1, 'E05Y': 1, 'Y10T': 5, 'G04G': 2, 'H02J': 9, 'G04C': 1, 'G05F': 1, 'Y02B': 1, 'Y04S': 1, 'B24B': 2}\n",
            "CPC number stats in sub-group level: {'G06F 3/0482': 1, 'G06F 3/0488': 1, 'G06F 3/04883': 1, 'G06F 3/04842': 1, 'G06F 3/041': 1, 'G06F 3/016': 1, 'G06F 2203/0339': 1, 'G06F 2203/04105': 1, 'H05K 5/0213': 1, 'G02F 1/13332': 1, 'H05K 5/03': 1, 'G02F 1/133305': 1, 'H05K 5/0017': 1, 'G02F 1/133314': 1, 'H01Q 15/0093': 1, 'H01Q 9/0407': 1, 'H01Q 1/48': 1, 'H01Q 1/38': 1, 'H01Q 21/067': 1, 'H01Q 9/0442': 1, 'H01Q 13/24': 1, 'H01P 3/16': 1, 'H01P 5/08': 1, 'H01P 3/10': 1, 'H01Q 1/12': 1, 'H02G 7/205': 1, 'H01Q 1/18': 1, 'H01P 1/16': 1, 'H01P 5/087': 1, 'H04B 3/54': 1, 'H01Q 1/46': 1, 'H04B 3/56': 1, 'H04B 3/52': 1, 'G06F 1/1605': 1, 'G02F 1/133345': 1, 'H04R 1/028': 1, 'G06F 1/1688': 1, 'G02F 1/13439': 1, 'G06F 1/1652': 1, 'G06F 1/1643': 1, 'H04M 1/03': 1, 'H04R 7/04': 1, 'G06F 1/1637': 1, 'G02F 1/13338': 1, 'G06F 1/1626': 1, 'H04M 1/0266': 1, 'H04R 2499/15': 1, 'H04R 9/06': 1, 'H04R 17/005': 1, 'A24B 15/16': 1, 'A24F 40/485': 1, 'A24B 13/00': 1, 'B43K 23/08': 1, 'A24D 3/061': 1, 'B43K 29/00': 1, 'A24B 15/283': 1, 'A24D 3/10': 1, 'A24D 3/17': 1, 'A24F 40/00': 1, 'A24F 3/00': 1, 'A24F 40/10': 1, 'G06F 3/0383': 1, 'G06F 3/0346': 1, 'G06F 3/03545': 1, 'G06F 3/0414': 1, 'H04M 1/0237': 1, 'H04M 1/0214': 1, 'H04M 1/0268': 1, 'H01R 13/6683': 1, 'H01R 13/6205': 1, 'H01R 13/6675': 1, 'H04M 1/0274': 1, 'H01R 2201/16': 1, 'H01L 41/0933': 1, 'H01L 41/0533': 1, 'F25B 17/083': 1, 'F25B 27/02': 1, 'B60H 1/32014': 1, 'F25B 17/08': 1, 'F25B 49/04': 1, 'Y02A 30/274': 1, 'G06F 3/0416': 1, 'H01H 13/78': 1, 'H01H 13/807': 1, 'G06F 1/1683': 1, 'G06F 1/1684': 1, 'G06F 3/0487': 1, 'H01H 11/00': 1, 'G06F 3/0202': 1, 'E05D 11/1064': 1, 'G06F 3/02': 1, 'G06F 1/1686': 1, 'H01H 13/702': 1, 'H01H 13/785': 1, 'H04M 1/0254': 1, 'G06F 1/1681': 1, 'G06F 3/04886': 1, 'G06F 3/002': 1, 'H01H 13/704': 1, 'H05K 5/0234': 1, 'G06F 1/1616': 1, 'G06F 1/166': 1, 'G05B 11/01': 1, 'G06F 11/3089': 1, 'G06F 1/1618': 1, 'G06F 1/1654': 1, 'G06F 3/01': 1, 'F16M 11/38': 1, 'G06F 1/1656': 1, 'G06F 1/1669': 1, 'H01H 13/14': 1, 'H04M 1/0216': 1, 'H04M 1/72409': 1, 'H01H 13/703': 1, 'G06F 3/0219': 1, 'H01H 13/79': 1, 'H01H 13/82': 1, 'H05K 5/0226': 1, 'G06F 1/1662': 1, 'G06F 3/023': 1, 'E05F 5/08': 1, 'G06F 13/102': 1, 'G06F 9/541': 1, 'G06F 3/0233': 1, 'H01H 2203/058': 1, 'H01H 2203/036': 1, 'H01H 2217/004': 1, 'H01H 2211/004': 1, 'H01H 2205/006': 1, 'Y02D 10/00': 1, 'H01H 2213/016': 1, 'H01H 2217/006': 1, 'H01H 2203/02': 1, 'E05Y 2201/46': 1, 'Y10T 29/49826': 1, 'H01H 2217/01': 1, 'H04M 1/0245': 1, 'Y10T 16/551': 1, 'H01H 2227/032': 1, 'H01H 9/26': 1, 'Y10T 16/5401': 1, 'H01H 2211/006': 1, 'H01H 2201/036': 1, 'G06F 3/046': 1, 'G06F 3/0443': 1, 'G06F 2203/04106': 1, 'G04G 21/04': 1, 'H02J 7/0044': 1, 'H02J 50/10': 1, 'G04G 17/083': 1, 'G04C 10/00': 1, 'H02J 13/00028': 1, 'H02J 13/0086': 1, 'H02J 13/0079': 1, 'G05B 15/02': 1, 'G05F 1/66': 1, 'G06F 16/211': 1, 'H02J 13/00034': 1, 'Y02B 90/20': 1, 'Y04S 20/00': 1, 'H02J 7/00302': 1, 'H02J 7/025': 1, 'H02J 50/12': 1, 'B24B 13/0055': 1, 'B24B 9/146': 1, 'Y10T 29/53': 1, 'Y10T 29/53091': 1, 'G06F 3/045': 1, 'G06F 2203/04104': 1, 'G06F 1/203': 1, 'H05K 7/20172': 1, 'H05K 1/0272': 1}\n",
            "\n",
            "cluster number: 66\n",
            "CPC number stats in sub-class level: {'H04W': 27, 'H04M': 7, 'G07C': 3, 'G08G': 1, 'G06Q': 3, 'H04N': 32, 'H04L': 6, 'H04B': 27, 'E05F': 2, 'G06K': 43, 'G09G': 1, 'G06F': 14, 'B41J': 1}\n",
            "CPC number stats in sub-group level: {'H04W 48/04': 1, 'H04M 1/6075': 1, 'G07C 9/29': 1, 'H04W 4/80': 1, 'H04W 4/06': 1, 'G08G 1/017': 1, 'H04W 4/021': 1, 'H04M 1/67': 1, 'H04M 1/72454': 1, 'H04M 1/72463': 1, 'H04W 48/16': 1, 'G07C 9/00674': 1, 'H04W 4/02': 1, 'H04W 88/02': 1, 'H04M 2250/02': 1, 'H04W 4/90': 1, 'H04M 1/72412': 1, 'G07C 2009/00793': 1, 'H04W 4/40': 1, 'G06Q 30/0246': 1, 'H04N 5/2352': 1, 'G06Q 30/0267': 1, 'H04L 67/146': 1, 'H04N 5/3532': 1, 'H04B 10/116': 1, 'H04N 5/243': 1, 'H04N 5/3535': 1, 'H04N 5/2356': 1, 'H04N 5/232411': 1, 'H04B 10/1143': 1, 'H04N 5/23293': 1, 'H04N 5/2353': 1, 'H04B 10/11': 1, 'H04B 10/1123': 1, 'H04B 10/40': 1, 'H04B 10/541': 1, 'H04B 10/1149': 1, 'E05F 15/43': 1, 'E05F 2015/435': 1, 'H04N 5/23203': 1, 'H04N 5/23245': 1, 'H04W 4/50': 1, 'H04W 4/21': 1, 'H04W 4/20': 1, 'H04N 5/23206': 1, 'H04L 12/2803': 1, 'H04L 12/2807': 1, 'H04N 5/23222': 1, 'H04B 10/516': 1, 'H04L 2012/2841': 1, 'G06K 7/10881': 1, 'G09G 3/02': 1, 'G06F 3/03545': 1, 'G06F 1/181': 1, 'G06F 16/955': 1, 'G06K 7/10772': 1, 'G06F 1/1616': 1, 'G06F 16/4393': 1, 'G06F 16/9554': 1, 'H04L 61/00': 1, 'H04L 61/30': 1, 'G06F 1/1632': 1, 'G06F 1/1696': 1, 'G06K 1/121': 1, 'G06F 1/1626': 1, 'G06F 1/1639': 1, 'G06K 17/0022': 1, 'G06F 16/434': 1, 'B41J 2002/453': 1, 'G06K 7/10574': 1, 'G06K 7/10673': 1, 'G06K 7/12': 1, 'G06K 7/10564': 1, 'G06K 7/10584': 1, 'G06K 7/10633': 1, 'G06K 7/10643': 1, 'G06K 7/10653': 1, 'G06K 7/10693': 1, 'G06K 7/10811': 1, 'G06K 7/10851': 1, 'G06K 7/10871': 1, 'G06K 7/10891': 1, 'G06K 7/109': 1, 'G06K 7/1098': 1, 'G06K 2207/1011': 1, 'G06K 2207/1016': 1, 'G06K 2207/1018': 1, 'G06F 3/0483': 1, 'G06F 3/04817': 1, 'G06F 3/0488': 1, 'G06Q 10/10': 1}\n",
            "\n",
            "cluster number: 67\n",
            "CPC number stats in sub-class level: {'H04M': 31, 'H04W': 38, 'H04B': 2, 'H02J': 4, 'G06F': 1, 'H04L': 2, 'A61J': 9, 'G07F': 2}\n",
            "CPC number stats in sub-group level: {'H04M 1/72412': 1, 'H04M 19/04': 1, 'H04W 88/02': 1, 'H04M 1/72454': 1, 'H04W 68/02': 1, 'H04W 92/18': 1, 'H04W 4/20': 1, 'H04M 2250/12': 1, 'H04B 5/0056': 1, 'H04B 5/0037': 1, 'H02J 7/025': 1, 'H02J 50/12': 1, 'H02J 7/00034': 1, 'H02J 50/80': 1, 'H04W 4/80': 1, 'H04M 1/725': 1, 'G06F 1/163': 1, 'H04M 1/72448': 1, 'H04W 84/18': 1, 'H04W 4/02': 1, 'H04M 1/724': 1, 'H04W 4/029': 1, 'H04L 69/08': 1, 'H04L 67/00': 1, 'A61J 7/0472': 1, 'G07F 17/0092': 1, 'A61J 7/0076': 1, 'G07F 11/16': 1, 'A61J 2205/60': 1, 'A61J 2200/30': 1, 'A61J 7/0436': 1, 'A61J 7/0418': 1, 'A61J 7/0445': 1, 'A61J 2205/10': 1, 'A61J 7/0427': 1}\n",
            "\n",
            "cluster number: 68\n",
            "CPC number stats in sub-class level: {'G06F': 38, 'Y02D': 2, 'H04L': 13, 'H04M': 3, 'H04N': 28, 'G06T': 1, 'G02B': 1, 'G09G': 6, 'G10L': 9, 'G16B': 2, 'G06K': 1, 'G16H': 2, 'G06V': 2, 'H04S': 9, 'A61N': 3, 'A61B': 18, 'H04J': 1, 'H04B': 12, 'G06Q': 2, 'H04W': 8}\n",
            "CPC number stats in sub-group level: {'G06F 1/329': 1, 'G06F 15/16': 1, 'G06F 9/44': 1, 'G06F 1/32': 1, 'G06F 3/0482': 1, 'G06F 9/4893': 1, 'Y02D 10/00': 1, 'H04L 12/282': 1, 'H04M 3/4931': 1, 'H04M 11/002': 1, 'H04L 12/2823': 1, 'H04L 12/28': 1, 'H04L 67/12': 1, 'H04L 2012/285': 1, 'G06F 3/04815': 1, 'G06F 3/011': 1, 'G06F 3/0346': 1, 'H04N 13/368': 1, 'H04N 13/344': 1, 'G06F 3/03545': 1, 'G06T 19/003': 1, 'G06F 1/163': 1, 'G02B 27/017': 1, 'G06F 3/0447': 1, 'G09G 5/08': 1, 'G06F 3/03547': 1, 'G06F 3/04883': 1, 'G06F 3/0418': 1, 'G09G 2320/0252': 1, 'G09G 2354/00': 1, 'H04L 51/04': 1, 'G06F 3/0481': 1, 'H04L 51/10': 1, 'H04N 1/00222': 1, 'G06F 16/9577': 1, 'G06F 3/0416': 1, 'G06F 3/04817': 1, 'G06F 3/0488': 1, 'G06F 3/038': 1, 'G06F 3/167': 1, 'G06F 3/041': 1, 'G06F 3/04842': 1, 'G06F 2203/04808': 1, 'H04M 1/72403': 1, 'G10L 15/02': 1, 'G10L 15/063': 1, 'G10L 15/14': 1, 'G10L 15/30': 1, 'G10L 15/197': 1, 'G10L 15/187': 1, 'G10L 2015/0635': 1, 'G10L 2015/0633': 1, 'G10L 2015/025': 1, 'G16B 50/00': 1, 'G06K 9/00496': 1, 'G16B 50/30': 1, 'G16H 50/20': 1, 'G06V 40/10': 1, 'G16H 10/60': 1, 'G06F 21/32': 1, 'G06V 40/15': 1, 'H04S 1/002': 1, 'H04S 1/007': 1, 'H04S 5/02': 1, 'H04S 7/40': 1, 'H04S 3/008': 1, 'H04S 7/305': 1, 'H04S 2420/01': 1, 'H04S 2400/13': 1, 'H04S 2400/11': 1, 'G06F 1/3231': 1, 'G06F 3/005': 1, 'H04N 1/00': 1, 'G06F 3/0304': 1, 'H04N 5/232122': 1, 'H04N 5/23216': 1, 'A61N 7/02': 1, 'A61B 8/4254': 1, 'A61B 8/13': 1, 'A61B 8/4488': 1, 'A61B 8/4483': 1, 'A61B 8/4494': 1, 'A61B 8/4477': 1, 'A61B 8/483': 1, 'A61B 8/4209': 1, 'A61B 8/4245': 1, 'A61B 8/56': 1, 'A61N 7/00': 1, 'A61B 8/5207': 1, 'A61B 8/4263': 1, 'A61B 5/015': 1, 'A61B 8/08': 1, 'A61B 2017/320069': 1, 'A61N 2007/0078': 1, 'H04J 13/00': 1, 'A61B 2090/378': 1, 'A61B 2562/164': 1, 'A61B 8/565': 1, 'H04N 5/23293': 1, 'H04B 10/1143': 1, 'H04N 5/2356': 1, 'H04L 67/146': 1, 'H04N 5/3535': 1, 'H04N 5/243': 1, 'G06Q 30/0246': 1, 'H04N 5/232411': 1, 'H04N 5/2353': 1, 'H04N 5/3532': 1, 'H04B 10/116': 1, 'G06Q 30/0267': 1, 'H04N 5/2352': 1, 'H04W 4/80': 1, 'H04B 10/541': 1, 'H04L 12/2803': 1, 'H04W 4/50': 1, 'H04N 3/1506': 1, 'H04N 5/232933': 1, 'H04N 5/23206': 1, 'H04B 10/11': 1, 'H04L 2012/2841': 1, 'H04W 4/21': 1, 'H04N 5/23203': 1, 'H04N 5/23245': 1, 'H04W 4/20': 1, 'H04B 10/516': 1, 'H04N 5/23222': 1, 'H04L 12/2807': 1, 'H04W 88/00': 1, 'G06F 1/1626': 1, 'G06F 1/1694': 1, 'G06F 1/1698': 1}\n",
            "\n",
            "cluster number: 69\n",
            "CPC number stats in sub-class level: {'H04L': 23, 'H04B': 28, 'H04W': 6, 'H01P': 6, 'H01Q': 8, 'A61N': 5}\n",
            "CPC number stats in sub-group level: {'H04L 5/0023': 1, 'H04L 25/0232': 1, 'H04B 7/04': 1, 'H04L 5/14': 1, 'H04W 72/082': 1, 'H04L 5/0032': 1, 'H01P 5/181': 1, 'H04B 3/52': 1, 'H04W 72/0453': 1, 'H04L 5/0094': 1, 'H04L 25/0236': 1, 'H04L 25/022': 1, 'H04L 25/02': 1, 'H04W 72/0446': 1, 'H04L 5/0044': 1, 'H04L 27/26': 1, 'H04L 5/0048': 1, 'H04B 17/102': 1, 'H04B 17/0085': 1, 'H04L 41/0695': 1, 'H01Q 21/205': 1, 'H01Q 19/08': 1, 'H04B 3/32': 1, 'H04B 3/36': 1, 'H04B 3/56': 1, 'H01Q 3/08': 1, 'H04B 3/46': 1, 'H04B 3/58': 1, 'H01P 3/16': 1, 'H01Q 13/02': 1, 'H01P 5/087': 1, 'H04B 3/04': 1, 'H04B 2203/5425': 1, 'H04B 2203/5441': 1, 'H04B 2203/5491': 1, 'H04B 2203/5483': 1, 'A61N 1/37247': 1, 'A61N 1/36071': 1, 'A61N 1/37264': 1, 'A61N 1/3605': 1, 'A61N 1/36185': 1}\n",
            "\n",
            "cluster number: 70\n",
            "CPC number stats in sub-class level: {'G06F': 77, 'H04W': 9, 'H04B': 6, 'H04M': 12, 'H04N': 45, 'Y02D': 2, 'H02J': 6, 'A63F': 9, 'G06V': 6, 'G06Q': 12, 'G08C': 3, 'B41J': 2, 'Y10S': 1, 'Y10T': 1, 'G06K': 8, 'C09D': 2, 'H04L': 2, 'G02B': 1, 'C08L': 1, 'B05D': 2}\n",
            "CPC number stats in sub-group level: {'G06F 3/0383': 1, 'G06F 1/1626': 1, 'G06F 3/04817': 1, 'G06F 1/1656': 1, 'H04W 4/80': 1, 'G06F 3/0484': 1, 'G06F 3/03545': 1, 'G06F 2203/0384': 1, 'H04W 4/027': 1, 'G06F 2200/1632': 1, 'H04W 48/16': 1, 'H04B 7/0408': 1, 'H04B 7/0695': 1, 'H04W 36/06': 1, 'H04B 7/0617': 1, 'H04W 48/20': 1, 'H04B 7/0404': 1, 'H04W 84/12': 1, 'H04M 1/02': 1, 'H04N 5/2258': 1, 'H04N 5/247': 1, 'H04N 5/232939': 1, 'H04N 5/23293': 1, 'H04N 5/2353': 1, 'H04N 5/2351': 1, 'G06F 3/0488': 1, 'G06F 3/0414': 1, 'G06F 3/041': 1, 'G06F 3/04886': 1, 'G06F 2203/04105': 1, 'H04N 5/232': 1, 'H04N 5/23216': 1, 'H04N 5/23258': 1, 'H04N 5/23254': 1, 'H04N 5/351': 1, 'H04N 5/23251': 1, 'H04N 5/345': 1, 'H04N 5/353': 1, 'G06F 1/3228': 1, 'G06F 1/329': 1, 'G06F 1/3231': 1, 'Y02D 10/00': 1, 'G06F 1/16': 1, 'G06F 3/0486': 1, 'G06F 3/0485': 1, 'G06F 3/04842': 1, 'G06F 3/0482': 1, 'G06F 3/0412': 1, 'G06F 3/04845': 1, 'H04M 1/72448': 1, 'G06F 3/04883': 1, 'G06F 2203/04806': 1, 'H04M 2250/22': 1, 'G06F 3/046': 1, 'G06F 3/0418': 1, 'G06F 3/044': 1, 'G06F 3/0441': 1, 'G06F 3/0416': 1, 'G06F 3/04162': 1, 'G06F 3/0442': 1, 'G06F 3/04166': 1, 'G06F 3/0446': 1, 'G06F 2203/04108': 1, 'G06F 2203/04106': 1, 'G06F 2203/04104': 1, 'H04W 52/0254': 1, 'H04W 52/0274': 1, 'H04W 4/029': 1, 'Y02D 30/70': 1, 'H02J 7/025': 1, 'H02J 50/80': 1, 'H02J 50/12': 1, 'H02J 50/60': 1, 'H02J 7/007': 1, 'H02J 7/00045': 1, 'H04B 10/116': 1, 'H04B 10/516': 1, 'A63F 13/2145': 1, 'A63F 13/285': 1, 'A63F 13/00': 1, 'A63F 13/28': 1, 'A63F 2300/301': 1, 'A63F 2300/638': 1, 'A63F 2300/1037': 1, 'A63F 2300/1075': 1, 'A63F 2300/8029': 1, 'G06V 10/12': 1, 'G06Q 20/102': 1, 'G06F 3/0321': 1, 'G06Q 20/10': 1, 'G06Q 40/00': 1, 'G08C 21/00': 1, 'G06V 30/1423': 1, 'H04N 19/61': 1, 'H04N 21/42203': 1, 'H04M 1/2755': 1, 'H04N 1/00326': 1, 'G06F 1/1684': 1, 'H04N 1/00204': 1, 'H04N 19/60': 1, 'H04N 1/00244': 1, 'H04N 1/32122': 1, 'H04M 1/72445': 1, 'G06Q 20/401': 1, 'H04N 1/32778': 1, 'H04N 5/445': 1, 'G06Q 40/08': 1, 'H04N 5/76': 1, 'B41J 3/445': 1, 'H04N 21/4223': 1, 'G06F 1/1688': 1, 'H04N 1/00968': 1, 'H04N 21/422': 1, 'H04N 1/00392': 1, 'H04N 21/41407': 1, 'H04M 1/72412': 1, 'H04N 1/00307': 1, 'H04M 1/27475': 1, 'H04M 1/72409': 1, 'H04M 3/42': 1, 'H04N 7/163': 1, 'H04M 7/0015': 1, 'Y10S 707/99931': 1, 'H04M 1/72442': 1, 'H04N 21/478': 1, 'H04N 2201/3226': 1, 'H04N 5/907': 1, 'G06F 2200/1637': 1, 'H04N 2201/3247': 1, 'H04N 5/765': 1, 'G06F 3/16': 1, 'H04N 5/783': 1, 'H04N 2201/3274': 1, 'Y10T 428/187': 1, 'H04N 1/32133': 1, 'G06F 2200/1614': 1, 'H04N 2201/3269': 1, 'H04M 2250/12': 1, 'H04N 2201/3264': 1, 'H04N 2201/0082': 1, 'G06F 1/181': 1, 'G06F 1/1632': 1, 'G06F 16/40': 1, 'G06F 16/955': 1, 'G06K 7/12': 1, 'G06F 1/1639': 1, 'G06K 7/10881': 1, 'G06K 7/10574': 1, 'G06F 1/1616': 1, 'G06K 7/10673': 1, 'H04N 9/3129': 1, 'G06F 1/1696': 1, 'C09D 163/00': 1, 'G06K 7/10772': 1, 'G06K 17/0022': 1, 'G06F 16/9554': 1, 'G06K 1/121': 1, 'H04L 61/00': 1, 'G02B 26/101': 1, 'G06F 1/163': 1, 'H04L 61/30': 1, 'G06K 1/126': 1, 'C08L 2666/54': 1, 'B05D 7/146': 1, 'B41J 2002/453': 1, 'B05D 2254/04': 1}\n",
            "\n",
            "cluster number: 71\n",
            "CPC number stats in sub-class level: {'H04N': 37, 'A61N': 11, 'G06F': 122, 'G16H': 2, 'H04L': 6, 'G06V': 10, 'F24F': 4, 'G06K': 3, 'A61B': 11, 'G06T': 1, 'H04M': 3, 'G02F': 1, 'G01P': 1, 'G10H': 3}\n",
            "CPC number stats in sub-group level: {'H04N 21/47205': 1, 'H04N 21/8541': 1, 'H04N 21/4312': 1, 'H04N 21/4725': 1, 'H04N 21/8545': 1, 'H04N 21/4781': 1, 'H04N 21/478': 1, 'H04N 21/8173': 1, 'A61N 1/36185': 1, 'A61N 1/36135': 1, 'A61N 1/0551': 1, 'A61N 1/37247': 1, 'A61N 1/36125': 1, 'A61N 1/36175': 1, 'G06F 3/04817': 1, 'G16H 40/63': 1, 'G06F 3/0488': 1, 'G06F 3/04842': 1, 'G06F 3/04847': 1, 'G06F 2203/04806': 1, 'H04N 21/42204': 1, 'H04L 65/1069': 1, 'H04N 7/147': 1, 'H04N 5/232941': 1, 'H04N 21/42224': 1, 'G06F 3/016': 1, 'G06F 3/04883': 1, 'G06V 30/1423': 1, 'G06F 40/171': 1, 'G06V 30/32': 1, 'G06F 3/03545': 1, 'G06F 2200/1632': 1, 'F24F 11/52': 1, 'F24F 11/61': 1, 'F24F 11/59': 1, 'F24F 2120/10': 1, 'G06K 9/00496': 1, 'A61B 5/375': 1, 'G06V 40/18': 1, 'A61B 5/7475': 1, 'G06F 3/015': 1, 'A61B 5/291': 1, 'G06F 3/013': 1, 'G06F 3/04886': 1, 'A61B 5/742': 1, 'A61B 5/16': 1, 'A61B 5/6898': 1, 'A61B 5/0002': 1, 'A61B 5/6803': 1, 'A61B 5/374': 1, 'A61B 3/113': 1, 'A61B 3/00': 1, 'H04L 51/04': 1, 'H04L 67/1095': 1, 'H04L 51/224': 1, 'G06F 8/61': 1, 'G06F 9/4406': 1, 'G06F 3/04845': 1, 'G06T 11/60': 1, 'G06F 3/0482': 1, 'G06F 3/0416': 1, 'G06F 3/0412': 1, 'G06F 2203/014': 1, 'G06F 3/0484': 1, 'G06F 21/36': 1, 'G06F 3/0354': 1, 'G06F 3/0481': 1, 'G06F 2203/04106': 1, 'G06F 2203/04101': 1, 'G06F 2203/04108': 1, 'G06F 16/955': 1, 'G06F 16/954': 1, 'G06F 3/0485': 1, 'H04N 5/232935': 1, 'G06F 3/0483': 1, 'H04N 5/44504': 1, 'H04N 5/23216': 1, 'H04N 5/2258': 1, 'G06F 2203/04803': 1, 'G06F 16/287': 1, 'G06F 2203/04809': 1, 'G06F 40/166': 1, 'G06F 40/169': 1, 'G06F 40/106': 1, 'G06F 16/9558': 1, 'G06F 40/134': 1, 'G06F 3/042': 1, 'G06F 1/1613': 1, 'G06F 40/174': 1, 'G06V 10/30': 1, 'G06K 9/00': 1, 'G06F 40/143': 1, 'G06F 2203/0382': 1, 'H04N 5/23293': 1, 'H04N 5/23203': 1, 'H04N 5/23206': 1, 'H04N 2201/0075': 1, 'G06F 9/453': 1, 'G06F 2203/04808': 1, 'H04M 1/2757': 1, 'H04M 3/42068': 1, 'H04L 2101/37': 1, 'H04M 1/72436': 1, 'H04L 2101/65': 1, 'H04N 5/23222': 1, 'H04N 5/23296': 1, 'H04N 5/232945': 1, 'H04N 5/232933': 1, 'A61N 1/3605': 1, 'A61N 1/36071': 1, 'A61N 1/37264': 1, 'G06F 3/038': 1, 'G06F 3/04162': 1, 'G02F 1/13338': 1, 'G06F 3/045': 1, 'G06F 3/046': 1, 'G06V 30/36': 1, 'G06V 10/235': 1, 'G06F 1/3215': 1, 'G06F 1/3262': 1, 'G01P 3/00': 1, 'G10H 1/0008': 1, 'G10H 2220/096': 1, 'G10H 2220/161': 1}\n",
            "\n",
            "cluster number: 72\n",
            "CPC number stats in sub-class level: {'A45D': 9, 'B43L': 1, 'B41J': 10, 'D05C': 3, 'D05B': 8, 'G06V': 3}\n",
            "CPC number stats in sub-group level: {'A45D 29/00': 1, 'B43L 13/00': 1, 'B41J 3/4073': 1, 'A45D 2029/005': 1, 'D05C 9/04': 1, 'D05B 39/00': 1, 'D05B 19/16': 1, 'B41J 3/407': 1, 'B41J 3/546': 1, 'D05C 9/06': 1, 'D05B 19/12': 1, 'D05C 9/00': 1, 'D05B 21/00': 1, 'D05B 19/08': 1, 'B41J 2/2117': 1, 'B41J 2/49': 1, 'B41J 25/308': 1, 'D05B 19/10': 1, 'G06V 30/1423': 1, 'G06V 30/142': 1, 'G06V 10/12': 1}\n",
            "\n",
            "cluster number: 73\n",
            "CPC number stats in sub-class level: {'G06F': 71, 'G06V': 3, 'H01P': 13, 'G02B': 1, 'H04B': 2, 'H04N': 2, 'H01H': 23, 'E05D': 1, 'H05K': 2, 'H04M': 4, 'E05F': 1, 'G05B': 1, 'F16M': 1, 'Y10T': 3, 'E05Y': 1, 'Y02D': 1, 'H02J': 3, 'H01R': 1, 'G04B': 1, 'G04C': 1, 'G04G': 2, 'G06K': 2, 'G07F': 1, 'B41J': 1, 'B43K': 2, 'G02F': 3, 'E05B': 2, 'E05C': 2}\n",
            "CPC number stats in sub-group level: {'G06F 3/038': 1, 'G06F 3/0486': 1, 'G06V 40/1306': 1, 'G06F 1/169': 1, 'G06F 3/017': 1, 'G06F 3/0488': 1, 'G06F 3/167': 1, 'G06V 40/1365': 1, 'G06V 10/17': 1, 'G06F 1/1684': 1, 'G06F 21/32': 1, 'G06F 3/04883': 1, 'G06F 2203/0339': 1, 'H01P 1/068': 1, 'G02B 6/28': 1, 'H04B 3/00': 1, 'H01P 5/188': 1, 'H04B 3/52': 1, 'H01P 3/10': 1, 'H01P 5/181': 1, 'H01P 5/107': 1, 'H01P 5/087': 1, 'H01P 5/1022': 1, 'H01P 3/16': 1, 'G06F 3/0412': 1, 'H04N 1/00496': 1, 'H04N 1/00411': 1, 'G06F 3/0416': 1, 'G06F 3/0414': 1, 'H01P 1/22': 1, 'H01P 3/12': 1, 'H01P 5/18': 1, 'H01P 5/08': 1, 'G06F 1/1683': 1, 'H01H 13/14': 1, 'G06F 3/0202': 1, 'G06F 3/0487': 1, 'G06F 9/541': 1, 'G06F 1/1616': 1, 'G06F 13/102': 1, 'H01H 13/807': 1, 'G06F 1/1654': 1, 'G06F 3/0219': 1, 'G06F 1/1637': 1, 'G06F 3/01': 1, 'E05D 11/1064': 1, 'H05K 5/0226': 1, 'G06F 1/1618': 1, 'G06F 1/1681': 1, 'G06F 3/0233': 1, 'H01H 13/79': 1, 'H01H 13/702': 1, 'G06F 1/1656': 1, 'G06F 1/1669': 1, 'H04M 1/72409': 1, 'H01H 13/704': 1, 'H04M 1/0216': 1, 'E05F 5/08': 1, 'G05B 11/01': 1, 'G06F 3/002': 1, 'F16M 11/38': 1, 'G06F 3/023': 1, 'G06F 11/3089': 1, 'G06F 1/166': 1, 'G06F 1/1662': 1, 'G06F 3/04886': 1, 'H01H 13/78': 1, 'G06F 3/02': 1, 'H01H 13/703': 1, 'G06F 1/1686': 1, 'H01H 13/785': 1, 'H01H 13/82': 1, 'H04M 1/0254': 1, 'H05K 5/0234': 1, 'H01H 11/00': 1, 'H01H 2205/006': 1, 'H01H 2217/004': 1, 'H01H 2203/02': 1, 'H01H 2211/004': 1, 'H04M 1/0245': 1, 'Y10T 16/551': 1, 'E05Y 2201/46': 1, 'H01H 2227/032': 1, 'H01H 2201/036': 1, 'Y02D 10/00': 1, 'Y10T 29/49826': 1, 'Y10T 16/5401': 1, 'H01H 9/26': 1, 'H01H 2203/058': 1, 'H01H 2217/006': 1, 'H01H 2217/01': 1, 'H01H 2203/036': 1, 'H01H 2211/006': 1, 'H01H 2213/016': 1, 'G06F 1/266': 1, 'G06F 3/03545': 1, 'H02J 7/0042': 1, 'H02J 7/025': 1, 'G06F 1/3287': 1, 'G06F 9/4413': 1, 'H02J 50/10': 1, 'H01R 31/065': 1, 'G06F 2200/1632': 1, 'G06F 1/16': 1, 'G06F 3/046': 1, 'G04B 25/00': 1, 'G04C 17/00': 1, 'G04G 9/02': 1, 'G04G 9/06': 1, 'G06F 1/163': 1, 'G06F 3/0213': 1, 'G06K 7/10891': 1, 'G06K 17/00': 1, 'G07F 17/3209': 1, 'B41J 3/36': 1, 'B43K 8/006': 1, 'B43K 8/22': 1, 'G06F 1/1626': 1, 'G06F 3/016': 1, 'G02F 1/13338': 1, 'G02F 1/133553': 1, 'G02F 1/133615': 1, 'E05B 63/14': 1, 'G06F 1/1679': 1, 'G06F 1/162': 1, 'E05B 63/0065': 1, 'E05C 1/08': 1, 'E05C 5/00': 1}\n",
            "\n",
            "cluster number: 74\n",
            "CPC number stats in sub-class level: {'H04B': 36, 'H04L': 9, 'H01P': 19, 'H02J': 27, 'Y02E': 15, 'Y04S': 10, 'H01Q': 16, 'G01R': 8}\n",
            "CPC number stats in sub-group level: {'H04B 3/56': 1, 'H04L 12/2878': 1, 'H01P 5/087': 1, 'H01P 3/10': 1, 'H04B 3/02': 1, 'H02J 13/00017': 1, 'H02J 13/00009': 1, 'H04B 3/03': 1, 'H01P 3/16': 1, 'Y02E 60/7838': 1, 'Y02E 60/7815': 1, 'H04B 2203/5483': 1, 'Y02E 60/00': 1, 'Y04S 40/124': 1, 'Y04S 40/121': 1, 'H01Q 3/26': 1, 'H01Q 13/02': 1, 'H02J 13/00': 1, 'H01P 5/1022': 1, 'H01Q 1/38': 1, 'H01Q 15/16': 1, 'H01Q 25/007': 1, 'H01Q 3/46': 1, 'H01Q 19/185': 1, 'H01Q 19/17': 1, 'H01Q 21/0043': 1, 'H04B 5/0075': 1, 'H04B 3/52': 1, 'G01R 31/44': 1, 'H02J 50/10': 1, 'H02J 50/05': 1, 'H04B 5/0012': 1, 'H02J 50/001': 1, 'H04L 25/0292': 1, 'H04L 25/028': 1, 'H04B 5/0018': 1, 'G01R 31/00': 1, 'H01P 1/00': 1, 'H04B 3/54': 1, 'H04B 3/46': 1, 'H04B 3/546': 1, 'H04B 3/36': 1, 'H01P 7/06': 1, 'H04B 3/50': 1, 'H04B 2203/5441': 1, 'H04B 3/06': 1, 'H01P 5/00': 1, 'H01Q 19/18': 1, 'H04B 7/06': 1}\n",
            "\n",
            "cluster number: 75\n",
            "CPC number stats in sub-class level: {'G06F': 55, 'H01F': 3, 'H05K': 16, 'H04M': 7, 'G01L': 2, 'H04L': 2, 'H04W': 3, 'H01Q': 11, 'H04B': 10, 'H02J': 2, 'Y10T': 6, 'H01H': 25, 'H01P': 5, 'G02B': 3, 'A45C': 4, 'E05F': 1, 'G05B': 1, 'F16M': 1, 'E05D': 1, 'E05Y': 1, 'Y02D': 1}\n",
            "CPC number stats in sub-group level: {'G06F 3/03545': 1, 'H01F 17/045': 1, 'G06F 3/0441': 1, 'H01F 1/0315': 1, 'H01F 27/2823': 1, 'G06F 3/0442': 1, 'H05K 1/0296': 1, 'H04M 1/026': 1, 'H04M 1/0277': 1, 'H05K 1/028': 1, 'G01L 1/2287': 1, 'G06F 3/045': 1, 'G01L 1/205': 1, 'G06F 1/1684': 1, 'H05K 1/162': 1, 'H04M 2250/12': 1, 'H05K 2201/10151': 1, 'G06F 2203/04105': 1, 'H05K 2201/055': 1, 'H04L 25/03006': 1, 'H04L 25/03891': 1, 'H04W 16/18': 1, 'H01Q 1/46': 1, 'H01Q 13/20': 1, 'H04B 5/0018': 1, 'H04W 72/0406': 1, 'H04B 7/0413': 1, 'H04B 3/52': 1, 'H04B 2203/5441': 1, 'H04B 3/54': 1, 'G06F 1/1698': 1, 'H05K 1/0243': 1, 'H05K 7/2039': 1, 'H05K 7/20472': 1, 'G06F 1/20': 1, 'H05K 9/0026': 1, 'H01Q 1/02': 1, 'H01Q 1/243': 1, 'H01Q 1/422': 1, 'H01Q 21/065': 1, 'H05K 1/181': 1, 'G06F 1/1626': 1, 'H02J 7/025': 1, 'H01Q 1/2291': 1, 'H02J 50/20': 1, 'H01Q 1/2283': 1, 'H05K 1/0209': 1, 'H05K 2201/10098': 1, 'H05K 2201/10371': 1, 'H01Q 9/0407': 1, 'H04W 88/02': 1, 'H04B 3/56': 1, 'H01Q 1/525': 1, 'G06F 1/1679': 1, 'G06F 3/0202': 1, 'G06F 1/1669': 1, 'Y10T 29/49105': 1, 'H01H 13/702': 1, 'Y10T 156/10': 1, 'H01H 2223/016': 1, 'Y10T 29/49826': 1, 'G06F 2200/1634': 1, 'H01P 5/087': 1, 'H01P 3/16': 1, 'G02B 6/02': 1, 'G02B 6/3829': 1, 'H01P 3/122': 1, 'H01P 3/12': 1, 'G02B 6/4401': 1, 'H01P 1/16': 1, 'G06F 1/1613': 1, 'G06F 3/0208': 1, 'G06F 1/16': 1, 'A45C 13/36': 1, 'A45C 11/00': 1, 'G06F 1/166': 1, 'A45C 2011/003': 1, 'G06F 2200/1633': 1, 'A45C 2200/15': 1, 'G06F 13/102': 1, 'G06F 1/1662': 1, 'G06F 3/0233': 1, 'G06F 3/04886': 1, 'G06F 9/541': 1, 'G06F 3/0416': 1, 'H01H 11/00': 1, 'G06F 1/1616': 1, 'G06F 3/0488': 1, 'G06F 3/002': 1, 'H04M 1/72409': 1, 'G06F 3/02': 1, 'G06F 1/1654': 1, 'H04M 1/0254': 1, 'H05K 5/0226': 1, 'E05F 5/08': 1, 'G06F 1/1681': 1, 'H01H 13/82': 1, 'G06F 3/023': 1, 'G05B 11/01': 1, 'G06F 1/1618': 1, 'H01H 13/785': 1, 'G06F 3/0219': 1, 'G06F 3/0414': 1, 'G06F 3/01': 1, 'H01H 13/807': 1, 'H01H 13/79': 1, 'F16M 11/38': 1, 'H04M 1/0216': 1, 'G06F 11/3089': 1, 'G06F 1/1686': 1, 'H01H 13/14': 1, 'H05K 5/0234': 1, 'G06F 1/1656': 1, 'H01H 13/703': 1, 'G06F 3/0487': 1, 'H01H 13/704': 1, 'E05D 11/1064': 1, 'G06F 1/1683': 1, 'G06F 1/1637': 1, 'H01H 13/78': 1, 'E05Y 2201/46': 1, 'H01H 2203/02': 1, 'H01H 2217/004': 1, 'Y10T 16/551': 1, 'H01H 9/26': 1, 'H01H 2211/004': 1, 'H01H 2201/036': 1, 'H01H 2203/036': 1, 'Y02D 10/00': 1, 'H01H 2217/01': 1, 'H01H 2203/058': 1, 'H01H 2205/006': 1, 'H01H 2217/006': 1, 'H01H 2227/032': 1, 'H04M 1/0245': 1, 'H01H 2211/006': 1, 'Y10T 16/5401': 1, 'H01H 2213/016': 1, 'G06F 3/046': 1, 'G06F 3/043': 1}\n",
            "\n",
            "cluster number: 76\n",
            "CPC number stats in sub-class level: {'G01V': 4, 'E21B': 12, 'B09B': 4, 'E21F': 2}\n",
            "CPC number stats in sub-group level: {'G01V 9/007': 1, 'E21B 49/08': 1, 'G01V 11/002': 1, 'E21B 47/07': 1, 'B09B 1/00': 1, 'E21B 47/06': 1, 'E21B 47/00': 1, 'E21F 7/00': 1, 'E21B 49/0875': 1}\n",
            "\n",
            "cluster number: 77\n",
            "CPC number stats in sub-class level: {'G06F': 110, 'G06V': 1, 'H03F': 6, 'G09G': 35, 'H01L': 3, 'H03M': 2, 'G02F': 2, 'H05K': 8, 'H01R': 1, 'H04W': 9, 'H04L': 6, 'G01S': 2, 'H04M': 25, 'G01L': 2, 'H02J': 17, 'H01M': 4, 'Y02E': 1, 'Y02D': 2, 'G10K': 4, 'H04R': 5, 'G02B': 7, 'A63F': 3, 'H01H': 1, 'H04N': 56, 'G06Q': 6, 'B41J': 2, 'Y10T': 2, 'Y10S': 2}\n",
            "CPC number stats in sub-group level: {'G06F 1/203': 1, 'G06V 40/1306': 1, 'G06F 1/1626': 1, 'G06F 21/32': 1, 'G06F 1/1637': 1, 'G06F 1/16': 1, 'G06F 2203/04105': 1, 'G06F 3/0213': 1, 'G06F 3/0219': 1, 'G06F 3/0354': 1, 'G06F 3/038': 1, 'H03F 3/45071': 1, 'G09G 3/3688': 1, 'G09G 3/3225': 1, 'G09G 3/36': 1, 'G09G 3/3233': 1, 'H01L 27/124': 1, 'G09G 3/20': 1, 'G09G 3/2092': 1, 'G09G 3/3291': 1, 'G09G 3/3275': 1, 'G09G 2320/10': 1, 'G09G 2310/0281': 1, 'G09G 2310/0291': 1, 'G09G 2310/0289': 1, 'H03M 1/76': 1, 'G09G 2320/0247': 1, 'G09G 2330/021': 1, 'H03F 2200/129': 1, 'G02F 1/136286': 1, 'G09G 2300/0426': 1, 'H03F 2200/156': 1, 'G09G 2340/0435': 1, 'H03M 1/74': 1, 'H01L 27/32': 1, 'G09G 3/32': 1, 'G09G 2360/144': 1, 'H01L 27/3276': 1, 'H03F 2200/375': 1, 'G09G 2354/00': 1, 'H03F 2203/45116': 1, 'H03F 2203/45536': 1, 'G02F 1/1368': 1, 'G09G 2310/027': 1, 'H05K 3/0014': 1, 'H05K 1/165': 1, 'H05K 1/118': 1, 'G06F 3/0383': 1, 'G06F 3/03545': 1, 'H01R 4/023': 1, 'G06F 3/0442': 1, 'G06F 3/0446': 1, 'H05K 2201/052': 1, 'H05K 2201/055': 1, 'H05K 2201/09027': 1, 'H05K 2203/0169': 1, 'H05K 2203/0195': 1, 'H04W 12/64': 1, 'H04L 12/282': 1, 'G06F 3/167': 1, 'G01S 5/22': 1, 'H04W 12/30': 1, 'H04W 12/50': 1, 'H04W 4/02': 1, 'H04M 1/72415': 1, 'H04W 12/06': 1, 'G01S 5/18': 1, 'H04L 2012/284': 1, 'H04W 12/08': 1, 'H04L 2012/285': 1, 'H04L 63/107': 1, 'H04L 63/105': 1, 'H04W 12/65': 1, 'H04L 67/125': 1, 'G06F 3/046': 1, 'G01L 1/14': 1, 'G01L 1/148': 1, 'G06F 3/03547': 1, 'G06F 3/017': 1, 'G06F 3/044': 1, 'G06F 3/0346': 1, 'G06F 3/0487': 1, 'G06F 3/04883': 1, 'G06F 3/011': 1, 'G06F 3/0441': 1, 'G06F 3/0488': 1, 'G06F 3/0412': 1, 'G06F 3/0416': 1, 'G06F 3/04162': 1, 'G06F 3/04166': 1, 'G06F 3/0418': 1, 'G06F 2203/04108': 1, 'G06F 2203/04104': 1, 'G06F 2203/04106': 1, 'H02J 7/007192': 1, 'H02J 7/007194': 1, 'H02J 7/00712': 1, 'H01M 10/48': 1, 'H01M 10/46': 1, 'H02J 7/045': 1, 'H02J 50/10': 1, 'H02J 7/04': 1, 'H01M 10/486': 1, 'H02J 7/025': 1, 'H01M 10/443': 1, 'H02J 50/80': 1, 'H02J 50/12': 1, 'Y02E 60/10': 1, 'H02J 7/00': 1, 'H02J 50/40': 1, 'G06F 3/0484': 1, 'G06F 3/0481': 1, 'G09G 3/2096': 1, 'G09G 3/22': 1, 'G09G 3/30': 1, 'G06F 1/1643': 1, 'G06F 1/3265': 1, 'G06F 3/04842': 1, 'G06F 1/1684': 1, 'G09G 3/3648': 1, 'G06F 3/03': 1, 'Y02D 10/00': 1, 'G09G 3/3406': 1, 'G06F 1/1613': 1, 'G09G 3/3611': 1, 'G09G 2300/0439': 1, 'G09G 2300/046': 1, 'G06F 1/1686': 1, 'G09G 2300/0456': 1, 'G09G 2360/145': 1, 'G09G 3/3208': 1, 'G06F 3/0447': 1, 'G06F 1/266': 1, 'G06F 3/0445': 1, 'H02J 50/90': 1, 'H02J 7/0077': 1, 'H02J 2207/40': 1, 'G10K 11/1787': 1, 'G10K 11/1783': 1, 'H04R 17/00': 1, 'G10K 11/17857': 1, 'H04R 1/46': 1, 'H04M 1/03': 1, 'H04R 2400/03': 1, 'H04R 2499/11': 1, 'H04M 1/0266': 1, 'H04R 7/045': 1, 'G10K 2210/1081': 1, 'H04W 68/00': 1, 'H04M 19/04': 1, 'H04M 1/72409': 1, 'H04W 52/0267': 1, 'H04M 1/21': 1, 'H04M 1/72448': 1, 'Y02D 30/70': 1, 'G02B 27/0179': 1, 'A63F 13/25': 1, 'G02B 27/0093': 1, 'G02B 27/0176': 1, 'A63F 13/24': 1, 'A63F 13/98': 1, 'G02B 27/0172': 1, 'G02B 2027/0187': 1, 'G02B 2027/0138': 1, 'G02B 2027/014': 1, 'G06F 3/041': 1, 'G06F 3/016': 1, 'G06F 2203/014': 1, 'G06F 3/01': 1, 'H01H 2003/0293': 1, 'H04M 1/2755': 1, 'H04N 21/41407': 1, 'H04N 1/00326': 1, 'H04N 19/61': 1, 'H04N 21/422': 1, 'H04N 21/42203': 1, 'H04N 1/00968': 1, 'G06Q 40/00': 1, 'H04N 1/32778': 1, 'H04N 21/4223': 1, 'H04N 1/00392': 1, 'G06F 1/1688': 1, 'H04M 3/42': 1, 'G06Q 40/08': 1, 'G06F 3/0321': 1, 'H04N 19/60': 1, 'H04N 5/445': 1, 'H04N 7/163': 1, 'H04M 1/27475': 1, 'G06F 1/1656': 1, 'G06Q 20/401': 1, 'H04N 1/32122': 1, 'B41J 3/445': 1, 'H04N 1/00244': 1, 'H04M 1/72412': 1, 'H04N 1/00204': 1, 'H04N 5/76': 1, 'H04N 1/00307': 1, 'H04M 1/72445': 1, 'H04N 2201/3274': 1, 'Y10T 428/187': 1, 'H04N 2201/3247': 1, 'G06F 3/16': 1, 'G06F 2200/1614': 1, 'Y10S 707/99931': 1, 'H04N 5/765': 1, 'H04M 7/0015': 1, 'G06F 2203/0384': 1, 'H04N 2201/3269': 1, 'H04N 2201/0082': 1, 'H04M 2250/12': 1, 'H04N 2201/3226': 1, 'G06F 2200/1637': 1, 'H04M 1/72442': 1, 'H04N 21/478': 1, 'H04N 1/32133': 1, 'H04N 5/783': 1, 'H04N 5/907': 1, 'H04N 2201/3264': 1}\n",
            "\n",
            "cluster number: 78\n",
            "CPC number stats in sub-class level: {'G06F': 188, 'A61B': 8, 'H01L': 4, 'H04M': 20, 'G09G': 8, 'G06Q': 1, 'H04L': 1, 'G11B': 1, 'H04N': 1, 'Y10S': 16, 'H01H': 2}\n",
            "CPC number stats in sub-group level: {'G06F 3/0412': 1, 'A61B 5/6898': 1, 'G06F 21/32': 1, 'A61B 5/14551': 1, 'G06F 1/1626': 1, 'G06F 1/1652': 1, 'A61B 5/742': 1, 'A61B 5/02433': 1, 'H01L 27/3213': 1, 'H04M 1/0266': 1, 'H01L 27/323': 1, 'G06F 1/1643': 1, 'G06F 3/0488': 1, 'G06F 1/1692': 1, 'G06F 3/04886': 1, 'G06F 3/03547': 1, 'G06F 1/169': 1, 'G06F 1/1637': 1, 'G06F 3/04883': 1, 'G06F 3/0416': 1, 'H04M 2250/16': 1, 'G06F 2203/04804': 1, 'H04M 2250/22': 1, 'H04M 1/0268': 1, 'G06F 3/1423': 1, 'G06F 3/0481': 1, 'G06F 21/31': 1, 'G06F 21/36': 1, 'G06F 3/0487': 1, 'G06F 1/165': 1, 'G09G 2354/00': 1, 'G09G 2380/02': 1, 'G09G 2358/00': 1, 'G09G 2330/022': 1, 'G06F 3/0414': 1, 'G06F 3/0485': 1, 'G06F 3/045': 1, 'G06F 3/04845': 1, 'G06F 3/044': 1, 'G06F 3/03545': 1, 'G06F 2203/04106': 1, 'G06F 2203/04105': 1, 'G06F 2203/04101': 1, 'G06F 2203/04102': 1, 'G06F 3/017': 1, 'G06F 3/002': 1, 'G06F 1/1694': 1, 'H04M 1/72454': 1, 'G06F 3/04847': 1, 'G06F 3/0482': 1, 'G06F 3/165': 1, 'G06F 1/1647': 1, 'G06F 3/013': 1, 'G06F 3/04817': 1, 'G06F 2203/04808': 1, 'G06F 2203/04807': 1, 'G06F 2203/04803': 1, 'G06F 2200/1614': 1, 'G06F 2200/1637': 1, 'H04M 1/72403': 1, 'G06F 1/1601': 1, 'G06Q 10/101': 1, 'H04L 65/403': 1, 'G11B 27/02': 1, 'G06F 40/166': 1, 'G06F 3/041': 1, 'H04N 7/152': 1, 'G06F 3/0483': 1, 'G06F 2203/0339': 1, 'G06F 3/0441': 1, 'G06F 3/04164': 1, 'G06F 3/0443': 1, 'G06F 2203/04103': 1, 'G06F 2203/04112': 1, 'G06F 2203/04107': 1, 'G06F 3/04842': 1, 'G06F 1/1679': 1, 'G06F 1/162': 1, 'G06F 1/1632': 1, 'G06F 1/1677': 1, 'G06F 1/1656': 1, 'Y10S 248/921': 1, 'G06F 1/1616': 1, 'Y10S 248/918': 1, 'Y10S 248/919': 1, 'Y10S 345/905': 1, 'Y10S 248/917': 1, 'Y10S 248/92': 1, 'Y10S 248/923': 1, 'H01H 9/06': 1, 'H01H 23/143': 1}\n",
            "\n",
            "cluster number: 79\n",
            "CPC number stats in sub-class level: {'H03K': 5, 'H03H': 1, 'G06F': 44, 'G06V': 10, 'H02J': 18, 'G01L': 3, 'H04B': 9, 'H01F': 2, 'H04W': 3, 'H01P': 2, 'H01Q': 6, 'H03L': 5, 'H03J': 1, 'H04M': 13, 'G01R': 1, 'H04Q': 5, 'G01S': 1, 'G07C': 1, 'H04L': 3, 'B60R': 2, 'H04N': 14, 'G06T': 2, 'G06K': 2, 'A61N': 3, 'H04R': 3, 'H03G': 1, 'F24F': 7, 'G05B': 1, 'Y02B': 3, 'G06Q': 3, 'G08C': 1}\n",
            "CPC number stats in sub-group level: {'H03K 17/962': 1, 'H03H 17/0671': 1, 'G06F 3/0446': 1, 'G06V 40/1306': 1, 'G06F 3/044': 1, 'G06F 3/0416': 1, 'H03K 2217/96015': 1, 'H03K 2217/960755': 1, 'H03K 2217/960745': 1, 'H03K 2217/96071': 1, 'H02J 50/60': 1, 'H02J 7/025': 1, 'H02J 50/12': 1, 'H02J 50/80': 1, 'H02J 7/342': 1, 'H02J 7/00308': 1, 'G06F 3/0441': 1, 'G06F 3/0418': 1, 'G06F 3/04166': 1, 'G06F 3/04162': 1, 'G06F 2203/04104': 1, 'G06F 3/03545': 1, 'G06F 3/04883': 1, 'G06F 3/0442': 1, 'G06F 3/04847': 1, 'G06F 2203/04101': 1, 'G01L 1/26': 1, 'G01L 1/18': 1, 'G01L 5/22': 1, 'H04B 5/0081': 1, 'H04B 5/0037': 1, 'H01F 27/40': 1, 'H02J 50/005': 1, 'H01F 38/14': 1, 'H02J 7/0047': 1, 'H02J 7/0049': 1, 'H04B 3/52': 1, 'H04W 88/10': 1, 'H01P 3/127': 1, 'H01Q 1/246': 1, 'H03L 7/197': 1, 'H04B 1/40': 1, 'H03L 7/183': 1, 'H03L 7/22': 1, 'H03L 7/07': 1, 'H04W 72/0453': 1, 'H03L 2207/50': 1, 'H03J 2200/11': 1, 'H04M 1/0277': 1, 'H04M 1/72403': 1, 'H04M 1/026': 1, 'H04M 1/72454': 1, 'H04M 2250/22': 1, 'H04M 2250/12': 1, 'H04M 1/236': 1, 'G06F 21/32': 1, 'G06F 3/0488': 1, 'G06V 40/67': 1, 'G06V 40/1335': 1, 'G06F 3/0412': 1, 'G06V 40/1347': 1, 'G06F 2221/2117': 1, 'H04W 24/02': 1, 'H04B 1/0475': 1, 'H04B 3/46': 1, 'H04B 3/32': 1, 'H02J 7/0045': 1, 'G01R 31/382': 1, 'H02J 7/166': 1, 'H02J 7/16': 1, 'H02J 7/007': 1, 'H02J 7/0048': 1, 'H02J 7/00302': 1, 'H02J 7/00306': 1, 'G06F 3/046': 1, 'G06F 3/045': 1, 'H04Q 9/00': 1, 'G06V 40/20': 1, 'G01S 19/19': 1, 'H04M 1/725': 1, 'G06V 40/23': 1, 'H04Q 2209/40': 1, 'H04Q 2209/823': 1, 'H04Q 2209/43': 1, 'H04Q 2209/86': 1, 'H01P 1/213': 1, 'H01Q 5/335': 1, 'H01Q 21/28': 1, 'H01Q 21/30': 1, 'H01Q 1/243': 1, 'H01Q 5/50': 1, 'G06F 3/0443': 1, 'G06F 3/041661': 1, 'G07C 9/32': 1, 'H04L 9/3231': 1, 'G06F 21/36': 1, 'B60R 25/2045': 1, 'G06V 40/28': 1, 'B60R 2325/205': 1, 'G06F 3/048': 1, 'H04L 2209/84': 1, 'H04L 2209/805': 1, 'G06F 3/1256': 1, 'G06F 3/1208': 1, 'H04N 1/00161': 1, 'H04N 1/3871': 1, 'H04N 1/32128': 1, 'H04N 1/00103': 1, 'H04N 1/00129': 1, 'H04N 1/00167': 1, 'G06T 11/60': 1, 'H04N 1/0044': 1, 'H04N 1/40093': 1, 'G06K 15/1882': 1, 'H04N 2201/0081': 1, 'H04N 2201/006': 1, 'H04N 2201/3278': 1, 'H04N 2201/3245': 1, 'G06T 2207/20092': 1, 'H04N 2201/3273': 1, 'H04N 2201/0089': 1, 'G06F 3/016': 1, 'A61N 1/3787': 1, 'A61N 1/37264': 1, 'A61N 1/37247': 1, 'H04M 1/035': 1, 'H04R 3/04': 1, 'H03G 5/165': 1, 'H04M 11/062': 1, 'H04R 1/02': 1, 'H04M 1/03': 1, 'H04M 19/04': 1, 'H04R 2499/11': 1, 'F24F 3/044': 1, 'G05B 15/02': 1, 'F24F 11/30': 1, 'F24F 2120/10': 1, 'Y02B 30/00': 1, 'Y02B 30/90': 1, 'F24F 2110/70': 1, 'Y02B 30/70': 1, 'F24F 2110/50': 1, 'F24F 2110/00': 1, 'F24F 11/77': 1, 'G06Q 20/102': 1, 'G06Q 40/00': 1, 'G06V 10/12': 1, 'G06V 30/1423': 1, 'G08C 21/00': 1, 'G06F 3/0321': 1, 'G06Q 20/10': 1, 'G06K 7/10891': 1}\n",
            "\n",
            "cluster number: 80\n",
            "CPC number stats in sub-class level: {'A63F': 14}\n",
            "CPC number stats in sub-group level: {'A63F 13/5372': 1, 'A63F 13/537': 1, 'A63F 13/798': 1, 'A63F 13/822': 1, 'A63F 13/35': 1, 'A63F 2300/303': 1, 'A63F 13/327': 1, 'A63F 13/12': 1, 'A63F 13/95': 1, 'A63F 13/493': 1, 'A63F 2300/204': 1, 'A63F 2300/405': 1, 'A63F 13/92': 1, 'A63F 2300/636': 1}\n",
            "\n",
            "cluster number: 81\n",
            "CPC number stats in sub-class level: {'C09D': 1, 'B82Y': 11, 'G02B': 9, 'C09K': 4, 'B01J': 13, 'Y10S': 31, 'G02F': 53, 'A43B': 20, 'A41D': 12, 'D06M': 9, 'B29C': 5, 'A43D': 11, 'H01F': 6, 'C01G': 3, 'B29B': 3, 'B29L': 5, 'B29K': 3, 'C01P': 3, 'A63B': 33}\n",
            "CPC number stats in sub-group level: {'C09D 11/50': 1, 'B82Y 30/00': 1, 'G02B 26/007': 1, 'C09K 9/00': 1, 'B01J 13/02': 1, 'Y10S 977/834': 1, 'G02F 1/09': 1, 'B01J 13/0047': 1, 'A43B 1/0027': 1, 'G02F 1/0054': 1, 'A41D 27/08': 1, 'G02F 1/0036': 1, 'D06M 10/00': 1, 'D06M 10/005': 1, 'G02F 1/092': 1, 'D06M 10/001': 1, 'G02B 1/005': 1, 'Y10S 977/838': 1, 'B82Y 20/00': 1, 'G02F 2202/32': 1, 'Y10S 977/961': 1, 'G02F 2202/36': 1, 'Y10S 977/811': 1, 'A41D 31/02': 1, 'B29C 71/04': 1, 'A43B 1/0054': 1, 'A43D 3/02': 1, 'H01F 7/06': 1, 'H01F 7/20': 1, 'G02F 1/0072': 1, 'A41D 31/00': 1, 'C01G 49/02': 1, 'B29B 13/08': 1, 'Y10S 977/932': 1, 'B29L 2031/48': 1, 'B29K 2995/002': 1, 'C01P 2006/60': 1, 'A43D 95/06': 1, 'G02F 1/0128': 1, 'G02F 1/0131': 1, 'A43D 8/16': 1, 'A63B 37/0022': 1, 'A63B 2243/0025': 1, 'A63B 2209/08': 1, 'A63B 43/008': 1, 'A63B 2102/22': 1, 'A63B 2102/14': 1, 'A63B 53/04': 1, 'A63B 71/0605': 1, 'A63B 2243/0066': 1, 'A63B 2243/007': 1, 'Y10S 977/81': 1, 'A63B 2102/18': 1, 'A43B 3/0078': 1, 'G02B 27/4244': 1}\n",
            "\n",
            "cluster number: 82\n",
            "CPC number stats in sub-class level: {'G06F': 29, 'H04R': 20, 'H04M': 5, 'H04L': 3, 'H04B': 73, 'H02J': 10, 'Y02E': 12, 'H01Q': 26, 'Y04S': 8, 'H01P': 24, 'H04W': 8, 'G01R': 6, 'H04Q': 3, 'G08C': 1, 'H01H': 4}\n",
            "CPC number stats in sub-group level: {'G06F 3/04166': 1, 'G06F 3/0445': 1, 'G06F 3/03546': 1, 'G06F 3/03545': 1, 'G06F 3/0441': 1, 'G06F 3/0383': 1, 'G06F 3/04182': 1, 'H04R 1/2811': 1, 'H04R 7/045': 1, 'H04R 1/025': 1, 'H04R 1/028': 1, 'H04M 1/03': 1, 'H04M 1/0266': 1, 'H04M 2201/38': 1, 'H04R 7/24': 1, 'H04R 2499/11': 1, 'H04R 2400/03': 1, 'H04R 2499/15': 1, 'H04R 2440/05': 1, 'H04L 12/10': 1, 'H04B 3/56': 1, 'H04B 3/52': 1, 'H04R 1/24': 1, 'H04R 1/345': 1, 'H04R 2201/028': 1, 'H04R 1/26': 1, 'H02J 13/00017': 1, 'H04B 3/36': 1, 'H04B 7/0613': 1, 'H04B 3/50': 1, 'H04B 7/01': 1, 'H04B 7/04': 1, 'Y02E 60/00': 1, 'Y02E 60/7838': 1, 'Y02E 60/7815': 1, 'H01Q 21/29': 1, 'Y04S 40/124': 1, 'H02J 13/00': 1, 'Y04S 40/121': 1, 'H04B 15/04': 1, 'H01Q 13/24': 1, 'H04B 3/544': 1, 'H04B 3/548': 1, 'H02J 50/20': 1, 'H02J 50/10': 1, 'H01P 3/16': 1, 'H04B 1/18': 1, 'H01P 3/10': 1, 'H01P 1/264': 1, 'H04B 1/40': 1, 'H04B 3/54': 1, 'H04L 5/0048': 1, 'H04M 19/00': 1, 'H04W 88/08': 1, 'H01Q 13/0258': 1, 'H01Q 13/10': 1, 'H01Q 13/0208': 1, 'H01Q 21/064': 1, 'H01Q 21/205': 1, 'H01Q 13/0233': 1, 'H04B 3/58': 1, 'H04B 2203/5487': 1, 'H01Q 19/08': 1, 'H01Q 1/46': 1, 'H01P 7/06': 1, 'H01P 5/02': 1, 'H01P 1/207': 1, 'G01R 31/11': 1, 'H01P 5/103': 1, 'H04W 72/042': 1, 'G01R 31/00': 1, 'H04W 72/0413': 1, 'G06F 3/0414': 1, 'G06F 3/0346': 1, 'G06F 3/016': 1, 'G06F 3/038': 1, 'G06F 3/0446': 1, 'G06F 3/041': 1, 'G06F 3/0442': 1, 'G06F 2203/04101': 1, 'G06F 2203/04105': 1, 'H01P 5/00': 1, 'H04B 3/546': 1, 'H04B 17/345': 1, 'H04B 15/02': 1, 'H01Q 13/26': 1, 'H04B 10/40': 1, 'H04B 10/25759': 1, 'G06F 1/1688': 1, 'H04R 3/12': 1, 'H04R 1/2803': 1, 'H04R 2420/03': 1, 'G06F 2200/1632': 1, 'H04Q 9/00': 1, 'G08C 23/06': 1, 'H01P 5/12': 1, 'H04Q 2209/886': 1, 'H04Q 2209/30': 1, 'G06F 3/046': 1, 'G06F 3/033': 1, 'H01H 50/546': 1, 'H01H 9/563': 1, 'H01H 47/223': 1, 'H01H 50/002': 1}\n",
            "\n",
            "cluster number: 83\n",
            "CPC number stats in sub-class level: {'G11B': 1, 'G06F': 54, 'H04N': 4, 'G09G': 1, 'H02J': 53, 'H04M': 18, 'H04W': 22, 'G06Q': 20, 'G06K': 9, 'G07F': 2, 'H04B': 12, 'H02M': 4, 'H04L': 10, 'G16H': 4, 'A61B': 19, 'F24F': 24, 'G01N': 4, 'Y02B': 1, 'H01M': 5, 'H01F': 2, 'Y02E': 5, 'Y02D': 3, 'H01Q': 6, 'G01R': 3, 'H05K': 4, 'G06N': 1, 'F04D': 1, 'H04R': 7, 'Y04S': 2, 'G08B': 5, 'F21V': 1, 'G05D': 4, 'F21Y': 1, 'B64C': 7, 'G05B': 3, 'G01J': 1, 'G01S': 1, 'G01V': 1, 'G16Z': 1, 'G01C': 2}\n",
            "CPC number stats in sub-group level: {'G11B 27/34': 1, 'G06F 3/1423': 1, 'H04N 21/43637': 1, 'H04N 21/435': 1, 'H04N 21/431': 1, 'G06F 3/1454': 1, 'G06F 3/165': 1, 'H04N 21/4122': 1, 'G09G 2370/22': 1, 'H02J 50/12': 1, 'H02J 50/80': 1, 'H02J 50/60': 1, 'G06F 3/014': 1, 'G06F 3/03545': 1, 'G06F 3/04162': 1, 'G06F 3/017': 1, 'G06F 2203/04101': 1, 'H04M 1/724': 1, 'G06F 3/046': 1, 'G06F 3/0383': 1, 'G06F 2203/04108': 1, 'G06F 2203/0384': 1, 'H04M 1/026': 1, 'H04M 1/72412': 1, 'G06F 2203/04106': 1, 'H04M 2250/12': 1, 'H04W 4/80': 1, 'H02J 7/02': 1, 'H02J 50/10': 1, 'H02J 7/00034': 1, 'H02J 7/342': 1, 'H02J 7/0068': 1, 'H02J 7/0029': 1, 'H02J 7/0047': 1, 'H02J 7/007188': 1, 'G06Q 20/3278': 1, 'G06Q 20/3227': 1, 'G06K 7/0004': 1, 'G06Q 20/3221': 1, 'G06K 7/089': 1, 'G06K 19/07784': 1, 'G06Q 20/321': 1, 'G06K 19/07779': 1, 'G06K 19/06206': 1, 'G06Q 20/401': 1, 'G07F 7/0893': 1, 'G06K 19/0727': 1, 'H04B 1/3833': 1, 'H04B 5/0031': 1, 'H02M 1/44': 1, 'H02J 7/04': 1, 'H02J 7/025': 1, 'H04L 5/0055': 1, 'H04B 5/0037': 1, 'H02J 7/0031': 1, 'H02J 7/00304': 1, 'G16H 10/65': 1, 'G16H 50/20': 1, 'A61B 5/6898': 1, 'A61B 5/7275': 1, 'A61B 5/0205': 1, 'G16H 40/63': 1, 'G06F 3/015': 1, 'A61B 5/0245': 1, 'G06F 1/26': 1, 'A61B 5/024': 1, 'A61B 5/021': 1, 'A61B 5/318': 1, 'A61B 5/1112': 1, 'A61B 5/1118': 1, 'A61B 5/01': 1, 'A61B 5/6889': 1, 'F24F 11/52': 1, 'A61B 5/082': 1, 'F24F 11/50': 1, 'F24F 11/64': 1, 'G01N 33/0047': 1, 'A61B 5/145': 1, 'A61B 5/4845': 1, 'G01N 33/4972': 1, 'F24F 11/30': 1, 'F24F 2110/10': 1, 'F24F 2110/66': 1, 'A61B 2560/0252': 1, 'F24F 2110/65': 1, 'Y02B 30/70': 1, 'F24F 2120/12': 1, 'F24F 2110/50': 1, 'H01M 10/488': 1, 'H01M 50/284': 1, 'H01M 10/44': 1, 'H01F 38/14': 1, 'H02J 50/50': 1, 'H02J 50/502': 1, 'H02J 50/005': 1, 'H01M 10/425': 1, 'H01F 27/02': 1, 'H01M 2220/30': 1, 'Y02E 60/10': 1, 'H04W 52/0251': 1, 'H04W 52/0229': 1, 'H04W 52/0212': 1, 'Y02D 30/70': 1, 'G06F 1/163': 1, 'G06K 9/6217': 1, 'H01Q 5/364': 1, 'H01Q 3/24': 1, 'G01R 31/002': 1, 'H01Q 5/35': 1, 'H05K 1/0233': 1, 'G01R 29/0814': 1, 'H01Q 5/335': 1, 'G06F 1/1698': 1, 'G01R 29/0892': 1, 'H01Q 5/50': 1, 'H05K 1/0259': 1, 'G06K 9/0055': 1, 'H01Q 1/44': 1, 'H05K 2201/10128': 1, 'H05K 2201/10151': 1, 'H02J 50/20': 1, 'G06N 20/00': 1, 'H02J 7/0044': 1, 'G06F 1/1626': 1, 'G06F 1/1656': 1, 'H02J 7/00': 1, 'G06F 1/266': 1, 'G06F 2200/1632': 1, 'F04D 29/682': 1, 'H04R 29/001': 1, 'H04R 9/06': 1, 'H04R 1/025': 1, 'H04R 3/08': 1, 'H04R 3/007': 1, 'H04R 29/003': 1, 'H04R 2499/11': 1, 'G06Q 20/40145': 1, 'G06Q 30/0613': 1, 'G06Q 20/405': 1, 'H04L 45/74': 1, 'H02J 13/00007': 1, 'H04B 3/52': 1, 'H04B 3/54': 1, 'H02J 13/00017': 1, 'H04L 45/126': 1, 'Y02E 60/7838': 1, 'Y02E 60/00': 1, 'Y04S 40/121': 1, 'H04B 2203/5433': 1, 'H04B 2203/5408': 1, 'H02J 13/00': 1, 'Y04S 40/124': 1, 'Y02E 60/7815': 1, 'G08B 7/066': 1, 'G08B 19/00': 1, 'G08B 25/10': 1, 'F24F 11/88': 1, 'G08B 21/10': 1, 'F24F 11/63': 1, 'F21V 33/0092': 1, 'H04L 12/2803': 1, 'G05D 23/1917': 1, 'F21Y 2115/10': 1, 'F24F 11/56': 1, 'H04M 1/00': 1, 'G05D 1/0022': 1, 'B64C 27/08': 1, 'B64C 39/024': 1, 'G05D 1/0016': 1, 'B64C 13/20': 1, 'G05D 1/101': 1, 'B64C 39/02': 1, 'B64C 2201/12': 1, 'B64C 2201/14': 1, 'B64C 2201/146': 1, 'H04W 12/06': 1, 'H04W 4/20': 1, 'G06Q 20/352': 1, 'G06Q 20/40': 1, 'G06Q 20/388': 1, 'G06Q 20/327': 1, 'G06Q 20/3674': 1, 'G06Q 20/4097': 1, 'G06Q 20/3223': 1, 'G05B 15/02': 1, 'F24F 11/80': 1, 'G05B 13/021': 1, 'F24F 11/0001': 1, 'F24F 11/523': 1, 'F24F 2011/0002': 1, 'F24F 2140/60': 1, 'G05B 2219/2642': 1, 'F24F 2120/10': 1, 'H02J 7/0048': 1, 'H02J 2207/40': 1, 'H02J 2310/22': 1, 'H02J 7/0049': 1, 'H02J 50/40': 1, 'H04B 5/0081': 1, 'H02M 7/05': 1, 'H02M 7/06': 1, 'H02M 1/126': 1, 'G06F 1/3265': 1, 'H04W 52/027': 1, 'G01J 3/46': 1, 'G01S 17/04': 1, 'H04M 1/72454': 1, 'G01V 8/12': 1, 'G06F 1/3215': 1, 'G06F 1/325': 1, 'H04W 52/0254': 1, 'G06F 1/3231': 1, 'Y02D 10/00': 1, 'H04L 67/131': 1, 'G06F 21/604': 1, 'H04W 76/14': 1, 'G06F 3/0488': 1, 'H04L 67/56': 1, 'A61B 5/742': 1, 'A61B 5/7425': 1, 'H04M 1/72409': 1, 'G01N 33/497': 1, 'H04M 1/0241': 1, 'H04M 1/21': 1, 'G06F 1/206': 1, 'G06F 1/203': 1, 'G06F 3/038': 1, 'G06F 3/0442': 1, 'G06F 3/0441': 1, 'G06F 3/0418': 1, 'G16Z 99/00': 1, 'G16H 50/30': 1, 'H04W 76/50': 1, 'H04W 4/025': 1, 'H04M 1/72463': 1, 'G01C 21/3423': 1, 'G01C 21/362': 1, 'H04L 67/562': 1, 'G06F 3/04883': 1, 'H04W 60/005': 1, 'H04L 67/04': 1, 'H04M 19/047': 1, 'G06F 3/016': 1, 'H04W 68/005': 1, 'H04W 4/023': 1, 'G08B 6/00': 1, 'H04L 67/10': 1, 'G06F 3/0304': 1, 'H04L 67/12': 1, 'G06F 3/01': 1, 'H04W 76/10': 1, 'H04W 84/18': 1}\n",
            "\n",
            "cluster number: 84\n",
            "CPC number stats in sub-class level: {'H02J': 12, 'H01M': 5, 'Y02E': 1, 'H04B': 5, 'H04W': 3, 'G06F': 120, 'H04M': 27, 'H01Q': 9, 'H01H': 23, 'E05D': 1, 'H05K': 7, 'E05F': 1, 'F16M': 1, 'G05B': 1, 'E05Y': 1, 'Y10T': 3, 'Y02D': 3, 'G09G': 11, 'G06K': 6, 'G06Q': 6, 'H05B': 1, 'G02B': 5, 'G03B': 9, 'H04N': 8, 'G04G': 3, 'B60R': 1, 'G07C': 1, 'H04L': 1, 'G05D': 1, 'A45C': 3, 'Y02B': 1, 'Y10S': 1}\n",
            "CPC number stats in sub-group level: {'H02J 7/0047': 1, 'H02J 7/0068': 1, 'H02J 7/0042': 1, 'H02J 7/02': 1, 'H02J 7/0024': 1, 'H01M 10/46': 1, 'H01M 10/441': 1, 'H01M 10/425': 1, 'H02J 7/0029': 1, 'H02J 7/0071': 1, 'H02J 7/0048': 1, 'H02J 2310/22': 1, 'H02J 7/0014': 1, 'Y02E 60/10': 1, 'H01M 2010/4271': 1, 'H01M 2220/30': 1, 'H02J 2207/20': 1, 'H02J 50/10': 1, 'H04B 1/40': 1, 'H04W 52/0229': 1, 'H04W 52/42': 1, 'H04W 52/52': 1, 'H04B 7/0615': 1, 'H04B 2001/0433': 1, 'G06F 3/046': 1, 'G06F 1/1683': 1, 'G06F 1/1641': 1, 'G06F 3/03545': 1, 'G06F 1/1616': 1, 'G06F 3/033': 1, 'G06F 1/1652': 1, 'G06F 1/1677': 1, 'G06F 1/1643': 1, 'H04M 1/0268': 1, 'H04M 1/0214': 1, 'H04M 1/0202': 1, 'H01Q 1/243': 1, 'H01Q 21/20': 1, 'H04M 1/72412': 1, 'H04M 1/0266': 1, 'H01Q 25/00': 1, 'H01Q 21/08': 1, 'H04M 1/236': 1, 'H01Q 1/2291': 1, 'H04M 2250/12': 1, 'H01Q 1/44': 1, 'H01Q 9/0464': 1, 'H01Q 21/28': 1, 'H04M 1/026': 1, 'G06F 3/0487': 1, 'G06F 9/541': 1, 'G06F 3/0414': 1, 'G06F 1/1681': 1, 'H01H 13/704': 1, 'H01H 13/78': 1, 'G06F 1/1684': 1, 'G06F 1/1662': 1, 'G06F 1/1637': 1, 'E05D 11/1064': 1, 'G06F 3/0416': 1, 'G06F 3/01': 1, 'H01H 13/14': 1, 'H01H 13/807': 1, 'H05K 5/0226': 1, 'E05F 5/08': 1, 'F16M 11/38': 1, 'G06F 1/1669': 1, 'G06F 3/0488': 1, 'H04M 1/0216': 1, 'G06F 13/102': 1, 'G06F 1/1654': 1, 'H01H 11/00': 1, 'G06F 3/023': 1, 'H01H 13/702': 1, 'H01H 13/785': 1, 'G05B 11/01': 1, 'H01H 13/703': 1, 'H05K 5/0234': 1, 'H01H 13/82': 1, 'H04M 1/0254': 1, 'G06F 1/166': 1, 'G06F 3/02': 1, 'G06F 3/0233': 1, 'G06F 1/1686': 1, 'G06F 3/002': 1, 'G06F 11/3089': 1, 'H04M 1/72409': 1, 'G06F 3/0219': 1, 'G06F 3/04886': 1, 'G06F 1/1656': 1, 'G06F 3/0202': 1, 'H01H 13/79': 1, 'G06F 1/1618': 1, 'H01H 2205/006': 1, 'E05Y 2201/46': 1, 'H01H 2203/058': 1, 'Y10T 29/49826': 1, 'Y10T 16/5401': 1, 'H01H 2227/032': 1, 'H01H 9/26': 1, 'H04M 1/0245': 1, 'Y10T 16/551': 1, 'H01H 2211/004': 1, 'H01H 2203/02': 1, 'H01H 2211/006': 1, 'H01H 2217/006': 1, 'H01H 2217/004': 1, 'H01H 2213/016': 1, 'Y02D 10/00': 1, 'H01H 2203/036': 1, 'H01H 2217/01': 1, 'H01H 2201/036': 1, 'G06F 3/0346': 1, 'G06F 3/0383': 1, 'G06F 3/016': 1, 'G06F 3/017': 1, 'G06F 3/04883': 1, 'G06F 3/038': 1, 'G06F 3/04847': 1, 'G06F 2203/0384': 1, 'G06F 2203/04807': 1, 'G06F 1/203': 1, 'G09G 3/035': 1, 'G06F 1/1698': 1, 'G09G 3/3208': 1, 'G09G 2380/02': 1, 'G09G 2320/041': 1, 'G09G 2354/00': 1, 'G09G 2320/06': 1, 'G09G 2330/045': 1, 'G06F 2200/201': 1, 'G06K 7/10326': 1, 'G06K 19/0702': 1, 'G06K 19/0707': 1, 'H04M 1/00': 1, 'H04B 1/3816': 1, 'G06Q 20/353': 1, 'G06Q 20/3227': 1, 'G06Q 20/327': 1, 'G06K 7/089': 1, 'G06Q 20/352': 1, 'G06Q 20/3567': 1, 'G06K 19/0715': 1, 'G06Q 20/4014': 1, 'G06F 3/0447': 1, 'H05B 33/145': 1, 'G06F 3/04164': 1, 'G06F 1/1626': 1, 'G06F 3/0446': 1, 'G06F 3/0445': 1, 'H05K 2201/10151': 1, 'H05K 1/147': 1, 'G06F 2203/04103': 1, 'H05K 2201/10128': 1, 'H05K 2201/10318': 1, 'G06F 2203/04105': 1, 'G06F 2203/04104': 1, 'G06F 2203/04106': 1, 'H04M 1/02': 1, 'G06F 2203/04803': 1, 'G09G 2320/0261': 1, 'G06F 1/3265': 1, 'G06F 21/84': 1, 'G02B 15/06': 1, 'G03B 17/12': 1, 'G02B 7/02': 1, 'G03B 11/00': 1, 'H04M 1/0264': 1, 'G03B 17/02': 1, 'G02B 26/023': 1, 'H04N 5/2254': 1, 'G06F 1/1658': 1, 'G06F 21/32': 1, 'H04M 1/667': 1, 'G02B 7/006': 1, 'G02B 26/007': 1, 'G06F 2221/2149': 1, 'G03B 3/10': 1, 'G03B 2205/0053': 1, 'G06F 3/0482': 1, 'G04G 21/00': 1, 'G06F 1/163': 1, 'G06F 3/1423': 1, 'H04M 1/72469': 1, 'G06F 1/1692': 1, 'G06F 3/0393': 1, 'G06F 3/04817': 1, 'G06F 1/169': 1, 'G06F 1/165': 1, 'G06F 3/0484': 1, 'G06F 3/04845': 1, 'G06F 3/041': 1, 'H04M 2250/16': 1, 'G06F 2203/0339': 1, 'G06F 2200/1634': 1, 'G06F 2203/04102': 1, 'G09G 2370/16': 1, 'G06F 2203/04808': 1, 'G04G 21/08': 1, 'G04G 21/02': 1, 'B60R 25/25': 1, 'G07C 9/00309': 1, 'H04L 63/08': 1, 'G06F 1/26': 1, 'G05D 1/0016': 1, 'H04M 1/7246': 1, 'G03B 9/06': 1, 'H04N 5/2257': 1, 'G03B 2205/0069': 1, 'G06F 1/3215': 1, 'A45C 11/00': 1, 'H05K 5/03': 1, 'G06F 1/3206': 1, 'G06F 1/1647': 1, 'H04B 1/3888': 1, 'A45C 2011/002': 1, 'Y02B 70/10': 1, 'A45C 2200/15': 1, 'H04N 5/2253': 1, 'H04N 5/238': 1, 'H04N 5/2252': 1, 'G06F 2200/1633': 1, 'G06F 1/1679': 1, 'G06F 1/162': 1, 'Y10S 248/917': 1, 'G06K 7/10891': 1}\n",
            "\n",
            "cluster number: 85\n",
            "CPC number stats in sub-class level: {'G06T': 4, 'G05B': 2, 'G06F': 8, 'Y02P': 2, 'H04N': 9, 'H04B': 7, 'H04W': 1, 'E05F': 2, 'H04M': 1, 'A61B': 18, 'A61N': 3, 'H04J': 1, 'B41J': 1, 'G06Q': 3, 'G06V': 2, 'G08C': 1}\n",
            "CPC number stats in sub-group level: {'G06T 5/50': 1, 'G06T 7/33': 1, 'G06T 3/4053': 1, 'G06T 3/4076': 1, 'G05B 19/0426': 1, 'G06F 3/017': 1, 'G06F 8/34': 1, 'G06F 3/04842': 1, 'Y02P 90/265': 1, 'Y02P 90/02': 1, 'G05B 2219/23291': 1, 'H04N 5/2353': 1, 'H04B 10/1143': 1, 'H04N 5/2351': 1, 'H04N 5/232933': 1, 'H04N 5/2352': 1, 'H04N 5/23206': 1, 'H04N 5/3532': 1, 'H04N 5/243': 1, 'H04B 10/116': 1, 'H04B 10/541': 1, 'H04W 4/80': 1, 'E05F 15/43': 1, 'H04B 10/1149': 1, 'H04B 10/11': 1, 'H04M 1/72412': 1, 'E05F 2015/435': 1, 'A61B 8/4494': 1, 'A61B 8/4488': 1, 'A61B 8/56': 1, 'A61B 8/4477': 1, 'A61B 8/5207': 1, 'A61N 7/00': 1, 'A61B 5/015': 1, 'A61B 8/4483': 1, 'A61B 8/4263': 1, 'A61B 8/4254': 1, 'A61B 8/4245': 1, 'A61B 8/483': 1, 'A61B 8/13': 1, 'A61B 8/4209': 1, 'A61B 8/08': 1, 'A61N 7/02': 1, 'A61B 2017/320069': 1, 'H04J 13/00': 1, 'A61B 2090/378': 1, 'A61B 2562/164': 1, 'A61N 2007/0078': 1, 'A61B 8/565': 1, 'G06F 3/04815': 1, 'G06F 3/03545': 1, 'H04N 1/32133': 1, 'B41J 3/445': 1, 'H04N 2201/327': 1, 'G06F 3/0321': 1, 'G06Q 20/102': 1, 'G06Q 40/00': 1, 'G06F 3/04883': 1, 'G06Q 20/10': 1, 'G06V 30/1423': 1, 'G08C 21/00': 1, 'G06V 10/12': 1}\n",
            "\n",
            "cluster number: 86\n",
            "CPC number stats in sub-class level: {'G09G': 15, 'H01L': 16, 'G06N': 3, 'G09F': 3, 'H05B': 2, 'H04B': 3, 'H01P': 3, 'H05K': 3, 'H04R': 8, 'Y02E': 1, 'G06F': 72, 'G02F': 12, 'H01Q': 7, 'H03K': 5, 'B81B': 2}\n",
            "CPC number stats in sub-group level: {'G09G 3/32': 1, 'H01L 27/3293': 1, 'G06N 3/04': 1, 'G09F 9/30': 1, 'H01L 25/0652': 1, 'H05B 33/14': 1, 'G09F 9/40': 1, 'H01L 27/156': 1, 'H01L 27/3276': 1, 'H01L 51/50': 1, 'G06N 3/063': 1, 'H05B 33/06': 1, 'H01L 25/167': 1, 'G06N 3/0454': 1, 'G09G 2300/026': 1, 'H04B 3/52': 1, 'H01P 5/107': 1, 'H01P 3/10': 1, 'H04B 3/56': 1, 'H04B 3/36': 1, 'H05K 5/0017': 1, 'H05K 7/20963': 1, 'H01L 51/5281': 1, 'H04R 1/028': 1, 'H01L 51/529': 1, 'H04R 7/04': 1, 'H05K 9/0054': 1, 'H01L 51/5253': 1, 'H01L 51/524': 1, 'H01L 27/3225': 1, 'H04R 17/00': 1, 'H01L 27/323': 1, 'H04R 2499/15': 1, 'H01L 2251/5338': 1, 'H04R 2400/11': 1, 'Y02E 10/549': 1, 'H04R 7/06': 1, 'H04R 7/16': 1, 'H04R 7/045': 1, 'H01L 51/0097': 1, 'G06F 3/0416': 1, 'G09G 3/3607': 1, 'G02F 1/13338': 1, 'G09G 3/3648': 1, 'G06F 3/0412': 1, 'G02F 1/133308': 1, 'G06F 3/041': 1, 'G06F 2203/04103': 1, 'G09G 2320/066': 1, 'G09G 2320/0626': 1, 'G06F 3/042': 1, 'G09G 2354/00': 1, 'G06F 3/044': 1, 'H01Q 1/52': 1, 'H01Q 1/50': 1, 'H01P 3/06': 1, 'H01Q 13/08': 1, 'H01Q 1/38': 1, 'H01Q 17/00': 1, 'G06F 3/0445': 1, 'G06F 3/0446': 1, 'G06F 3/046': 1, 'G06F 3/0442': 1, 'G06F 2203/04101': 1, 'G06F 2203/04105': 1, 'G06F 2203/04106': 1, 'G02F 1/1673': 1, 'G06F 3/0383': 1, 'G06F 3/03545': 1, 'G02F 1/167': 1, 'G02F 1/16757': 1, 'G02F 1/1681': 1, 'G02F 2001/1678': 1, 'G02F 1/1676': 1, 'G06F 1/1692': 1, 'H01Q 1/242': 1, 'G06F 1/169': 1, 'G06F 3/03547': 1, 'H03K 17/962': 1, 'H03K 17/96': 1, 'G06F 1/1626': 1, 'G06F 1/1698': 1, 'H03K 2017/9602': 1, 'H03K 2217/96031': 1, 'H03K 2217/96015': 1, 'G06F 2203/04112': 1, 'G06F 2203/04102': 1, 'G09F 9/301': 1, 'G06F 3/045': 1, 'G06F 1/1652': 1, 'G06F 3/047': 1, 'G09G 5/003': 1, 'G06F 3/0443': 1, 'G09G 2300/04': 1, 'G06F 3/04166': 1, 'G06F 3/04164': 1, 'G06F 3/0448': 1, 'G06F 2203/04104': 1, 'G06F 3/0421': 1, 'B81B 3/0021': 1, 'H01L 27/1446': 1, 'H01L 27/1225': 1, 'B81B 2201/0264': 1, 'G02F 2201/44': 1}\n",
            "\n",
            "cluster number: 87\n",
            "CPC number stats in sub-class level: {'G06F': 59, 'E05D': 1, 'E05Y': 1, 'H04B': 8, 'H04M': 4, 'H04W': 1, 'H01Q': 5, 'G06Q': 1, 'A61N': 3, 'A45F': 2, 'A44B': 1, 'G06V': 5, 'H05K': 6, 'H01P': 10, 'G09F': 1, 'G01R': 1, 'H02J': 3, 'H05B': 2, 'H01F': 2, 'H01H': 10, 'Y10T': 1, 'B41J': 2, 'G02F': 1}\n",
            "CPC number stats in sub-group level: {'G06F 1/1656': 1, 'G06F 1/1624': 1, 'G06F 1/1626': 1, 'E05D 3/06': 1, 'G06F 1/1681': 1, 'G06F 1/1654': 1, 'E05Y 2900/606': 1, 'G06F 1/1616': 1, 'H04B 5/0037': 1, 'H04M 1/0266': 1, 'H04B 5/0031': 1, 'H04M 1/026': 1, 'G06F 1/1652': 1, 'H04W 4/80': 1, 'H01Q 1/243': 1, 'G06F 3/0412': 1, 'H04B 5/0081': 1, 'G06Q 20/3278': 1, 'H04M 1/0268': 1, 'H04M 1/0235': 1, 'A61N 1/37247': 1, 'A61N 1/0551': 1, 'A61N 1/36071': 1, 'A45F 5/00': 1, 'A44B 11/25': 1, 'G06F 3/03545': 1, 'A45F 2005/006': 1, 'G06F 3/04166': 1, 'G06V 40/1365': 1, 'G06V 40/1306': 1, 'G06F 3/0442': 1, 'G06F 3/041': 1, 'H05K 1/147': 1, 'H05K 2201/056': 1, 'H05K 1/181': 1, 'H05K 2201/10128': 1, 'H05K 2201/10151': 1, 'G06F 2203/04107': 1, 'G06V 40/1329': 1, 'G06F 2203/04105': 1, 'H05K 1/189': 1, 'G06F 9/451': 1, 'G06F 3/0488': 1, 'G06F 9/546': 1, 'G06F 3/04842': 1, 'G06F 3/04845': 1, 'G06F 3/04883': 1, 'G06F 9/54': 1, 'G06F 2209/545': 1, 'H01P 3/10': 1, 'H01P 5/08': 1, 'H01P 5/085': 1, 'H04B 1/00': 1, 'G06F 3/045': 1, 'G06F 3/0446': 1, 'G06F 3/0445': 1, 'G09F 9/301': 1, 'G06F 2203/04103': 1, 'G06F 2203/04112': 1, 'G06F 2203/04102': 1, 'H01P 5/188': 1, 'H04B 3/52': 1, 'H01P 3/12': 1, 'H04B 3/54': 1, 'G01R 1/24': 1, 'H04B 10/25752': 1, 'H01P 1/225': 1, 'G06F 1/1632': 1, 'G06F 3/039': 1, 'H02J 7/0042': 1, 'H02J 7/025': 1, 'H02J 50/10': 1, 'G06F 1/1635': 1, 'G06F 1/266': 1, 'G06F 2200/1632': 1, 'G06F 1/16': 1, 'G06F 1/1618': 1, 'G06F 1/1669': 1, 'G06F 1/1684': 1, 'G06F 1/1683': 1, 'G06F 1/166': 1, 'H05B 33/04': 1, 'H05B 33/22': 1, 'H01Q 1/22': 1, 'H01Q 1/273': 1, 'H01Q 19/005': 1, 'H01Q 1/44': 1, 'G06F 3/0441': 1, 'H01F 27/2828': 1, 'G06F 2203/04106': 1, 'H01H 71/125': 1, 'H01H 71/123': 1, 'H01F 38/30': 1, 'H01H 83/20': 1, 'H01H 83/10': 1, 'H01H 71/2454': 1, 'H01H 89/06': 1, 'Y10T 29/4902': 1, 'B41J 3/445': 1, 'B41J 3/36': 1, 'G02F 1/13338': 1, 'G06F 3/046': 1, 'G06F 2203/04104': 1}\n",
            "\n",
            "cluster number: 88\n",
            "CPC number stats in sub-class level: {'G06F': 95, 'G09G': 32, 'G02F': 18, 'G02B': 4, 'H04N': 4, 'H04M': 2, 'H01L': 4, 'B81B': 4}\n",
            "CPC number stats in sub-group level: {'G06F 3/0445': 1, 'G06F 3/046': 1, 'G06F 3/0418': 1, 'G06F 3/044': 1, 'G06F 3/0446': 1, 'G09G 3/344': 1, 'G06F 3/0412': 1, 'G06F 3/04166': 1, 'G06F 3/04164': 1, 'G09G 3/3696': 1, 'G09G 2310/0202': 1, 'G09G 2310/068': 1, 'G06F 2203/04106': 1, 'G09G 2310/08': 1, 'G06F 2203/04112': 1, 'G09G 2300/0426': 1, 'G09G 3/3611': 1, 'G06F 3/0442': 1, 'G09G 2320/029': 1, 'G09G 2354/00': 1, 'G06F 3/0447': 1, 'G09G 3/20': 1, 'G06F 3/0416': 1, 'G09G 2300/023': 1, 'G02F 1/13306': 1, 'G02F 1/134309': 1, 'G02F 1/13439': 1, 'G02F 1/13338': 1, 'G02F 1/133553': 1, 'G02F 1/133357': 1, 'G02F 2201/121': 1, 'G02F 2201/123': 1, 'G06F 2203/04114': 1, 'G02B 6/0088': 1, 'G02B 6/008': 1, 'G02F 1/133528': 1, 'G02B 6/0056': 1, 'G02B 6/0038': 1, 'G02F 2202/28': 1, 'G06F 1/1637': 1, 'H04N 5/23216': 1, 'H04N 5/23293': 1, 'H04N 5/23219': 1, 'G06F 1/1647': 1, 'G06F 1/1652': 1, 'G06F 1/1641': 1, 'H04N 5/23245': 1, 'H04M 2250/12': 1, 'H04M 2250/16': 1, 'G06F 3/0227': 1, 'G06F 3/0202': 1, 'G06F 2203/04102': 1, 'G06F 2203/04104': 1, 'H01L 27/1225': 1, 'G06F 3/042': 1, 'G06F 3/0421': 1, 'B81B 3/0021': 1, 'H01L 27/1446': 1, 'G09G 3/3648': 1, 'G02F 2201/44': 1, 'B81B 2201/0264': 1, 'G06F 3/0443': 1}\n",
            "\n",
            "cluster number: 89\n",
            "CPC number stats in sub-class level: {'G06F': 14, 'G09G': 4, 'Y02D': 1, 'G16Z': 2, 'G16H': 2, 'A61N': 17, 'H01P': 41, 'H04B': 90, 'H01Q': 20, 'H02J': 11, 'Y02E': 9, 'Y04S': 6, 'G06K': 5, 'H03H': 1, 'H03J': 5, 'H04L': 2, 'H04W': 4, 'F21V': 1, 'F21W': 1, 'H04R': 2}\n",
            "CPC number stats in sub-group level: {'G06F 3/0445': 1, 'G06F 3/0416': 1, 'G06F 3/0412': 1, 'G06F 3/045': 1, 'G06F 1/3262': 1, 'G06F 3/03547': 1, 'G06F 1/3228': 1, 'G06F 3/0446': 1, 'G06F 3/0443': 1, 'G09G 3/20': 1, 'G06F 3/0418': 1, 'G06F 1/263': 1, 'G06F 1/3287': 1, 'G09G 2300/0426': 1, 'G06F 2203/04101': 1, 'G09G 2300/023': 1, 'G06F 2203/04108': 1, 'Y02D 10/00': 1, 'G09G 2330/021': 1, 'G16Z 99/00': 1, 'G16H 40/63': 1, 'A61N 1/37247': 1, 'A61N 1/0551': 1, 'A61N 1/36185': 1, 'A61N 1/3605': 1, 'A61N 1/37211': 1, 'H01P 3/16': 1, 'H04B 3/54': 1, 'H01Q 13/02': 1, 'H04B 3/58': 1, 'H04B 3/56': 1, 'H04B 3/46': 1, 'H04B 3/542': 1, 'H01Q 1/46': 1, 'H04B 2203/5483': 1, 'H04B 2203/5479': 1, 'H04B 2203/5404': 1, 'H04B 2203/5441': 1, 'H01P 3/10': 1, 'H01P 5/12': 1, 'H02J 13/00007': 1, 'H04B 10/29': 1, 'H04B 3/52': 1, 'H02J 13/00017': 1, 'H04B 14/02': 1, 'Y02E 60/00': 1, 'Y02E 60/7838': 1, 'Y04S 40/124': 1, 'H02J 13/00': 1, 'Y02E 60/7815': 1, 'Y04S 40/121': 1, 'G06K 7/10198': 1, 'H03H 19/004': 1, 'H03J 5/246': 1, 'G06K 7/10148': 1, 'H03J 7/04': 1, 'H02J 50/12': 1, 'H02J 50/20': 1, 'H03J 5/24': 1, 'G06K 7/10336': 1, 'G06K 7/10297': 1, 'H03J 2200/35': 1, 'H03J 2200/29': 1, 'G06K 19/0726': 1, 'H01P 1/10': 1, 'H01P 11/006': 1, 'H01P 3/08': 1, 'H04B 3/03': 1, 'H01P 5/08': 1, 'H04B 7/04': 1, 'H04L 5/14': 1, 'H04B 7/15507': 1, 'H04W 84/047': 1, 'H04W 88/10': 1, 'H01P 5/00': 1, 'H01P 3/12': 1, 'H01P 5/026': 1, 'H01Q 1/44': 1, 'H01Q 1/24': 1, 'F21V 21/10': 1, 'H01Q 21/0068': 1, 'H01Q 13/24': 1, 'H01Q 19/062': 1, 'H01P 1/16': 1, 'H01Q 21/20': 1, 'F21W 2131/103': 1, 'H04R 2420/07': 1, 'H04R 3/00': 1, 'H01Q 21/28': 1, 'H01Q 25/00': 1, 'H01P 5/087': 1, 'A61N 1/36139': 1, 'A61N 1/36178': 1, 'A61N 1/36071': 1, 'A61N 1/36132': 1, 'A61N 1/36164': 1}\n",
            "\n",
            "cluster number: 90\n",
            "CPC number stats in sub-class level: {'G06F': 9, 'H04M': 1}\n",
            "CPC number stats in sub-group level: {'G06F 3/03545': 1, 'G06F 3/0488': 1, 'G06F 3/046': 1, 'H04M 1/026': 1}\n",
            "\n",
            "cluster number: 91\n",
            "CPC number stats in sub-class level: {'H04W': 30, 'B64C': 12, 'H01Q': 14, 'H04B': 10, 'G09G': 9, 'B60R': 2, 'G07C': 1, 'G05D': 5, 'H04L': 2, 'G06F': 13, 'H04M': 7, 'G10L': 2, 'Y02D': 1, 'H04N': 4}\n",
            "CPC number stats in sub-group level: {'H04W 48/16': 1, 'H04W 48/20': 1, 'B64C 39/024': 1, 'H01Q 3/24': 1, 'H04W 16/18': 1, 'H01Q 21/205': 1, 'H04W 24/06': 1, 'H04B 7/0417': 1, 'H04W 24/08': 1, 'H01Q 3/2605': 1, 'H04B 17/318': 1, 'H01Q 1/28': 1, 'H04W 16/28': 1, 'H04B 7/0413': 1, 'H01Q 1/288': 1, 'B64C 2201/146': 1, 'H04W 52/242': 1, 'H04W 64/00': 1, 'B64C 2201/027': 1, 'H01Q 1/246': 1, 'B64C 2201/12': 1, 'B64C 2201/122': 1, 'H01Q 1/125': 1, 'G09G 3/20': 1, 'G09G 2330/027': 1, 'G09G 2360/144': 1, 'G09G 2330/021': 1, 'G09G 2330/022': 1, 'G09G 2354/00': 1, 'G09G 3/035': 1, 'G09G 2380/02': 1, 'G09G 2320/0686': 1, 'H04W 4/029': 1, 'H04W 4/80': 1, 'H04W 4/02': 1, 'H04W 76/23': 1, 'B60R 25/24': 1, 'H04W 4/023': 1, 'G07C 9/29': 1, 'B60R 2325/205': 1, 'G05D 1/0033': 1, 'G05D 1/0011': 1, 'G05D 1/0094': 1, 'G05D 1/0077': 1, 'H04L 67/12': 1, 'H04B 7/18506': 1, 'G05D 1/0022': 1, 'H04W 84/042': 1, 'H04W 36/20': 1, 'H04W 88/08': 1, 'G06F 3/012': 1, 'G06F 3/0346': 1, 'G06F 1/3231': 1, 'G06F 1/163': 1, 'G06F 1/3262': 1, 'G06F 1/1694': 1, 'G06F 1/3265': 1, 'G06F 3/167': 1, 'H04M 1/72403': 1, 'G06F 3/04883': 1, 'G10L 15/22': 1, 'H04M 2250/22': 1, 'G10L 2015/223': 1, 'Y02D 10/00': 1, 'H04M 2250/74': 1, 'H04M 2250/12': 1, 'H04M 1/67': 1, 'H04M 1/271': 1, 'H04M 2250/52': 1, 'H04W 8/18': 1, 'H04W 12/06': 1, 'H04L 63/0876': 1, 'G06F 3/0416': 1, 'G06F 3/04817': 1, 'G06F 3/04886': 1, 'G06F 2203/04104': 1, 'H04B 7/26': 1, 'H04N 5/2628': 1, 'H04N 1/00201': 1, 'H04N 1/00172': 1, 'H04N 5/265': 1}\n",
            "\n",
            "cluster number: 92\n",
            "CPC number stats in sub-class level: {'G06F': 56, 'G09G': 9, 'H01L': 6}\n",
            "CPC number stats in sub-group level: {'G06F 3/0412': 1, 'G09G 3/20': 1, 'G06F 3/0416': 1, 'G06F 3/0446': 1, 'G06F 3/0445': 1, 'G06F 3/044': 1, 'G06F 2203/04106': 1, 'G09G 2300/023': 1, 'G06F 3/04166': 1, 'G06F 3/04162': 1, 'G06F 3/0441': 1, 'G06F 3/046': 1, 'H01L 27/323': 1, 'G06F 3/041': 1, 'H01L 51/529': 1, 'H01L 51/5253': 1, 'G06F 3/0448': 1, 'G06F 3/0443': 1, 'G06F 2203/04103': 1, 'G06F 2203/04111': 1, 'G09G 3/3648': 1, 'G06F 3/147': 1, 'G09G 3/36': 1, 'G09G 2310/08': 1, 'G06F 3/04164': 1, 'G06F 1/1626': 1}\n",
            "\n",
            "cluster number: 93\n",
            "CPC number stats in sub-class level: {'G06F': 42, 'H04L': 1, 'H04W': 1, 'H01Q': 1, 'H04M': 14, 'H04R': 1, 'H01M': 1, 'Y02E': 1, 'Y10T': 2, 'B41J': 9, 'G06Q': 3, 'H04N': 31, 'Y10S': 1}\n",
            "CPC number stats in sub-group level: {'G06F 3/03545': 1, 'G06F 3/0445': 1, 'G06F 3/03546': 1, 'G06F 3/04842': 1, 'H04L 29/06': 1, 'H04W 4/70': 1, 'G06F 3/0416': 1, 'G06F 3/0484': 1, 'G06F 3/041': 1, 'G06F 3/0482': 1, 'G06F 3/0488': 1, 'G06F 3/0447': 1, 'G06F 2203/04105': 1, 'G06F 3/0383': 1, 'H01Q 1/2258': 1, 'G06F 3/046': 1, 'G06F 3/044': 1, 'G06F 3/0393': 1, 'H04M 1/72478': 1, 'H04M 1/03': 1, 'H04M 1/0277': 1, 'H04R 25/554': 1, 'H01M 50/209': 1, 'Y02E 60/10': 1, 'Y10T 292/696': 1, 'B41J 3/445': 1, 'H04M 1/27475': 1, 'H04M 1/72445': 1, 'G06Q 40/00': 1, 'H04N 7/163': 1, 'G06F 1/1656': 1, 'H04M 3/42': 1, 'H04N 5/76': 1, 'H04N 21/42203': 1, 'G06Q 20/401': 1, 'G06F 1/1684': 1, 'H04N 1/00392': 1, 'H04N 1/00244': 1, 'G06F 1/1626': 1, 'H04M 1/72409': 1, 'H04M 1/72412': 1, 'H04N 19/60': 1, 'H04N 21/4223': 1, 'H04N 1/00204': 1, 'H04N 1/00307': 1, 'H04N 1/00326': 1, 'H04N 21/41407': 1, 'G06F 3/0321': 1, 'H04N 1/00968': 1, 'H04M 1/2755': 1, 'H04N 21/422': 1, 'H04N 1/32122': 1, 'H04N 1/32778': 1, 'H04N 5/445': 1, 'G06F 1/1688': 1, 'H04N 19/61': 1, 'G06Q 40/08': 1, 'H04N 2201/3269': 1, 'H04N 2201/0082': 1, 'H04N 5/765': 1, 'H04M 7/0015': 1, 'H04N 2201/3264': 1, 'Y10S 707/99931': 1, 'Y10T 428/187': 1, 'H04N 21/478': 1, 'H04N 2201/3247': 1, 'H04M 1/72442': 1, 'H04N 1/32133': 1, 'H04M 2250/12': 1, 'G06F 2203/0384': 1, 'H04N 5/783': 1, 'H04N 2201/3274': 1, 'H04N 2201/3226': 1, 'G06F 3/16': 1, 'H04N 5/907': 1, 'G06F 2200/1614': 1, 'G06F 2200/1637': 1, 'G06F 3/0317': 1, 'G06F 3/039': 1, 'G06F 3/03543': 1, 'G06F 2203/0337': 1, 'G06F 2203/0333': 1, 'B41J 11/46': 1, 'G06F 1/1686': 1, 'B41J 29/02': 1, 'G06F 1/1662': 1, 'B41J 3/36': 1, 'B41J 13/0027': 1, 'B41J 11/0095': 1, 'B41J 13/00': 1, 'B41J 2/01': 1, 'H04M 1/21': 1, 'G06F 1/1632': 1, 'G06F 1/1696': 1, 'H04M 1/724': 1}\n",
            "\n",
            "cluster number: 94\n",
            "CPC number stats in sub-class level: {'A61N': 7, 'G06F': 53, 'A61B': 1, 'G06Q': 15, 'H04L': 9, 'H04M': 6, 'Y02D': 3, 'G10L': 1, 'G09B': 1, 'G06T': 2, 'H04N': 1, 'G06V': 1, 'H04B': 8, 'G02F': 4, 'G09G': 13, 'H01L': 8, 'H01P': 1, 'H04W': 20, 'H01H': 4, 'H02N': 3, 'G06K': 1}\n",
            "CPC number stats in sub-group level: {'A61N 1/36071': 1, 'A61N 1/36185': 1, 'A61N 1/37247': 1, 'A61N 1/36164': 1, 'G06F 9/451': 1, 'G06F 3/04883': 1, 'G06F 9/54': 1, 'G06F 3/04842': 1, 'G06F 3/04845': 1, 'G06F 9/546': 1, 'G06F 3/0488': 1, 'G06F 2209/545': 1, 'A61N 1/3605': 1, 'A61N 1/37264': 1, 'A61B 2018/00577': 1, 'G06Q 20/34': 1, 'G06Q 20/3823': 1, 'H04L 63/083': 1, 'H04M 1/673': 1, 'G06Q 20/3263': 1, 'G06F 21/36': 1, 'G06Q 20/3227': 1, 'G06Q 20/3265': 1, 'H04M 2250/22': 1, 'G06F 11/328': 1, 'G06F 13/4291': 1, 'G06F 9/4415': 1, 'G06F 13/4068': 1, 'G06F 1/3296': 1, 'G06F 3/0202': 1, 'G06F 11/3051': 1, 'G06F 3/04886': 1, 'G06F 1/1669': 1, 'G06F 3/167': 1, 'Y02D 10/14': 1, 'G06F 2203/04809': 1, 'Y02D 10/151': 1, 'Y02D 10/00': 1, 'G10L 13/00': 1, 'G06F 3/165': 1, 'G06F 3/016': 1, 'G09B 21/006': 1, 'G06T 1/0007': 1, 'G06T 2200/24': 1, 'H04L 12/2816': 1, 'G06F 3/0482': 1, 'G06F 3/0346': 1, 'G06F 1/1694': 1, 'H04L 12/2803': 1, 'G06F 3/04817': 1, 'H04L 12/2809': 1, 'H04N 21/00': 1, 'G06F 3/0483': 1, 'G06F 3/04847': 1, 'G06F 2200/1637': 1, 'G06F 2200/1614': 1, 'G06F 3/0484': 1, 'G06F 1/163': 1, 'G06F 3/044': 1, 'G06F 3/017': 1, 'G06F 2203/04101': 1, 'G06Q 20/326': 1, 'G06V 40/1365': 1, 'H04B 5/0031': 1, 'G06Q 20/3278': 1, 'G06Q 20/40145': 1, 'H04B 5/0081': 1, 'G06Q 20/32': 1, 'G06Q 20/36': 1, 'G06Q 20/322': 1, 'H04M 1/72412': 1, 'G06Q 20/227': 1, 'G06Q 20/321': 1, 'H04M 2250/04': 1, 'H04B 5/0037': 1, 'G02F 1/13439': 1, 'G09G 3/2092': 1, 'G09G 3/3233': 1, 'G09G 3/2003': 1, 'G02F 1/133553': 1, 'G02F 1/136286': 1, 'G09G 3/3648': 1, 'H01L 21/02164': 1, 'H01L 21/02266': 1, 'G09G 3/3225': 1, 'G09G 3/3258': 1, 'H01L 27/3232': 1, 'G02F 1/1368': 1, 'G06F 3/0412': 1, 'G09G 2310/08': 1, 'G09G 2300/0452': 1, 'H01L 29/7869': 1, 'G09G 2300/023': 1, 'G09G 2320/0673': 1, 'H01L 27/12': 1, 'G06F 3/0421': 1, 'H01L 27/1225': 1, 'H01L 29/78696': 1, 'G09G 2300/0426': 1, 'H01L 29/78648': 1, 'G06F 3/0446': 1, 'G09G 2300/046': 1, 'G06F 3/046': 1, 'G09G 2330/021': 1, 'H04B 3/54': 1, 'H04L 43/0876': 1, 'H04L 63/18': 1, 'H04B 3/52': 1, 'H01P 3/00': 1, 'H04W 4/021': 1, 'H04W 72/0446': 1, 'H04L 45/24': 1, 'H04L 43/16': 1, 'H04L 67/561': 1, 'H04W 72/046': 1, 'H04W 4/029': 1, 'H04W 72/048': 1, 'H04W 72/1226': 1, 'H04B 17/318': 1, 'H04W 4/026': 1, 'H04W 24/08': 1, 'H04W 16/225': 1, 'H04W 64/003': 1, 'H04W 64/00': 1, 'H04W 4/027': 1, 'H04W 24/04': 1, 'H04M 1/725': 1, 'H04B 1/00': 1, 'G06F 3/041': 1, 'G06F 2203/04108': 1, 'H01H 71/2454': 1, 'H01H 83/10': 1, 'H01H 83/20': 1, 'H01H 71/125': 1, 'H02N 2/188': 1, 'H02N 2/181': 1, 'H02N 2/185': 1, 'G06K 7/0008': 1}\n",
            "\n",
            "cluster number: 95\n",
            "CPC number stats in sub-class level: {'A61J': 6, 'G16H': 10, 'B65D': 3, 'G09B': 3, 'A61B': 9, 'A47G': 3, 'G06F': 2, 'G01N': 2, 'G01G': 2}\n",
            "CPC number stats in sub-group level: {'A61J 7/0436': 1, 'A61J 1/03': 1, 'G16H 10/65': 1, 'A61J 7/0472': 1, 'A61J 7/0418': 1, 'G16H 20/10': 1, 'A61J 7/049': 1, 'A61J 7/0481': 1, 'B65D 51/24': 1, 'G16H 20/13': 1, 'B65D 83/04': 1, 'B65D 2203/10': 1, 'G09B 19/0092': 1, 'A61B 5/6887': 1, 'A61B 5/681': 1, 'A61B 5/0075': 1, 'A61B 5/4866': 1, 'A61B 2560/0214': 1, 'A61B 2576/00': 1, 'G16H 20/60': 1, 'A47G 21/02': 1, 'G06F 1/163': 1, 'G16H 40/67': 1, 'G01N 33/02': 1, 'G01G 19/4146': 1, 'G01G 19/56': 1, 'G16H 30/40': 1, 'G16H 50/20': 1, 'G01N 21/31': 1, 'A61B 5/1114': 1, 'A61B 5/0205': 1}\n",
            "\n"
          ]
        }
      ]
    }
  ],
  "metadata": {
    "colab": {
      "name": "BertFeatureVectorToCPCNumStat(all_claim).ipynb",
      "provenance": [],
      "collapsed_sections": [],
      "authorship_tag": "ABX9TyMnuKiXlKhiJlb3PygQydLr",
      "include_colab_link": true
    },
    "kernelspec": {
      "display_name": "Python 3",
      "name": "python3"
    },
    "language_info": {
      "name": "python"
    }
  },
  "nbformat": 4,
  "nbformat_minor": 0
}