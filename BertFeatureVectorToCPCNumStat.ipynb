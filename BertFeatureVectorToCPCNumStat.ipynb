{
  "cells": [
    {
      "cell_type": "markdown",
      "metadata": {
        "id": "view-in-github",
        "colab_type": "text"
      },
      "source": [
        "<a href=\"https://colab.research.google.com/github/wei-yuan/patent_classification/blob/master/BertFeatureVectorToCPCNumStat.ipynb\" target=\"_parent\"><img src=\"https://colab.research.google.com/assets/colab-badge.svg\" alt=\"Open In Colab\"/></a>"
      ]
    },
    {
      "cell_type": "markdown",
      "source": [
        "# Project: From The First Claim of Patent to CPC Number Statistics"
      ],
      "metadata": {
        "id": "9bS2L5L1NEsD"
      }
    },
    {
      "cell_type": "markdown",
      "metadata": {
        "id": "pi2wglYRcwiA"
      },
      "source": [
        "## Environment Setup"
      ]
    },
    {
      "cell_type": "code",
      "execution_count": 1,
      "metadata": {
        "id": "NHcEzO5G4_jR",
        "colab": {
          "base_uri": "https://localhost:8080/"
        },
        "outputId": "44d479dc-ff63-4904-b0e9-a30f0577b944"
      },
      "outputs": [
        {
          "output_type": "stream",
          "name": "stdout",
          "text": [
            "\u001b[K     |████████████████████████████████| 4.9 MB 5.1 MB/s \n",
            "\u001b[K     |████████████████████████████████| 462 kB 36.1 MB/s \n",
            "\u001b[?25h"
          ]
        }
      ],
      "source": [
        "# A dependency of the preprocessing for BERT inputs\n",
        "!pip install -q -U \"tensorflow-text==2.8.*\""
      ]
    },
    {
      "cell_type": "code",
      "execution_count": 2,
      "metadata": {
        "id": "0Z43CgQsZyVQ",
        "colab": {
          "base_uri": "https://localhost:8080/"
        },
        "outputId": "c02b382b-2079-4521-d55a-b543ac5ea042"
      },
      "outputs": [
        {
          "output_type": "stream",
          "name": "stdout",
          "text": [
            "\u001b[K     |████████████████████████████████| 1.8 MB 4.2 MB/s \n",
            "\u001b[K     |████████████████████████████████| 1.2 MB 44.8 MB/s \n",
            "\u001b[K     |████████████████████████████████| 237 kB 68.7 MB/s \n",
            "\u001b[K     |████████████████████████████████| 43 kB 1.6 MB/s \n",
            "\u001b[K     |████████████████████████████████| 352 kB 60.9 MB/s \n",
            "\u001b[K     |████████████████████████████████| 47.8 MB 41 kB/s \n",
            "\u001b[K     |████████████████████████████████| 99 kB 8.0 MB/s \n",
            "\u001b[K     |████████████████████████████████| 90 kB 6.2 MB/s \n",
            "\u001b[K     |████████████████████████████████| 1.1 MB 42.6 MB/s \n",
            "\u001b[K     |████████████████████████████████| 596 kB 43.3 MB/s \n",
            "\u001b[?25h  Building wheel for py-cpuinfo (setup.py) ... \u001b[?25l\u001b[?25hdone\n",
            "  Building wheel for seqeval (setup.py) ... \u001b[?25l\u001b[?25hdone\n"
          ]
        }
      ],
      "source": [
        "# You will use the AdamW optimizer from tensorflow/models.\n",
        "!pip install -q tf-models-official==2.7.0"
      ]
    },
    {
      "cell_type": "markdown",
      "metadata": {
        "id": "hk_3SfSE-7a-"
      },
      "source": [
        "## Import Library"
      ]
    },
    {
      "cell_type": "code",
      "execution_count": 3,
      "metadata": {
        "id": "vc4_C8QgcqPx"
      },
      "outputs": [],
      "source": [
        "import os\n",
        "import shutil\n",
        "\n",
        "import tensorflow as tf\n",
        "import tensorflow_hub as hub\n",
        "import tensorflow_text as text\n",
        "from official.nlp import optimization  # to create AdamW optimizer\n",
        "\n",
        "import matplotlib.pyplot as plt\n",
        "\n",
        "tf.get_logger().setLevel('ERROR')"
      ]
    },
    {
      "cell_type": "markdown",
      "metadata": {
        "id": "Qsy8AzM2_AH_"
      },
      "source": [
        "## Load Pre-Trained Model of BERT from The Following Website\n",
        "\n",
        "* BERT model selected           : https://tfhub.dev/tensorflow/small_bert/bert_en_uncased_L-4_H-512_A-8/1\n",
        "* Preprocess model auto-selected: https://tfhub.dev/tensorflow/bert_en_uncased_preprocess/3"
      ]
    },
    {
      "cell_type": "code",
      "execution_count": 4,
      "metadata": {
        "colab": {
          "base_uri": "https://localhost:8080/"
        },
        "id": "oBwEarBLijCg",
        "outputId": "4fb84710-7ff6-45e9-9322-83d6510043c4"
      },
      "outputs": [
        {
          "output_type": "stream",
          "name": "stdout",
          "text": [
            "BERT model selected           : https://tfhub.dev/tensorflow/small_bert/bert_en_uncased_L-4_H-512_A-8/1\n",
            "Preprocess model auto-selected: https://tfhub.dev/tensorflow/bert_en_uncased_preprocess/3\n"
          ]
        }
      ],
      "source": [
        "#@title Choose a BERT model to fine-tune\n",
        "\n",
        "bert_model_name = 'small_bert/bert_en_uncased_L-4_H-512_A-8'  #@param [\"bert_en_uncased_L-12_H-768_A-12\", \"bert_en_cased_L-12_H-768_A-12\", \"bert_multi_cased_L-12_H-768_A-12\", \"small_bert/bert_en_uncased_L-2_H-128_A-2\", \"small_bert/bert_en_uncased_L-2_H-256_A-4\", \"small_bert/bert_en_uncased_L-2_H-512_A-8\", \"small_bert/bert_en_uncased_L-2_H-768_A-12\", \"small_bert/bert_en_uncased_L-4_H-128_A-2\", \"small_bert/bert_en_uncased_L-4_H-256_A-4\", \"small_bert/bert_en_uncased_L-4_H-512_A-8\", \"small_bert/bert_en_uncased_L-4_H-768_A-12\", \"small_bert/bert_en_uncased_L-6_H-128_A-2\", \"small_bert/bert_en_uncased_L-6_H-256_A-4\", \"small_bert/bert_en_uncased_L-6_H-512_A-8\", \"small_bert/bert_en_uncased_L-6_H-768_A-12\", \"small_bert/bert_en_uncased_L-8_H-128_A-2\", \"small_bert/bert_en_uncased_L-8_H-256_A-4\", \"small_bert/bert_en_uncased_L-8_H-512_A-8\", \"small_bert/bert_en_uncased_L-8_H-768_A-12\", \"small_bert/bert_en_uncased_L-10_H-128_A-2\", \"small_bert/bert_en_uncased_L-10_H-256_A-4\", \"small_bert/bert_en_uncased_L-10_H-512_A-8\", \"small_bert/bert_en_uncased_L-10_H-768_A-12\", \"small_bert/bert_en_uncased_L-12_H-128_A-2\", \"small_bert/bert_en_uncased_L-12_H-256_A-4\", \"small_bert/bert_en_uncased_L-12_H-512_A-8\", \"small_bert/bert_en_uncased_L-12_H-768_A-12\", \"albert_en_base\", \"electra_small\", \"electra_base\", \"experts_pubmed\", \"experts_wiki_books\", \"talking-heads_base\"]\n",
        "\n",
        "map_name_to_handle = {\n",
        "    'bert_en_uncased_L-12_H-768_A-12':\n",
        "        'https://tfhub.dev/tensorflow/bert_en_uncased_L-12_H-768_A-12/3',\n",
        "    'bert_en_cased_L-12_H-768_A-12':\n",
        "        'https://tfhub.dev/tensorflow/bert_en_cased_L-12_H-768_A-12/3',\n",
        "    'bert_multi_cased_L-12_H-768_A-12':\n",
        "        'https://tfhub.dev/tensorflow/bert_multi_cased_L-12_H-768_A-12/3',\n",
        "    'small_bert/bert_en_uncased_L-2_H-128_A-2':\n",
        "        'https://tfhub.dev/tensorflow/small_bert/bert_en_uncased_L-2_H-128_A-2/1',\n",
        "    'small_bert/bert_en_uncased_L-2_H-256_A-4':\n",
        "        'https://tfhub.dev/tensorflow/small_bert/bert_en_uncased_L-2_H-256_A-4/1',\n",
        "    'small_bert/bert_en_uncased_L-2_H-512_A-8':\n",
        "        'https://tfhub.dev/tensorflow/small_bert/bert_en_uncased_L-2_H-512_A-8/1',\n",
        "    'small_bert/bert_en_uncased_L-2_H-768_A-12':\n",
        "        'https://tfhub.dev/tensorflow/small_bert/bert_en_uncased_L-2_H-768_A-12/1',\n",
        "    'small_bert/bert_en_uncased_L-4_H-128_A-2':\n",
        "        'https://tfhub.dev/tensorflow/small_bert/bert_en_uncased_L-4_H-128_A-2/1',\n",
        "    'small_bert/bert_en_uncased_L-4_H-256_A-4':\n",
        "        'https://tfhub.dev/tensorflow/small_bert/bert_en_uncased_L-4_H-256_A-4/1',\n",
        "    'small_bert/bert_en_uncased_L-4_H-512_A-8':\n",
        "        'https://tfhub.dev/tensorflow/small_bert/bert_en_uncased_L-4_H-512_A-8/1',\n",
        "    'small_bert/bert_en_uncased_L-4_H-768_A-12':\n",
        "        'https://tfhub.dev/tensorflow/small_bert/bert_en_uncased_L-4_H-768_A-12/1',\n",
        "    'small_bert/bert_en_uncased_L-6_H-128_A-2':\n",
        "        'https://tfhub.dev/tensorflow/small_bert/bert_en_uncased_L-6_H-128_A-2/1',\n",
        "    'small_bert/bert_en_uncased_L-6_H-256_A-4':\n",
        "        'https://tfhub.dev/tensorflow/small_bert/bert_en_uncased_L-6_H-256_A-4/1',\n",
        "    'small_bert/bert_en_uncased_L-6_H-512_A-8':\n",
        "        'https://tfhub.dev/tensorflow/small_bert/bert_en_uncased_L-6_H-512_A-8/1',\n",
        "    'small_bert/bert_en_uncased_L-6_H-768_A-12':\n",
        "        'https://tfhub.dev/tensorflow/small_bert/bert_en_uncased_L-6_H-768_A-12/1',\n",
        "    'small_bert/bert_en_uncased_L-8_H-128_A-2':\n",
        "        'https://tfhub.dev/tensorflow/small_bert/bert_en_uncased_L-8_H-128_A-2/1',\n",
        "    'small_bert/bert_en_uncased_L-8_H-256_A-4':\n",
        "        'https://tfhub.dev/tensorflow/small_bert/bert_en_uncased_L-8_H-256_A-4/1',\n",
        "    'small_bert/bert_en_uncased_L-8_H-512_A-8':\n",
        "        'https://tfhub.dev/tensorflow/small_bert/bert_en_uncased_L-8_H-512_A-8/1',\n",
        "    'small_bert/bert_en_uncased_L-8_H-768_A-12':\n",
        "        'https://tfhub.dev/tensorflow/small_bert/bert_en_uncased_L-8_H-768_A-12/1',\n",
        "    'small_bert/bert_en_uncased_L-10_H-128_A-2':\n",
        "        'https://tfhub.dev/tensorflow/small_bert/bert_en_uncased_L-10_H-128_A-2/1',\n",
        "    'small_bert/bert_en_uncased_L-10_H-256_A-4':\n",
        "        'https://tfhub.dev/tensorflow/small_bert/bert_en_uncased_L-10_H-256_A-4/1',\n",
        "    'small_bert/bert_en_uncased_L-10_H-512_A-8':\n",
        "        'https://tfhub.dev/tensorflow/small_bert/bert_en_uncased_L-10_H-512_A-8/1',\n",
        "    'small_bert/bert_en_uncased_L-10_H-768_A-12':\n",
        "        'https://tfhub.dev/tensorflow/small_bert/bert_en_uncased_L-10_H-768_A-12/1',\n",
        "    'small_bert/bert_en_uncased_L-12_H-128_A-2':\n",
        "        'https://tfhub.dev/tensorflow/small_bert/bert_en_uncased_L-12_H-128_A-2/1',\n",
        "    'small_bert/bert_en_uncased_L-12_H-256_A-4':\n",
        "        'https://tfhub.dev/tensorflow/small_bert/bert_en_uncased_L-12_H-256_A-4/1',\n",
        "    'small_bert/bert_en_uncased_L-12_H-512_A-8':\n",
        "        'https://tfhub.dev/tensorflow/small_bert/bert_en_uncased_L-12_H-512_A-8/1',\n",
        "    'small_bert/bert_en_uncased_L-12_H-768_A-12':\n",
        "        'https://tfhub.dev/tensorflow/small_bert/bert_en_uncased_L-12_H-768_A-12/1',\n",
        "    'albert_en_base':\n",
        "        'https://tfhub.dev/tensorflow/albert_en_base/2',\n",
        "    'electra_small':\n",
        "        'https://tfhub.dev/google/electra_small/2',\n",
        "    'electra_base':\n",
        "        'https://tfhub.dev/google/electra_base/2',\n",
        "    'experts_pubmed':\n",
        "        'https://tfhub.dev/google/experts/bert/pubmed/2',\n",
        "    'experts_wiki_books':\n",
        "        'https://tfhub.dev/google/experts/bert/wiki_books/2',\n",
        "    'talking-heads_base':\n",
        "        'https://tfhub.dev/tensorflow/talkheads_ggelu_bert_en_base/1',\n",
        "}\n",
        "\n",
        "map_model_to_preprocess = {\n",
        "    'bert_en_uncased_L-12_H-768_A-12':\n",
        "        'https://tfhub.dev/tensorflow/bert_en_uncased_preprocess/3',\n",
        "    'bert_en_cased_L-12_H-768_A-12':\n",
        "        'https://tfhub.dev/tensorflow/bert_en_cased_preprocess/3',\n",
        "    'small_bert/bert_en_uncased_L-2_H-128_A-2':\n",
        "        'https://tfhub.dev/tensorflow/bert_en_uncased_preprocess/3',\n",
        "    'small_bert/bert_en_uncased_L-2_H-256_A-4':\n",
        "        'https://tfhub.dev/tensorflow/bert_en_uncased_preprocess/3',\n",
        "    'small_bert/bert_en_uncased_L-2_H-512_A-8':\n",
        "        'https://tfhub.dev/tensorflow/bert_en_uncased_preprocess/3',\n",
        "    'small_bert/bert_en_uncased_L-2_H-768_A-12':\n",
        "        'https://tfhub.dev/tensorflow/bert_en_uncased_preprocess/3',\n",
        "    'small_bert/bert_en_uncased_L-4_H-128_A-2':\n",
        "        'https://tfhub.dev/tensorflow/bert_en_uncased_preprocess/3',\n",
        "    'small_bert/bert_en_uncased_L-4_H-256_A-4':\n",
        "        'https://tfhub.dev/tensorflow/bert_en_uncased_preprocess/3',\n",
        "    'small_bert/bert_en_uncased_L-4_H-512_A-8':\n",
        "        'https://tfhub.dev/tensorflow/bert_en_uncased_preprocess/3',\n",
        "    'small_bert/bert_en_uncased_L-4_H-768_A-12':\n",
        "        'https://tfhub.dev/tensorflow/bert_en_uncased_preprocess/3',\n",
        "    'small_bert/bert_en_uncased_L-6_H-128_A-2':\n",
        "        'https://tfhub.dev/tensorflow/bert_en_uncased_preprocess/3',\n",
        "    'small_bert/bert_en_uncased_L-6_H-256_A-4':\n",
        "        'https://tfhub.dev/tensorflow/bert_en_uncased_preprocess/3',\n",
        "    'small_bert/bert_en_uncased_L-6_H-512_A-8':\n",
        "        'https://tfhub.dev/tensorflow/bert_en_uncased_preprocess/3',\n",
        "    'small_bert/bert_en_uncased_L-6_H-768_A-12':\n",
        "        'https://tfhub.dev/tensorflow/bert_en_uncased_preprocess/3',\n",
        "    'small_bert/bert_en_uncased_L-8_H-128_A-2':\n",
        "        'https://tfhub.dev/tensorflow/bert_en_uncased_preprocess/3',\n",
        "    'small_bert/bert_en_uncased_L-8_H-256_A-4':\n",
        "        'https://tfhub.dev/tensorflow/bert_en_uncased_preprocess/3',\n",
        "    'small_bert/bert_en_uncased_L-8_H-512_A-8':\n",
        "        'https://tfhub.dev/tensorflow/bert_en_uncased_preprocess/3',\n",
        "    'small_bert/bert_en_uncased_L-8_H-768_A-12':\n",
        "        'https://tfhub.dev/tensorflow/bert_en_uncased_preprocess/3',\n",
        "    'small_bert/bert_en_uncased_L-10_H-128_A-2':\n",
        "        'https://tfhub.dev/tensorflow/bert_en_uncased_preprocess/3',\n",
        "    'small_bert/bert_en_uncased_L-10_H-256_A-4':\n",
        "        'https://tfhub.dev/tensorflow/bert_en_uncased_preprocess/3',\n",
        "    'small_bert/bert_en_uncased_L-10_H-512_A-8':\n",
        "        'https://tfhub.dev/tensorflow/bert_en_uncased_preprocess/3',\n",
        "    'small_bert/bert_en_uncased_L-10_H-768_A-12':\n",
        "        'https://tfhub.dev/tensorflow/bert_en_uncased_preprocess/3',\n",
        "    'small_bert/bert_en_uncased_L-12_H-128_A-2':\n",
        "        'https://tfhub.dev/tensorflow/bert_en_uncased_preprocess/3',\n",
        "    'small_bert/bert_en_uncased_L-12_H-256_A-4':\n",
        "        'https://tfhub.dev/tensorflow/bert_en_uncased_preprocess/3',\n",
        "    'small_bert/bert_en_uncased_L-12_H-512_A-8':\n",
        "        'https://tfhub.dev/tensorflow/bert_en_uncased_preprocess/3',\n",
        "    'small_bert/bert_en_uncased_L-12_H-768_A-12':\n",
        "        'https://tfhub.dev/tensorflow/bert_en_uncased_preprocess/3',\n",
        "    'bert_multi_cased_L-12_H-768_A-12':\n",
        "        'https://tfhub.dev/tensorflow/bert_multi_cased_preprocess/3',\n",
        "    'albert_en_base':\n",
        "        'https://tfhub.dev/tensorflow/albert_en_preprocess/3',\n",
        "    'electra_small':\n",
        "        'https://tfhub.dev/tensorflow/bert_en_uncased_preprocess/3',\n",
        "    'electra_base':\n",
        "        'https://tfhub.dev/tensorflow/bert_en_uncased_preprocess/3',\n",
        "    'experts_pubmed':\n",
        "        'https://tfhub.dev/tensorflow/bert_en_uncased_preprocess/3',\n",
        "    'experts_wiki_books':\n",
        "        'https://tfhub.dev/tensorflow/bert_en_uncased_preprocess/3',\n",
        "    'talking-heads_base':\n",
        "        'https://tfhub.dev/tensorflow/bert_en_uncased_preprocess/3',\n",
        "}\n",
        "\n",
        "tfhub_handle_encoder = map_name_to_handle[bert_model_name]\n",
        "tfhub_handle_preprocess = map_model_to_preprocess[bert_model_name]\n",
        "\n",
        "print(f'BERT model selected           : {tfhub_handle_encoder}')\n",
        "print(f'Preprocess model auto-selected: {tfhub_handle_preprocess}')"
      ]
    },
    {
      "cell_type": "markdown",
      "metadata": {
        "id": "VB1ZiePUgwQL"
      },
      "source": [
        "The preprocessing model"
      ]
    },
    {
      "cell_type": "code",
      "execution_count": 5,
      "metadata": {
        "id": "5KaRQHFf-_rw"
      },
      "outputs": [],
      "source": [
        "bert_preprocess_model = hub.KerasLayer(tfhub_handle_preprocess)"
      ]
    },
    {
      "cell_type": "markdown",
      "metadata": {
        "id": "f-uLwfL1_MI-"
      },
      "source": [
        "Load Test Text"
      ]
    },
    {
      "cell_type": "code",
      "execution_count": 6,
      "metadata": {
        "colab": {
          "base_uri": "https://localhost:8080/"
        },
        "id": "bXXbx6kC_Ohz",
        "outputId": "3cb6808c-8944-4130-a1d3-c94f3e2bc0db"
      },
      "outputs": [
        {
          "output_type": "stream",
          "name": "stdout",
          "text": [
            "a method for controlling an electronic apparatus, the method comprising: receiving image data, an artificial intelligence (ai) flag indicating whether ai downscaling is performed by an external server, and a filter index from the external server; decoding the image data; in response to the ai flag being a first value and the filter index being not null, upscaling the decoded image data using a first ai model corresponding to the filter index and providing the upscaled image data for output; in response to the ai flag being the first value and the filter index being null, upscaling the decoded image data using a default ai model and providing the upscaled image data for output; and in response to the ai flag being not the first value, providing the decoded image data for output without performing an upscaling process, wherein the image data is obtained by encoding downscaled image data acquired by inputting original image data corresponding to the image data into a second ai model for downscaling original image data, wherein a number of filters of the first ai model is smaller than a number of filters of the second ai model, and wherein the first ai model is a convolutional neural network (cnn).\n"
          ]
        }
      ],
      "source": [
        "claimString = ('A method for controlling an electronic apparatus, '\n",
        "            + 'the method comprising: receiving image data, '\n",
        "            + \"an artificial intelligence (AI) flag indicating whether AI downscaling is performed by an external server, \"\n",
        "            + \"and a filter index from the external server; decoding the image data; \"\n",
        "            + \"in response to the AI flag being a first value and the filter index being not null, \"\n",
        "            + \"upscaling the decoded image data using a first AI model corresponding to the filter index and providing the upscaled image data for output; \"\n",
        "            + \"in response to the AI flag being the first value and the filter index being null, \" \n",
        "            + \"upscaling the decoded image data using a default AI model and providing the upscaled image data for output; \" \n",
        "            + \"and in response to the AI flag being not the first value, providing the decoded image data for output without performing an upscaling process, \" \n",
        "            + \"wherein the image data is obtained by encoding downscaled image data acquired \" \n",
        "            + \"by inputting original image data corresponding to the image data into a second AI model for downscaling original image data, \" \n",
        "            + \"wherein a number of filters of the first AI model is smaller than a number of filters of the second AI model, \" \n",
        "            + \"and wherein the first AI model is a Convolutional Neural Network (CNN).\")\n",
        "\n",
        "claimString = claimString.lower()\n",
        "print(claimString)"
      ]
    },
    {
      "cell_type": "markdown",
      "source": [
        "Check The Output Of Test Text"
      ],
      "metadata": {
        "id": "hSjqFuX0NX7x"
      }
    },
    {
      "cell_type": "code",
      "execution_count": 7,
      "metadata": {
        "colab": {
          "base_uri": "https://localhost:8080/"
        },
        "id": "-E1kwT0hi5mM",
        "outputId": "eaace542-d66a-4e34-c962-de35d4b6558c"
      },
      "outputs": [
        {
          "output_type": "stream",
          "name": "stdout",
          "text": [
            "Keys       : ['input_type_ids', 'input_mask', 'input_word_ids']\n",
            "Shape      : (1, 128)\n",
            "Word Ids   : [  101  1037  4118  2005  9756  2019  4816 14709  1010  1996  4118  9605]\n",
            "Input Mask : [1 1 1 1 1 1 1 1 1 1 1 1]\n",
            "Type Ids   : [0 0 0 0 0 0 0 0 0 0 0 0]\n"
          ]
        }
      ],
      "source": [
        "text_test = [claimString]\n",
        "text_preprocessed = bert_preprocess_model(text_test)\n",
        "\n",
        "print(f'Keys       : {list(text_preprocessed.keys())}')\n",
        "print(f'Shape      : {text_preprocessed[\"input_word_ids\"].shape}')\n",
        "print(f'Word Ids   : {text_preprocessed[\"input_word_ids\"][0, :12]}')\n",
        "print(f'Input Mask : {text_preprocessed[\"input_mask\"][0, :12]}')\n",
        "print(f'Type Ids   : {text_preprocessed[\"input_type_ids\"][0, :12]}')"
      ]
    },
    {
      "cell_type": "markdown",
      "metadata": {
        "id": "SVCieTEj_Ozs"
      },
      "source": [
        "Generate Feature Vector from Test Text"
      ]
    },
    {
      "cell_type": "code",
      "execution_count": 8,
      "metadata": {
        "id": "4u2VKISA_PAR"
      },
      "outputs": [],
      "source": [
        "bert_model = hub.KerasLayer(tfhub_handle_encoder)"
      ]
    },
    {
      "cell_type": "code",
      "source": [
        "bert_results = bert_model(text_preprocessed)\n",
        "\n",
        "print(f'Loaded BERT: {tfhub_handle_encoder}')\n",
        "print(f'Pooled Outputs Shape:{bert_results[\"pooled_output\"].shape}')\n",
        "print(f'Pooled Outputs Values:{bert_results[\"pooled_output\"][0, :12]}')\n",
        "print(f'Sequence Outputs Shape:{bert_results[\"sequence_output\"].shape}')\n",
        "print(f'Sequence Outputs Values:{bert_results[\"sequence_output\"][0, :12]}')"
      ],
      "metadata": {
        "colab": {
          "base_uri": "https://localhost:8080/"
        },
        "id": "BKIyEtQsZyNI",
        "outputId": "8334d04f-1514-4dee-b76f-c15e5bcad249"
      },
      "execution_count": 9,
      "outputs": [
        {
          "output_type": "stream",
          "name": "stdout",
          "text": [
            "Loaded BERT: https://tfhub.dev/tensorflow/small_bert/bert_en_uncased_L-4_H-512_A-8/1\n",
            "Pooled Outputs Shape:(1, 512)\n",
            "Pooled Outputs Values:[ 0.9529026   0.4219553  -0.30200574  0.25369307  0.41103554  0.9101889\n",
            "  0.98970896 -0.42582595 -0.85301536 -0.6909152  -0.5641822  -0.60431534]\n",
            "Sequence Outputs Shape:(1, 128, 512)\n",
            "Sequence Outputs Values:[[-0.2696787   0.19009264 -0.5813089  ... -1.064227   -0.33731985\n",
            "   1.2052773 ]\n",
            " [-0.5617293   0.6367726  -0.71991426 ... -0.15618807 -0.8970587\n",
            "   0.68031204]\n",
            " [-0.6592194  -0.33713567 -0.17581698 ... -0.11071557  0.22451127\n",
            "   0.5562562 ]\n",
            " ...\n",
            " [-0.3303348   0.18929352 -1.1435108  ... -1.3680383   0.8534971\n",
            "  -0.40809566]\n",
            " [-0.8325043  -0.0549965   0.79068685 ... -0.22852856  0.5220612\n",
            "  -0.3183328 ]\n",
            " [-0.4617275   0.04604169 -1.0418926  ...  0.12435531  0.52764994\n",
            "   0.78420806]]\n"
          ]
        }
      ]
    },
    {
      "cell_type": "markdown",
      "source": [
        "Mount Drive"
      ],
      "metadata": {
        "id": "2aB06_C6bI59"
      }
    },
    {
      "cell_type": "code",
      "source": [
        "from google.colab import drive\n",
        "drive.mount('/content/gdrive')"
      ],
      "metadata": {
        "colab": {
          "base_uri": "https://localhost:8080/"
        },
        "id": "0V_07x2dbkHi",
        "outputId": "3af415df-c8d2-4ce7-f2c2-c566fd74f904"
      },
      "execution_count": 10,
      "outputs": [
        {
          "output_type": "stream",
          "name": "stdout",
          "text": [
            "Mounted at /content/gdrive\n"
          ]
        }
      ]
    },
    {
      "cell_type": "markdown",
      "source": [
        "Read CSV"
      ],
      "metadata": {
        "id": "HaPlp3u-YmUr"
      }
    },
    {
      "cell_type": "code",
      "source": [
        "import pandas as pd\n",
        "pd.__version__"
      ],
      "metadata": {
        "colab": {
          "base_uri": "https://localhost:8080/",
          "height": 36
        },
        "id": "WR3qCxrzacOa",
        "outputId": "c571b08c-ad76-42ca-b1bc-0ac8f6b85268"
      },
      "execution_count": 11,
      "outputs": [
        {
          "output_type": "execute_result",
          "data": {
            "text/plain": [
              "'1.3.5'"
            ],
            "application/vnd.google.colaboratory.intrinsic+json": {
              "type": "string"
            }
          },
          "metadata": {},
          "execution_count": 11
        }
      ]
    },
    {
      "cell_type": "code",
      "source": [
        "df = pd.read_csv('gdrive/My Drive/out_sourcing/patent_classification/processed_data/patent_info_50.csv')     \n",
        "df.head()"
      ],
      "metadata": {
        "colab": {
          "base_uri": "https://localhost:8080/",
          "height": 206
        },
        "id": "zdSCbDikYmq8",
        "outputId": "6809be84-e363-4bb9-df2d-da0a76090317"
      },
      "execution_count": 14,
      "outputs": [
        {
          "output_type": "execute_result",
          "data": {
            "text/plain": [
              "                                         patent_name   patent_ID  \\\n",
              "0        Electronic device including helical antenna  11,322,848   \n",
              "1  Display device, user terminal device, method f...  11,321,040   \n",
              "2             Sensing device with fingerprint sensor  11,320,941   \n",
              "3         Electronic device including antenna module  11,316,284   \n",
              "4  Operating method of electronic device for func...  11,314,898   \n",
              "\n",
              "                                              claim1  \\\n",
              "0  An electronic device, comprising: a housing co...   \n",
              "1  A display device comprising: a communication i...   \n",
              "2  A sensing device comprising: a sensor; a touch...   \n",
              "3  An electronic device, comprising: a housing co...   \n",
              "4  An electronic device comprising: a housing inc...   \n",
              "\n",
              "                                          cpc number  claim1_feature_vector  \\\n",
              "0  H01Q 1/243 (20130101); H01Q 1/2208 (20130101);...                    NaN   \n",
              "1  G06F 3/1423 (20130101); G11B 27/34 (20130101);...                    NaN   \n",
              "2  H03K 17/962 (20130101); H03H 17/0671 (20130101...                    NaN   \n",
              "3  H01Q 21/065 (20130101); H01Q 1/02 (20130101); ...                    NaN   \n",
              "4  G06V 40/1365 (20220101); G10L 15/22 (20130101)...                    NaN   \n",
              "\n",
              "   cluster  \n",
              "0      NaN  \n",
              "1      NaN  \n",
              "2      NaN  \n",
              "3      NaN  \n",
              "4      NaN  "
            ],
            "text/html": [
              "\n",
              "  <div id=\"df-a8ba01ee-ba55-4b05-b886-8d55dacbf01e\">\n",
              "    <div class=\"colab-df-container\">\n",
              "      <div>\n",
              "<style scoped>\n",
              "    .dataframe tbody tr th:only-of-type {\n",
              "        vertical-align: middle;\n",
              "    }\n",
              "\n",
              "    .dataframe tbody tr th {\n",
              "        vertical-align: top;\n",
              "    }\n",
              "\n",
              "    .dataframe thead th {\n",
              "        text-align: right;\n",
              "    }\n",
              "</style>\n",
              "<table border=\"1\" class=\"dataframe\">\n",
              "  <thead>\n",
              "    <tr style=\"text-align: right;\">\n",
              "      <th></th>\n",
              "      <th>patent_name</th>\n",
              "      <th>patent_ID</th>\n",
              "      <th>claim1</th>\n",
              "      <th>cpc number</th>\n",
              "      <th>claim1_feature_vector</th>\n",
              "      <th>cluster</th>\n",
              "    </tr>\n",
              "  </thead>\n",
              "  <tbody>\n",
              "    <tr>\n",
              "      <th>0</th>\n",
              "      <td>Electronic device including helical antenna</td>\n",
              "      <td>11,322,848</td>\n",
              "      <td>An electronic device, comprising: a housing co...</td>\n",
              "      <td>H01Q 1/243 (20130101); H01Q 1/2208 (20130101);...</td>\n",
              "      <td>NaN</td>\n",
              "      <td>NaN</td>\n",
              "    </tr>\n",
              "    <tr>\n",
              "      <th>1</th>\n",
              "      <td>Display device, user terminal device, method f...</td>\n",
              "      <td>11,321,040</td>\n",
              "      <td>A display device comprising: a communication i...</td>\n",
              "      <td>G06F 3/1423 (20130101); G11B 27/34 (20130101);...</td>\n",
              "      <td>NaN</td>\n",
              "      <td>NaN</td>\n",
              "    </tr>\n",
              "    <tr>\n",
              "      <th>2</th>\n",
              "      <td>Sensing device with fingerprint sensor</td>\n",
              "      <td>11,320,941</td>\n",
              "      <td>A sensing device comprising: a sensor; a touch...</td>\n",
              "      <td>H03K 17/962 (20130101); H03H 17/0671 (20130101...</td>\n",
              "      <td>NaN</td>\n",
              "      <td>NaN</td>\n",
              "    </tr>\n",
              "    <tr>\n",
              "      <th>3</th>\n",
              "      <td>Electronic device including antenna module</td>\n",
              "      <td>11,316,284</td>\n",
              "      <td>An electronic device, comprising: a housing co...</td>\n",
              "      <td>H01Q 21/065 (20130101); H01Q 1/02 (20130101); ...</td>\n",
              "      <td>NaN</td>\n",
              "      <td>NaN</td>\n",
              "    </tr>\n",
              "    <tr>\n",
              "      <th>4</th>\n",
              "      <td>Operating method of electronic device for func...</td>\n",
              "      <td>11,314,898</td>\n",
              "      <td>An electronic device comprising: a housing inc...</td>\n",
              "      <td>G06V 40/1365 (20220101); G10L 15/22 (20130101)...</td>\n",
              "      <td>NaN</td>\n",
              "      <td>NaN</td>\n",
              "    </tr>\n",
              "  </tbody>\n",
              "</table>\n",
              "</div>\n",
              "      <button class=\"colab-df-convert\" onclick=\"convertToInteractive('df-a8ba01ee-ba55-4b05-b886-8d55dacbf01e')\"\n",
              "              title=\"Convert this dataframe to an interactive table.\"\n",
              "              style=\"display:none;\">\n",
              "        \n",
              "  <svg xmlns=\"http://www.w3.org/2000/svg\" height=\"24px\"viewBox=\"0 0 24 24\"\n",
              "       width=\"24px\">\n",
              "    <path d=\"M0 0h24v24H0V0z\" fill=\"none\"/>\n",
              "    <path d=\"M18.56 5.44l.94 2.06.94-2.06 2.06-.94-2.06-.94-.94-2.06-.94 2.06-2.06.94zm-11 1L8.5 8.5l.94-2.06 2.06-.94-2.06-.94L8.5 2.5l-.94 2.06-2.06.94zm10 10l.94 2.06.94-2.06 2.06-.94-2.06-.94-.94-2.06-.94 2.06-2.06.94z\"/><path d=\"M17.41 7.96l-1.37-1.37c-.4-.4-.92-.59-1.43-.59-.52 0-1.04.2-1.43.59L10.3 9.45l-7.72 7.72c-.78.78-.78 2.05 0 2.83L4 21.41c.39.39.9.59 1.41.59.51 0 1.02-.2 1.41-.59l7.78-7.78 2.81-2.81c.8-.78.8-2.07 0-2.86zM5.41 20L4 18.59l7.72-7.72 1.47 1.35L5.41 20z\"/>\n",
              "  </svg>\n",
              "      </button>\n",
              "      \n",
              "  <style>\n",
              "    .colab-df-container {\n",
              "      display:flex;\n",
              "      flex-wrap:wrap;\n",
              "      gap: 12px;\n",
              "    }\n",
              "\n",
              "    .colab-df-convert {\n",
              "      background-color: #E8F0FE;\n",
              "      border: none;\n",
              "      border-radius: 50%;\n",
              "      cursor: pointer;\n",
              "      display: none;\n",
              "      fill: #1967D2;\n",
              "      height: 32px;\n",
              "      padding: 0 0 0 0;\n",
              "      width: 32px;\n",
              "    }\n",
              "\n",
              "    .colab-df-convert:hover {\n",
              "      background-color: #E2EBFA;\n",
              "      box-shadow: 0px 1px 2px rgba(60, 64, 67, 0.3), 0px 1px 3px 1px rgba(60, 64, 67, 0.15);\n",
              "      fill: #174EA6;\n",
              "    }\n",
              "\n",
              "    [theme=dark] .colab-df-convert {\n",
              "      background-color: #3B4455;\n",
              "      fill: #D2E3FC;\n",
              "    }\n",
              "\n",
              "    [theme=dark] .colab-df-convert:hover {\n",
              "      background-color: #434B5C;\n",
              "      box-shadow: 0px 1px 3px 1px rgba(0, 0, 0, 0.15);\n",
              "      filter: drop-shadow(0px 1px 2px rgba(0, 0, 0, 0.3));\n",
              "      fill: #FFFFFF;\n",
              "    }\n",
              "  </style>\n",
              "\n",
              "      <script>\n",
              "        const buttonEl =\n",
              "          document.querySelector('#df-a8ba01ee-ba55-4b05-b886-8d55dacbf01e button.colab-df-convert');\n",
              "        buttonEl.style.display =\n",
              "          google.colab.kernel.accessAllowed ? 'block' : 'none';\n",
              "\n",
              "        async function convertToInteractive(key) {\n",
              "          const element = document.querySelector('#df-a8ba01ee-ba55-4b05-b886-8d55dacbf01e');\n",
              "          const dataTable =\n",
              "            await google.colab.kernel.invokeFunction('convertToInteractive',\n",
              "                                                     [key], {});\n",
              "          if (!dataTable) return;\n",
              "\n",
              "          const docLinkHtml = 'Like what you see? Visit the ' +\n",
              "            '<a target=\"_blank\" href=https://colab.research.google.com/notebooks/data_table.ipynb>data table notebook</a>'\n",
              "            + ' to learn more about interactive tables.';\n",
              "          element.innerHTML = '';\n",
              "          dataTable['output_type'] = 'display_data';\n",
              "          await google.colab.output.renderOutput(dataTable, element);\n",
              "          const docLink = document.createElement('div');\n",
              "          docLink.innerHTML = docLinkHtml;\n",
              "          element.appendChild(docLink);\n",
              "        }\n",
              "      </script>\n",
              "    </div>\n",
              "  </div>\n",
              "  "
            ]
          },
          "metadata": {},
          "execution_count": 14
        }
      ]
    },
    {
      "cell_type": "markdown",
      "source": [
        "# Generate Feature Vector to column claim1_feature_vector"
      ],
      "metadata": {
        "id": "W39QUQRLyNsi"
      }
    },
    {
      "cell_type": "code",
      "source": [
        "claim1_series = df[\"claim1\"]\n",
        "claim1_feature_vector_list = list()\n",
        "\n",
        "for index, value in claim1_series.items():\n",
        "    text_test = [value]\n",
        "    text_preprocessed = bert_preprocess_model(text_test)\n",
        "    bert_results = bert_model(text_preprocessed)\n",
        "    claim1_feature_vector_list.append(bert_results[\"pooled_output\"].numpy()[0])  # get only 1d vector "
      ],
      "metadata": {
        "id": "TFUB0Fdsk5zd"
      },
      "execution_count": 15,
      "outputs": []
    },
    {
      "cell_type": "code",
      "source": [
        "print(f\"the number of data in claim1 feature list: {len(claim1_feature_vector_list)}\")\n",
        "length = 5\n",
        "for index, vector in enumerate(claim1_feature_vector_list, start = 1):\n",
        "    print(f\"the vector size: {vector.shape}\")\n",
        "    print(f\"the {index} claim1 feature vector in only {length} digits: {vector[:length]}\")"
      ],
      "metadata": {
        "colab": {
          "base_uri": "https://localhost:8080/"
        },
        "id": "PoPOVojCoMbO",
        "outputId": "db7625c3-4cb5-4d2b-9dae-a66c62cfc292"
      },
      "execution_count": 16,
      "outputs": [
        {
          "output_type": "stream",
          "name": "stdout",
          "text": [
            "the number of data in claim1 feature list: 50\n",
            "the vector size: (512,)\n",
            "the 1 claim1 feature vector in only 5 digits: [0.9804177  0.09281336 0.06313156 0.08277915 0.9031602 ]\n",
            "the vector size: (512,)\n",
            "the 2 claim1 feature vector in only 5 digits: [ 0.7943135   0.92592    -0.15183617  0.05775909  0.696269  ]\n",
            "the vector size: (512,)\n",
            "the 3 claim1 feature vector in only 5 digits: [ 0.99273396 -0.00217227 -0.43584538  0.02674943  0.7071277 ]\n",
            "the vector size: (512,)\n",
            "the 4 claim1 feature vector in only 5 digits: [ 0.95712984  0.28703988 -0.03601776 -0.01548582  0.87454623]\n",
            "the vector size: (512,)\n",
            "the 5 claim1 feature vector in only 5 digits: [ 0.959633    0.67156535 -0.16828841  0.29993826  0.836939  ]\n",
            "the vector size: (512,)\n",
            "the 6 claim1 feature vector in only 5 digits: [ 0.9653515  -0.65629786 -0.11258493  0.2361003   0.8397746 ]\n",
            "the vector size: (512,)\n",
            "the 7 claim1 feature vector in only 5 digits: [ 0.877998   -0.12351528  0.12828426  0.4841077   0.7826838 ]\n",
            "the vector size: (512,)\n",
            "the 8 claim1 feature vector in only 5 digits: [ 0.92777634  0.695498   -0.3336455   0.29652742  0.8384483 ]\n",
            "the vector size: (512,)\n",
            "the 9 claim1 feature vector in only 5 digits: [ 0.9674787   0.26831323 -0.20602201 -0.01777226  0.6104166 ]\n",
            "the vector size: (512,)\n",
            "the 10 claim1 feature vector in only 5 digits: [ 0.8841269   0.06563699 -0.44831944  0.11776564  0.7920959 ]\n",
            "the vector size: (512,)\n",
            "the 11 claim1 feature vector in only 5 digits: [ 0.98434407 -0.13348669 -0.05499901  0.146965    0.88431287]\n",
            "the vector size: (512,)\n",
            "the 12 claim1 feature vector in only 5 digits: [0.9935299  0.7482088  0.02747426 0.1860985  0.8742991 ]\n",
            "the vector size: (512,)\n",
            "the 13 claim1 feature vector in only 5 digits: [ 0.9352643   0.547526   -0.05781861 -0.02595526  0.84258986]\n",
            "the vector size: (512,)\n",
            "the 14 claim1 feature vector in only 5 digits: [ 0.88169456  0.8645572  -0.10003983 -0.04296649  0.82254183]\n",
            "the vector size: (512,)\n",
            "the 15 claim1 feature vector in only 5 digits: [ 0.97644275 -0.5111096   0.02828738  0.38025254  0.8649558 ]\n",
            "the vector size: (512,)\n",
            "the 16 claim1 feature vector in only 5 digits: [0.98245925 0.55498606 0.06987757 0.34634563 0.6459759 ]\n",
            "the vector size: (512,)\n",
            "the 17 claim1 feature vector in only 5 digits: [ 0.99462605  0.38057032 -0.35860273  0.07571521  0.5627754 ]\n",
            "the vector size: (512,)\n",
            "the 18 claim1 feature vector in only 5 digits: [ 0.99018735  0.9491377  -0.01414956  0.17536588  0.8213505 ]\n",
            "the vector size: (512,)\n",
            "the 19 claim1 feature vector in only 5 digits: [ 0.9797657   0.3262692  -0.29458848 -0.1118792   0.89316195]\n",
            "the vector size: (512,)\n",
            "the 20 claim1 feature vector in only 5 digits: [ 0.7161165   0.89374185 -0.00453186  0.0422022   0.8476426 ]\n",
            "the vector size: (512,)\n",
            "the 21 claim1 feature vector in only 5 digits: [ 0.896201    0.32691148 -0.14085162  0.09549201  0.78811   ]\n",
            "the vector size: (512,)\n",
            "the 22 claim1 feature vector in only 5 digits: [ 0.9975851   0.26239645 -0.16932125 -0.00170046  0.79154384]\n",
            "the vector size: (512,)\n",
            "the 23 claim1 feature vector in only 5 digits: [ 0.9743051  -0.33260527 -0.14150591  0.0774808   0.79387313]\n",
            "the vector size: (512,)\n",
            "the 24 claim1 feature vector in only 5 digits: [ 0.93964016  0.6423883  -0.4356195   0.23174642  0.7924902 ]\n",
            "the vector size: (512,)\n",
            "the 25 claim1 feature vector in only 5 digits: [ 0.97511977  0.6765917  -0.21651518  0.25492674  0.8363266 ]\n",
            "the vector size: (512,)\n",
            "the 26 claim1 feature vector in only 5 digits: [ 0.9680081   0.42463768 -0.1286333  -0.06913894  0.9223432 ]\n",
            "the vector size: (512,)\n",
            "the 27 claim1 feature vector in only 5 digits: [ 0.96556264  0.7298389  -0.01444162  0.00622306  0.8526046 ]\n",
            "the vector size: (512,)\n",
            "the 28 claim1 feature vector in only 5 digits: [ 0.95931447 -0.16682845 -0.00370635  0.2276229   0.8765875 ]\n",
            "the vector size: (512,)\n",
            "the 29 claim1 feature vector in only 5 digits: [ 0.8464899   0.86803246 -0.26109105 -0.22550905  0.782092  ]\n",
            "the vector size: (512,)\n",
            "the 30 claim1 feature vector in only 5 digits: [ 0.98669094 -0.33993125 -0.08795106 -0.05752882  0.83220875]\n",
            "the vector size: (512,)\n",
            "the 31 claim1 feature vector in only 5 digits: [ 0.98257315  0.31729603 -0.3551352  -0.10892306  0.5409949 ]\n",
            "the vector size: (512,)\n",
            "the 32 claim1 feature vector in only 5 digits: [ 0.99477255  0.8032018  -0.29470673 -0.17886026  0.83754003]\n",
            "the vector size: (512,)\n",
            "the 33 claim1 feature vector in only 5 digits: [ 0.85600936  0.49691063 -0.10430965  0.16611223  0.78219944]\n",
            "the vector size: (512,)\n",
            "the 34 claim1 feature vector in only 5 digits: [ 0.9905967   0.40230563 -0.0991688   0.05493047  0.9041855 ]\n",
            "the vector size: (512,)\n",
            "the 35 claim1 feature vector in only 5 digits: [ 0.99785966  0.4662233  -0.36254188  0.24264741  0.8952039 ]\n",
            "the vector size: (512,)\n",
            "the 36 claim1 feature vector in only 5 digits: [ 0.984267    0.3873769  -0.05871351  0.04283314  0.83869654]\n",
            "the vector size: (512,)\n",
            "the 37 claim1 feature vector in only 5 digits: [ 0.97494334  0.11877052 -0.00149037  0.49240676  0.694438  ]\n",
            "the vector size: (512,)\n",
            "the 38 claim1 feature vector in only 5 digits: [ 0.94029474 -0.09939077 -0.00688433  0.13339345  0.7634715 ]\n",
            "the vector size: (512,)\n",
            "the 39 claim1 feature vector in only 5 digits: [ 0.96301407  0.7592326  -0.2757415  -0.09574223  0.92274034]\n",
            "the vector size: (512,)\n",
            "the 40 claim1 feature vector in only 5 digits: [ 0.919217    0.12004311 -0.32968473  0.33454567  0.794328  ]\n",
            "the vector size: (512,)\n",
            "the 41 claim1 feature vector in only 5 digits: [ 0.9361998   0.9332045  -0.26988792  0.32750294  0.8131622 ]\n",
            "the vector size: (512,)\n",
            "the 42 claim1 feature vector in only 5 digits: [ 0.97096974  0.5787552  -0.23460785  0.3174824   0.8563082 ]\n",
            "the vector size: (512,)\n",
            "the 43 claim1 feature vector in only 5 digits: [ 0.9574574   0.69182163 -0.08367672  0.07412165  0.8411288 ]\n",
            "the vector size: (512,)\n",
            "the 44 claim1 feature vector in only 5 digits: [ 0.9785627  -0.16310956 -0.40313417  0.27182963  0.71233   ]\n",
            "the vector size: (512,)\n",
            "the 45 claim1 feature vector in only 5 digits: [ 0.9924397   0.214645   -0.15887779 -0.03288639  0.8602112 ]\n",
            "the vector size: (512,)\n",
            "the 46 claim1 feature vector in only 5 digits: [ 0.9237571   0.39969113 -0.27695692 -0.10071319  0.66790366]\n",
            "the vector size: (512,)\n",
            "the 47 claim1 feature vector in only 5 digits: [ 0.9353245   0.68642586 -0.05890567 -0.11701722  0.71370703]\n",
            "the vector size: (512,)\n",
            "the 48 claim1 feature vector in only 5 digits: [ 0.9815449  -0.2367683   0.03412497  0.5266136   0.81273293]\n",
            "the vector size: (512,)\n",
            "the 49 claim1 feature vector in only 5 digits: [ 0.97784084  0.7557324  -0.13303798  0.2670259   0.77541906]\n",
            "the vector size: (512,)\n",
            "the 50 claim1 feature vector in only 5 digits: [ 0.76952803  0.74811924 -0.28946143  0.17387964  0.68955755]\n"
          ]
        }
      ]
    },
    {
      "cell_type": "markdown",
      "source": [
        "# K-Means Clustering"
      ],
      "metadata": {
        "id": "WK01VuoCzDwG"
      }
    },
    {
      "cell_type": "code",
      "source": [
        "%matplotlib inline\n",
        "import matplotlib.pyplot as plt\n",
        "import seaborn as sns; sns.set()  # for plot styling\n",
        "import numpy as np"
      ],
      "metadata": {
        "id": "HbfUgzEJzHar"
      },
      "execution_count": 17,
      "outputs": []
    },
    {
      "cell_type": "code",
      "source": [
        "from sklearn.cluster import KMeans\n",
        "\n",
        "number_of_cluster = 5  # <--- input the number of clusters here\n",
        "kmeans = KMeans(n_clusters = number_of_cluster)\n",
        "kmeans.fit(claim1_feature_vector_list)\n",
        "y_kmeans = kmeans.predict(claim1_feature_vector_list)"
      ],
      "metadata": {
        "id": "k77vq1cQzXFB"
      },
      "execution_count": 18,
      "outputs": []
    },
    {
      "cell_type": "code",
      "source": [
        "print(f\"The class number after K-Means: {y_kmeans}\")"
      ],
      "metadata": {
        "colab": {
          "base_uri": "https://localhost:8080/"
        },
        "id": "ACu3-rIMzDKw",
        "outputId": "23df87e7-086b-40b2-ba2a-fc9d3a4ae918"
      },
      "execution_count": 19,
      "outputs": [
        {
          "output_type": "stream",
          "name": "stdout",
          "text": [
            "The class number after K-Means: [0 3 1 4 4 1 1 3 2 2 0 3 1 4 0 2 1 3 4 3 3 0 1 3 3 4 4 4 3 0 3 1 4 4 2 2 1\n",
            " 0 4 2 3 3 1 3 0 3 3 1 1 3]\n"
          ]
        }
      ]
    },
    {
      "cell_type": "markdown",
      "source": [
        "# Dimensional Reduction For High Dimension Vector\n",
        "The working flow: vector -> PCA -> tSNE"
      ],
      "metadata": {
        "id": "St2Zg10h-Mfd"
      }
    },
    {
      "cell_type": "code",
      "source": [
        "!pip install scprep phate umap-learn"
      ],
      "metadata": {
        "colab": {
          "base_uri": "https://localhost:8080/"
        },
        "id": "uGTrOAeSAouT",
        "outputId": "8cdeccf9-6603-43e4-faf4-254daf170dfa"
      },
      "execution_count": 20,
      "outputs": [
        {
          "output_type": "stream",
          "name": "stdout",
          "text": [
            "Collecting scprep\n",
            "  Downloading scprep-1.1.0-py3-none-any.whl (104 kB)\n",
            "\u001b[K     |████████████████████████████████| 104 kB 5.0 MB/s \n",
            "\u001b[?25hCollecting phate\n",
            "  Downloading phate-1.0.7-py3-none-any.whl (23 kB)\n",
            "Collecting umap-learn\n",
            "  Downloading umap-learn-0.5.3.tar.gz (88 kB)\n",
            "\u001b[K     |████████████████████████████████| 88 kB 5.5 MB/s \n",
            "\u001b[?25hRequirement already satisfied: numpy>=1.12.0 in /usr/local/lib/python3.7/dist-packages (from scprep) (1.21.6)\n",
            "Requirement already satisfied: scipy>=0.18.1 in /usr/local/lib/python3.7/dist-packages (from scprep) (1.4.1)\n",
            "Requirement already satisfied: scikit-learn>=0.19.1 in /usr/local/lib/python3.7/dist-packages (from scprep) (1.0.2)\n",
            "Requirement already satisfied: packaging in /usr/local/lib/python3.7/dist-packages (from scprep) (21.3)\n",
            "Requirement already satisfied: decorator>=4.3.0 in /usr/local/lib/python3.7/dist-packages (from scprep) (4.4.2)\n",
            "Requirement already satisfied: pandas>=0.25 in /usr/local/lib/python3.7/dist-packages (from scprep) (1.3.5)\n",
            "Requirement already satisfied: pytz>=2017.3 in /usr/local/lib/python3.7/dist-packages (from pandas>=0.25->scprep) (2022.1)\n",
            "Requirement already satisfied: python-dateutil>=2.7.3 in /usr/local/lib/python3.7/dist-packages (from pandas>=0.25->scprep) (2.8.2)\n",
            "Requirement already satisfied: six>=1.5 in /usr/local/lib/python3.7/dist-packages (from python-dateutil>=2.7.3->pandas>=0.25->scprep) (1.15.0)\n",
            "Requirement already satisfied: threadpoolctl>=2.0.0 in /usr/local/lib/python3.7/dist-packages (from scikit-learn>=0.19.1->scprep) (3.1.0)\n",
            "Requirement already satisfied: joblib>=0.11 in /usr/local/lib/python3.7/dist-packages (from scikit-learn>=0.19.1->scprep) (1.1.0)\n",
            "Collecting graphtools>=1.3.1\n",
            "  Downloading graphtools-1.5.2-py3-none-any.whl (45 kB)\n",
            "\u001b[K     |████████████████████████████████| 45 kB 2.8 MB/s \n",
            "\u001b[?25hRequirement already satisfied: matplotlib>=3.0 in /usr/local/lib/python3.7/dist-packages (from phate) (3.2.2)\n",
            "Collecting Deprecated\n",
            "  Downloading Deprecated-1.2.13-py2.py3-none-any.whl (9.6 kB)\n",
            "Collecting s-gd2>=1.5\n",
            "  Downloading s_gd2-1.8-cp37-cp37m-manylinux2010_x86_64.whl (416 kB)\n",
            "\u001b[K     |████████████████████████████████| 416 kB 65.9 MB/s \n",
            "\u001b[?25hCollecting tasklogger>=1.0\n",
            "  Downloading tasklogger-1.1.2-py3-none-any.whl (15 kB)\n",
            "Requirement already satisfied: future in /usr/local/lib/python3.7/dist-packages (from phate) (0.16.0)\n",
            "Collecting pygsp>=0.5.1\n",
            "  Downloading PyGSP-0.5.1-py2.py3-none-any.whl (1.8 MB)\n",
            "\u001b[K     |████████████████████████████████| 1.8 MB 34.4 MB/s \n",
            "\u001b[?25hRequirement already satisfied: pyparsing!=2.0.4,!=2.1.2,!=2.1.6,>=2.0.1 in /usr/local/lib/python3.7/dist-packages (from matplotlib>=3.0->phate) (3.0.8)\n",
            "Requirement already satisfied: cycler>=0.10 in /usr/local/lib/python3.7/dist-packages (from matplotlib>=3.0->phate) (0.11.0)\n",
            "Requirement already satisfied: kiwisolver>=1.0.1 in /usr/local/lib/python3.7/dist-packages (from matplotlib>=3.0->phate) (1.4.2)\n",
            "Requirement already satisfied: typing-extensions in /usr/local/lib/python3.7/dist-packages (from kiwisolver>=1.0.1->matplotlib>=3.0->phate) (4.2.0)\n",
            "Requirement already satisfied: numba>=0.49 in /usr/local/lib/python3.7/dist-packages (from umap-learn) (0.51.2)\n",
            "Collecting pynndescent>=0.5\n",
            "  Downloading pynndescent-0.5.6.tar.gz (1.1 MB)\n",
            "\u001b[K     |████████████████████████████████| 1.1 MB 42.3 MB/s \n",
            "\u001b[?25hRequirement already satisfied: tqdm in /usr/local/lib/python3.7/dist-packages (from umap-learn) (4.64.0)\n",
            "Requirement already satisfied: setuptools in /usr/local/lib/python3.7/dist-packages (from numba>=0.49->umap-learn) (57.4.0)\n",
            "Requirement already satisfied: llvmlite<0.35,>=0.34.0.dev0 in /usr/local/lib/python3.7/dist-packages (from numba>=0.49->umap-learn) (0.34.0)\n",
            "Requirement already satisfied: wrapt<2,>=1.10 in /usr/local/lib/python3.7/dist-packages (from Deprecated->phate) (1.14.0)\n",
            "Building wheels for collected packages: umap-learn, pynndescent\n",
            "  Building wheel for umap-learn (setup.py) ... \u001b[?25l\u001b[?25hdone\n",
            "  Created wheel for umap-learn: filename=umap_learn-0.5.3-py3-none-any.whl size=82829 sha256=3ae382b64091e8d4bd113d5f4df7a562e5eb1b33fdc0d45e0ade543bfd9878ae\n",
            "  Stored in directory: /root/.cache/pip/wheels/b3/52/a5/1fd9e3e76a7ab34f134c07469cd6f16e27ef3a37aeff1fe821\n",
            "  Building wheel for pynndescent (setup.py) ... \u001b[?25l\u001b[?25hdone\n",
            "  Created wheel for pynndescent: filename=pynndescent-0.5.6-py3-none-any.whl size=53943 sha256=3dfb826b2c3fa41b814d0dc151d9fe573177f53f52a86328a8042916d67678ef\n",
            "  Stored in directory: /root/.cache/pip/wheels/03/f1/56/f80d72741e400345b5a5b50ec3d929aca581bf45e0225d5c50\n",
            "Successfully built umap-learn pynndescent\n",
            "Installing collected packages: Deprecated, tasklogger, pygsp, scprep, s-gd2, pynndescent, graphtools, umap-learn, phate\n",
            "Successfully installed Deprecated-1.2.13 graphtools-1.5.2 phate-1.0.7 pygsp-0.5.1 pynndescent-0.5.6 s-gd2-1.8 scprep-1.1.0 tasklogger-1.1.2 umap-learn-0.5.3\n"
          ]
        }
      ]
    },
    {
      "cell_type": "code",
      "source": [
        "import scprep"
      ],
      "metadata": {
        "id": "RGTAUXBXA7DV"
      },
      "execution_count": 21,
      "outputs": []
    },
    {
      "cell_type": "code",
      "source": [
        "# Speed it up by running PCA to 50 dimensions.\n",
        "data = np.array(claim1_feature_vector_list)\n",
        "print(f\"The data shape: {data.shape}\")\n",
        "\n",
        "# n_components must be between 0 and min(n_samples, n_features)=5\n",
        "n_samples, n_features = data.shape[0], data.shape[1]\n",
        "data_pca = scprep.reduce.pca(data, n_components=min(n_samples, n_features), method='dense')"
      ],
      "metadata": {
        "colab": {
          "base_uri": "https://localhost:8080/"
        },
        "id": "7oBEXf9g-Lte",
        "outputId": "1cb10e6f-f966-40a4-d9e4-f897463afccd"
      },
      "execution_count": 22,
      "outputs": [
        {
          "output_type": "stream",
          "name": "stdout",
          "text": [
            "The data shape: (50, 512)\n"
          ]
        }
      ]
    },
    {
      "cell_type": "markdown",
      "source": [
        "Speed up t-SNE a little further by subsampling"
      ],
      "metadata": {
        "id": "ge4qq4xkFS8a"
      }
    },
    {
      "cell_type": "code",
      "source": [
        "import sklearn.manifold\n",
        "tsne_op = sklearn.manifold.TSNE(n_components=2, perplexity=30)\n",
        "data_tsne = tsne_op.fit_transform(data)"
      ],
      "metadata": {
        "colab": {
          "base_uri": "https://localhost:8080/"
        },
        "id": "1xCBWMtPFf7O",
        "outputId": "079dadf8-aeef-40d4-f427-a8fb7b91e74e"
      },
      "execution_count": 23,
      "outputs": [
        {
          "output_type": "stream",
          "name": "stderr",
          "text": [
            "/usr/local/lib/python3.7/dist-packages/sklearn/manifold/_t_sne.py:783: FutureWarning: The default initialization in TSNE will change from 'random' to 'pca' in 1.2.\n",
            "  FutureWarning,\n",
            "/usr/local/lib/python3.7/dist-packages/sklearn/manifold/_t_sne.py:793: FutureWarning: The default learning rate in TSNE will change from 200.0 to 'auto' in 1.2.\n",
            "  FutureWarning,\n"
          ]
        }
      ]
    },
    {
      "cell_type": "code",
      "source": [
        "scprep.plot.scatter2d(data_tsne, c=y_kmeans,\n",
        "                      figsize=(8,4), legend_anchor=(1,1),\n",
        "                      ticks=False, label_prefix='t-SNE', \n",
        "                      title=\"K-Means by t-SNE\")"
      ],
      "metadata": {
        "colab": {
          "base_uri": "https://localhost:8080/",
          "height": 311
        },
        "id": "aVv_E-ptF2Nz",
        "outputId": "22f0696e-d866-4eac-8646-e4ef65d5ca76"
      },
      "execution_count": 24,
      "outputs": [
        {
          "output_type": "execute_result",
          "data": {
            "text/plain": [
              "<matplotlib.axes._subplots.AxesSubplot at 0x7f03500aa510>"
            ]
          },
          "metadata": {},
          "execution_count": 24
        },
        {
          "output_type": "display_data",
          "data": {
            "text/plain": [
              "<Figure size 576x288 with 1 Axes>"
            ],
            "image/png": "[encoded data removed]"
          },
          "metadata": {}
        }
      ]
    },
    {
      "cell_type": "markdown",
      "source": [
        "Update New Series Data To Dataframe"
      ],
      "metadata": {
        "id": "ZDcemxzU3B1J"
      }
    },
    {
      "cell_type": "code",
      "source": [
        "c_series = pd.Series(claim1_feature_vector_list)\n",
        "print(f\"claim 1 feature vector: {c_series}\")"
      ],
      "metadata": {
        "colab": {
          "base_uri": "https://localhost:8080/"
        },
        "id": "IG4f5Q3wn-HX",
        "outputId": "6d27db30-90da-47f3-d799-a3356706e431"
      },
      "execution_count": 25,
      "outputs": [
        {
          "output_type": "stream",
          "name": "stdout",
          "text": [
            "claim 1 feature vector: 0     [0.9804177, 0.09281336, 0.06313156, 0.08277915...\n",
            "1     [0.7943135, 0.92592, -0.15183617, 0.05775909, ...\n",
            "2     [0.99273396, -0.0021722727, -0.43584538, 0.026...\n",
            "3     [0.95712984, 0.28703988, -0.036017757, -0.0154...\n",
            "4     [0.959633, 0.67156535, -0.16828841, 0.29993826...\n",
            "5     [0.9653515, -0.65629786, -0.112584926, 0.23610...\n",
            "6     [0.877998, -0.12351528, 0.12828426, 0.4841077,...\n",
            "7     [0.92777634, 0.695498, -0.3336455, 0.29652742,...\n",
            "8     [0.9674787, 0.26831323, -0.20602201, -0.017772...\n",
            "9     [0.8841269, 0.06563699, -0.44831944, 0.1177656...\n",
            "10    [0.98434407, -0.13348669, -0.054999013, 0.1469...\n",
            "11    [0.9935299, 0.7482088, 0.027474264, 0.1860985,...\n",
            "12    [0.9352643, 0.547526, -0.05781861, -0.02595526...\n",
            "13    [0.88169456, 0.8645572, -0.10003983, -0.042966...\n",
            "14    [0.97644275, -0.5111096, 0.028287381, 0.380252...\n",
            "15    [0.98245925, 0.55498606, 0.06987757, 0.3463456...\n",
            "16    [0.99462605, 0.38057032, -0.35860273, 0.075715...\n",
            "17    [0.99018735, 0.9491377, -0.014149559, 0.175365...\n",
            "18    [0.9797657, 0.3262692, -0.29458848, -0.1118792...\n",
            "19    [0.7161165, 0.89374185, -0.0045318566, 0.04220...\n",
            "20    [0.896201, 0.32691148, -0.14085162, 0.09549200...\n",
            "21    [0.9975851, 0.26239645, -0.16932125, -0.001700...\n",
            "22    [0.9743051, -0.33260527, -0.14150591, 0.077480...\n",
            "23    [0.93964016, 0.6423883, -0.4356195, 0.23174642...\n",
            "24    [0.97511977, 0.6765917, -0.21651518, 0.2549267...\n",
            "25    [0.9680081, 0.42463768, -0.1286333, -0.0691389...\n",
            "26    [0.96556264, 0.7298389, -0.014441624, 0.006223...\n",
            "27    [0.95931447, -0.16682845, -0.0037063493, 0.227...\n",
            "28    [0.8464899, 0.86803246, -0.26109105, -0.225509...\n",
            "29    [0.98669094, -0.33993125, -0.08795106, -0.0575...\n",
            "30    [0.98257315, 0.31729603, -0.3551352, -0.108923...\n",
            "31    [0.99477255, 0.8032018, -0.29470673, -0.178860...\n",
            "32    [0.85600936, 0.49691063, -0.10430965, 0.166112...\n",
            "33    [0.9905967, 0.40230563, -0.0991688, 0.05493046...\n",
            "34    [0.99785966, 0.4662233, -0.36254188, 0.2426474...\n",
            "35    [0.984267, 0.3873769, -0.058713507, 0.04283314...\n",
            "36    [0.97494334, 0.11877052, -0.0014903737, 0.4924...\n",
            "37    [0.94029474, -0.099390775, -0.0068843337, 0.13...\n",
            "38    [0.96301407, 0.7592326, -0.2757415, -0.0957422...\n",
            "39    [0.919217, 0.120043114, -0.32968473, 0.3345456...\n",
            "40    [0.9361998, 0.9332045, -0.26988792, 0.32750294...\n",
            "41    [0.97096974, 0.5787552, -0.23460785, 0.3174824...\n",
            "42    [0.9574574, 0.69182163, -0.08367672, 0.0741216...\n",
            "43    [0.9785627, -0.16310956, -0.40313417, 0.271829...\n",
            "44    [0.9924397, 0.214645, -0.15887779, -0.03288639...\n",
            "45    [0.9237571, 0.39969113, -0.27695692, -0.100713...\n",
            "46    [0.9353245, 0.68642586, -0.05890567, -0.117017...\n",
            "47    [0.9815449, -0.2367683, 0.034124967, 0.5266136...\n",
            "48    [0.97784084, 0.7557324, -0.13303798, 0.2670259...\n",
            "49    [0.76952803, 0.74811924, -0.28946143, 0.173879...\n",
            "dtype: object\n"
          ]
        }
      ]
    },
    {
      "cell_type": "code",
      "source": [
        "# update claim 1 feature vector\n",
        "df[\"claim1_feature_vector\"] = c_series"
      ],
      "metadata": {
        "id": "1pvU-w2QtXBz"
      },
      "execution_count": 26,
      "outputs": []
    },
    {
      "cell_type": "code",
      "source": [
        "print(df[\"claim1_feature_vector\"])"
      ],
      "metadata": {
        "colab": {
          "base_uri": "https://localhost:8080/"
        },
        "id": "6Ojpggp_wF-D",
        "outputId": "4fec11db-25c1-410d-f011-d3b46f41707a"
      },
      "execution_count": 27,
      "outputs": [
        {
          "output_type": "stream",
          "name": "stdout",
          "text": [
            "0     [0.9804177, 0.09281336, 0.06313156, 0.08277915...\n",
            "1     [0.7943135, 0.92592, -0.15183617, 0.05775909, ...\n",
            "2     [0.99273396, -0.0021722727, -0.43584538, 0.026...\n",
            "3     [0.95712984, 0.28703988, -0.036017757, -0.0154...\n",
            "4     [0.959633, 0.67156535, -0.16828841, 0.29993826...\n",
            "5     [0.9653515, -0.65629786, -0.112584926, 0.23610...\n",
            "6     [0.877998, -0.12351528, 0.12828426, 0.4841077,...\n",
            "7     [0.92777634, 0.695498, -0.3336455, 0.29652742,...\n",
            "8     [0.9674787, 0.26831323, -0.20602201, -0.017772...\n",
            "9     [0.8841269, 0.06563699, -0.44831944, 0.1177656...\n",
            "10    [0.98434407, -0.13348669, -0.054999013, 0.1469...\n",
            "11    [0.9935299, 0.7482088, 0.027474264, 0.1860985,...\n",
            "12    [0.9352643, 0.547526, -0.05781861, -0.02595526...\n",
            "13    [0.88169456, 0.8645572, -0.10003983, -0.042966...\n",
            "14    [0.97644275, -0.5111096, 0.028287381, 0.380252...\n",
            "15    [0.98245925, 0.55498606, 0.06987757, 0.3463456...\n",
            "16    [0.99462605, 0.38057032, -0.35860273, 0.075715...\n",
            "17    [0.99018735, 0.9491377, -0.014149559, 0.175365...\n",
            "18    [0.9797657, 0.3262692, -0.29458848, -0.1118792...\n",
            "19    [0.7161165, 0.89374185, -0.0045318566, 0.04220...\n",
            "20    [0.896201, 0.32691148, -0.14085162, 0.09549200...\n",
            "21    [0.9975851, 0.26239645, -0.16932125, -0.001700...\n",
            "22    [0.9743051, -0.33260527, -0.14150591, 0.077480...\n",
            "23    [0.93964016, 0.6423883, -0.4356195, 0.23174642...\n",
            "24    [0.97511977, 0.6765917, -0.21651518, 0.2549267...\n",
            "25    [0.9680081, 0.42463768, -0.1286333, -0.0691389...\n",
            "26    [0.96556264, 0.7298389, -0.014441624, 0.006223...\n",
            "27    [0.95931447, -0.16682845, -0.0037063493, 0.227...\n",
            "28    [0.8464899, 0.86803246, -0.26109105, -0.225509...\n",
            "29    [0.98669094, -0.33993125, -0.08795106, -0.0575...\n",
            "30    [0.98257315, 0.31729603, -0.3551352, -0.108923...\n",
            "31    [0.99477255, 0.8032018, -0.29470673, -0.178860...\n",
            "32    [0.85600936, 0.49691063, -0.10430965, 0.166112...\n",
            "33    [0.9905967, 0.40230563, -0.0991688, 0.05493046...\n",
            "34    [0.99785966, 0.4662233, -0.36254188, 0.2426474...\n",
            "35    [0.984267, 0.3873769, -0.058713507, 0.04283314...\n",
            "36    [0.97494334, 0.11877052, -0.0014903737, 0.4924...\n",
            "37    [0.94029474, -0.099390775, -0.0068843337, 0.13...\n",
            "38    [0.96301407, 0.7592326, -0.2757415, -0.0957422...\n",
            "39    [0.919217, 0.120043114, -0.32968473, 0.3345456...\n",
            "40    [0.9361998, 0.9332045, -0.26988792, 0.32750294...\n",
            "41    [0.97096974, 0.5787552, -0.23460785, 0.3174824...\n",
            "42    [0.9574574, 0.69182163, -0.08367672, 0.0741216...\n",
            "43    [0.9785627, -0.16310956, -0.40313417, 0.271829...\n",
            "44    [0.9924397, 0.214645, -0.15887779, -0.03288639...\n",
            "45    [0.9237571, 0.39969113, -0.27695692, -0.100713...\n",
            "46    [0.9353245, 0.68642586, -0.05890567, -0.117017...\n",
            "47    [0.9815449, -0.2367683, 0.034124967, 0.5266136...\n",
            "48    [0.97784084, 0.7557324, -0.13303798, 0.2670259...\n",
            "49    [0.76952803, 0.74811924, -0.28946143, 0.173879...\n",
            "Name: claim1_feature_vector, dtype: object\n"
          ]
        }
      ]
    },
    {
      "cell_type": "code",
      "source": [
        "# update cluster number\n",
        "df[\"cluster\"] = y_kmeans"
      ],
      "metadata": {
        "id": "K5ucDjnKpJZI"
      },
      "execution_count": 28,
      "outputs": []
    },
    {
      "cell_type": "code",
      "source": [
        "df.head(10)"
      ],
      "metadata": {
        "colab": {
          "base_uri": "https://localhost:8080/",
          "height": 363
        },
        "id": "6e6hVQU7v6aP",
        "outputId": "dd187842-2b01-403d-f31d-abf61ef84983"
      },
      "execution_count": 29,
      "outputs": [
        {
          "output_type": "execute_result",
          "data": {
            "text/plain": [
              "                                         patent_name   patent_ID  \\\n",
              "0        Electronic device including helical antenna  11,322,848   \n",
              "1  Display device, user terminal device, method f...  11,321,040   \n",
              "2             Sensing device with fingerprint sensor  11,320,941   \n",
              "3         Electronic device including antenna module  11,316,284   \n",
              "4  Operating method of electronic device for func...  11,314,898   \n",
              "5  Display device and method of driving the same ...  11,314,368   \n",
              "6  Touch apparatus and touch detection method the...  11,314,361   \n",
              "7  Intelligent data collection and transmission b...  11,313,938   \n",
              "8  Neuromodulation system and method for transiti...  11,311,726   \n",
              "9  Blood glucose measurement apparatus and blood ...  11,311,214   \n",
              "\n",
              "                                              claim1  \\\n",
              "0  An electronic device, comprising: a housing co...   \n",
              "1  A display device comprising: a communication i...   \n",
              "2  A sensing device comprising: a sensor; a touch...   \n",
              "3  An electronic device, comprising: a housing co...   \n",
              "4  An electronic device comprising: a housing inc...   \n",
              "5  A display device, comprising: a display panel ...   \n",
              "6  A touch apparatus comprising: a touch panel th...   \n",
              "7  A sensing device, comprising: an acoustic sens...   \n",
              "8  A neuromodulation system comprising: an extern...   \n",
              "9  A blood glucose measurement method performed b...   \n",
              "\n",
              "                                          cpc number  \\\n",
              "0  H01Q 1/243 (20130101); H01Q 1/2208 (20130101);...   \n",
              "1  G06F 3/1423 (20130101); G11B 27/34 (20130101);...   \n",
              "2  H03K 17/962 (20130101); H03H 17/0671 (20130101...   \n",
              "3  H01Q 21/065 (20130101); H01Q 1/02 (20130101); ...   \n",
              "4  G06V 40/1365 (20220101); G10L 15/22 (20130101)...   \n",
              "5  G06F 3/0446 (20190501); G06F 3/0445 (20190501)...   \n",
              "6  G06F 3/0445 (20190501); G06F 3/04162 (20190501...   \n",
              "7  G01S 5/0027 (20130101); G01S 7/021 (20130101);...   \n",
              "8  A61N 1/37247 (20130101); A61N 1/36185 (2013010...   \n",
              "9  A61B 5/6833 (20130101); A61B 5/4809 (20130101)...   \n",
              "\n",
              "                               claim1_feature_vector  cluster  \n",
              "0  [0.9804177, 0.09281336, 0.06313156, 0.08277915...        0  \n",
              "1  [0.7943135, 0.92592, -0.15183617, 0.05775909, ...        3  \n",
              "2  [0.99273396, -0.0021722727, -0.43584538, 0.026...        1  \n",
              "3  [0.95712984, 0.28703988, -0.036017757, -0.0154...        4  \n",
              "4  [0.959633, 0.67156535, -0.16828841, 0.29993826...        4  \n",
              "5  [0.9653515, -0.65629786, -0.112584926, 0.23610...        1  \n",
              "6  [0.877998, -0.12351528, 0.12828426, 0.4841077,...        1  \n",
              "7  [0.92777634, 0.695498, -0.3336455, 0.29652742,...        3  \n",
              "8  [0.9674787, 0.26831323, -0.20602201, -0.017772...        2  \n",
              "9  [0.8841269, 0.06563699, -0.44831944, 0.1177656...        2  "
            ],
            "text/html": [
              "\n",
              "  <div id=\"df-8c9d4ea0-76fe-4e08-82a5-7f7af127c375\">\n",
              "    <div class=\"colab-df-container\">\n",
              "      <div>\n",
              "<style scoped>\n",
              "    .dataframe tbody tr th:only-of-type {\n",
              "        vertical-align: middle;\n",
              "    }\n",
              "\n",
              "    .dataframe tbody tr th {\n",
              "        vertical-align: top;\n",
              "    }\n",
              "\n",
              "    .dataframe thead th {\n",
              "        text-align: right;\n",
              "    }\n",
              "</style>\n",
              "<table border=\"1\" class=\"dataframe\">\n",
              "  <thead>\n",
              "    <tr style=\"text-align: right;\">\n",
              "      <th></th>\n",
              "      <th>patent_name</th>\n",
              "      <th>patent_ID</th>\n",
              "      <th>claim1</th>\n",
              "      <th>cpc number</th>\n",
              "      <th>claim1_feature_vector</th>\n",
              "      <th>cluster</th>\n",
              "    </tr>\n",
              "  </thead>\n",
              "  <tbody>\n",
              "    <tr>\n",
              "      <th>0</th>\n",
              "      <td>Electronic device including helical antenna</td>\n",
              "      <td>11,322,848</td>\n",
              "      <td>An electronic device, comprising: a housing co...</td>\n",
              "      <td>H01Q 1/243 (20130101); H01Q 1/2208 (20130101);...</td>\n",
              "      <td>[0.9804177, 0.09281336, 0.06313156, 0.08277915...</td>\n",
              "      <td>0</td>\n",
              "    </tr>\n",
              "    <tr>\n",
              "      <th>1</th>\n",
              "      <td>Display device, user terminal device, method f...</td>\n",
              "      <td>11,321,040</td>\n",
              "      <td>A display device comprising: a communication i...</td>\n",
              "      <td>G06F 3/1423 (20130101); G11B 27/34 (20130101);...</td>\n",
              "      <td>[0.7943135, 0.92592, -0.15183617, 0.05775909, ...</td>\n",
              "      <td>3</td>\n",
              "    </tr>\n",
              "    <tr>\n",
              "      <th>2</th>\n",
              "      <td>Sensing device with fingerprint sensor</td>\n",
              "      <td>11,320,941</td>\n",
              "      <td>A sensing device comprising: a sensor; a touch...</td>\n",
              "      <td>H03K 17/962 (20130101); H03H 17/0671 (20130101...</td>\n",
              "      <td>[0.99273396, -0.0021722727, -0.43584538, 0.026...</td>\n",
              "      <td>1</td>\n",
              "    </tr>\n",
              "    <tr>\n",
              "      <th>3</th>\n",
              "      <td>Electronic device including antenna module</td>\n",
              "      <td>11,316,284</td>\n",
              "      <td>An electronic device, comprising: a housing co...</td>\n",
              "      <td>H01Q 21/065 (20130101); H01Q 1/02 (20130101); ...</td>\n",
              "      <td>[0.95712984, 0.28703988, -0.036017757, -0.0154...</td>\n",
              "      <td>4</td>\n",
              "    </tr>\n",
              "    <tr>\n",
              "      <th>4</th>\n",
              "      <td>Operating method of electronic device for func...</td>\n",
              "      <td>11,314,898</td>\n",
              "      <td>An electronic device comprising: a housing inc...</td>\n",
              "      <td>G06V 40/1365 (20220101); G10L 15/22 (20130101)...</td>\n",
              "      <td>[0.959633, 0.67156535, -0.16828841, 0.29993826...</td>\n",
              "      <td>4</td>\n",
              "    </tr>\n",
              "    <tr>\n",
              "      <th>5</th>\n",
              "      <td>Display device and method of driving the same ...</td>\n",
              "      <td>11,314,368</td>\n",
              "      <td>A display device, comprising: a display panel ...</td>\n",
              "      <td>G06F 3/0446 (20190501); G06F 3/0445 (20190501)...</td>\n",
              "      <td>[0.9653515, -0.65629786, -0.112584926, 0.23610...</td>\n",
              "      <td>1</td>\n",
              "    </tr>\n",
              "    <tr>\n",
              "      <th>6</th>\n",
              "      <td>Touch apparatus and touch detection method the...</td>\n",
              "      <td>11,314,361</td>\n",
              "      <td>A touch apparatus comprising: a touch panel th...</td>\n",
              "      <td>G06F 3/0445 (20190501); G06F 3/04162 (20190501...</td>\n",
              "      <td>[0.877998, -0.12351528, 0.12828426, 0.4841077,...</td>\n",
              "      <td>1</td>\n",
              "    </tr>\n",
              "    <tr>\n",
              "      <th>7</th>\n",
              "      <td>Intelligent data collection and transmission b...</td>\n",
              "      <td>11,313,938</td>\n",
              "      <td>A sensing device, comprising: an acoustic sens...</td>\n",
              "      <td>G01S 5/0027 (20130101); G01S 7/021 (20130101);...</td>\n",
              "      <td>[0.92777634, 0.695498, -0.3336455, 0.29652742,...</td>\n",
              "      <td>3</td>\n",
              "    </tr>\n",
              "    <tr>\n",
              "      <th>8</th>\n",
              "      <td>Neuromodulation system and method for transiti...</td>\n",
              "      <td>11,311,726</td>\n",
              "      <td>A neuromodulation system comprising: an extern...</td>\n",
              "      <td>A61N 1/37247 (20130101); A61N 1/36185 (2013010...</td>\n",
              "      <td>[0.9674787, 0.26831323, -0.20602201, -0.017772...</td>\n",
              "      <td>2</td>\n",
              "    </tr>\n",
              "    <tr>\n",
              "      <th>9</th>\n",
              "      <td>Blood glucose measurement apparatus and blood ...</td>\n",
              "      <td>11,311,214</td>\n",
              "      <td>A blood glucose measurement method performed b...</td>\n",
              "      <td>A61B 5/6833 (20130101); A61B 5/4809 (20130101)...</td>\n",
              "      <td>[0.8841269, 0.06563699, -0.44831944, 0.1177656...</td>\n",
              "      <td>2</td>\n",
              "    </tr>\n",
              "  </tbody>\n",
              "</table>\n",
              "</div>\n",
              "      <button class=\"colab-df-convert\" onclick=\"convertToInteractive('df-8c9d4ea0-76fe-4e08-82a5-7f7af127c375')\"\n",
              "              title=\"Convert this dataframe to an interactive table.\"\n",
              "              style=\"display:none;\">\n",
              "        \n",
              "  <svg xmlns=\"http://www.w3.org/2000/svg\" height=\"24px\"viewBox=\"0 0 24 24\"\n",
              "       width=\"24px\">\n",
              "    <path d=\"M0 0h24v24H0V0z\" fill=\"none\"/>\n",
              "    <path d=\"M18.56 5.44l.94 2.06.94-2.06 2.06-.94-2.06-.94-.94-2.06-.94 2.06-2.06.94zm-11 1L8.5 8.5l.94-2.06 2.06-.94-2.06-.94L8.5 2.5l-.94 2.06-2.06.94zm10 10l.94 2.06.94-2.06 2.06-.94-2.06-.94-.94-2.06-.94 2.06-2.06.94z\"/><path d=\"M17.41 7.96l-1.37-1.37c-.4-.4-.92-.59-1.43-.59-.52 0-1.04.2-1.43.59L10.3 9.45l-7.72 7.72c-.78.78-.78 2.05 0 2.83L4 21.41c.39.39.9.59 1.41.59.51 0 1.02-.2 1.41-.59l7.78-7.78 2.81-2.81c.8-.78.8-2.07 0-2.86zM5.41 20L4 18.59l7.72-7.72 1.47 1.35L5.41 20z\"/>\n",
              "  </svg>\n",
              "      </button>\n",
              "      \n",
              "  <style>\n",
              "    .colab-df-container {\n",
              "      display:flex;\n",
              "      flex-wrap:wrap;\n",
              "      gap: 12px;\n",
              "    }\n",
              "\n",
              "    .colab-df-convert {\n",
              "      background-color: #E8F0FE;\n",
              "      border: none;\n",
              "      border-radius: 50%;\n",
              "      cursor: pointer;\n",
              "      display: none;\n",
              "      fill: #1967D2;\n",
              "      height: 32px;\n",
              "      padding: 0 0 0 0;\n",
              "      width: 32px;\n",
              "    }\n",
              "\n",
              "    .colab-df-convert:hover {\n",
              "      background-color: #E2EBFA;\n",
              "      box-shadow: 0px 1px 2px rgba(60, 64, 67, 0.3), 0px 1px 3px 1px rgba(60, 64, 67, 0.15);\n",
              "      fill: #174EA6;\n",
              "    }\n",
              "\n",
              "    [theme=dark] .colab-df-convert {\n",
              "      background-color: #3B4455;\n",
              "      fill: #D2E3FC;\n",
              "    }\n",
              "\n",
              "    [theme=dark] .colab-df-convert:hover {\n",
              "      background-color: #434B5C;\n",
              "      box-shadow: 0px 1px 3px 1px rgba(0, 0, 0, 0.15);\n",
              "      filter: drop-shadow(0px 1px 2px rgba(0, 0, 0, 0.3));\n",
              "      fill: #FFFFFF;\n",
              "    }\n",
              "  </style>\n",
              "\n",
              "      <script>\n",
              "        const buttonEl =\n",
              "          document.querySelector('#df-8c9d4ea0-76fe-4e08-82a5-7f7af127c375 button.colab-df-convert');\n",
              "        buttonEl.style.display =\n",
              "          google.colab.kernel.accessAllowed ? 'block' : 'none';\n",
              "\n",
              "        async function convertToInteractive(key) {\n",
              "          const element = document.querySelector('#df-8c9d4ea0-76fe-4e08-82a5-7f7af127c375');\n",
              "          const dataTable =\n",
              "            await google.colab.kernel.invokeFunction('convertToInteractive',\n",
              "                                                     [key], {});\n",
              "          if (!dataTable) return;\n",
              "\n",
              "          const docLinkHtml = 'Like what you see? Visit the ' +\n",
              "            '<a target=\"_blank\" href=https://colab.research.google.com/notebooks/data_table.ipynb>data table notebook</a>'\n",
              "            + ' to learn more about interactive tables.';\n",
              "          element.innerHTML = '';\n",
              "          dataTable['output_type'] = 'display_data';\n",
              "          await google.colab.output.renderOutput(dataTable, element);\n",
              "          const docLink = document.createElement('div');\n",
              "          docLink.innerHTML = docLinkHtml;\n",
              "          element.appendChild(docLink);\n",
              "        }\n",
              "      </script>\n",
              "    </div>\n",
              "  </div>\n",
              "  "
            ]
          },
          "metadata": {},
          "execution_count": 29
        }
      ]
    },
    {
      "cell_type": "markdown",
      "source": [
        "## Label Classification By Cluster Number"
      ],
      "metadata": {
        "id": "UMemg-J8mzwz"
      }
    },
    {
      "cell_type": "markdown",
      "source": [
        "Pick cluster 0 as our observation target"
      ],
      "metadata": {
        "id": "N8CAAEDjrLdV"
      }
    },
    {
      "cell_type": "code",
      "source": [
        "# select cluster number\n",
        "cluster_unique = df[\"cluster\"].unique().tolist()\n",
        "cluster_unique.sort()  # sort in the acsending way\n",
        "print(f\"cluster number: {cluster_unique}\")\n",
        "\n",
        "for cluster_num in cluster_unique:\n",
        "    print(f\"cluster number: {cluster_num}\")\n",
        "    single_cluster = df[df[\"cluster\"] == cluster_num]\n",
        "    break"
      ],
      "metadata": {
        "colab": {
          "base_uri": "https://localhost:8080/"
        },
        "id": "KY6oy3FJrSvL",
        "outputId": "86cfb854-b0f2-43f6-d2a4-9d338961d882"
      },
      "execution_count": 30,
      "outputs": [
        {
          "output_type": "stream",
          "name": "stdout",
          "text": [
            "cluster number: [0, 1, 2, 3, 4]\n",
            "cluster number: 0\n"
          ]
        }
      ]
    },
    {
      "cell_type": "code",
      "source": [
        "# check the result of cluster 0\n",
        "single_cluster.head()"
      ],
      "metadata": {
        "colab": {
          "base_uri": "https://localhost:8080/",
          "height": 206
        },
        "id": "uQK83hw5PZwc",
        "outputId": "fb0efd87-a4ba-4dd1-ebb6-186a503e6b66"
      },
      "execution_count": 31,
      "outputs": [
        {
          "output_type": "execute_result",
          "data": {
            "text/plain": [
              "                                          patent_name   patent_ID  \\\n",
              "0         Electronic device including helical antenna  11,322,848   \n",
              "10  Electronic device including electronic compone...  11,310,400   \n",
              "14  Rollable electronic device including clearance...  11,307,617   \n",
              "21  Power circuit and electronic device including ...  11,296,518   \n",
              "29                                  Electronic device  11,287,554   \n",
              "\n",
              "                                               claim1  \\\n",
              "0   An electronic device, comprising: a housing co...   \n",
              "10  An electronic device comprising: a housing inc...   \n",
              "14  An electronic device comprising: a first housi...   \n",
              "21  An electronic device comprising: a housing: a ...   \n",
              "29  An electronic device comprising: a housing com...   \n",
              "\n",
              "                                           cpc number  \\\n",
              "0   H01Q 1/243 (20130101); H01Q 1/2208 (20130101);...   \n",
              "10  H04N 5/2258 (20130101); H05K 1/028 (20130101);...   \n",
              "14  G06F 1/1652 (20130101); G06F 1/1624 (20130101)...   \n",
              "21  H01M 10/46 (20130101); H02J 7/0029 (20130101);...   \n",
              "29  H04M 1/0264 (20130101); H05K 5/0017 (20130101)...   \n",
              "\n",
              "                                claim1_feature_vector  cluster  \n",
              "0   [0.9804177, 0.09281336, 0.06313156, 0.08277915...        0  \n",
              "10  [0.98434407, -0.13348669, -0.054999013, 0.1469...        0  \n",
              "14  [0.97644275, -0.5111096, 0.028287381, 0.380252...        0  \n",
              "21  [0.9975851, 0.26239645, -0.16932125, -0.001700...        0  \n",
              "29  [0.98669094, -0.33993125, -0.08795106, -0.0575...        0  "
            ],
            "text/html": [
              "\n",
              "  <div id=\"df-80af2209-b97f-4be4-b929-85e969f33c70\">\n",
              "    <div class=\"colab-df-container\">\n",
              "      <div>\n",
              "<style scoped>\n",
              "    .dataframe tbody tr th:only-of-type {\n",
              "        vertical-align: middle;\n",
              "    }\n",
              "\n",
              "    .dataframe tbody tr th {\n",
              "        vertical-align: top;\n",
              "    }\n",
              "\n",
              "    .dataframe thead th {\n",
              "        text-align: right;\n",
              "    }\n",
              "</style>\n",
              "<table border=\"1\" class=\"dataframe\">\n",
              "  <thead>\n",
              "    <tr style=\"text-align: right;\">\n",
              "      <th></th>\n",
              "      <th>patent_name</th>\n",
              "      <th>patent_ID</th>\n",
              "      <th>claim1</th>\n",
              "      <th>cpc number</th>\n",
              "      <th>claim1_feature_vector</th>\n",
              "      <th>cluster</th>\n",
              "    </tr>\n",
              "  </thead>\n",
              "  <tbody>\n",
              "    <tr>\n",
              "      <th>0</th>\n",
              "      <td>Electronic device including helical antenna</td>\n",
              "      <td>11,322,848</td>\n",
              "      <td>An electronic device, comprising: a housing co...</td>\n",
              "      <td>H01Q 1/243 (20130101); H01Q 1/2208 (20130101);...</td>\n",
              "      <td>[0.9804177, 0.09281336, 0.06313156, 0.08277915...</td>\n",
              "      <td>0</td>\n",
              "    </tr>\n",
              "    <tr>\n",
              "      <th>10</th>\n",
              "      <td>Electronic device including electronic compone...</td>\n",
              "      <td>11,310,400</td>\n",
              "      <td>An electronic device comprising: a housing inc...</td>\n",
              "      <td>H04N 5/2258 (20130101); H05K 1/028 (20130101);...</td>\n",
              "      <td>[0.98434407, -0.13348669, -0.054999013, 0.1469...</td>\n",
              "      <td>0</td>\n",
              "    </tr>\n",
              "    <tr>\n",
              "      <th>14</th>\n",
              "      <td>Rollable electronic device including clearance...</td>\n",
              "      <td>11,307,617</td>\n",
              "      <td>An electronic device comprising: a first housi...</td>\n",
              "      <td>G06F 1/1652 (20130101); G06F 1/1624 (20130101)...</td>\n",
              "      <td>[0.97644275, -0.5111096, 0.028287381, 0.380252...</td>\n",
              "      <td>0</td>\n",
              "    </tr>\n",
              "    <tr>\n",
              "      <th>21</th>\n",
              "      <td>Power circuit and electronic device including ...</td>\n",
              "      <td>11,296,518</td>\n",
              "      <td>An electronic device comprising: a housing: a ...</td>\n",
              "      <td>H01M 10/46 (20130101); H02J 7/0029 (20130101);...</td>\n",
              "      <td>[0.9975851, 0.26239645, -0.16932125, -0.001700...</td>\n",
              "      <td>0</td>\n",
              "    </tr>\n",
              "    <tr>\n",
              "      <th>29</th>\n",
              "      <td>Electronic device</td>\n",
              "      <td>11,287,554</td>\n",
              "      <td>An electronic device comprising: a housing com...</td>\n",
              "      <td>H04M 1/0264 (20130101); H05K 5/0017 (20130101)...</td>\n",
              "      <td>[0.98669094, -0.33993125, -0.08795106, -0.0575...</td>\n",
              "      <td>0</td>\n",
              "    </tr>\n",
              "  </tbody>\n",
              "</table>\n",
              "</div>\n",
              "      <button class=\"colab-df-convert\" onclick=\"convertToInteractive('df-80af2209-b97f-4be4-b929-85e969f33c70')\"\n",
              "              title=\"Convert this dataframe to an interactive table.\"\n",
              "              style=\"display:none;\">\n",
              "        \n",
              "  <svg xmlns=\"http://www.w3.org/2000/svg\" height=\"24px\"viewBox=\"0 0 24 24\"\n",
              "       width=\"24px\">\n",
              "    <path d=\"M0 0h24v24H0V0z\" fill=\"none\"/>\n",
              "    <path d=\"M18.56 5.44l.94 2.06.94-2.06 2.06-.94-2.06-.94-.94-2.06-.94 2.06-2.06.94zm-11 1L8.5 8.5l.94-2.06 2.06-.94-2.06-.94L8.5 2.5l-.94 2.06-2.06.94zm10 10l.94 2.06.94-2.06 2.06-.94-2.06-.94-.94-2.06-.94 2.06-2.06.94z\"/><path d=\"M17.41 7.96l-1.37-1.37c-.4-.4-.92-.59-1.43-.59-.52 0-1.04.2-1.43.59L10.3 9.45l-7.72 7.72c-.78.78-.78 2.05 0 2.83L4 21.41c.39.39.9.59 1.41.59.51 0 1.02-.2 1.41-.59l7.78-7.78 2.81-2.81c.8-.78.8-2.07 0-2.86zM5.41 20L4 18.59l7.72-7.72 1.47 1.35L5.41 20z\"/>\n",
              "  </svg>\n",
              "      </button>\n",
              "      \n",
              "  <style>\n",
              "    .colab-df-container {\n",
              "      display:flex;\n",
              "      flex-wrap:wrap;\n",
              "      gap: 12px;\n",
              "    }\n",
              "\n",
              "    .colab-df-convert {\n",
              "      background-color: #E8F0FE;\n",
              "      border: none;\n",
              "      border-radius: 50%;\n",
              "      cursor: pointer;\n",
              "      display: none;\n",
              "      fill: #1967D2;\n",
              "      height: 32px;\n",
              "      padding: 0 0 0 0;\n",
              "      width: 32px;\n",
              "    }\n",
              "\n",
              "    .colab-df-convert:hover {\n",
              "      background-color: #E2EBFA;\n",
              "      box-shadow: 0px 1px 2px rgba(60, 64, 67, 0.3), 0px 1px 3px 1px rgba(60, 64, 67, 0.15);\n",
              "      fill: #174EA6;\n",
              "    }\n",
              "\n",
              "    [theme=dark] .colab-df-convert {\n",
              "      background-color: #3B4455;\n",
              "      fill: #D2E3FC;\n",
              "    }\n",
              "\n",
              "    [theme=dark] .colab-df-convert:hover {\n",
              "      background-color: #434B5C;\n",
              "      box-shadow: 0px 1px 3px 1px rgba(0, 0, 0, 0.15);\n",
              "      filter: drop-shadow(0px 1px 2px rgba(0, 0, 0, 0.3));\n",
              "      fill: #FFFFFF;\n",
              "    }\n",
              "  </style>\n",
              "\n",
              "      <script>\n",
              "        const buttonEl =\n",
              "          document.querySelector('#df-80af2209-b97f-4be4-b929-85e969f33c70 button.colab-df-convert');\n",
              "        buttonEl.style.display =\n",
              "          google.colab.kernel.accessAllowed ? 'block' : 'none';\n",
              "\n",
              "        async function convertToInteractive(key) {\n",
              "          const element = document.querySelector('#df-80af2209-b97f-4be4-b929-85e969f33c70');\n",
              "          const dataTable =\n",
              "            await google.colab.kernel.invokeFunction('convertToInteractive',\n",
              "                                                     [key], {});\n",
              "          if (!dataTable) return;\n",
              "\n",
              "          const docLinkHtml = 'Like what you see? Visit the ' +\n",
              "            '<a target=\"_blank\" href=https://colab.research.google.com/notebooks/data_table.ipynb>data table notebook</a>'\n",
              "            + ' to learn more about interactive tables.';\n",
              "          element.innerHTML = '';\n",
              "          dataTable['output_type'] = 'display_data';\n",
              "          await google.colab.output.renderOutput(dataTable, element);\n",
              "          const docLink = document.createElement('div');\n",
              "          docLink.innerHTML = docLinkHtml;\n",
              "          element.appendChild(docLink);\n",
              "        }\n",
              "      </script>\n",
              "    </div>\n",
              "  </div>\n",
              "  "
            ]
          },
          "metadata": {},
          "execution_count": 31
        }
      ]
    },
    {
      "cell_type": "markdown",
      "source": [
        "CPC Number Category\n",
        "* Section: F\n",
        "* Class: F02\n",
        "* Sub-class: F02D\n",
        "* Group: F02D 41\n",
        "* Sub-Group: F02D 41/02"
      ],
      "metadata": {
        "id": "_u9ZZwkS2l1x"
      }
    },
    {
      "cell_type": "code",
      "source": [
        "# read each row data in cpc number\n",
        "cpc_number_list = single_cluster[\"cpc number\"].tolist()\n",
        "print(f\"Number of element in cpc_number_list: {len(cpc_number_list)}\")\n",
        "print(f\"The content of cpc_number_list: {cpc_number_list}\")"
      ],
      "metadata": {
        "colab": {
          "base_uri": "https://localhost:8080/"
        },
        "id": "hTuxmlv2slCh",
        "outputId": "51cdf6d5-7954-4185-cdcf-6311d3725852"
      },
      "execution_count": 32,
      "outputs": [
        {
          "output_type": "stream",
          "name": "stdout",
          "text": [
            "Number of element in cpc_number_list: 7\n",
            "The content of cpc_number_list: ['H01Q 1/243 (20130101); H01Q 1/2208 (20130101); H01Q 1/38 (20130101); H01Q 11/08 (20130101)', 'H04N 5/2258 (20130101); H05K 1/028 (20130101); G06F 1/1626 (20130101); H04N 5/2252 (20130101); H04N 5/2257 (20130101); G06F 1/1686 (20130101); H05K 1/189 (20130101); H05K 2201/10356 (20130101); H05K 2201/10189 (20130101); H05K 2201/10151 (20130101); H05K 2201/10121 (20130101)', 'G06F 1/1652 (20130101); G06F 1/1624 (20130101); G06F 1/1656 (20130101)', 'H01M 10/46 (20130101); H02J 7/0029 (20130101); H02J 7/0024 (20130101); H02J 7/02 (20130101); H02J 7/0042 (20130101); H01M 10/441 (20130101); H01M 10/425 (20130101); H02J 7/0047 (20130101); H02J 7/0071 (20200101); H02J 7/0068 (20130101); H02J 7/0014 (20130101); H02J 2207/20 (20200101); H02J 2310/22 (20200101); H02J 7/0048 (20200101); H02J 50/10 (20160201); Y02E 60/10 (20130101); H01M 2010/4271 (20130101); H01M 2220/30 (20130101)', 'H04M 1/0264 (20130101); H05K 5/0017 (20130101); G02B 5/08 (20130101); F21V 7/00 (20130101); G06F 1/16 (20130101); G06F 1/1684 (20130101); F21V 14/003 (20130101); H05K 5/0217 (20130101); G02B 17/08 (20130101); G06F 1/1626 (20130101); G06F 1/1686 (20130101); H04M 1/026 (20130101)', 'G06F 1/1681 (20130101); G06F 1/1641 (20130101); G06F 1/1652 (20130101); G06F 1/169 (20130101); G06F 1/1643 (20130101); G06F 3/03545 (20130101); G06F 1/1616 (20130101); G06F 1/1677 (20130101)', 'G06F 1/1628 (20130101); H04B 5/0031 (20130101); H04M 1/185 (20130101); G06F 1/1632 (20130101); H04B 1/3888 (20130101); H04B 5/0037 (20130101); H04M 1/22 (20130101); H04M 1/0254 (20130101); G06F 1/1626 (20130101)']\n"
          ]
        }
      ]
    },
    {
      "cell_type": "code",
      "source": [
        "def cpc_num_stat(mode: str, cpc_number_list: list, simple_cpc_number_dict: dict):    \n",
        "    for row in cpc_number_list:\n",
        "        # split by semi-colon\n",
        "        row_split_by_semi =  row.split(';')\n",
        "        for row in row_split_by_semi:        \n",
        "            cpc_num_set = set()      \n",
        "            # split by space\n",
        "            row_split = row.split(' ')        \n",
        "            row_split_filtered_empty_string = [x for x in row_split if x]\n",
        "            # to sub-class level\n",
        "            sub_class = row_split_filtered_empty_string[0]      \n",
        "            # # to sub-group level\n",
        "            sub_group = ' '.join(row_split_filtered_empty_string[:2])  # stop until the date information\n",
        "\n",
        "            if MODE == 'SUB-CLASS':\n",
        "                data = sub_class\n",
        "            elif MODE == 'SUB-GROUP':\n",
        "                data = sub_group\n",
        "\n",
        "            # add to simple_cpc_number_dict          \n",
        "            if sub_class not in simple_cpc_number_dict:\n",
        "                simple_cpc_number_dict[data] = 1\n",
        "            else:\n",
        "                simple_cpc_number_dict[data] += 1\n",
        "    return simple_cpc_number_dict"
      ],
      "metadata": {
        "id": "QmYpOZdV7J5H"
      },
      "execution_count": 33,
      "outputs": []
    },
    {
      "cell_type": "code",
      "source": [
        "# switch mode here\n",
        "MODE = 'SUB-CLASS'\n",
        "stat_dictionary = dict()\n",
        "result = cpc_num_stat(MODE, cpc_number_list, stat_dictionary)"
      ],
      "metadata": {
        "id": "3zBogov9CetY"
      },
      "execution_count": 34,
      "outputs": []
    },
    {
      "cell_type": "markdown",
      "source": [
        "Observe cluster Statistics in SUB-CLASS level"
      ],
      "metadata": {
        "id": "J1QctzZqCxwU"
      }
    },
    {
      "cell_type": "code",
      "source": [
        "print(result)"
      ],
      "metadata": {
        "colab": {
          "base_uri": "https://localhost:8080/"
        },
        "id": "QfbyjE0f669f",
        "outputId": "c11de88f-ff25-44c0-e187-606a96376045"
      },
      "execution_count": 35,
      "outputs": [
        {
          "output_type": "stream",
          "name": "stdout",
          "text": [
            "{'H01Q': 4, 'H04N': 3, 'H05K': 8, 'G06F': 20, 'H01M': 5, 'H02J': 12, 'Y02E': 1, 'H04M': 5, 'G02B': 2, 'F21V': 2, 'H04B': 3}\n"
          ]
        }
      ]
    },
    {
      "cell_type": "markdown",
      "source": [
        "Observe in finer grained SUB-GROUP level"
      ],
      "metadata": {
        "id": "1r2f2_LKC-_Z"
      }
    },
    {
      "cell_type": "code",
      "source": [
        "# switch mode here\n",
        "MODE = 'SUB-GROUP'\n",
        "stat_dictionary = dict()\n",
        "result = cpc_num_stat(MODE, cpc_number_list, stat_dictionary)"
      ],
      "metadata": {
        "id": "Lkkksm-oDNKL"
      },
      "execution_count": 36,
      "outputs": []
    },
    {
      "cell_type": "code",
      "source": [
        "print(result)"
      ],
      "metadata": {
        "colab": {
          "base_uri": "https://localhost:8080/"
        },
        "id": "rbo1VAZoDNVK",
        "outputId": "fbb02341-1d49-4008-f202-c9f66590b052"
      },
      "execution_count": 37,
      "outputs": [
        {
          "output_type": "stream",
          "name": "stdout",
          "text": [
            "{'H01Q 1/243': 1, 'H01Q 1/2208': 1, 'H01Q 1/38': 1, 'H01Q 11/08': 1, 'H04N 5/2258': 1, 'H05K 1/028': 1, 'G06F 1/1626': 1, 'H04N 5/2252': 1, 'H04N 5/2257': 1, 'G06F 1/1686': 1, 'H05K 1/189': 1, 'H05K 2201/10356': 1, 'H05K 2201/10189': 1, 'H05K 2201/10151': 1, 'H05K 2201/10121': 1, 'G06F 1/1652': 1, 'G06F 1/1624': 1, 'G06F 1/1656': 1, 'H01M 10/46': 1, 'H02J 7/0029': 1, 'H02J 7/0024': 1, 'H02J 7/02': 1, 'H02J 7/0042': 1, 'H01M 10/441': 1, 'H01M 10/425': 1, 'H02J 7/0047': 1, 'H02J 7/0071': 1, 'H02J 7/0068': 1, 'H02J 7/0014': 1, 'H02J 2207/20': 1, 'H02J 2310/22': 1, 'H02J 7/0048': 1, 'H02J 50/10': 1, 'Y02E 60/10': 1, 'H01M 2010/4271': 1, 'H01M 2220/30': 1, 'H04M 1/0264': 1, 'H05K 5/0017': 1, 'G02B 5/08': 1, 'F21V 7/00': 1, 'G06F 1/16': 1, 'G06F 1/1684': 1, 'F21V 14/003': 1, 'H05K 5/0217': 1, 'G02B 17/08': 1, 'H04M 1/026': 1, 'G06F 1/1681': 1, 'G06F 1/1641': 1, 'G06F 1/169': 1, 'G06F 1/1643': 1, 'G06F 3/03545': 1, 'G06F 1/1616': 1, 'G06F 1/1677': 1, 'G06F 1/1628': 1, 'H04B 5/0031': 1, 'H04M 1/185': 1, 'G06F 1/1632': 1, 'H04B 1/3888': 1, 'H04B 5/0037': 1, 'H04M 1/22': 1, 'H04M 1/0254': 1}\n"
          ]
        }
      ]
    },
    {
      "cell_type": "markdown",
      "source": [
        "# iterate all class"
      ],
      "metadata": {
        "id": "98VY2U4MIo92"
      }
    },
    {
      "cell_type": "code",
      "source": [
        "# iterate each cluster number\n",
        "for cluster_num in cluster_unique:\n",
        "    print(f\"cluster number: {cluster_num}\")\n",
        "    single_cluster = df[df[\"cluster\"] == cluster_num]\n",
        "    cpc_number_list = single_cluster[\"cpc number\"].tolist()\n",
        "    # switch mode here\n",
        "    MODE = 'SUB-CLASS'\n",
        "    stat_dictionary = dict()\n",
        "    result = cpc_num_stat(MODE, cpc_number_list, stat_dictionary) \n",
        "    print(f\"CPC number stats in sub-class level: {result}\")\n",
        "    \n",
        "    result = None\n",
        "    # switch mode here\n",
        "    MODE = 'SUB-GROUP'\n",
        "    stat_dictionary = dict()\n",
        "    result = cpc_num_stat(MODE, cpc_number_list, stat_dictionary)    \n",
        "    print(f\"CPC number stats in sub-group level: {result}\\n\")        "
      ],
      "metadata": {
        "colab": {
          "base_uri": "https://localhost:8080/"
        },
        "id": "C9HGl0CgIoap",
        "outputId": "90b53d14-18fa-442f-ac74-83752db71390"
      },
      "execution_count": 38,
      "outputs": [
        {
          "output_type": "stream",
          "name": "stdout",
          "text": [
            "cluster number: 0\n",
            "CPC number stats in sub-class level: {'H01Q': 4, 'H04N': 3, 'H05K': 8, 'G06F': 20, 'H01M': 5, 'H02J': 12, 'Y02E': 1, 'H04M': 5, 'G02B': 2, 'F21V': 2, 'H04B': 3}\n",
            "CPC number stats in sub-group level: {'H01Q 1/243': 1, 'H01Q 1/2208': 1, 'H01Q 1/38': 1, 'H01Q 11/08': 1, 'H04N 5/2258': 1, 'H05K 1/028': 1, 'G06F 1/1626': 1, 'H04N 5/2252': 1, 'H04N 5/2257': 1, 'G06F 1/1686': 1, 'H05K 1/189': 1, 'H05K 2201/10356': 1, 'H05K 2201/10189': 1, 'H05K 2201/10151': 1, 'H05K 2201/10121': 1, 'G06F 1/1652': 1, 'G06F 1/1624': 1, 'G06F 1/1656': 1, 'H01M 10/46': 1, 'H02J 7/0029': 1, 'H02J 7/0024': 1, 'H02J 7/02': 1, 'H02J 7/0042': 1, 'H01M 10/441': 1, 'H01M 10/425': 1, 'H02J 7/0047': 1, 'H02J 7/0071': 1, 'H02J 7/0068': 1, 'H02J 7/0014': 1, 'H02J 2207/20': 1, 'H02J 2310/22': 1, 'H02J 7/0048': 1, 'H02J 50/10': 1, 'Y02E 60/10': 1, 'H01M 2010/4271': 1, 'H01M 2220/30': 1, 'H04M 1/0264': 1, 'H05K 5/0017': 1, 'G02B 5/08': 1, 'F21V 7/00': 1, 'G06F 1/16': 1, 'G06F 1/1684': 1, 'F21V 14/003': 1, 'H05K 5/0217': 1, 'G02B 17/08': 1, 'H04M 1/026': 1, 'G06F 1/1681': 1, 'G06F 1/1641': 1, 'G06F 1/169': 1, 'G06F 1/1643': 1, 'G06F 3/03545': 1, 'G06F 1/1616': 1, 'G06F 1/1677': 1, 'G06F 1/1628': 1, 'H04B 5/0031': 1, 'H04M 1/185': 1, 'G06F 1/1632': 1, 'H04B 1/3888': 1, 'H04B 5/0037': 1, 'H04M 1/22': 1, 'H04M 1/0254': 1}\n",
            "\n",
            "cluster number: 1\n",
            "CPC number stats in sub-class level: {'H03K': 3, 'H03H': 1, 'G06F': 47, 'G09G': 11, 'H05B': 5, 'G09F': 4, 'H01L': 11, 'Y02E': 1, 'H04R': 12, 'G06N': 3, 'G02F': 3, 'H04M': 3, 'A61B': 4}\n",
            "CPC number stats in sub-group level: {'H03K 17/962': 1, 'H03H 17/0671': 1, 'G06F 3/044': 1, 'H03K 2217/960755': 1, 'H03K 2217/960745': 1, 'G06F 3/0446': 1, 'G06F 3/0445': 1, 'G09G 3/20': 1, 'G06F 3/0412': 1, 'G06F 3/0416': 1, 'G06F 2203/04106': 1, 'G09G 2300/023': 1, 'G06F 3/04162': 1, 'G06F 3/0441': 1, 'G06F 3/04166': 1, 'H05B 33/04': 1, 'G09F 9/30': 1, 'H01L 51/0097': 1, 'H01L 51/5253': 1, 'G09G 5/003': 1, 'G09G 3/2092': 1, 'H05B 33/14': 1, 'G09F 9/00': 1, 'G09G 5/14': 1, 'H05B 33/02': 1, 'G09G 5/006': 1, 'G09G 2300/0426': 1, 'Y02E 10/549': 1, 'H01L 27/3244': 1, 'G09G 2354/00': 1, 'G09G 2380/02': 1, 'G06F 3/016': 1, 'G06F 1/1637': 1, 'G06F 1/1688': 1, 'H04R 9/06': 1, 'H04R 1/023': 1, 'H04R 1/026': 1, 'G06F 1/1626': 1, 'H04R 1/2803': 1, 'G06F 1/1684': 1, 'G06F 1/1643': 1, 'H04R 1/2826': 1, 'H04R 2499/11': 1, 'H04R 2440/05': 1, 'G09G 3/32': 1, 'H01L 25/0652': 1, 'H05B 33/06': 1, 'H01L 27/3293': 1, 'H01L 25/167': 1, 'G06N 3/04': 1, 'H01L 51/50': 1, 'G09F 9/40': 1, 'H01L 27/156': 1, 'H01L 27/3276': 1, 'G06N 3/063': 1, 'G06N 3/0454': 1, 'G09G 2300/026': 1, 'G02F 1/13338': 1, 'H04R 1/028': 1, 'H04R 7/04': 1, 'G02F 1/133345': 1, 'G02F 1/13439': 1, 'H04M 1/03': 1, 'G06F 1/1605': 1, 'G06F 1/1652': 1, 'H04M 1/0266': 1, 'H04R 2499/15': 1, 'H04R 17/005': 1, 'A61B 5/6898': 1, 'G06F 21/32': 1, 'A61B 5/14551': 1, 'A61B 5/742': 1, 'A61B 5/02433': 1, 'H01L 27/3213': 1, 'H01L 27/323': 1, 'G06F 3/0488': 1, 'G06F 3/0383': 1, 'G06F 2203/0382': 1, 'G06F 3/0442': 1, 'G06F 3/041': 1, 'G06F 3/03545': 1, 'G06F 3/03': 1, 'G06F 2203/0384': 1}\n",
            "\n",
            "cluster number: 2\n",
            "CPC number stats in sub-class level: {'A61N': 4, 'A61B': 18, 'G16H': 2, 'G16Z': 1, 'H04W': 9, 'H04B': 3, 'H01P': 2, 'H01Q': 9, 'H05B': 7}\n",
            "CPC number stats in sub-group level: {'A61N 1/37247': 1, 'A61N 1/36185': 1, 'A61N 1/36164': 1, 'A61N 1/36071': 1, 'A61B 5/6833': 1, 'A61B 5/4809': 1, 'A61B 5/7282': 1, 'A61B 5/7275': 1, 'A61B 5/14546': 1, 'A61B 5/7435': 1, 'A61B 5/02055': 1, 'G16H 50/30': 1, 'A61B 5/14517': 1, 'A61B 5/749': 1, 'A61B 5/02438': 1, 'A61B 5/681': 1, 'A61B 5/7465': 1, 'A61B 5/11': 1, 'A61B 5/14532': 1, 'G16H 80/00': 1, 'G16Z 99/00': 1, 'A61B 5/14514': 1, 'A61B 2562/0223': 1, 'A61B 2562/0219': 1, 'A61B 2503/10': 1, 'H04W 76/11': 1, 'H04W 76/16': 1, 'H04W 16/26': 1, 'H04W 4/80': 1, 'H04W 68/005': 1, 'H04W 88/04': 1, 'H04W 76/27': 1, 'H04W 88/06': 1, 'H04W 12/06': 1, 'H04B 3/52': 1, 'H01P 1/16': 1, 'H01Q 15/08': 1, 'H01Q 13/24': 1, 'H01Q 19/062': 1, 'H01Q 21/064': 1, 'H01Q 21/0068': 1, 'H04B 3/542': 1, 'H01Q 21/0056': 1, 'H01Q 17/00': 1, 'H01Q 13/0233': 1, 'H01Q 13/08': 1, 'H01P 1/225': 1, 'H04B 2203/5458': 1, 'H05B 1/028': 1, 'H05B 45/20': 1, 'H05B 45/12': 1, 'H05B 45/22': 1, 'H05B 45/28': 1, 'H05B 47/11': 1, 'H05B 47/115': 1}\n",
            "\n",
            "cluster number: 3\n",
            "CPC number stats in sub-class level: {'G06F': 46, 'G11B': 1, 'G01S': 4, 'F42B': 1, 'H02J': 17, 'H01M': 6, 'H04M': 9, 'Y02E': 1, 'F24F': 13, 'H04W': 11, 'G05B': 4, 'G05D': 1, 'H04N': 7, 'F16M': 2, 'G09G': 4, 'G06T': 5, 'A61B': 1, 'A61N': 2, 'Y02D': 2, 'H04B': 1, 'H01P': 2, 'G06Q': 2}\n",
            "CPC number stats in sub-group level: {'G06F 3/1423': 1, 'G11B 27/34': 1, 'G06F 3/165': 1, 'G01S 5/0027': 1, 'G01S 7/021': 1, 'G06F 17/00': 1, 'F42B 12/365': 1, 'G01S 5/02': 1, 'G01S 5/0018': 1, 'H02J 50/80': 1, 'H02J 50/60': 1, 'H02J 50/12': 1, 'H01M 10/46': 1, 'H02J 7/0044': 1, 'H01M 10/425': 1, 'H02J 7/0029': 1, 'H04M 1/72409': 1, 'H01M 50/10': 1, 'H02J 7/342': 1, 'H02J 7/0047': 1, 'H02J 7/027': 1, 'H04M 1/271': 1, 'H04M 3/42204': 1, 'H02J 50/40': 1, 'H02J 7/0013': 1, 'H01M 50/20': 1, 'H02J 7/0027': 1, 'H02J 7/00045': 1, 'H04M 1/0262': 1, 'H01M 2220/30': 1, 'H01M 2010/4278': 1, 'H04M 2250/74': 1, 'Y02E 60/10': 1, 'G06F 3/04162': 1, 'G06F 3/03545': 1, 'G06F 3/014': 1, 'G06F 3/017': 1, 'G06F 2203/04101': 1, 'F24F 11/30': 1, 'F24F 11/52': 1, 'H04W 76/10': 1, 'F24F 11/64': 1, 'G05B 15/02': 1, 'F24F 11/58': 1, 'F24F 11/65': 1, 'G05D 23/1905': 1, 'H04M 11/007': 1, 'F24F 2110/12': 1, 'F24F 2110/10': 1, 'G05B 2219/2614': 1, 'F24F 2130/10': 1, 'G06F 3/04883': 1, 'G06F 3/016': 1, 'G06F 3/04847': 1, 'G06F 3/013': 1, 'H02J 50/10': 1, 'H02J 7/007': 1, 'G06F 1/3231': 1, 'H04N 21/4223': 1, 'G06F 1/1698': 1, 'H04M 1/72412': 1, 'H04N 21/42202': 1, 'H04N 21/485': 1, 'F16M 11/18': 1, 'H04M 1/72454': 1, 'G09G 3/20': 1, 'G06F 1/3265': 1, 'H04N 21/44227': 1, 'H04N 21/41265': 1, 'H04N 21/4524': 1, 'F16M 11/105': 1, 'G06T 3/60': 1, 'G06F 3/0346': 1, 'G06F 1/1601': 1, 'H04N 21/42222': 1, 'G06F 1/1626': 1, 'G06F 1/1607': 1, 'G09G 3/00': 1, 'G06F 1/1694': 1, 'G06F 2200/1612': 1, 'H04M 1/72415': 1, 'G09G 2354/00': 1, 'G06F 2200/1614': 1, 'G09G 2330/021': 1, 'A61B 5/055': 1, 'A61N 5/1039': 1, 'A61N 2005/1074': 1, 'H04W 48/14': 1, 'H04W 52/02': 1, 'H04W 4/80': 1, 'H04W 8/005': 1, 'H04W 52/0206': 1, 'H04W 48/20': 1, 'H04W 88/06': 1, 'H04W 52/0229': 1, 'H04W 48/16': 1, 'H04W 84/12': 1, 'Y02D 30/70': 1, 'H04B 1/10': 1, 'H01P 3/10': 1, 'H01P 3/16': 1, 'F24F 11/46': 1, 'G06F 30/20': 1, 'F24F 11/523': 1, 'F24F 11/67': 1, 'G06F 2119/06': 1, 'F24F 2140/60': 1, 'G06F 1/329': 1, 'G06F 15/16': 1, 'G06F 9/44': 1, 'G06F 1/32': 1, 'G06F 3/0482': 1, 'G06F 9/4893': 1, 'Y02D 10/00': 1, 'G06F 3/04842': 1, 'G06F 16/24573': 1, 'G06F 16/9577': 1, 'G06F 16/9535': 1, 'G06F 16/24578': 1, 'G06Q 30/0205': 1, 'G06Q 30/08': 1, 'G06F 16/435': 1, 'G06F 16/24575': 1, 'G06F 16/2358': 1, 'G06F 16/9537': 1, 'G06T 5/001': 1, 'G06F 30/27': 1, 'G06T 3/4069': 1, 'G06T 5/50': 1, 'G06T 3/4053': 1}\n",
            "\n",
            "cluster number: 4\n",
            "CPC number stats in sub-class level: {'H01Q': 14, 'G06V': 3, 'G10L': 2, 'G07C': 3, 'H04L': 1, 'H04M': 4, 'G06F': 31, 'H04W': 2, 'H01F': 3, 'H05K': 4, 'H02J': 6, 'H02M': 3, 'G09G': 6, 'H04N': 6, 'G02B': 5, 'G03B': 9}\n",
            "CPC number stats in sub-group level: {'H01Q 21/065': 1, 'H01Q 1/02': 1, 'H01Q 21/062': 1, 'H01Q 21/28': 1, 'H01Q 1/243': 1, 'H01Q 1/38': 1, 'H01Q 1/526': 1, 'H01Q 1/2283': 1, 'G06V 40/1365': 1, 'G10L 15/22': 1, 'G07C 9/27': 1, 'G07C 9/257': 1, 'H04L 63/0861': 1, 'H04M 1/67': 1, 'G06F 21/32': 1, 'G06F 3/04883': 1, 'G06F 21/629': 1, 'G06V 40/197': 1, 'G06F 3/167': 1, 'G06V 40/172': 1, 'G07C 9/26': 1, 'H04M 2250/74': 1, 'G10L 2015/223': 1, 'G06F 3/04817': 1, 'H04W 4/80': 1, 'G06F 1/1626': 1, 'G06F 1/1656': 1, 'G06F 3/0383': 1, 'G06F 3/03545': 1, 'G06F 3/0484': 1, 'G06F 2203/0384': 1, 'H04W 4/027': 1, 'G06F 2200/1632': 1, 'H01F 17/045': 1, 'G06F 3/0441': 1, 'H01F 27/2823': 1, 'H01F 1/0315': 1, 'G06F 3/0442': 1, 'H01Q 21/00': 1, 'H01Q 21/08': 1, 'H05K 1/0298': 1, 'H05K 7/20336': 1, 'H05K 1/0206': 1, 'H05K 2201/10098': 1, 'H02J 7/0029': 1, 'H02M 3/158': 1, 'H02J 7/007182': 1, 'H02J 7/00045': 1, 'H02J 7/00308': 1, 'G06F 1/266': 1, 'G06F 21/81': 1, 'H02M 3/1582': 1, 'H02M 1/0009': 1, 'H02J 7/00711': 1, 'H02J 2207/40': 1, 'G06F 3/0445': 1, 'G06F 3/046': 1, 'G06F 3/0418': 1, 'G06F 3/044': 1, 'G06F 3/0446': 1, 'G09G 3/344': 1, 'G06F 3/0412': 1, 'G06F 3/04166': 1, 'G06F 3/04164': 1, 'G09G 3/3696': 1, 'G09G 2310/0202': 1, 'G09G 2310/068': 1, 'G06F 2203/04106': 1, 'G09G 2310/08': 1, 'G06F 2203/04112': 1, 'G09G 2300/0426': 1, 'G06F 1/1641': 1, 'H04N 5/23216': 1, 'G06F 1/1647': 1, 'H04N 5/23245': 1, 'H04N 5/23293': 1, 'H04N 5/23219': 1, 'G06F 1/1652': 1, 'G06F 1/1637': 1, 'H04M 2250/16': 1, 'H04M 2250/12': 1, 'G02B 7/021': 1, 'G03B 9/02': 1, 'G02B 7/102': 1, 'G02B 27/646': 1, 'H04N 5/2254': 1, 'G02B 7/08': 1, 'G02B 5/005': 1, 'H04N 5/2252': 1, 'G03B 3/10': 1, 'G03B 2205/0069': 1, 'G03B 30/00': 1, 'G03B 2205/0015': 1, 'G03B 5/00': 1, 'G03B 9/06': 1}\n",
            "\n"
          ]
        }
      ]
    }
  ],
  "metadata": {
    "colab": {
      "name": "BertFeatureVectorToCPCNumStat.ipynb",
      "provenance": [],
      "collapsed_sections": [],
      "authorship_tag": "ABX9TyO7ex6QZkXD+kfBWU8Pa/X3",
      "include_colab_link": true
    },
    "kernelspec": {
      "display_name": "Python 3",
      "name": "python3"
    },
    "language_info": {
      "name": "python"
    }
  },
  "nbformat": 4,
  "nbformat_minor": 0
}